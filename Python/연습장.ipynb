{
 "cells": [
  {
   "cell_type": "code",
   "execution_count": 5,
   "id": "1ba16618",
   "metadata": {},
   "outputs": [],
   "source": [
    "# 주석 \n",
    "# docstring은 \"\"\"으로 표현 가능 \n",
    "\n",
    "def my_sum(x, y):\n",
    "    \"\"\"\"이 함수는 인자 x와 y를 더합니다.\n",
    "    더한 값을 리턴합니다.\n",
    "    이런 주석을 docstring이라고 부릅니다.\"\"\"\n",
    "    return x + y"
   ]
  },
  {
   "cell_type": "code",
   "execution_count": 6,
   "id": "8c61202f",
   "metadata": {},
   "outputs": [
    {
     "data": {
      "text/plain": [
       "'\"이 함수는 인자 x와 y를 더합니다.\\n    더한 값을 리턴합니다.\\n    이런 주석을 docstring이라고 부릅니다.'"
      ]
     },
     "execution_count": 6,
     "metadata": {},
     "output_type": "execute_result"
    }
   ],
   "source": [
    "my_sum.__doc__"
   ]
  },
  {
   "cell_type": "code",
   "execution_count": 7,
   "id": "dc200c06",
   "metadata": {},
   "outputs": [
    {
     "data": {
      "text/plain": [
       "\"print(value, ..., sep=' ', end='\\\\n', file=sys.stdout, flush=False)\\n\\nPrints the values to a stream, or to sys.stdout by default.\\nOptional keyword arguments:\\nfile:  a file-like object (stream); defaults to the current sys.stdout.\\nsep:   string inserted between values, default a space.\\nend:   string appended after the last value, default a newline.\\nflush: whether to forcibly flush the stream.\""
      ]
     },
     "execution_count": 7,
     "metadata": {},
     "output_type": "execute_result"
    }
   ],
   "source": [
    "print.__doc__"
   ]
  },
  {
   "cell_type": "code",
   "execution_count": 8,
   "id": "8b54f0f8",
   "metadata": {},
   "outputs": [
    {
     "name": "stdout",
     "output_type": "stream",
     "text": [
      "첫번째줄        두번째줄\n"
     ]
    }
   ],
   "source": [
    "# 여러줄 작성 \n",
    "print('첫번째줄\\\n",
    "        두번째줄')"
   ]
  },
  {
   "cell_type": "code",
   "execution_count": 13,
   "id": "da742d15",
   "metadata": {},
   "outputs": [
    {
     "name": "stdout",
     "output_type": "stream",
     "text": [
      "첫번째줄\n",
      "\n",
      "두번째줄\n"
     ]
    }
   ],
   "source": [
    "print('첫번째줄')\n",
    "print('\\n두번째줄')"
   ]
  },
  {
   "cell_type": "code",
   "execution_count": 14,
   "id": "5a2f6436",
   "metadata": {},
   "outputs": [
    {
     "name": "stdout",
     "output_type": "stream",
     "text": [
      "1 2 3\n"
     ]
    }
   ],
   "source": [
    "# 동시에 값 할당 \n",
    "x, y, z = 1, 2, 3\n",
    "print(x, y, z)"
   ]
  },
  {
   "cell_type": "code",
   "execution_count": 16,
   "id": "48c52f2e",
   "metadata": {},
   "outputs": [
    {
     "name": "stdout",
     "output_type": "stream",
     "text": [
      "2 1 2\n"
     ]
    }
   ],
   "source": [
    "x = 2\n",
    "y = 1\n",
    "z = x\n",
    "print(x, y, z)"
   ]
  },
  {
   "cell_type": "code",
   "execution_count": 22,
   "id": "4190d3ec",
   "metadata": {},
   "outputs": [
    {
     "data": {
      "text/plain": [
       "True"
      ]
     },
     "execution_count": 22,
     "metadata": {},
     "output_type": "execute_result"
    }
   ],
   "source": [
    "# 컴퓨터식 지수 표현 방식 e \n",
    "314 * 10 * 10 == 314e2"
   ]
  },
  {
   "cell_type": "code",
   "execution_count": 38,
   "id": "aa75d34c",
   "metadata": {},
   "outputs": [
    {
     "data": {
      "text/plain": [
       "True"
      ]
     },
     "execution_count": 38,
     "metadata": {},
     "output_type": "execute_result"
    }
   ],
   "source": [
    "314 * 0.01 == 314e-2"
   ]
  },
  {
   "cell_type": "code",
   "execution_count": 40,
   "id": "cbd9390d",
   "metadata": {},
   "outputs": [
    {
     "data": {
      "text/plain": [
       "-1.1102230246251565e-16"
      ]
     },
     "execution_count": 40,
     "metadata": {},
     "output_type": "execute_result"
    }
   ],
   "source": [
    "# 실수 연산 \n",
    "a = 3.5 - 3.12\n",
    "b = 0.38\n",
    "a - b"
   ]
  },
  {
   "cell_type": "code",
   "execution_count": 45,
   "id": "b9ed8ebf",
   "metadata": {},
   "outputs": [
    {
     "data": {
      "text/plain": [
       "True"
      ]
     },
     "execution_count": 45,
     "metadata": {},
     "output_type": "execute_result"
    }
   ],
   "source": [
    "import sys\n",
    "abs(a-b) <= sys.float_info.epsilon"
   ]
  },
  {
   "cell_type": "code",
   "execution_count": 47,
   "id": "bbf58929",
   "metadata": {},
   "outputs": [
    {
     "data": {
      "text/plain": [
       "Decimal('-1.1102230246251565404236316680908203125E-16')"
      ]
     },
     "execution_count": 47,
     "metadata": {},
     "output_type": "execute_result"
    }
   ],
   "source": [
    "from decimal import Decimal\n",
    "Decimal(a-b)"
   ]
  },
  {
   "cell_type": "code",
   "execution_count": 56,
   "id": "4895aecd",
   "metadata": {},
   "outputs": [
    {
     "data": {
      "text/plain": [
       "'-0.00000000000000011102230246251565404236316680908203'"
      ]
     },
     "execution_count": 56,
     "metadata": {},
     "output_type": "execute_result"
    }
   ],
   "source": [
    "format(a-b,'.50f')"
   ]
  },
  {
   "cell_type": "code",
   "execution_count": 44,
   "id": "abcf6e3d",
   "metadata": {},
   "outputs": [
    {
     "data": {
      "text/plain": [
       "True"
      ]
     },
     "execution_count": 44,
     "metadata": {},
     "output_type": "execute_result"
    }
   ],
   "source": [
    "import math \n",
    "\n",
    "math.isclose(a, b) # a 실수 연산이 b와 같은지 확인 후 bool값 반환"
   ]
  },
  {
   "cell_type": "code",
   "execution_count": 58,
   "id": "d0f9bff0",
   "metadata": {},
   "outputs": [
    {
     "data": {
      "text/plain": [
       "complex"
      ]
     },
     "execution_count": 58,
     "metadata": {},
     "output_type": "execute_result"
    }
   ],
   "source": [
    "# 복소수\n",
    "a = 3 - 4j\n",
    "type(a)"
   ]
  },
  {
   "cell_type": "code",
   "execution_count": 62,
   "id": "0faf4435",
   "metadata": {},
   "outputs": [
    {
     "name": "stdout",
     "output_type": "stream",
     "text": [
      "False\n",
      "True\n",
      "True\n",
      "True\n"
     ]
    }
   ],
   "source": [
    "# bool -> 0빼고 나머지는 다 True\n",
    "print(bool(0))\n",
    "print(bool(2))\n",
    "print(bool(-1))\n",
    "print(bool(1.3))"
   ]
  },
  {
   "cell_type": "code",
   "execution_count": 68,
   "id": "0483587a",
   "metadata": {},
   "outputs": [
    {
     "name": "stdout",
     "output_type": "stream",
     "text": [
      "철수 왈 '안녕'\n",
      "철수 왈 \"안녕\"\n"
     ]
    }
   ],
   "source": [
    "# 문자열 \n",
    "print('철수 왈 \\'안녕\\'')\n",
    "print('철수 왈 \"안녕\"')"
   ]
  },
  {
   "cell_type": "code",
   "execution_count": 70,
   "id": "5bf55c32",
   "metadata": {},
   "outputs": [
    {
     "name": "stdout",
     "output_type": "stream",
     "text": [
      "이건        여러줄        불가능\n",
      "\n",
      "    이건\n",
      "    여러줄\n",
      "    가능\n",
      "    \n"
     ]
    }
   ],
   "source": [
    "print(\"이건\\\n",
    "        여러줄\\\n",
    "        불가능\")\n",
    "\n",
    "print(\"\"\"\n",
    "    이건\n",
    "    여러줄\n",
    "    가능\n",
    "    \"\"\")"
   ]
  },
  {
   "cell_type": "code",
   "execution_count": 72,
   "id": "afb16a36",
   "metadata": {},
   "outputs": [
    {
     "data": {
      "text/plain": [
       "'HaHaHa 재밌다.'"
      ]
     },
     "execution_count": 72,
     "metadata": {},
     "output_type": "execute_result"
    }
   ],
   "source": [
    "# 문자열 + 연산자 \n",
    "laugh = 'Ha'\n",
    "laugh * 3 + ' 재밌다.'"
   ]
  },
  {
   "cell_type": "code",
   "execution_count": 73,
   "id": "f90f9181",
   "metadata": {},
   "outputs": [
    {
     "name": "stdout",
     "output_type": "stream",
     "text": [
      "이건 1번줄 \n",
      "이건 두번째줄 \t얘는 멀리 띄울래\n"
     ]
    }
   ],
   "source": [
    "# 이스케이프 시퀀스 \n",
    "print('이건 1번줄 \\n이건 두번째줄 \\t얘는 멀리 띄울래')"
   ]
  },
  {
   "cell_type": "code",
   "execution_count": 74,
   "id": "910192f2",
   "metadata": {},
   "outputs": [
    {
     "name": "stdout",
     "output_type": "stream",
     "text": [
      "안녕하세요\n",
      "반갑습니다\n"
     ]
    }
   ],
   "source": [
    "print('안녕하세요', end='\\n')\n",
    "print('반갑습니다')"
   ]
  },
  {
   "cell_type": "code",
   "execution_count": 75,
   "id": "c14b8771",
   "metadata": {},
   "outputs": [
    {
     "data": {
      "text/plain": [
       "'안녕하세요 저는 00입니다.'"
      ]
     },
     "execution_count": 75,
     "metadata": {},
     "output_type": "execute_result"
    }
   ],
   "source": [
    "# string interpolation\n",
    "name = '00'\n",
    "# f-string\n",
    "f'안녕하세요 저는 {name}입니다.'"
   ]
  },
  {
   "cell_type": "code",
   "execution_count": 76,
   "id": "abca1a1b",
   "metadata": {},
   "outputs": [
    {
     "data": {
      "text/plain": [
       "'안녕하세요 저는 00입니다.'"
      ]
     },
     "execution_count": 76,
     "metadata": {},
     "output_type": "execute_result"
    }
   ],
   "source": [
    "# str.format\n",
    "'안녕하세요 저는 {}입니다.'.format(name)"
   ]
  },
  {
   "cell_type": "code",
   "execution_count": 78,
   "id": "f580f292",
   "metadata": {},
   "outputs": [
    {
     "data": {
      "text/plain": [
       "'안녕하세요 저는 00입니다.'"
      ]
     },
     "execution_count": 78,
     "metadata": {},
     "output_type": "execute_result"
    }
   ],
   "source": [
    "# %-formatting\n",
    "'안녕하세요 저는 %s입니다.' %name"
   ]
  },
  {
   "cell_type": "code",
   "execution_count": 79,
   "id": "d19de6b0",
   "metadata": {},
   "outputs": [
    {
     "data": {
      "text/plain": [
       "datetime.datetime(2023, 4, 16, 22, 51, 26, 550311)"
      ]
     },
     "execution_count": 79,
     "metadata": {},
     "output_type": "execute_result"
    }
   ],
   "source": [
    "import datetime \n",
    "today = datetime.datetime.now()\n",
    "today"
   ]
  },
  {
   "cell_type": "code",
   "execution_count": 80,
   "id": "778a4d7a",
   "metadata": {},
   "outputs": [
    {
     "data": {
      "text/plain": [
       "'오늘은 2023뇬 04월 16일 Sunday요일입니다.'"
      ]
     },
     "execution_count": 80,
     "metadata": {},
     "output_type": "execute_result"
    }
   ],
   "source": [
    "f'오늘은 {today:%Y}뇬 {today:%m}월 {today:%d}일 {today:%A}요일입니다.'"
   ]
  },
  {
   "cell_type": "code",
   "execution_count": 83,
   "id": "94538cdf",
   "metadata": {},
   "outputs": [
    {
     "name": "stdout",
     "output_type": "stream",
     "text": [
      "3.3333333333333335\n",
      "3\n",
      "1\n",
      "1000\n"
     ]
    }
   ],
   "source": [
    "# 산술 연산자 \n",
    "print(10/3) # 나누기\n",
    "print(10//3) # 몫\n",
    "print(10%3) # 나머지 \n",
    "print(10**3) # 거듭제곱"
   ]
  },
  {
   "cell_type": "code",
   "execution_count": 90,
   "id": "b47167a7",
   "metadata": {},
   "outputs": [
    {
     "name": "stdout",
     "output_type": "stream",
     "text": [
      "False\n",
      "True\n",
      "False\n"
     ]
    }
   ],
   "source": [
    "# 논리 연산자\n",
    "print(True and True and False)\n",
    "print(True and True and True)\n",
    "print(False and False)"
   ]
  },
  {
   "cell_type": "code",
   "execution_count": 91,
   "id": "58485036",
   "metadata": {},
   "outputs": [
    {
     "name": "stdout",
     "output_type": "stream",
     "text": [
      "True\n",
      "True\n",
      "False\n",
      "True\n",
      "True\n"
     ]
    }
   ],
   "source": [
    "print(True or False)\n",
    "print(True and True or False)\n",
    "print(True and False and False)\n",
    "print(True or False and False)\n",
    "print(True or False or False)"
   ]
  },
  {
   "cell_type": "code",
   "execution_count": 93,
   "id": "4f24ee3a",
   "metadata": {},
   "outputs": [
    {
     "data": {
      "text/plain": [
       "(140716030633776, 140716030633776)"
      ]
     },
     "execution_count": 93,
     "metadata": {},
     "output_type": "execute_result"
    }
   ],
   "source": [
    "# identity\n",
    "# python에서 -5부터 256까지의 id는 동일\n",
    "a = 1\n",
    "b = 1\n",
    "id(a), id(b)"
   ]
  },
  {
   "cell_type": "code",
   "execution_count": 94,
   "id": "16007b29",
   "metadata": {},
   "outputs": [
    {
     "data": {
      "text/plain": [
       "(1670664011024, 1670664011120)"
      ]
     },
     "execution_count": 94,
     "metadata": {},
     "output_type": "execute_result"
    }
   ],
   "source": [
    "a = 257\n",
    "b = 257\n",
    "id(a), id(b)"
   ]
  },
  {
   "cell_type": "code",
   "execution_count": 96,
   "id": "c14cdc27",
   "metadata": {},
   "outputs": [
    {
     "name": "stdout",
     "output_type": "stream",
     "text": [
      "[] []\n",
      "<class 'list'>\n",
      "<class 'list'>\n"
     ]
    }
   ],
   "source": [
    "# 시퀀스 자료형 \n",
    "## 1. list \n",
    "l = []\n",
    "ll = list()\n",
    "print(l, ll)\n",
    "print(type(l))\n",
    "print(type(ll))"
   ]
  },
  {
   "cell_type": "code",
   "execution_count": 99,
   "id": "ec9b4a8e",
   "metadata": {},
   "outputs": [
    {
     "name": "stdout",
     "output_type": "stream",
     "text": [
      "1\n",
      "[0, 2, 3, 4, 5, 6]\n"
     ]
    }
   ],
   "source": [
    "numbers = [1, 2, 3, 4, 5, 6]\n",
    "print(numbers[0])\n",
    "numbers[0] = 0\n",
    "print(numbers) "
   ]
  },
  {
   "cell_type": "code",
   "execution_count": 101,
   "id": "3f9f8f94",
   "metadata": {},
   "outputs": [
    {
     "name": "stdout",
     "output_type": "stream",
     "text": [
      "<class 'tuple'>\n",
      "<class 'tuple'>\n"
     ]
    }
   ],
   "source": [
    "## 2. tuple \n",
    "t1 = (1, 2, 3)\n",
    "t2 = 1, 2, 3\n",
    "print(type(t1))\n",
    "print(type(t2))"
   ]
  },
  {
   "cell_type": "code",
   "execution_count": 103,
   "id": "f0d1e5c3",
   "metadata": {},
   "outputs": [
    {
     "ename": "TypeError",
     "evalue": "'tuple' object does not support item assignment",
     "output_type": "error",
     "traceback": [
      "\u001b[1;31m---------------------------------------------------------------------------\u001b[0m",
      "\u001b[1;31mTypeError\u001b[0m                                 Traceback (most recent call last)",
      "\u001b[1;32m<ipython-input-103-febaef70d198>\u001b[0m in \u001b[0;36m<module>\u001b[1;34m\u001b[0m\n\u001b[1;32m----> 1\u001b[1;33m \u001b[0mt1\u001b[0m\u001b[1;33m[\u001b[0m\u001b[1;36m0\u001b[0m\u001b[1;33m]\u001b[0m \u001b[1;33m=\u001b[0m \u001b[1;36m0\u001b[0m\u001b[1;33m\u001b[0m\u001b[1;33m\u001b[0m\u001b[0m\n\u001b[0m",
      "\u001b[1;31mTypeError\u001b[0m: 'tuple' object does not support item assignment"
     ]
    }
   ],
   "source": [
    "t1[0] = 0\n",
    "# 리스트와 달리 인덱스 위치를 기준으로 값을 불러온 뒤 값 변경 불가능 ! "
   ]
  },
  {
   "cell_type": "code",
   "execution_count": 104,
   "id": "283e0b6d",
   "metadata": {},
   "outputs": [
    {
     "data": {
      "text/plain": [
       "(1, 2, 'abc')"
      ]
     },
     "execution_count": 104,
     "metadata": {},
     "output_type": "execute_result"
    }
   ],
   "source": [
    "x, y = 1, 2\n",
    "z = 'abc'\n",
    "x, y, z"
   ]
  },
  {
   "cell_type": "code",
   "execution_count": 107,
   "id": "53e72dc7",
   "metadata": {},
   "outputs": [
    {
     "data": {
      "text/plain": [
       "tuple"
      ]
     },
     "execution_count": 107,
     "metadata": {},
     "output_type": "execute_result"
    }
   ],
   "source": [
    "test = x, y, z\n",
    "type(test)"
   ]
  },
  {
   "cell_type": "code",
   "execution_count": 108,
   "id": "4e63b7d0",
   "metadata": {},
   "outputs": [
    {
     "name": "stdout",
     "output_type": "stream",
     "text": [
      "<class 'list'>\n",
      "<class 'tuple'>\n"
     ]
    }
   ],
   "source": [
    "# 빈 튜플은 빈 소괄호 쌍으로 만들어짐\n",
    "l = [] # list \n",
    "t = () # tuple \n",
    "\n",
    "print(type(l))\n",
    "print(type(t))"
   ]
  },
  {
   "cell_type": "code",
   "execution_count": 112,
   "id": "bfda66f0",
   "metadata": {},
   "outputs": [
    {
     "name": "stdout",
     "output_type": "stream",
     "text": [
      "range(0, 10)\n"
     ]
    },
    {
     "data": {
      "text/plain": [
       "[0, 1, 2, 3, 4, 5, 6, 7, 8, 9]"
      ]
     },
     "execution_count": 112,
     "metadata": {},
     "output_type": "execute_result"
    }
   ],
   "source": [
    "## 3. range \n",
    "# range는 숫자의 시퀀스를 나타내기 위해 사용됨 \n",
    "\n",
    "# 기본형 range(n)\n",
    "print(range(10))\n",
    "list(range(10))"
   ]
  },
  {
   "cell_type": "code",
   "execution_count": 114,
   "id": "9c52b870",
   "metadata": {},
   "outputs": [
    {
     "name": "stdout",
     "output_type": "stream",
     "text": [
      "range(1, 11)\n"
     ]
    },
    {
     "data": {
      "text/plain": [
       "[1, 2, 3, 4, 5, 6, 7, 8, 9, 10]"
      ]
     },
     "execution_count": 114,
     "metadata": {},
     "output_type": "execute_result"
    }
   ],
   "source": [
    "# 범위지정 range(n, m)\n",
    "print(range(1, 11))\n",
    "list(range(1, 11))"
   ]
  },
  {
   "cell_type": "code",
   "execution_count": 116,
   "id": "ad4b554e",
   "metadata": {},
   "outputs": [
    {
     "name": "stdout",
     "output_type": "stream",
     "text": [
      "range(0, 11, 2)\n"
     ]
    },
    {
     "data": {
      "text/plain": [
       "[0, 2, 4, 6, 8, 10]"
      ]
     },
     "execution_count": 116,
     "metadata": {},
     "output_type": "execute_result"
    }
   ],
   "source": [
    "# 범위 및 스텝지정 range(n, m, s)4\n",
    "print(range(0, 11, 2))\n",
    "list(range(0, 11, 2))"
   ]
  },
  {
   "cell_type": "code",
   "execution_count": 121,
   "id": "68074832",
   "metadata": {},
   "outputs": [
    {
     "name": "stdout",
     "output_type": "stream",
     "text": [
      "{1, 2}\n",
      "{9, 6}\n",
      "{1, 2, 3, 6, 9}\n",
      "{3}\n"
     ]
    }
   ],
   "source": [
    "# 순서가 없는 자료구조 \n",
    "## 1. set (like 집합)\n",
    "set1 = {1, 2, 3}\n",
    "set2 = {3, 6, 9}\n",
    "\n",
    "print(set1 - set2) # 차집합 (set1에 대한 set2의 차집합)\n",
    "print(set2 - set1) # set2에 대한 set1의 차집합 \n",
    "print(set1 | set2) # 전체집합\n",
    "print(set1 & set2) # 교집합"
   ]
  },
  {
   "cell_type": "code",
   "execution_count": 123,
   "id": "86bd3a9a",
   "metadata": {},
   "outputs": [
    {
     "name": "stdout",
     "output_type": "stream",
     "text": [
      "[1, 2, 3, 4]\n"
     ]
    }
   ],
   "source": [
    "# set을 활용하면 list의 중복된 값을 손쉽게 제거 가능 \n",
    "numbers = [1, 2, 3, 3, 2, 4, 1, 1]\n",
    "uniq = []\n",
    "for number in numbers:\n",
    "    if number not in uniq:\n",
    "        uniq.append(number)\n",
    "        \n",
    "print(uniq)"
   ]
  },
  {
   "cell_type": "code",
   "execution_count": 124,
   "id": "d97efafe",
   "metadata": {},
   "outputs": [
    {
     "data": {
      "text/plain": [
       "{1, 2, 3, 4}"
      ]
     },
     "execution_count": 124,
     "metadata": {},
     "output_type": "execute_result"
    }
   ],
   "source": [
    "uniq = set(numbers)\n",
    "uniq"
   ]
  },
  {
   "cell_type": "code",
   "execution_count": 1,
   "id": "212202e4",
   "metadata": {},
   "outputs": [
    {
     "data": {
      "text/plain": [
       "({}, {})"
      ]
     },
     "execution_count": 1,
     "metadata": {},
     "output_type": "execute_result"
    }
   ],
   "source": [
    "## 2. 딕셔너리 \n",
    "# {}를 통해 만들며 dict()로 만들 수 잇음 \n",
    "# key값은 불면한 모든 것이 가능 \n",
    "\n",
    "dict_a = {}\n",
    "dict_b = dict()\n",
    "\n",
    "dict_a, dict_b"
   ]
  },
  {
   "cell_type": "code",
   "execution_count": 3,
   "id": "baad16d4",
   "metadata": {},
   "outputs": [
    {
     "data": {
      "text/plain": [
       "{'a': '에에이', 'b': '비'}"
      ]
     },
     "execution_count": 3,
     "metadata": {},
     "output_type": "execute_result"
    }
   ],
   "source": [
    "# 딕셔너리는 중복된 key는 존재할 수 없음\n",
    "d = {'a': '에이', 'b': '비', 'a': '에에이'}\n",
    "d"
   ]
  },
  {
   "cell_type": "code",
   "execution_count": 4,
   "id": "015e2a71",
   "metadata": {},
   "outputs": [
    {
     "data": {
      "text/plain": [
       "{'a': '에에이', 'b': '비', 'c': '씨'}"
      ]
     },
     "execution_count": 4,
     "metadata": {},
     "output_type": "execute_result"
    }
   ],
   "source": [
    "d['c'] = '씨'\n",
    "d"
   ]
  },
  {
   "cell_type": "code",
   "execution_count": 6,
   "id": "89905903",
   "metadata": {},
   "outputs": [
    {
     "name": "stdout",
     "output_type": "stream",
     "text": [
      "dict_values(['에에이', '비', '씨'])\n",
      "dict_items([('a', '에에이'), ('b', '비'), ('c', '씨')])\n"
     ]
    }
   ],
   "source": [
    "print(d.values())\n",
    "print(d.items())"
   ]
  },
  {
   "cell_type": "code",
   "execution_count": 7,
   "id": "bd8a91bb",
   "metadata": {},
   "outputs": [],
   "source": [
    "# 함수(function)\n",
    "# 특정한 기능을 하는 코드의 묶음 \n",
    "# 함수를 쓰는 이유: 가독성, 재사용성, 유지보수 \n",
    "# 함수를 사용하면 특정 값만 함수에 집어 넣었을 때 원하는 값을 쉽게 얻을 수 있으며 \n",
    "# 유지보수가 용이하다. \n",
    "\n",
    "# 함수의 선언은 def 키워드를 활용\n",
    "# def 함수명() -> () 안에 매개변수를 넣어주면 동작 후에 return을 통해 결과값을 전달 \n",
    "# 반드시 하나의 객체를 반환해야함 (return 값이 없으면 None을 반환)"
   ]
  },
  {
   "cell_type": "markdown",
   "id": "4f02e91a",
   "metadata": {},
   "source": [
    "```python\n",
    "def <함수이름>(parameter1, parameter2):\n",
    "    <코드 블럭>\n",
    "    return value\n",
    "```"
   ]
  },
  {
   "attachments": {
    "image.png": {
     "image/png": "[encoded data removed]"
    }
   },
   "cell_type": "markdown",
   "id": "969370ef",
   "metadata": {},
   "source": [
    "![image.png](attachment:image.png)"
   ]
  },
  {
   "cell_type": "code",
   "execution_count": 9,
   "id": "4f5bb0d8",
   "metadata": {},
   "outputs": [
    {
     "data": {
      "text/plain": [
       "'John은 20살입니다.'"
      ]
     },
     "execution_count": 9,
     "metadata": {},
     "output_type": "execute_result"
    }
   ],
   "source": [
    "def greeting(age, name='John'):\n",
    "    return f'{name}은 {age}살입니다.'\n",
    "\n",
    "greeting(20)"
   ]
  },
  {
   "cell_type": "code",
   "execution_count": 10,
   "id": "665acb40",
   "metadata": {},
   "outputs": [
    {
     "data": {
      "text/plain": [
       "'Json은 2살입니다.'"
      ]
     },
     "execution_count": 10,
     "metadata": {},
     "output_type": "execute_result"
    }
   ],
   "source": [
    "greeting(2, 'Json')"
   ]
  },
  {
   "cell_type": "code",
   "execution_count": 11,
   "id": "208d4947",
   "metadata": {},
   "outputs": [
    {
     "name": "stdout",
     "output_type": "stream",
     "text": [
      "{'한국어': '안녕', '영어': 'hi', '독일어': 'Guten Tag'}\n"
     ]
    }
   ],
   "source": [
    "def my_dict(**kwargs):\n",
    "    return kwargs\n",
    "\n",
    "print(my_dict(한국어='안녕', 영어='hi', 독일어='Guten Tag'))"
   ]
  },
  {
   "cell_type": "code",
   "execution_count": null,
   "id": "f2a2c1f0",
   "metadata": {},
   "outputs": [],
   "source": [
    "# 함수와 스코프 \n",
    "## 함수는 코드 내부에 스코프(Scope)를 생성한다. \n",
    "## 함수로 생성된 공간은 지역 스코프(local scope)라고 불리며, \n",
    "## 그 외의 공간은 전역 스코프(global scope)라고 불린다."
   ]
  },
  {
   "cell_type": "code",
   "execution_count": 13,
   "id": "35a01891",
   "metadata": {},
   "outputs": [
    {
     "name": "stdout",
     "output_type": "stream",
     "text": [
      "10 10 20\n"
     ]
    }
   ],
   "source": [
    "# 전역 스코프 \n",
    "a = 10 # 전역 변수(global)\n",
    "\n",
    "def func(b):\n",
    "    # b = 10\n",
    "    # 지역 스코프(local scope)\n",
    "    import math \n",
    "    c = 20 # 지역 변수(local variable)\n",
    "    print(a, b, c)\n",
    "\n",
    "func(a)"
   ]
  },
  {
   "cell_type": "code",
   "execution_count": 15,
   "id": "11f6914e",
   "metadata": {},
   "outputs": [
    {
     "name": "stdout",
     "output_type": "stream",
     "text": [
      "10 20\n"
     ]
    },
    {
     "ename": "NameError",
     "evalue": "name 'b' is not defined",
     "output_type": "error",
     "traceback": [
      "\u001b[1;31m---------------------------------------------------------------------------\u001b[0m",
      "\u001b[1;31mNameError\u001b[0m                                 Traceback (most recent call last)",
      "\u001b[1;32m<ipython-input-15-28706756d39b>\u001b[0m in \u001b[0;36m<module>\u001b[1;34m\u001b[0m\n\u001b[0;32m      8\u001b[0m \u001b[0mfunc\u001b[0m\u001b[1;33m(\u001b[0m\u001b[0ma\u001b[0m\u001b[1;33m)\u001b[0m\u001b[1;33m\u001b[0m\u001b[1;33m\u001b[0m\u001b[0m\n\u001b[0;32m      9\u001b[0m \u001b[1;33m\u001b[0m\u001b[0m\n\u001b[1;32m---> 10\u001b[1;33m \u001b[0mprint\u001b[0m\u001b[1;33m(\u001b[0m\u001b[0mb\u001b[0m\u001b[1;33m,\u001b[0m \u001b[0mc\u001b[0m\u001b[1;33m)\u001b[0m\u001b[1;33m\u001b[0m\u001b[1;33m\u001b[0m\u001b[0m\n\u001b[0m",
      "\u001b[1;31mNameError\u001b[0m: name 'b' is not defined"
     ]
    }
   ],
   "source": [
    "# 전역 스코프에서는 지역 스코프의 변수 참조 불가 \n",
    "a = 10 # global \n",
    "\n",
    "def func(b):\n",
    "    c = 20\n",
    "    print(b, c)\n",
    "    \n",
    "func(a)\n",
    "    \n",
    "print(b, c)"
   ]
  },
  {
   "cell_type": "code",
   "execution_count": 16,
   "id": "2977e5dd",
   "metadata": {},
   "outputs": [
    {
     "name": "stdout",
     "output_type": "stream",
     "text": [
      "100\n",
      "10\n"
     ]
    }
   ],
   "source": [
    "# 전역 스코프와 지역 스코프에 같은 이름의 변수를 만들면 ? \n",
    "a = 10 \n",
    "\n",
    "def func():\n",
    "    # print(a)\n",
    "    a = 100 # local에 따로 존재 \n",
    "    print(a)\n",
    "    \n",
    "func()\n",
    "print(a)"
   ]
  },
  {
   "cell_type": "markdown",
   "id": "4bf3eb89",
   "metadata": {},
   "source": [
    "- 함수 밖의 변수(global var), 함수 안의 변수(local var)\n",
    "> 인자는 함수 안의 변수 취급한다. \n",
    "- 함수 안(local scope)에서는 함수 밖(global scope)에 접근 가능하다. \n",
    "- 함수 밖에서는 함수 안에 접근이 불가능하다."
   ]
  },
  {
   "cell_type": "code",
   "execution_count": null,
   "id": "9d053f34",
   "metadata": {},
   "outputs": [],
   "source": []
  },
  {
   "cell_type": "code",
   "execution_count": null,
   "id": "933119bf",
   "metadata": {},
   "outputs": [],
   "source": []
  },
  {
   "cell_type": "code",
   "execution_count": null,
   "id": "f4e003c8",
   "metadata": {},
   "outputs": [],
   "source": []
  }
 ],
 "metadata": {
  "hide_input": false,
  "kernelspec": {
   "display_name": "Python 3",
   "language": "python",
   "name": "python3"
  },
  "language_info": {
   "codemirror_mode": {
    "name": "ipython",
    "version": 3
   },
   "file_extension": ".py",
   "mimetype": "text/x-python",
   "name": "python",
   "nbconvert_exporter": "python",
   "pygments_lexer": "ipython3",
   "version": "3.8.8"
  },
  "toc": {
   "base_numbering": 1,
   "nav_menu": {},
   "number_sections": true,
   "sideBar": true,
   "skip_h1_title": false,
   "title_cell": "Table of Contents",
   "title_sidebar": "Contents",
   "toc_cell": false,
   "toc_position": {},
   "toc_section_display": true,
   "toc_window_display": false
  },
  "varInspector": {
   "cols": {
    "lenName": 16,
    "lenType": 16,
    "lenVar": 40
   },
   "kernels_config": {
    "python": {
     "delete_cmd_postfix": "",
     "delete_cmd_prefix": "del ",
     "library": "var_list.py",
     "varRefreshCmd": "print(var_dic_list())"
    },
    "r": {
     "delete_cmd_postfix": ") ",
     "delete_cmd_prefix": "rm(",
     "library": "var_list.r",
     "varRefreshCmd": "cat(var_dic_list()) "
    }
   },
   "types_to_exclude": [
    "module",
    "function",
    "builtin_function_or_method",
    "instance",
    "_Feature"
   ],
   "window_display": false
  }
 },
 "nbformat": 4,
 "nbformat_minor": 5
}
