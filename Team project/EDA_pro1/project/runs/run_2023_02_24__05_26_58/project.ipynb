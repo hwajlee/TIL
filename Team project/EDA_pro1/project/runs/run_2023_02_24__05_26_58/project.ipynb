{
 "cells":[
  {
   "cell_type":"markdown",
   "source":[
    "# Main"
   ],
   "attachments":{
    
   },
   "metadata":{
    "datalore":{
     "node_id":"Main",
     "type":"MD",
     "hide_input_from_viewers":false,
     "hide_output_from_viewers":false,
     "sheet_delimiter":true
    }
   }
  },
  {
   "cell_type":"markdown",
   "source":[
    "# 조화소영 프로젝트"
   ],
   "attachments":{
    
   },
   "metadata":{
    "datalore":{
     "node_id":"GYdkPeBi5XmWb63uZTmSfa",
     "type":"MD",
     "hide_input_from_viewers":false,
     "hide_output_from_viewers":false,
     "report_properties":{
      "y":0
     }
    }
   }
  },
  {
   "cell_type":"code",
   "source":[
    
   ],
   "execution_count":0,
   "outputs":[
    
   ],
   "metadata":{
    "datalore":{
     "node_id":"cDhSKcnvBgvfi3etxxFNkd",
     "type":"CODE",
     "hide_input_from_viewers":true,
     "hide_output_from_viewers":true
    }
   }
  },
  {
   "cell_type":"markdown",
   "source":[
    "1. 행정동별 생활밀종업종별 매출액 데이터 수집 (2019~2022) \n",
    "   > 생활밀종업종 범주화 (1.음식점\/2.교육\/3.여가\/4.생필품\/5.의료및패션\/6.서적및문구\/7.가구및전자제품\/8.숙박\/9.전자상거래업\/10.기타)\n",
    "\n",
    "\n",
    "2. 데이터 전처리 (생활밀종업종별로 인코딩+상권코드별로 행정동 매칭+데이터정규화(Min-Max))\n",
    "   \n",
    "3. 각 연도별로 나누어서 군집화 진행 \n",
    "\n",
    "4. 연도별로 행정동별 업종 매출 추이가 어떻게 변화했으며, 이에 따라 군집이 어떻게 달라지는 지 파악 (매출 vs 상점 수)\n",
    "\n",
    "5. 연도별로 매출 및 군집이 달라진다면, 이것이 코로나 확진자 발생 추이와 관련이 있는 지 파악 (코로나 전인 2019년과 그 이후를 중점으로 분석하며, 급 상점 수가 감소하는 시기인 2022년을 주의깊게 볼 것)\n",
    "   \n",
    "6. 매출 감소가 각 상권발달에 미치는 영향은?"
   ],
   "attachments":{
    
   },
   "metadata":{
    "datalore":{
     "node_id":"vNtApMOfOD4XHNLb4ReWsd",
     "type":"MD",
     "hide_input_from_viewers":false,
     "hide_output_from_viewers":false,
     "report_properties":{
      "y":4
     }
    }
   }
  },
  {
   "cell_type":"markdown",
   "source":[
    "- 연도별 데이터 조인 + 상권코드별 행정동 매칭 + 분기당 매출 금액, 점포수만 컬럼 남기기 : 영재 \n",
    "  * 점포 수: 가장 마지막 분기 데이터만 활용 : 소윤 \n",
    "    * ~2021년: 4분기 \n",
    "    * ~2022년: 3분기 \n",
    "  * 매출금액: 분기별 매출 금액 총합 : 화정 \n",
    "    * ~2021년: 1+2+3+4\n",
    "    * ~2022년: 1+2+3+3\n",
    "\n",
    "- 서비스 업종별로 나누는 함수 : 현민 \n",
    "\n",
    "- 데이터 정규화 (min-max) : 화정 "
   ],
   "attachments":{
    
   },
   "metadata":{
    "datalore":{
     "node_id":"VcSmlddcTdNkDdJ46cGFlg",
     "type":"MD",
     "hide_input_from_viewers":false,
     "hide_output_from_viewers":false,
     "report_properties":{
      "y":14
     }
    }
   }
  },
  {
   "cell_type":"code",
   "source":[
    "# 필수라이브러리 \n",
    "# matplotlib 한글 깨짐 방지\n",
    "\n",
    "import numpy as np\n",
    "import pandas as pd\n",
    "\n",
    "import matplotlib\n",
    "import matplotlib.font_manager as fm\n",
    "import matplotlib.pyplot as plt\n",
    "\n",
    "# import PublicDataReader as pdr\n",
    "\n",
    "fm.get_fontconfig_fonts()\n",
    "font_location = '\/data\/notebook_files\/fonts\/esamanru_Medium.ttf'\n",
    "# font_location = 'C:\/Windows\/Fonts\/NanumGothic.ttf' # For Windows\n",
    "fprop = fm.FontProperties(fname=font_location)\n",
    "\n",
    "# matplotlib.rc('font', family=font_name)"
   ],
   "execution_count":1,
   "outputs":[
    {
     "name":"stderr",
     "text":[
      "<ipython-input-1-7cb82bf20ad9>:13: MatplotlibDeprecationWarning: \n",
      "The get_fontconfig_fonts function was deprecated in Matplotlib 3.5 and will be removed two minor releases later.\n",
      "  fm.get_fontconfig_fonts()\n"
     ],
     "output_type":"stream"
    }
   ],
   "metadata":{
    "datalore":{
     "node_id":"gYRkuGw2BmXlggCWQHCAKP",
     "type":"CODE",
     "hide_input_from_viewers":false,
     "hide_output_from_viewers":false,
     "report_properties":{
      "y":23
     }
    }
   }
  },
  {
   "cell_type":"code",
   "source":[
    "# 한글 깨짐 방지 예제\n",
    "fig = plt.figure()\n",
    "plt.plot((1, 1), label='왜 한글이 안나오지')\n",
    "plt.title('여기서는 잘나오는 한글 ', fontproperties=fprop)\n",
    "plt.legend(prop=fprop)\n",
    "plt.show()  "
   ],
   "execution_count":2,
   "outputs":[
    {
     "data":{
      "image\/png":"[encoded data removed]"
     },
     "metadata":{
      "image\/png":{
       
      }
     },
     "output_type":"display_data"
    }
   ],
   "metadata":{
    "datalore":{
     "node_id":"EQ5fUv0QlBuxN4OvnIEU81",
     "type":"CODE",
     "hide_input_from_viewers":false,
     "hide_output_from_viewers":false,
     "report_properties":{
      "y":33
     }
    }
   }
  },
  {
   "cell_type":"markdown",
   "source":[
    "## 데이터 분석 및 탐색(EDA)"
   ],
   "attachments":{
    
   },
   "metadata":{
    "datalore":{
     "node_id":"NM9aRjh6wwFHMG9hx2LCcZ",
     "type":"MD",
     "hide_input_from_viewers":false,
     "hide_output_from_viewers":false,
     "report_properties":{
      "y":38
     }
    }
   }
  },
  {
   "cell_type":"code",
   "source":[
    "# 서비스_업종_코드_명 분류 기준 dictionaries\n",
    "classification_dicts = {\"음식점\":\n",
    "                            [\"한식음식점\",\n",
    "                             \"중식음식점\",\n",
    "                             \"일식음식점\",\n",
    "                             \"양식음식점\",\n",
    "                             \"패스트푸드점\",\n",
    "                             \"치킨전문점\",\n",
    "                             \"분식전문점\",\n",
    "                             \"호프-간이주점\",\n",
    "                             \"제과점\",\n",
    "                             \"커피-음료\", ]\n",
    "    ,\n",
    "                        \"교육\": [\"일반교습학원\",\n",
    "                               \"외국어학원\",\n",
    "                               \"예술학원\",\n",
    "                               \"스포츠 강습\",\n",
    "                               ]\n",
    "    ,\n",
    "                        \"의료\": [\"일반의원\",\n",
    "                               \"치과의원\",\n",
    "                               \"한의원\",\n",
    "                               \"의약품\",\n",
    "                               \"의료기기\",\n",
    "                               ]\n",
    "    ,\n",
    "                        \"여가\": [\"당구장\",\n",
    "                               \"골프연습장\",\n",
    "                               \"PC방\",\n",
    "                               \"스포츠클럽\",\n",
    "                               \"노래방\",\n",
    "                               \"미용실\",\n",
    "                               \"네일숍\",\n",
    "                               \"피부관리실\",\n",
    "                               \"자동차미용\",\n",
    "                               \"운동\/경기용품\",\n",
    "                               \"자전거 및 기타운송장비\",\n",
    "                               ]\n",
    "    ,\n",
    "                        \"생필품\": [\"슈퍼마켓\",\n",
    "                                \"편의점\",\n",
    "                                \"미곡판매\",\n",
    "                                \"육류판매\",\n",
    "                                \"수산물판매\",\n",
    "                                \"청과상\",\n",
    "                                \"반찬가게\",\n",
    "                                \"세탁소\",\n",
    "                                \"가전제품수리\",\n",
    "                                \"자동차수리\",\n",
    "                                \"철물점\",\n",
    "                                ],\n",
    "                        \"의류 및 패션\": [\"일반의류\",\n",
    "                                    \"신발\",\n",
    "                                    \"가방\",\n",
    "                                    \"안경\",\n",
    "                                    \"시계및귀금속\",\n",
    "                                    \"화장품\",\n",
    "                                    ]\n",
    "    ,\n",
    "                        \"서적 및 문구\": [\"서적\",\n",
    "                                    \"문구\",\n",
    "                                    \"완구\",\n",
    "                                    ]\n",
    "    ,\n",
    "                        \"가구 및 가전제품\": [\"인테리어\",\n",
    "                                      \"조명용품\",\n",
    "                                      \"섬유제품\",\n",
    "                                      \"화초\",\n",
    "                                      \"가구\",\n",
    "                                      \"가전제품\",\n",
    "                                      \"컴퓨터및주변장치판매\",\n",
    "                                      \"핸드폰\",\n",
    "                                      ]\n",
    "    ,\n",
    "                        \"숙박\": [\"여관\",\n",
    "                               \"고시원\",\n",
    "                               ]\n",
    "    ,\n",
    "                        \"기타\": [\"부동산중개업\",\n",
    "                               \"애완동물\",\n",
    "                               ]\n",
    "    ,\n",
    "                        \"전자상거래업\": [\"전자상거래업\"]\n",
    "    ,\n",
    "                        }"
   ],
   "execution_count":3,
   "outputs":[
    
   ],
   "metadata":{
    "datalore":{
     "node_id":"Bc4jkIz9wa4N5TYswOBU9y",
     "type":"CODE",
     "hide_input_from_viewers":true,
     "hide_output_from_viewers":true
    }
   }
  },
  {
   "cell_type":"code",
   "source":[
    "# 서비스_업종_코드_명 분류 함수\n",
    "def classfy_business(string):\n",
    "    global classification_dicts\n",
    "    for clss,businesses in classification_dicts.items():\n",
    "        if string in businesses:\n",
    "            return clss\n",
    "    return 'None'\n",
    "\n",
    "## 데이터 전처리 "
   ],
   "execution_count":4,
   "outputs":[
    
   ],
   "metadata":{
    "datalore":{
     "node_id":"TM1R89cGZm8XQRZd8ofIJ4",
     "type":"CODE",
     "hide_input_from_viewers":false,
     "hide_output_from_viewers":false,
     "report_properties":{
      "x":0,
      "y":79
     }
    }
   }
  },
  {
   "cell_type":"code",
   "source":[
    
   ],
   "execution_count":0,
   "outputs":[
    
   ],
   "metadata":{
    "datalore":{
     "node_id":"jApNLeBdVO8NgCOC9KlUIO",
     "type":"CODE",
     "hide_input_from_viewers":true,
     "hide_output_from_viewers":true
    }
   }
  },
  {
   "cell_type":"markdown",
   "source":[
    "# EDA"
   ],
   "attachments":{
    
   },
   "metadata":{
    "datalore":{
     "node_id":"EDA",
     "type":"MD",
     "hide_input_from_viewers":false,
     "hide_output_from_viewers":false,
     "sheet_delimiter":true
    }
   }
  },
  {
   "cell_type":"code",
   "source":[
    "import pandas as pd "
   ],
   "execution_count":5,
   "outputs":[
    
   ],
   "metadata":{
    "datalore":{
     "node_id":"vgjaT1y5dd6nASpowoeoC4",
     "type":"CODE",
     "hide_input_from_viewers":true,
     "hide_output_from_viewers":true
    }
   }
  },
  {
   "cell_type":"code",
   "source":[
    "# 데이터 로드 \n",
    "\n",
    "# 서울시 우리마을가게 상권분석서비스(상권영역)\n",
    "area_df = pd.read_csv('\/data\/notebook_files\/서울시 우리마을가게 상권분석서비스(상권영역).csv', encoding='cp949')\n",
    "\n",
    "# 서울시 우리마을가게 상권분석서비스(점포) - 2020~2022\n",
    "store_df = pd.read_csv('\/data\/notebook_files\/서울시 우리마을가게 상권분석서비스(상권-점포).csv', encoding='cp949')\n",
    "\n",
    "# 서울시 우리마을가게 상권분석서비스(점포) - 2019\n",
    "store2019_df = pd.read_csv('\/data\/notebook_files\/서울시_우리마을가게_상권분석서비스(신_상권_점포)_2019년.csv', encoding='cp949')\n",
    "\n",
    "# 서울시 법정동, 행정동 코드정보 \n",
    "seoul_df = pd.read_csv('\/data\/notebook_files\/서울시 건축물대장 법정동,행정동 코드정보.csv', )"
   ],
   "execution_count":6,
   "outputs":[
    
   ],
   "metadata":{
    "datalore":{
     "node_id":"oLO8wCOBYDPbWi4jk6r0W2",
     "type":"CODE",
     "hide_input_from_viewers":true,
     "hide_output_from_viewers":true
    }
   }
  },
  {
   "cell_type":"code",
   "source":[
    "# 법정동 데이터 시군구 + 행정동 코드 결합 (추후 다른 데이터프레임과 행정동 코드를 기준으로 상권코드 가져오기 위해 진행)\n",
    "\n",
    "seoul_df['시군구코드']= seoul_df['시군구코드'].astype(str)\n",
    "seoul_df['행정동코드']= seoul_df['행정동코드'].astype(str)\n",
    "seoul_df['행정동_코드'] = seoul_df['시군구코드']+seoul_df['행정동코드']\n",
    "seoul_df['행정동_코드'] = seoul_df['행정동_코드'].astype(int)\n",
    "hj_seoul_df = seoul_df.loc[:,['시군구명','행정동명','행정동_코드']]"
   ],
   "execution_count":7,
   "outputs":[
    
   ],
   "metadata":{
    "datalore":{
     "node_id":"cfUNcen8RrqkdJO9jjzMTU",
     "type":"CODE",
     "hide_input_from_viewers":false,
     "hide_output_from_viewers":false,
     "report_properties":{
      "y":104
     }
    }
   }
  },
  {
   "cell_type":"code",
   "source":[
    "hj_seoul_df"
   ],
   "execution_count":8,
   "outputs":[
    {
     "data":{
      "text\/html":[
       "<div>\n",
       "<style scoped>\n",
       "    .dataframe tbody tr th:only-of-type {\n",
       "        vertical-align: middle;\n",
       "    }\n",
       "\n",
       "    .dataframe tbody tr th {\n",
       "        vertical-align: top;\n",
       "    }\n",
       "\n",
       "    .dataframe thead th {\n",
       "        text-align: right;\n",
       "    }\n",
       "<\/style>\n",
       "<table border=\"1\" class=\"dataframe\">\n",
       "  <thead>\n",
       "    <tr style=\"text-align: right;\">\n",
       "      <th><\/th>\n",
       "      <th>시군구명<\/th>\n",
       "      <th>행정동명<\/th>\n",
       "      <th>행정동_코드<\/th>\n",
       "    <\/tr>\n",
       "  <\/thead>\n",
       "  <tbody>\n",
       "    <tr>\n",
       "      <th>0<\/th>\n",
       "      <td>강남구<\/td>\n",
       "      <td>개포3동<\/td>\n",
       "      <td>11680675<\/td>\n",
       "    <\/tr>\n",
       "    <tr>\n",
       "      <th>1<\/th>\n",
       "      <td>강남구<\/td>\n",
       "      <td>개포3동<\/td>\n",
       "      <td>11680675<\/td>\n",
       "    <\/tr>\n",
       "    <tr>\n",
       "      <th>2<\/th>\n",
       "      <td>강남구<\/td>\n",
       "      <td>개포3동<\/td>\n",
       "      <td>11680675<\/td>\n",
       "    <\/tr>\n",
       "    <tr>\n",
       "      <th>3<\/th>\n",
       "      <td>강동구<\/td>\n",
       "      <td>상일제2동<\/td>\n",
       "      <td>11740526<\/td>\n",
       "    <\/tr>\n",
       "    <tr>\n",
       "      <th>4<\/th>\n",
       "      <td>강동구<\/td>\n",
       "      <td>상일제1동<\/td>\n",
       "      <td>11740525<\/td>\n",
       "    <\/tr>\n",
       "    <tr>\n",
       "      <th>...<\/th>\n",
       "      <td>...<\/td>\n",
       "      <td>...<\/td>\n",
       "      <td>...<\/td>\n",
       "    <\/tr>\n",
       "    <tr>\n",
       "      <th>2350<\/th>\n",
       "      <td>종로구<\/td>\n",
       "      <td>종로1.2가동<\/td>\n",
       "      <td>11110610<\/td>\n",
       "    <\/tr>\n",
       "    <tr>\n",
       "      <th>2351<\/th>\n",
       "      <td>종로구<\/td>\n",
       "      <td>종로1.2가동<\/td>\n",
       "      <td>11110610<\/td>\n",
       "    <\/tr>\n",
       "    <tr>\n",
       "      <th>2352<\/th>\n",
       "      <td>종로구<\/td>\n",
       "      <td>종로1.2가동<\/td>\n",
       "      <td>11110610<\/td>\n",
       "    <\/tr>\n",
       "    <tr>\n",
       "      <th>2353<\/th>\n",
       "      <td>종로구<\/td>\n",
       "      <td>종로1.2가동<\/td>\n",
       "      <td>11110610<\/td>\n",
       "    <\/tr>\n",
       "    <tr>\n",
       "      <th>2354<\/th>\n",
       "      <td>종로구<\/td>\n",
       "      <td>종로1.2가동<\/td>\n",
       "      <td>11110610<\/td>\n",
       "    <\/tr>\n",
       "  <\/tbody>\n",
       "<\/table>\n",
       "<p>2355 rows × 3 columns<\/p>\n",
       "<\/div>"
      ]
     },
     "metadata":{
      
     },
     "output_type":"display_data"
    }
   ],
   "metadata":{
    "datalore":{
     "node_id":"uhBTRIa02FBwnRfHE8zM7A",
     "type":"CODE",
     "hide_input_from_viewers":false,
     "hide_output_from_viewers":false,
     "report_properties":{
      "y":109
     }
    }
   }
  },
  {
   "cell_type":"code",
   "source":[
    "hj_seoul_df['행정동_코드']=hj_seoul_df['행정동_코드'].astype(int)"
   ],
   "execution_count":9,
   "outputs":[
    
   ],
   "metadata":{
    "datalore":{
     "node_id":"I4rfV0sJlDA3voIOmiQjK9",
     "type":"CODE",
     "hide_input_from_viewers":false,
     "hide_output_from_viewers":false,
     "report_properties":{
      "y":112
     }
    }
   }
  },
  {
   "cell_type":"code",
   "source":[
    "area_df = area_df[['상권_코드','행정동_코드']]"
   ],
   "execution_count":10,
   "outputs":[
    
   ],
   "metadata":{
    "datalore":{
     "node_id":"3P2lw6fFovBHCUdJlMvAaJ",
     "type":"CODE",
     "hide_input_from_viewers":false,
     "hide_output_from_viewers":false,
     "report_properties":{
      "y":115
     }
    }
   }
  },
  {
   "cell_type":"code",
   "source":[
    "area_df"
   ],
   "execution_count":11,
   "outputs":[
    {
     "data":{
      "text\/html":[
       "<div>\n",
       "<style scoped>\n",
       "    .dataframe tbody tr th:only-of-type {\n",
       "        vertical-align: middle;\n",
       "    }\n",
       "\n",
       "    .dataframe tbody tr th {\n",
       "        vertical-align: top;\n",
       "    }\n",
       "\n",
       "    .dataframe thead th {\n",
       "        text-align: right;\n",
       "    }\n",
       "<\/style>\n",
       "<table border=\"1\" class=\"dataframe\">\n",
       "  <thead>\n",
       "    <tr style=\"text-align: right;\">\n",
       "      <th><\/th>\n",
       "      <th>상권_코드<\/th>\n",
       "      <th>행정동_코드<\/th>\n",
       "    <\/tr>\n",
       "  <\/thead>\n",
       "  <tbody>\n",
       "    <tr>\n",
       "      <th>0<\/th>\n",
       "      <td>2110753<\/td>\n",
       "      <td>11545710<\/td>\n",
       "    <\/tr>\n",
       "    <tr>\n",
       "      <th>1<\/th>\n",
       "      <td>2110427<\/td>\n",
       "      <td>11350611<\/td>\n",
       "    <\/tr>\n",
       "    <tr>\n",
       "      <th>2<\/th>\n",
       "      <td>2110755<\/td>\n",
       "      <td>11545680<\/td>\n",
       "    <\/tr>\n",
       "    <tr>\n",
       "      <th>3<\/th>\n",
       "      <td>2110739<\/td>\n",
       "      <td>11545690<\/td>\n",
       "    <\/tr>\n",
       "    <tr>\n",
       "      <th>4<\/th>\n",
       "      <td>2111017<\/td>\n",
       "      <td>11710562<\/td>\n",
       "    <\/tr>\n",
       "    <tr>\n",
       "      <th>...<\/th>\n",
       "      <td>...<\/td>\n",
       "      <td>...<\/td>\n",
       "    <\/tr>\n",
       "    <tr>\n",
       "      <th>1666<\/th>\n",
       "      <td>1001493<\/td>\n",
       "      <td>11140590<\/td>\n",
       "    <\/tr>\n",
       "    <tr>\n",
       "      <th>1667<\/th>\n",
       "      <td>1001494<\/td>\n",
       "      <td>11110615<\/td>\n",
       "    <\/tr>\n",
       "    <tr>\n",
       "      <th>1668<\/th>\n",
       "      <td>1001495<\/td>\n",
       "      <td>11710566<\/td>\n",
       "    <\/tr>\n",
       "    <tr>\n",
       "      <th>1669<\/th>\n",
       "      <td>1001496<\/td>\n",
       "      <td>11680580<\/td>\n",
       "    <\/tr>\n",
       "    <tr>\n",
       "      <th>1670<\/th>\n",
       "      <td>1001491<\/td>\n",
       "      <td>11170650<\/td>\n",
       "    <\/tr>\n",
       "  <\/tbody>\n",
       "<\/table>\n",
       "<p>1671 rows × 2 columns<\/p>\n",
       "<\/div>"
      ]
     },
     "metadata":{
      
     },
     "output_type":"display_data"
    }
   ],
   "metadata":{
    "datalore":{
     "node_id":"Oayg2AfAvqADPIGukuETVs",
     "type":"CODE",
     "hide_input_from_viewers":false,
     "hide_output_from_viewers":false,
     "report_properties":{
      "y":118
     }
    }
   }
  },
  {
   "cell_type":"code",
   "source":[
    "# 행정동 데이터와 상권영역 데이터 병합 \n",
    "area_df_inner = pd.merge(area_df, hj_seoul_df, how='inner', on='행정동_코드')"
   ],
   "execution_count":12,
   "outputs":[
    
   ],
   "metadata":{
    "datalore":{
     "node_id":"BoQU4Rnss62TRRe7shA53m",
     "type":"CODE",
     "hide_input_from_viewers":false,
     "hide_output_from_viewers":false,
     "report_properties":{
      "y":121
     }
    }
   }
  },
  {
   "cell_type":"code",
   "source":[
    "area_df_inner"
   ],
   "execution_count":13,
   "outputs":[
    {
     "data":{
      "text\/html":[
       "<div>\n",
       "<style scoped>\n",
       "    .dataframe tbody tr th:only-of-type {\n",
       "        vertical-align: middle;\n",
       "    }\n",
       "\n",
       "    .dataframe tbody tr th {\n",
       "        vertical-align: top;\n",
       "    }\n",
       "\n",
       "    .dataframe thead th {\n",
       "        text-align: right;\n",
       "    }\n",
       "<\/style>\n",
       "<table border=\"1\" class=\"dataframe\">\n",
       "  <thead>\n",
       "    <tr style=\"text-align: right;\">\n",
       "      <th><\/th>\n",
       "      <th>상권_코드<\/th>\n",
       "      <th>행정동_코드<\/th>\n",
       "      <th>시군구명<\/th>\n",
       "      <th>행정동명<\/th>\n",
       "    <\/tr>\n",
       "  <\/thead>\n",
       "  <tbody>\n",
       "    <tr>\n",
       "      <th>0<\/th>\n",
       "      <td>2110753<\/td>\n",
       "      <td>11545710<\/td>\n",
       "      <td>금천구<\/td>\n",
       "      <td>시흥제5동<\/td>\n",
       "    <\/tr>\n",
       "    <tr>\n",
       "      <th>1<\/th>\n",
       "      <td>2110748<\/td>\n",
       "      <td>11545710<\/td>\n",
       "      <td>금천구<\/td>\n",
       "      <td>시흥제5동<\/td>\n",
       "    <\/tr>\n",
       "    <tr>\n",
       "      <th>2<\/th>\n",
       "      <td>2110754<\/td>\n",
       "      <td>11545710<\/td>\n",
       "      <td>금천구<\/td>\n",
       "      <td>시흥제5동<\/td>\n",
       "    <\/tr>\n",
       "    <tr>\n",
       "      <th>3<\/th>\n",
       "      <td>2130238<\/td>\n",
       "      <td>11545710<\/td>\n",
       "      <td>금천구<\/td>\n",
       "      <td>시흥제5동<\/td>\n",
       "    <\/tr>\n",
       "    <tr>\n",
       "      <th>4<\/th>\n",
       "      <td>2110427<\/td>\n",
       "      <td>11350611<\/td>\n",
       "      <td>노원구<\/td>\n",
       "      <td>하계제1동<\/td>\n",
       "    <\/tr>\n",
       "    <tr>\n",
       "      <th>...<\/th>\n",
       "      <td>...<\/td>\n",
       "      <td>...<\/td>\n",
       "      <td>...<\/td>\n",
       "      <td>...<\/td>\n",
       "    <\/tr>\n",
       "    <tr>\n",
       "      <th>3847<\/th>\n",
       "      <td>2130166<\/td>\n",
       "      <td>11380590<\/td>\n",
       "      <td>은평구<\/td>\n",
       "      <td>응암제2동<\/td>\n",
       "    <\/tr>\n",
       "    <tr>\n",
       "      <th>3848<\/th>\n",
       "      <td>2130113<\/td>\n",
       "      <td>11260690<\/td>\n",
       "      <td>중랑구<\/td>\n",
       "      <td>신내2동<\/td>\n",
       "    <\/tr>\n",
       "    <tr>\n",
       "      <th>3849<\/th>\n",
       "      <td>2130051<\/td>\n",
       "      <td>11140665<\/td>\n",
       "      <td>중구<\/td>\n",
       "      <td>동화동<\/td>\n",
       "    <\/tr>\n",
       "    <tr>\n",
       "      <th>3850<\/th>\n",
       "      <td>2130102<\/td>\n",
       "      <td>11230750<\/td>\n",
       "      <td>동대문구<\/td>\n",
       "      <td>이문제2동<\/td>\n",
       "    <\/tr>\n",
       "    <tr>\n",
       "      <th>3851<\/th>\n",
       "      <td>1001495<\/td>\n",
       "      <td>11710566<\/td>\n",
       "      <td>송파구<\/td>\n",
       "      <td>오륜동<\/td>\n",
       "    <\/tr>\n",
       "  <\/tbody>\n",
       "<\/table>\n",
       "<p>3852 rows × 4 columns<\/p>\n",
       "<\/div>"
      ]
     },
     "metadata":{
      
     },
     "output_type":"display_data"
    }
   ],
   "metadata":{
    "datalore":{
     "node_id":"7TxWEU3rdxvAfI6wMs7TvI",
     "type":"CODE",
     "hide_input_from_viewers":false,
     "hide_output_from_viewers":false,
     "report_properties":{
      "y":124
     }
    }
   }
  },
  {
   "cell_type":"code",
   "source":[
    "area_df_inner = area_df_inner.sort_values(by='상권_코드')"
   ],
   "execution_count":14,
   "outputs":[
    
   ],
   "metadata":{
    "datalore":{
     "node_id":"qFfQras2QzDshkHRSyGjJG",
     "type":"CODE",
     "hide_input_from_viewers":false,
     "hide_output_from_viewers":false,
     "report_properties":{
      "y":127
     }
    }
   }
  },
  {
   "cell_type":"code",
   "source":[
    "area_df_inner"
   ],
   "execution_count":15,
   "outputs":[
    {
     "data":{
      "text\/html":[
       "<div>\n",
       "<style scoped>\n",
       "    .dataframe tbody tr th:only-of-type {\n",
       "        vertical-align: middle;\n",
       "    }\n",
       "\n",
       "    .dataframe tbody tr th {\n",
       "        vertical-align: top;\n",
       "    }\n",
       "\n",
       "    .dataframe thead th {\n",
       "        text-align: right;\n",
       "    }\n",
       "<\/style>\n",
       "<table border=\"1\" class=\"dataframe\">\n",
       "  <thead>\n",
       "    <tr style=\"text-align: right;\">\n",
       "      <th><\/th>\n",
       "      <th>상권_코드<\/th>\n",
       "      <th>행정동_코드<\/th>\n",
       "      <th>시군구명<\/th>\n",
       "      <th>행정동명<\/th>\n",
       "    <\/tr>\n",
       "  <\/thead>\n",
       "  <tbody>\n",
       "    <tr>\n",
       "      <th>281<\/th>\n",
       "      <td>1001491<\/td>\n",
       "      <td>11170650<\/td>\n",
       "      <td>용산구<\/td>\n",
       "      <td>이태원제1동<\/td>\n",
       "    <\/tr>\n",
       "    <tr>\n",
       "      <th>2493<\/th>\n",
       "      <td>1001492<\/td>\n",
       "      <td>11140520<\/td>\n",
       "      <td>중구<\/td>\n",
       "      <td>소공동<\/td>\n",
       "    <\/tr>\n",
       "    <tr>\n",
       "      <th>2490<\/th>\n",
       "      <td>1001492<\/td>\n",
       "      <td>11140520<\/td>\n",
       "      <td>중구<\/td>\n",
       "      <td>소공동<\/td>\n",
       "    <\/tr>\n",
       "    <tr>\n",
       "      <th>2489<\/th>\n",
       "      <td>1001492<\/td>\n",
       "      <td>11140520<\/td>\n",
       "      <td>중구<\/td>\n",
       "      <td>소공동<\/td>\n",
       "    <\/tr>\n",
       "    <tr>\n",
       "      <th>2488<\/th>\n",
       "      <td>1001492<\/td>\n",
       "      <td>11140520<\/td>\n",
       "      <td>중구<\/td>\n",
       "      <td>소공동<\/td>\n",
       "    <\/tr>\n",
       "    <tr>\n",
       "      <th>...<\/th>\n",
       "      <td>...<\/td>\n",
       "      <td>...<\/td>\n",
       "      <td>...<\/td>\n",
       "      <td>...<\/td>\n",
       "    <\/tr>\n",
       "    <tr>\n",
       "      <th>451<\/th>\n",
       "      <td>2130322<\/td>\n",
       "      <td>11740620<\/td>\n",
       "      <td>강동구<\/td>\n",
       "      <td>천호제3동<\/td>\n",
       "    <\/tr>\n",
       "    <tr>\n",
       "      <th>1545<\/th>\n",
       "      <td>2130323<\/td>\n",
       "      <td>11740660<\/td>\n",
       "      <td>강동구<\/td>\n",
       "      <td>성내제3동<\/td>\n",
       "    <\/tr>\n",
       "    <tr>\n",
       "      <th>116<\/th>\n",
       "      <td>2130324<\/td>\n",
       "      <td>11740685<\/td>\n",
       "      <td>강동구<\/td>\n",
       "      <td>길동<\/td>\n",
       "    <\/tr>\n",
       "    <tr>\n",
       "      <th>1810<\/th>\n",
       "      <td>2130325<\/td>\n",
       "      <td>11740530<\/td>\n",
       "      <td>강동구<\/td>\n",
       "      <td>명일제1동<\/td>\n",
       "    <\/tr>\n",
       "    <tr>\n",
       "      <th>2563<\/th>\n",
       "      <td>2130326<\/td>\n",
       "      <td>11740560<\/td>\n",
       "      <td>강동구<\/td>\n",
       "      <td>고덕제2동<\/td>\n",
       "    <\/tr>\n",
       "  <\/tbody>\n",
       "<\/table>\n",
       "<p>3852 rows × 4 columns<\/p>\n",
       "<\/div>"
      ]
     },
     "metadata":{
      
     },
     "output_type":"display_data"
    }
   ],
   "metadata":{
    "datalore":{
     "node_id":"FfHUXaMWdRoa4p2fZ2ga1w",
     "type":"CODE",
     "hide_input_from_viewers":false,
     "hide_output_from_viewers":false,
     "report_properties":{
      "y":130
     }
    }
   }
  },
  {
   "cell_type":"code",
   "source":[
    "# 중복되는 코드 제거 \n",
    "\n",
    "area_df_inner = area_df_inner.drop_duplicates()\n",
    "area_df_inner"
   ],
   "execution_count":16,
   "outputs":[
    {
     "data":{
      "text\/html":[
       "<div>\n",
       "<style scoped>\n",
       "    .dataframe tbody tr th:only-of-type {\n",
       "        vertical-align: middle;\n",
       "    }\n",
       "\n",
       "    .dataframe tbody tr th {\n",
       "        vertical-align: top;\n",
       "    }\n",
       "\n",
       "    .dataframe thead th {\n",
       "        text-align: right;\n",
       "    }\n",
       "<\/style>\n",
       "<table border=\"1\" class=\"dataframe\">\n",
       "  <thead>\n",
       "    <tr style=\"text-align: right;\">\n",
       "      <th><\/th>\n",
       "      <th>상권_코드<\/th>\n",
       "      <th>행정동_코드<\/th>\n",
       "      <th>시군구명<\/th>\n",
       "      <th>행정동명<\/th>\n",
       "    <\/tr>\n",
       "  <\/thead>\n",
       "  <tbody>\n",
       "    <tr>\n",
       "      <th>281<\/th>\n",
       "      <td>1001491<\/td>\n",
       "      <td>11170650<\/td>\n",
       "      <td>용산구<\/td>\n",
       "      <td>이태원제1동<\/td>\n",
       "    <\/tr>\n",
       "    <tr>\n",
       "      <th>2493<\/th>\n",
       "      <td>1001492<\/td>\n",
       "      <td>11140520<\/td>\n",
       "      <td>중구<\/td>\n",
       "      <td>소공동<\/td>\n",
       "    <\/tr>\n",
       "    <tr>\n",
       "      <th>3735<\/th>\n",
       "      <td>1001493<\/td>\n",
       "      <td>11140590<\/td>\n",
       "      <td>중구<\/td>\n",
       "      <td>광희동<\/td>\n",
       "    <\/tr>\n",
       "    <tr>\n",
       "      <th>3436<\/th>\n",
       "      <td>1001494<\/td>\n",
       "      <td>11110615<\/td>\n",
       "      <td>종로구<\/td>\n",
       "      <td>종로1.2.3.4가동<\/td>\n",
       "    <\/tr>\n",
       "    <tr>\n",
       "      <th>3851<\/th>\n",
       "      <td>1001495<\/td>\n",
       "      <td>11710566<\/td>\n",
       "      <td>송파구<\/td>\n",
       "      <td>오륜동<\/td>\n",
       "    <\/tr>\n",
       "    <tr>\n",
       "      <th>...<\/th>\n",
       "      <td>...<\/td>\n",
       "      <td>...<\/td>\n",
       "      <td>...<\/td>\n",
       "      <td>...<\/td>\n",
       "    <\/tr>\n",
       "    <tr>\n",
       "      <th>451<\/th>\n",
       "      <td>2130322<\/td>\n",
       "      <td>11740620<\/td>\n",
       "      <td>강동구<\/td>\n",
       "      <td>천호제3동<\/td>\n",
       "    <\/tr>\n",
       "    <tr>\n",
       "      <th>1545<\/th>\n",
       "      <td>2130323<\/td>\n",
       "      <td>11740660<\/td>\n",
       "      <td>강동구<\/td>\n",
       "      <td>성내제3동<\/td>\n",
       "    <\/tr>\n",
       "    <tr>\n",
       "      <th>116<\/th>\n",
       "      <td>2130324<\/td>\n",
       "      <td>11740685<\/td>\n",
       "      <td>강동구<\/td>\n",
       "      <td>길동<\/td>\n",
       "    <\/tr>\n",
       "    <tr>\n",
       "      <th>1810<\/th>\n",
       "      <td>2130325<\/td>\n",
       "      <td>11740530<\/td>\n",
       "      <td>강동구<\/td>\n",
       "      <td>명일제1동<\/td>\n",
       "    <\/tr>\n",
       "    <tr>\n",
       "      <th>2563<\/th>\n",
       "      <td>2130326<\/td>\n",
       "      <td>11740560<\/td>\n",
       "      <td>강동구<\/td>\n",
       "      <td>고덕제2동<\/td>\n",
       "    <\/tr>\n",
       "  <\/tbody>\n",
       "<\/table>\n",
       "<p>1673 rows × 4 columns<\/p>\n",
       "<\/div>"
      ]
     },
     "metadata":{
      
     },
     "output_type":"display_data"
    }
   ],
   "metadata":{
    "datalore":{
     "node_id":"9yY1EJ1r3OXIAj7Uq0Kjvj",
     "type":"CODE",
     "hide_input_from_viewers":false,
     "hide_output_from_viewers":false,
     "report_properties":{
      "y":133
     }
    }
   }
  },
  {
   "cell_type":"code",
   "source":[
    "# 2차적으로 중복 코드 제거 (행정동 및 코드는 동일하나, 다른 네임을 사용하여 중복되는 데이터 존재)\n",
    "\n",
    "n_list = area_df_inner['상권_코드'].to_list()\n",
    "\n",
    "n = 0\n",
    "now =0 \n",
    "for i in n_list :\n",
    "    if n == 0 :\n",
    "        now = i\n",
    "        n+= 1\n",
    "        continue\n",
    "    if i == now : \n",
    "        print('duplicate : ',i)\n",
    "    n += 1\n",
    "    now = i"
   ],
   "execution_count":17,
   "outputs":[
    {
     "name":"stdout",
     "text":[
      "duplicate :  2110994\n",
      "duplicate :  2130310\n"
     ],
     "output_type":"stream"
    }
   ],
   "metadata":{
    "datalore":{
     "node_id":"yZXDUf71NaOv3TbRfF0WEW",
     "type":"CODE",
     "hide_input_from_viewers":false,
     "hide_output_from_viewers":false,
     "report_properties":{
      "y":136
     }
    }
   }
  },
  {
   "cell_type":"code",
   "source":[
    "area_df_inner[area_df_inner['상권_코드'].eq(2130310)]"
   ],
   "execution_count":18,
   "outputs":[
    {
     "data":{
      "text\/html":[
       "<div>\n",
       "<style scoped>\n",
       "    .dataframe tbody tr th:only-of-type {\n",
       "        vertical-align: middle;\n",
       "    }\n",
       "\n",
       "    .dataframe tbody tr th {\n",
       "        vertical-align: top;\n",
       "    }\n",
       "\n",
       "    .dataframe thead th {\n",
       "        text-align: right;\n",
       "    }\n",
       "<\/style>\n",
       "<table border=\"1\" class=\"dataframe\">\n",
       "  <thead>\n",
       "    <tr style=\"text-align: right;\">\n",
       "      <th><\/th>\n",
       "      <th>상권_코드<\/th>\n",
       "      <th>행정동_코드<\/th>\n",
       "      <th>시군구명<\/th>\n",
       "      <th>행정동명<\/th>\n",
       "    <\/tr>\n",
       "  <\/thead>\n",
       "  <tbody>\n",
       "    <tr>\n",
       "      <th>2560<\/th>\n",
       "      <td>2130310<\/td>\n",
       "      <td>11680670<\/td>\n",
       "      <td>강남구<\/td>\n",
       "      <td>개포제2동<\/td>\n",
       "    <\/tr>\n",
       "    <tr>\n",
       "      <th>2559<\/th>\n",
       "      <td>2130310<\/td>\n",
       "      <td>11680670<\/td>\n",
       "      <td>강남구<\/td>\n",
       "      <td>개포2동<\/td>\n",
       "    <\/tr>\n",
       "  <\/tbody>\n",
       "<\/table>\n",
       "<\/div>"
      ]
     },
     "metadata":{
      
     },
     "output_type":"display_data"
    }
   ],
   "metadata":{
    "datalore":{
     "node_id":"3UDQe1UVdUH8tGwotGpPYo",
     "type":"CODE",
     "hide_input_from_viewers":false,
     "hide_output_from_viewers":false,
     "report_properties":{
      "y":139
     }
    }
   }
  },
  {
   "cell_type":"code",
   "source":[
    "area_df_inner[area_df_inner['상권_코드'].eq(2110994)]"
   ],
   "execution_count":19,
   "outputs":[
    {
     "data":{
      "text\/html":[
       "<div>\n",
       "<style scoped>\n",
       "    .dataframe tbody tr th:only-of-type {\n",
       "        vertical-align: middle;\n",
       "    }\n",
       "\n",
       "    .dataframe tbody tr th {\n",
       "        vertical-align: top;\n",
       "    }\n",
       "\n",
       "    .dataframe thead th {\n",
       "        text-align: right;\n",
       "    }\n",
       "<\/style>\n",
       "<table border=\"1\" class=\"dataframe\">\n",
       "  <thead>\n",
       "    <tr style=\"text-align: right;\">\n",
       "      <th><\/th>\n",
       "      <th>상권_코드<\/th>\n",
       "      <th>행정동_코드<\/th>\n",
       "      <th>시군구명<\/th>\n",
       "      <th>행정동명<\/th>\n",
       "    <\/tr>\n",
       "  <\/thead>\n",
       "  <tbody>\n",
       "    <tr>\n",
       "      <th>2558<\/th>\n",
       "      <td>2110994<\/td>\n",
       "      <td>11680670<\/td>\n",
       "      <td>강남구<\/td>\n",
       "      <td>개포제2동<\/td>\n",
       "    <\/tr>\n",
       "    <tr>\n",
       "      <th>2557<\/th>\n",
       "      <td>2110994<\/td>\n",
       "      <td>11680670<\/td>\n",
       "      <td>강남구<\/td>\n",
       "      <td>개포2동<\/td>\n",
       "    <\/tr>\n",
       "  <\/tbody>\n",
       "<\/table>\n",
       "<\/div>"
      ]
     },
     "metadata":{
      
     },
     "output_type":"display_data"
    }
   ],
   "metadata":{
    "datalore":{
     "node_id":"myGy7dpvHBO2GrKkW7DVw3",
     "type":"CODE",
     "hide_input_from_viewers":false,
     "hide_output_from_viewers":false,
     "report_properties":{
      "y":142
     }
    }
   }
  },
  {
   "cell_type":"code",
   "source":[
    "area_df_inner[area_df_inner['행정동명']=='개포제2동']"
   ],
   "execution_count":20,
   "outputs":[
    {
     "data":{
      "text\/html":[
       "<div>\n",
       "<style scoped>\n",
       "    .dataframe tbody tr th:only-of-type {\n",
       "        vertical-align: middle;\n",
       "    }\n",
       "\n",
       "    .dataframe tbody tr th {\n",
       "        vertical-align: top;\n",
       "    }\n",
       "\n",
       "    .dataframe thead th {\n",
       "        text-align: right;\n",
       "    }\n",
       "<\/style>\n",
       "<table border=\"1\" class=\"dataframe\">\n",
       "  <thead>\n",
       "    <tr style=\"text-align: right;\">\n",
       "      <th><\/th>\n",
       "      <th>상권_코드<\/th>\n",
       "      <th>행정동_코드<\/th>\n",
       "      <th>시군구명<\/th>\n",
       "      <th>행정동명<\/th>\n",
       "    <\/tr>\n",
       "  <\/thead>\n",
       "  <tbody>\n",
       "    <tr>\n",
       "      <th>2558<\/th>\n",
       "      <td>2110994<\/td>\n",
       "      <td>11680670<\/td>\n",
       "      <td>강남구<\/td>\n",
       "      <td>개포제2동<\/td>\n",
       "    <\/tr>\n",
       "    <tr>\n",
       "      <th>2560<\/th>\n",
       "      <td>2130310<\/td>\n",
       "      <td>11680670<\/td>\n",
       "      <td>강남구<\/td>\n",
       "      <td>개포제2동<\/td>\n",
       "    <\/tr>\n",
       "  <\/tbody>\n",
       "<\/table>\n",
       "<\/div>"
      ]
     },
     "metadata":{
      
     },
     "output_type":"display_data"
    }
   ],
   "metadata":{
    "datalore":{
     "node_id":"0rFKdcBS0NP88kBlCh0uKw",
     "type":"CODE",
     "hide_input_from_viewers":false,
     "hide_output_from_viewers":false,
     "report_properties":{
      "y":145
     }
    }
   }
  },
  {
   "cell_type":"code",
   "source":[
    "area_df = area_df_inner.drop([2558, 2560], axis=0)\n",
    "area_df"
   ],
   "execution_count":21,
   "outputs":[
    {
     "data":{
      "text\/html":[
       "<div>\n",
       "<style scoped>\n",
       "    .dataframe tbody tr th:only-of-type {\n",
       "        vertical-align: middle;\n",
       "    }\n",
       "\n",
       "    .dataframe tbody tr th {\n",
       "        vertical-align: top;\n",
       "    }\n",
       "\n",
       "    .dataframe thead th {\n",
       "        text-align: right;\n",
       "    }\n",
       "<\/style>\n",
       "<table border=\"1\" class=\"dataframe\">\n",
       "  <thead>\n",
       "    <tr style=\"text-align: right;\">\n",
       "      <th><\/th>\n",
       "      <th>상권_코드<\/th>\n",
       "      <th>행정동_코드<\/th>\n",
       "      <th>시군구명<\/th>\n",
       "      <th>행정동명<\/th>\n",
       "    <\/tr>\n",
       "  <\/thead>\n",
       "  <tbody>\n",
       "    <tr>\n",
       "      <th>281<\/th>\n",
       "      <td>1001491<\/td>\n",
       "      <td>11170650<\/td>\n",
       "      <td>용산구<\/td>\n",
       "      <td>이태원제1동<\/td>\n",
       "    <\/tr>\n",
       "    <tr>\n",
       "      <th>2493<\/th>\n",
       "      <td>1001492<\/td>\n",
       "      <td>11140520<\/td>\n",
       "      <td>중구<\/td>\n",
       "      <td>소공동<\/td>\n",
       "    <\/tr>\n",
       "    <tr>\n",
       "      <th>3735<\/th>\n",
       "      <td>1001493<\/td>\n",
       "      <td>11140590<\/td>\n",
       "      <td>중구<\/td>\n",
       "      <td>광희동<\/td>\n",
       "    <\/tr>\n",
       "    <tr>\n",
       "      <th>3436<\/th>\n",
       "      <td>1001494<\/td>\n",
       "      <td>11110615<\/td>\n",
       "      <td>종로구<\/td>\n",
       "      <td>종로1.2.3.4가동<\/td>\n",
       "    <\/tr>\n",
       "    <tr>\n",
       "      <th>3851<\/th>\n",
       "      <td>1001495<\/td>\n",
       "      <td>11710566<\/td>\n",
       "      <td>송파구<\/td>\n",
       "      <td>오륜동<\/td>\n",
       "    <\/tr>\n",
       "    <tr>\n",
       "      <th>...<\/th>\n",
       "      <td>...<\/td>\n",
       "      <td>...<\/td>\n",
       "      <td>...<\/td>\n",
       "      <td>...<\/td>\n",
       "    <\/tr>\n",
       "    <tr>\n",
       "      <th>451<\/th>\n",
       "      <td>2130322<\/td>\n",
       "      <td>11740620<\/td>\n",
       "      <td>강동구<\/td>\n",
       "      <td>천호제3동<\/td>\n",
       "    <\/tr>\n",
       "    <tr>\n",
       "      <th>1545<\/th>\n",
       "      <td>2130323<\/td>\n",
       "      <td>11740660<\/td>\n",
       "      <td>강동구<\/td>\n",
       "      <td>성내제3동<\/td>\n",
       "    <\/tr>\n",
       "    <tr>\n",
       "      <th>116<\/th>\n",
       "      <td>2130324<\/td>\n",
       "      <td>11740685<\/td>\n",
       "      <td>강동구<\/td>\n",
       "      <td>길동<\/td>\n",
       "    <\/tr>\n",
       "    <tr>\n",
       "      <th>1810<\/th>\n",
       "      <td>2130325<\/td>\n",
       "      <td>11740530<\/td>\n",
       "      <td>강동구<\/td>\n",
       "      <td>명일제1동<\/td>\n",
       "    <\/tr>\n",
       "    <tr>\n",
       "      <th>2563<\/th>\n",
       "      <td>2130326<\/td>\n",
       "      <td>11740560<\/td>\n",
       "      <td>강동구<\/td>\n",
       "      <td>고덕제2동<\/td>\n",
       "    <\/tr>\n",
       "  <\/tbody>\n",
       "<\/table>\n",
       "<p>1671 rows × 4 columns<\/p>\n",
       "<\/div>"
      ]
     },
     "metadata":{
      
     },
     "output_type":"display_data"
    }
   ],
   "metadata":{
    "datalore":{
     "node_id":"kWgwrXgnQ3QHBxxDcV3SOx",
     "type":"CODE",
     "hide_input_from_viewers":false,
     "hide_output_from_viewers":false,
     "report_properties":{
      "y":148
     }
    }
   }
  },
  {
   "cell_type":"markdown",
   "source":[
    " "
   ],
   "attachments":{
    
   },
   "metadata":{
    "datalore":{
     "node_id":"ErfUqNcc3qnIfqb51taPHz",
     "type":"MD",
     "hide_input_from_viewers":false,
     "hide_output_from_viewers":false,
     "report_properties":{
      "y":151
     }
    }
   }
  },
  {
   "cell_type":"code",
   "source":[
    "# 추정 매출 데이터 로드 \n",
    "\n",
    "# 서울시 우리마을가게 상권분석서비스(상권-추정매출)_2022년 3분기 까지.csv\n",
    "sales_2022_df = pd.read_csv('\/data\/notebook_files\/서울시 우리마을가게 상권분석서비스(상권-추정매출)_2022년 3분기 까지.csv')\n",
    "\n",
    "# 서울시_우리마을가게_상권분석서비스(신_상권_추정매출)_2021년.csv\n",
    "sales_2021_df = pd.read_csv('\/data\/notebook_files\/서울시_우리마을가게_상권분석서비스(신_상권_추정매출)_2021년.csv')\n",
    "\n",
    "# 서울시_우리마을가게_상권분석서비스(신_상권_추정매출)_2020년.csv\n",
    "sales_2020_df = pd.read_csv('\/data\/notebook_files\/서울시_우리마을가게_상권분석서비스(신_상권_추정매출)_2020년.csv')\n",
    "\n",
    "# 서울시_우리마을가게_상권분석서비스(신_상권_추정매출)_2019년.csv\n",
    "sales_2019_df = pd.read_csv('\/data\/notebook_files\/서울시_우리마을가게_상권분석서비스(신_상권_추정매출)_2019년.csv')"
   ],
   "execution_count":22,
   "outputs":[
    
   ],
   "metadata":{
    "datalore":{
     "node_id":"vy9mhRou1VtkKrIKH4kIZM",
     "type":"CODE",
     "hide_input_from_viewers":false,
     "hide_output_from_viewers":false,
     "report_properties":{
      "y":154
     }
    }
   }
  },
  {
   "cell_type":"code",
   "source":[
    "all_sales_df = sales_2022_df.append([sales_2021_df, sales_2020_df, sales_2019_df], ignore_index=True)\n",
    "all_sales_df"
   ],
   "execution_count":23,
   "outputs":[
    {
     "data":{
      "text\/html":[
       "<div>\n",
       "<style scoped>\n",
       "    .dataframe tbody tr th:only-of-type {\n",
       "        vertical-align: middle;\n",
       "    }\n",
       "\n",
       "    .dataframe tbody tr th {\n",
       "        vertical-align: top;\n",
       "    }\n",
       "\n",
       "    .dataframe thead th {\n",
       "        text-align: right;\n",
       "    }\n",
       "<\/style>\n",
       "<table border=\"1\" class=\"dataframe\">\n",
       "  <thead>\n",
       "    <tr style=\"text-align: right;\">\n",
       "      <th><\/th>\n",
       "      <th>기준_년_코드<\/th>\n",
       "      <th>기준_분기_코드<\/th>\n",
       "      <th>상권_구분_코드<\/th>\n",
       "      <th>상권_구분_코드_명<\/th>\n",
       "      <th>상권_코드<\/th>\n",
       "      <th>상권_코드_명<\/th>\n",
       "      <th>서비스_업종_코드<\/th>\n",
       "      <th>서비스_업종_코드_명<\/th>\n",
       "      <th>분기당_매출_금액<\/th>\n",
       "      <th>분기당_매출_건수<\/th>\n",
       "      <th>...<\/th>\n",
       "      <th>시간대_건수~24_매출_건수<\/th>\n",
       "      <th>남성_매출_건수<\/th>\n",
       "      <th>여성_매출_건수<\/th>\n",
       "      <th>연령대_10_매출_건수<\/th>\n",
       "      <th>연령대_20_매출_건수<\/th>\n",
       "      <th>연령대_30_매출_건수<\/th>\n",
       "      <th>연령대_40_매출_건수<\/th>\n",
       "      <th>연령대_50_매출_건수<\/th>\n",
       "      <th>연령대_60_이상_매출_건수<\/th>\n",
       "      <th>점포수<\/th>\n",
       "    <\/tr>\n",
       "  <\/thead>\n",
       "  <tbody>\n",
       "    <tr>\n",
       "      <th>0<\/th>\n",
       "      <td>2022<\/td>\n",
       "      <td>3<\/td>\n",
       "      <td>U<\/td>\n",
       "      <td>관광특구<\/td>\n",
       "      <td>1001496<\/td>\n",
       "      <td>강남 마이스 관광특구<\/td>\n",
       "      <td>CS300043<\/td>\n",
       "      <td>전자상거래업<\/td>\n",
       "      <td>9548586<\/td>\n",
       "      <td>2264<\/td>\n",
       "      <td>...<\/td>\n",
       "      <td>29<\/td>\n",
       "      <td>102<\/td>\n",
       "      <td>2162<\/td>\n",
       "      <td>225<\/td>\n",
       "      <td>1414<\/td>\n",
       "      <td>409<\/td>\n",
       "      <td>118<\/td>\n",
       "      <td>83<\/td>\n",
       "      <td>15<\/td>\n",
       "      <td>6<\/td>\n",
       "    <\/tr>\n",
       "    <tr>\n",
       "      <th>1<\/th>\n",
       "      <td>2022<\/td>\n",
       "      <td>3<\/td>\n",
       "      <td>U<\/td>\n",
       "      <td>관광특구<\/td>\n",
       "      <td>1001496<\/td>\n",
       "      <td>강남 마이스 관광특구<\/td>\n",
       "      <td>CS300035<\/td>\n",
       "      <td>인테리어<\/td>\n",
       "      <td>103492276<\/td>\n",
       "      <td>370<\/td>\n",
       "      <td>...<\/td>\n",
       "      <td>0<\/td>\n",
       "      <td>370<\/td>\n",
       "      <td>0<\/td>\n",
       "      <td>0<\/td>\n",
       "      <td>0<\/td>\n",
       "      <td>0<\/td>\n",
       "      <td>0<\/td>\n",
       "      <td>370<\/td>\n",
       "      <td>0<\/td>\n",
       "      <td>4<\/td>\n",
       "    <\/tr>\n",
       "    <tr>\n",
       "      <th>2<\/th>\n",
       "      <td>2022<\/td>\n",
       "      <td>3<\/td>\n",
       "      <td>U<\/td>\n",
       "      <td>관광특구<\/td>\n",
       "      <td>1001496<\/td>\n",
       "      <td>강남 마이스 관광특구<\/td>\n",
       "      <td>CS300032<\/td>\n",
       "      <td>가전제품<\/td>\n",
       "      <td>55855797<\/td>\n",
       "      <td>130<\/td>\n",
       "      <td>...<\/td>\n",
       "      <td>0<\/td>\n",
       "      <td>0<\/td>\n",
       "      <td>130<\/td>\n",
       "      <td>0<\/td>\n",
       "      <td>0<\/td>\n",
       "      <td>130<\/td>\n",
       "      <td>0<\/td>\n",
       "      <td>0<\/td>\n",
       "      <td>0<\/td>\n",
       "      <td>6<\/td>\n",
       "    <\/tr>\n",
       "    <tr>\n",
       "      <th>3<\/th>\n",
       "      <td>2022<\/td>\n",
       "      <td>3<\/td>\n",
       "      <td>U<\/td>\n",
       "      <td>관광특구<\/td>\n",
       "      <td>1001496<\/td>\n",
       "      <td>강남 마이스 관광특구<\/td>\n",
       "      <td>CS300031<\/td>\n",
       "      <td>가구<\/td>\n",
       "      <td>8443170204<\/td>\n",
       "      <td>4794<\/td>\n",
       "      <td>...<\/td>\n",
       "      <td>0<\/td>\n",
       "      <td>2151<\/td>\n",
       "      <td>2643<\/td>\n",
       "      <td>0<\/td>\n",
       "      <td>105<\/td>\n",
       "      <td>388<\/td>\n",
       "      <td>987<\/td>\n",
       "      <td>1164<\/td>\n",
       "      <td>2150<\/td>\n",
       "      <td>6<\/td>\n",
       "    <\/tr>\n",
       "    <tr>\n",
       "      <th>4<\/th>\n",
       "      <td>2022<\/td>\n",
       "      <td>3<\/td>\n",
       "      <td>U<\/td>\n",
       "      <td>관광특구<\/td>\n",
       "      <td>1001496<\/td>\n",
       "      <td>강남 마이스 관광특구<\/td>\n",
       "      <td>CS300028<\/td>\n",
       "      <td>화초<\/td>\n",
       "      <td>576420408<\/td>\n",
       "      <td>8392<\/td>\n",
       "      <td>...<\/td>\n",
       "      <td>6<\/td>\n",
       "      <td>4326<\/td>\n",
       "      <td>3023<\/td>\n",
       "      <td>72<\/td>\n",
       "      <td>1757<\/td>\n",
       "      <td>2508<\/td>\n",
       "      <td>1961<\/td>\n",
       "      <td>650<\/td>\n",
       "      <td>398<\/td>\n",
       "      <td>5<\/td>\n",
       "    <\/tr>\n",
       "    <tr>\n",
       "      <th>...<\/th>\n",
       "      <td>...<\/td>\n",
       "      <td>...<\/td>\n",
       "      <td>...<\/td>\n",
       "      <td>...<\/td>\n",
       "      <td>...<\/td>\n",
       "      <td>...<\/td>\n",
       "      <td>...<\/td>\n",
       "      <td>...<\/td>\n",
       "      <td>...<\/td>\n",
       "      <td>...<\/td>\n",
       "      <td>...<\/td>\n",
       "      <td>...<\/td>\n",
       "      <td>...<\/td>\n",
       "      <td>...<\/td>\n",
       "      <td>...<\/td>\n",
       "      <td>...<\/td>\n",
       "      <td>...<\/td>\n",
       "      <td>...<\/td>\n",
       "      <td>...<\/td>\n",
       "      <td>...<\/td>\n",
       "      <td>...<\/td>\n",
       "    <\/tr>\n",
       "    <tr>\n",
       "      <th>536519<\/th>\n",
       "      <td>2019<\/td>\n",
       "      <td>4<\/td>\n",
       "      <td>U<\/td>\n",
       "      <td>관광특구<\/td>\n",
       "      <td>1001496<\/td>\n",
       "      <td>강남 마이스 관광특구<\/td>\n",
       "      <td>CS300028<\/td>\n",
       "      <td>화초<\/td>\n",
       "      <td>702775358<\/td>\n",
       "      <td>12583<\/td>\n",
       "      <td>...<\/td>\n",
       "      <td>343<\/td>\n",
       "      <td>7078<\/td>\n",
       "      <td>4510<\/td>\n",
       "      <td>115<\/td>\n",
       "      <td>3126<\/td>\n",
       "      <td>3837<\/td>\n",
       "      <td>2602<\/td>\n",
       "      <td>1107<\/td>\n",
       "      <td>798<\/td>\n",
       "      <td>6<\/td>\n",
       "    <\/tr>\n",
       "    <tr>\n",
       "      <th>536520<\/th>\n",
       "      <td>2019<\/td>\n",
       "      <td>4<\/td>\n",
       "      <td>U<\/td>\n",
       "      <td>관광특구<\/td>\n",
       "      <td>1001496<\/td>\n",
       "      <td>강남 마이스 관광특구<\/td>\n",
       "      <td>CS300031<\/td>\n",
       "      <td>가구<\/td>\n",
       "      <td>9035390798<\/td>\n",
       "      <td>5146<\/td>\n",
       "      <td>...<\/td>\n",
       "      <td>0<\/td>\n",
       "      <td>2185<\/td>\n",
       "      <td>2749<\/td>\n",
       "      <td>0<\/td>\n",
       "      <td>105<\/td>\n",
       "      <td>387<\/td>\n",
       "      <td>1234<\/td>\n",
       "      <td>1445<\/td>\n",
       "      <td>1762<\/td>\n",
       "      <td>5<\/td>\n",
       "    <\/tr>\n",
       "    <tr>\n",
       "      <th>536521<\/th>\n",
       "      <td>2019<\/td>\n",
       "      <td>4<\/td>\n",
       "      <td>U<\/td>\n",
       "      <td>관광특구<\/td>\n",
       "      <td>1001496<\/td>\n",
       "      <td>강남 마이스 관광특구<\/td>\n",
       "      <td>CS300032<\/td>\n",
       "      <td>가전제품<\/td>\n",
       "      <td>2418241704<\/td>\n",
       "      <td>11633<\/td>\n",
       "      <td>...<\/td>\n",
       "      <td>336<\/td>\n",
       "      <td>4998<\/td>\n",
       "      <td>5696<\/td>\n",
       "      <td>138<\/td>\n",
       "      <td>2886<\/td>\n",
       "      <td>3045<\/td>\n",
       "      <td>2122<\/td>\n",
       "      <td>1094<\/td>\n",
       "      <td>1403<\/td>\n",
       "      <td>8<\/td>\n",
       "    <\/tr>\n",
       "    <tr>\n",
       "      <th>536522<\/th>\n",
       "      <td>2019<\/td>\n",
       "      <td>4<\/td>\n",
       "      <td>U<\/td>\n",
       "      <td>관광특구<\/td>\n",
       "      <td>1001496<\/td>\n",
       "      <td>강남 마이스 관광특구<\/td>\n",
       "      <td>CS300035<\/td>\n",
       "      <td>인테리어<\/td>\n",
       "      <td>57290367<\/td>\n",
       "      <td>739<\/td>\n",
       "      <td>...<\/td>\n",
       "      <td>0<\/td>\n",
       "      <td>369<\/td>\n",
       "      <td>370<\/td>\n",
       "      <td>0<\/td>\n",
       "      <td>0<\/td>\n",
       "      <td>369<\/td>\n",
       "      <td>370<\/td>\n",
       "      <td>0<\/td>\n",
       "      <td>0<\/td>\n",
       "      <td>4<\/td>\n",
       "    <\/tr>\n",
       "    <tr>\n",
       "      <th>536523<\/th>\n",
       "      <td>2019<\/td>\n",
       "      <td>4<\/td>\n",
       "      <td>U<\/td>\n",
       "      <td>관광특구<\/td>\n",
       "      <td>1001496<\/td>\n",
       "      <td>강남 마이스 관광특구<\/td>\n",
       "      <td>CS300043<\/td>\n",
       "      <td>전자상거래업<\/td>\n",
       "      <td>16243089<\/td>\n",
       "      <td>458<\/td>\n",
       "      <td>...<\/td>\n",
       "      <td>0<\/td>\n",
       "      <td>117<\/td>\n",
       "      <td>341<\/td>\n",
       "      <td>5<\/td>\n",
       "      <td>71<\/td>\n",
       "      <td>195<\/td>\n",
       "      <td>156<\/td>\n",
       "      <td>26<\/td>\n",
       "      <td>5<\/td>\n",
       "      <td>7<\/td>\n",
       "    <\/tr>\n",
       "  <\/tbody>\n",
       "<\/table>\n",
       "<p>536524 rows × 80 columns<\/p>\n",
       "<\/div>"
      ]
     },
     "metadata":{
      
     },
     "output_type":"display_data"
    }
   ],
   "metadata":{
    "datalore":{
     "node_id":"tgTMc72bMIPmtvV0vTPRD9",
     "type":"CODE",
     "hide_input_from_viewers":false,
     "hide_output_from_viewers":false,
     "report_properties":{
      "y":157
     }
    }
   }
  },
  {
   "cell_type":"code",
   "source":[
    "all_sales_df = all_sales_df[['기준_년_코드','기준_분기_코드','상권_코드','서비스_업종_코드_명','분기당_매출_금액','점포수']]\n",
    "all_sales_df"
   ],
   "execution_count":24,
   "outputs":[
    {
     "data":{
      "text\/html":[
       "<div>\n",
       "<style scoped>\n",
       "    .dataframe tbody tr th:only-of-type {\n",
       "        vertical-align: middle;\n",
       "    }\n",
       "\n",
       "    .dataframe tbody tr th {\n",
       "        vertical-align: top;\n",
       "    }\n",
       "\n",
       "    .dataframe thead th {\n",
       "        text-align: right;\n",
       "    }\n",
       "<\/style>\n",
       "<table border=\"1\" class=\"dataframe\">\n",
       "  <thead>\n",
       "    <tr style=\"text-align: right;\">\n",
       "      <th><\/th>\n",
       "      <th>기준_년_코드<\/th>\n",
       "      <th>기준_분기_코드<\/th>\n",
       "      <th>상권_코드<\/th>\n",
       "      <th>서비스_업종_코드_명<\/th>\n",
       "      <th>분기당_매출_금액<\/th>\n",
       "      <th>점포수<\/th>\n",
       "    <\/tr>\n",
       "  <\/thead>\n",
       "  <tbody>\n",
       "    <tr>\n",
       "      <th>0<\/th>\n",
       "      <td>2022<\/td>\n",
       "      <td>3<\/td>\n",
       "      <td>1001496<\/td>\n",
       "      <td>전자상거래업<\/td>\n",
       "      <td>9548586<\/td>\n",
       "      <td>6<\/td>\n",
       "    <\/tr>\n",
       "    <tr>\n",
       "      <th>1<\/th>\n",
       "      <td>2022<\/td>\n",
       "      <td>3<\/td>\n",
       "      <td>1001496<\/td>\n",
       "      <td>인테리어<\/td>\n",
       "      <td>103492276<\/td>\n",
       "      <td>4<\/td>\n",
       "    <\/tr>\n",
       "    <tr>\n",
       "      <th>2<\/th>\n",
       "      <td>2022<\/td>\n",
       "      <td>3<\/td>\n",
       "      <td>1001496<\/td>\n",
       "      <td>가전제품<\/td>\n",
       "      <td>55855797<\/td>\n",
       "      <td>6<\/td>\n",
       "    <\/tr>\n",
       "    <tr>\n",
       "      <th>3<\/th>\n",
       "      <td>2022<\/td>\n",
       "      <td>3<\/td>\n",
       "      <td>1001496<\/td>\n",
       "      <td>가구<\/td>\n",
       "      <td>8443170204<\/td>\n",
       "      <td>6<\/td>\n",
       "    <\/tr>\n",
       "    <tr>\n",
       "      <th>4<\/th>\n",
       "      <td>2022<\/td>\n",
       "      <td>3<\/td>\n",
       "      <td>1001496<\/td>\n",
       "      <td>화초<\/td>\n",
       "      <td>576420408<\/td>\n",
       "      <td>5<\/td>\n",
       "    <\/tr>\n",
       "    <tr>\n",
       "      <th>...<\/th>\n",
       "      <td>...<\/td>\n",
       "      <td>...<\/td>\n",
       "      <td>...<\/td>\n",
       "      <td>...<\/td>\n",
       "      <td>...<\/td>\n",
       "      <td>...<\/td>\n",
       "    <\/tr>\n",
       "    <tr>\n",
       "      <th>536519<\/th>\n",
       "      <td>2019<\/td>\n",
       "      <td>4<\/td>\n",
       "      <td>1001496<\/td>\n",
       "      <td>화초<\/td>\n",
       "      <td>702775358<\/td>\n",
       "      <td>6<\/td>\n",
       "    <\/tr>\n",
       "    <tr>\n",
       "      <th>536520<\/th>\n",
       "      <td>2019<\/td>\n",
       "      <td>4<\/td>\n",
       "      <td>1001496<\/td>\n",
       "      <td>가구<\/td>\n",
       "      <td>9035390798<\/td>\n",
       "      <td>5<\/td>\n",
       "    <\/tr>\n",
       "    <tr>\n",
       "      <th>536521<\/th>\n",
       "      <td>2019<\/td>\n",
       "      <td>4<\/td>\n",
       "      <td>1001496<\/td>\n",
       "      <td>가전제품<\/td>\n",
       "      <td>2418241704<\/td>\n",
       "      <td>8<\/td>\n",
       "    <\/tr>\n",
       "    <tr>\n",
       "      <th>536522<\/th>\n",
       "      <td>2019<\/td>\n",
       "      <td>4<\/td>\n",
       "      <td>1001496<\/td>\n",
       "      <td>인테리어<\/td>\n",
       "      <td>57290367<\/td>\n",
       "      <td>4<\/td>\n",
       "    <\/tr>\n",
       "    <tr>\n",
       "      <th>536523<\/th>\n",
       "      <td>2019<\/td>\n",
       "      <td>4<\/td>\n",
       "      <td>1001496<\/td>\n",
       "      <td>전자상거래업<\/td>\n",
       "      <td>16243089<\/td>\n",
       "      <td>7<\/td>\n",
       "    <\/tr>\n",
       "  <\/tbody>\n",
       "<\/table>\n",
       "<p>536524 rows × 6 columns<\/p>\n",
       "<\/div>"
      ]
     },
     "metadata":{
      
     },
     "output_type":"display_data"
    }
   ],
   "metadata":{
    "datalore":{
     "node_id":"yvKoWnAe3n5S2tLYbN06GW",
     "type":"CODE",
     "hide_input_from_viewers":false,
     "hide_output_from_viewers":false,
     "report_properties":{
      "y":160
     }
    }
   }
  },
  {
   "cell_type":"code",
   "source":[
    "result_sales_df = pd.merge(all_sales_df, area_df, how='left', on='상권_코드')\n",
    "result_sales_df"
   ],
   "execution_count":25,
   "outputs":[
    {
     "data":{
      "text\/html":[
       "<div>\n",
       "<style scoped>\n",
       "    .dataframe tbody tr th:only-of-type {\n",
       "        vertical-align: middle;\n",
       "    }\n",
       "\n",
       "    .dataframe tbody tr th {\n",
       "        vertical-align: top;\n",
       "    }\n",
       "\n",
       "    .dataframe thead th {\n",
       "        text-align: right;\n",
       "    }\n",
       "<\/style>\n",
       "<table border=\"1\" class=\"dataframe\">\n",
       "  <thead>\n",
       "    <tr style=\"text-align: right;\">\n",
       "      <th><\/th>\n",
       "      <th>기준_년_코드<\/th>\n",
       "      <th>기준_분기_코드<\/th>\n",
       "      <th>상권_코드<\/th>\n",
       "      <th>서비스_업종_코드_명<\/th>\n",
       "      <th>분기당_매출_금액<\/th>\n",
       "      <th>점포수<\/th>\n",
       "      <th>행정동_코드<\/th>\n",
       "      <th>시군구명<\/th>\n",
       "      <th>행정동명<\/th>\n",
       "    <\/tr>\n",
       "  <\/thead>\n",
       "  <tbody>\n",
       "    <tr>\n",
       "      <th>0<\/th>\n",
       "      <td>2022<\/td>\n",
       "      <td>3<\/td>\n",
       "      <td>1001496<\/td>\n",
       "      <td>전자상거래업<\/td>\n",
       "      <td>9548586<\/td>\n",
       "      <td>6<\/td>\n",
       "      <td>11680580<\/td>\n",
       "      <td>강남구<\/td>\n",
       "      <td>삼성제1동<\/td>\n",
       "    <\/tr>\n",
       "    <tr>\n",
       "      <th>1<\/th>\n",
       "      <td>2022<\/td>\n",
       "      <td>3<\/td>\n",
       "      <td>1001496<\/td>\n",
       "      <td>인테리어<\/td>\n",
       "      <td>103492276<\/td>\n",
       "      <td>4<\/td>\n",
       "      <td>11680580<\/td>\n",
       "      <td>강남구<\/td>\n",
       "      <td>삼성제1동<\/td>\n",
       "    <\/tr>\n",
       "    <tr>\n",
       "      <th>2<\/th>\n",
       "      <td>2022<\/td>\n",
       "      <td>3<\/td>\n",
       "      <td>1001496<\/td>\n",
       "      <td>가전제품<\/td>\n",
       "      <td>55855797<\/td>\n",
       "      <td>6<\/td>\n",
       "      <td>11680580<\/td>\n",
       "      <td>강남구<\/td>\n",
       "      <td>삼성제1동<\/td>\n",
       "    <\/tr>\n",
       "    <tr>\n",
       "      <th>3<\/th>\n",
       "      <td>2022<\/td>\n",
       "      <td>3<\/td>\n",
       "      <td>1001496<\/td>\n",
       "      <td>가구<\/td>\n",
       "      <td>8443170204<\/td>\n",
       "      <td>6<\/td>\n",
       "      <td>11680580<\/td>\n",
       "      <td>강남구<\/td>\n",
       "      <td>삼성제1동<\/td>\n",
       "    <\/tr>\n",
       "    <tr>\n",
       "      <th>4<\/th>\n",
       "      <td>2022<\/td>\n",
       "      <td>3<\/td>\n",
       "      <td>1001496<\/td>\n",
       "      <td>화초<\/td>\n",
       "      <td>576420408<\/td>\n",
       "      <td>5<\/td>\n",
       "      <td>11680580<\/td>\n",
       "      <td>강남구<\/td>\n",
       "      <td>삼성제1동<\/td>\n",
       "    <\/tr>\n",
       "    <tr>\n",
       "      <th>...<\/th>\n",
       "      <td>...<\/td>\n",
       "      <td>...<\/td>\n",
       "      <td>...<\/td>\n",
       "      <td>...<\/td>\n",
       "      <td>...<\/td>\n",
       "      <td>...<\/td>\n",
       "      <td>...<\/td>\n",
       "      <td>...<\/td>\n",
       "      <td>...<\/td>\n",
       "    <\/tr>\n",
       "    <tr>\n",
       "      <th>536519<\/th>\n",
       "      <td>2019<\/td>\n",
       "      <td>4<\/td>\n",
       "      <td>1001496<\/td>\n",
       "      <td>화초<\/td>\n",
       "      <td>702775358<\/td>\n",
       "      <td>6<\/td>\n",
       "      <td>11680580<\/td>\n",
       "      <td>강남구<\/td>\n",
       "      <td>삼성제1동<\/td>\n",
       "    <\/tr>\n",
       "    <tr>\n",
       "      <th>536520<\/th>\n",
       "      <td>2019<\/td>\n",
       "      <td>4<\/td>\n",
       "      <td>1001496<\/td>\n",
       "      <td>가구<\/td>\n",
       "      <td>9035390798<\/td>\n",
       "      <td>5<\/td>\n",
       "      <td>11680580<\/td>\n",
       "      <td>강남구<\/td>\n",
       "      <td>삼성제1동<\/td>\n",
       "    <\/tr>\n",
       "    <tr>\n",
       "      <th>536521<\/th>\n",
       "      <td>2019<\/td>\n",
       "      <td>4<\/td>\n",
       "      <td>1001496<\/td>\n",
       "      <td>가전제품<\/td>\n",
       "      <td>2418241704<\/td>\n",
       "      <td>8<\/td>\n",
       "      <td>11680580<\/td>\n",
       "      <td>강남구<\/td>\n",
       "      <td>삼성제1동<\/td>\n",
       "    <\/tr>\n",
       "    <tr>\n",
       "      <th>536522<\/th>\n",
       "      <td>2019<\/td>\n",
       "      <td>4<\/td>\n",
       "      <td>1001496<\/td>\n",
       "      <td>인테리어<\/td>\n",
       "      <td>57290367<\/td>\n",
       "      <td>4<\/td>\n",
       "      <td>11680580<\/td>\n",
       "      <td>강남구<\/td>\n",
       "      <td>삼성제1동<\/td>\n",
       "    <\/tr>\n",
       "    <tr>\n",
       "      <th>536523<\/th>\n",
       "      <td>2019<\/td>\n",
       "      <td>4<\/td>\n",
       "      <td>1001496<\/td>\n",
       "      <td>전자상거래업<\/td>\n",
       "      <td>16243089<\/td>\n",
       "      <td>7<\/td>\n",
       "      <td>11680580<\/td>\n",
       "      <td>강남구<\/td>\n",
       "      <td>삼성제1동<\/td>\n",
       "    <\/tr>\n",
       "  <\/tbody>\n",
       "<\/table>\n",
       "<p>536524 rows × 9 columns<\/p>\n",
       "<\/div>"
      ]
     },
     "metadata":{
      
     },
     "output_type":"display_data"
    }
   ],
   "metadata":{
    "datalore":{
     "node_id":"ZgU4HAVQkJeqTW0qDK40eO",
     "type":"CODE",
     "hide_input_from_viewers":false,
     "hide_output_from_viewers":false,
     "report_properties":{
      "y":163
     }
    }
   }
  },
  {
   "cell_type":"code",
   "source":[
    "result_sales_df[result_sales_df['행정동명']=='개포제2동']"
   ],
   "execution_count":26,
   "outputs":[
    {
     "data":{
      "text\/html":[
       "<div>\n",
       "<style scoped>\n",
       "    .dataframe tbody tr th:only-of-type {\n",
       "        vertical-align: middle;\n",
       "    }\n",
       "\n",
       "    .dataframe tbody tr th {\n",
       "        vertical-align: top;\n",
       "    }\n",
       "\n",
       "    .dataframe thead th {\n",
       "        text-align: right;\n",
       "    }\n",
       "<\/style>\n",
       "<table border=\"1\" class=\"dataframe\">\n",
       "  <thead>\n",
       "    <tr style=\"text-align: right;\">\n",
       "      <th><\/th>\n",
       "      <th>기준_년_코드<\/th>\n",
       "      <th>기준_분기_코드<\/th>\n",
       "      <th>상권_코드<\/th>\n",
       "      <th>서비스_업종_코드_명<\/th>\n",
       "      <th>분기당_매출_금액<\/th>\n",
       "      <th>점포수<\/th>\n",
       "      <th>행정동_코드<\/th>\n",
       "      <th>시군구명<\/th>\n",
       "      <th>행정동명<\/th>\n",
       "    <\/tr>\n",
       "  <\/thead>\n",
       "  <tbody>\n",
       "  <\/tbody>\n",
       "<\/table>\n",
       "<\/div>"
      ]
     },
     "metadata":{
      
     },
     "output_type":"display_data"
    }
   ],
   "metadata":{
    "datalore":{
     "node_id":"EYXaSE6UQuPuBf7V5Y8W6a",
     "type":"CODE",
     "hide_input_from_viewers":false,
     "hide_output_from_viewers":false,
     "report_properties":{
      "y":166
     }
    }
   }
  },
  {
   "cell_type":"code",
   "source":[
    "result_sales_df.head(100)"
   ],
   "execution_count":27,
   "outputs":[
    {
     "data":{
      "text\/html":[
       "<div>\n",
       "<style scoped>\n",
       "    .dataframe tbody tr th:only-of-type {\n",
       "        vertical-align: middle;\n",
       "    }\n",
       "\n",
       "    .dataframe tbody tr th {\n",
       "        vertical-align: top;\n",
       "    }\n",
       "\n",
       "    .dataframe thead th {\n",
       "        text-align: right;\n",
       "    }\n",
       "<\/style>\n",
       "<table border=\"1\" class=\"dataframe\">\n",
       "  <thead>\n",
       "    <tr style=\"text-align: right;\">\n",
       "      <th><\/th>\n",
       "      <th>기준_년_코드<\/th>\n",
       "      <th>기준_분기_코드<\/th>\n",
       "      <th>상권_코드<\/th>\n",
       "      <th>서비스_업종_코드_명<\/th>\n",
       "      <th>분기당_매출_금액<\/th>\n",
       "      <th>점포수<\/th>\n",
       "      <th>행정동_코드<\/th>\n",
       "      <th>시군구명<\/th>\n",
       "      <th>행정동명<\/th>\n",
       "    <\/tr>\n",
       "  <\/thead>\n",
       "  <tbody>\n",
       "    <tr>\n",
       "      <th>0<\/th>\n",
       "      <td>2022<\/td>\n",
       "      <td>3<\/td>\n",
       "      <td>1001496<\/td>\n",
       "      <td>전자상거래업<\/td>\n",
       "      <td>9548586<\/td>\n",
       "      <td>6<\/td>\n",
       "      <td>11680580<\/td>\n",
       "      <td>강남구<\/td>\n",
       "      <td>삼성제1동<\/td>\n",
       "    <\/tr>\n",
       "    <tr>\n",
       "      <th>1<\/th>\n",
       "      <td>2022<\/td>\n",
       "      <td>3<\/td>\n",
       "      <td>1001496<\/td>\n",
       "      <td>인테리어<\/td>\n",
       "      <td>103492276<\/td>\n",
       "      <td>4<\/td>\n",
       "      <td>11680580<\/td>\n",
       "      <td>강남구<\/td>\n",
       "      <td>삼성제1동<\/td>\n",
       "    <\/tr>\n",
       "    <tr>\n",
       "      <th>2<\/th>\n",
       "      <td>2022<\/td>\n",
       "      <td>3<\/td>\n",
       "      <td>1001496<\/td>\n",
       "      <td>가전제품<\/td>\n",
       "      <td>55855797<\/td>\n",
       "      <td>6<\/td>\n",
       "      <td>11680580<\/td>\n",
       "      <td>강남구<\/td>\n",
       "      <td>삼성제1동<\/td>\n",
       "    <\/tr>\n",
       "    <tr>\n",
       "      <th>3<\/th>\n",
       "      <td>2022<\/td>\n",
       "      <td>3<\/td>\n",
       "      <td>1001496<\/td>\n",
       "      <td>가구<\/td>\n",
       "      <td>8443170204<\/td>\n",
       "      <td>6<\/td>\n",
       "      <td>11680580<\/td>\n",
       "      <td>강남구<\/td>\n",
       "      <td>삼성제1동<\/td>\n",
       "    <\/tr>\n",
       "    <tr>\n",
       "      <th>4<\/th>\n",
       "      <td>2022<\/td>\n",
       "      <td>3<\/td>\n",
       "      <td>1001496<\/td>\n",
       "      <td>화초<\/td>\n",
       "      <td>576420408<\/td>\n",
       "      <td>5<\/td>\n",
       "      <td>11680580<\/td>\n",
       "      <td>강남구<\/td>\n",
       "      <td>삼성제1동<\/td>\n",
       "    <\/tr>\n",
       "    <tr>\n",
       "      <th>...<\/th>\n",
       "      <td>...<\/td>\n",
       "      <td>...<\/td>\n",
       "      <td>...<\/td>\n",
       "      <td>...<\/td>\n",
       "      <td>...<\/td>\n",
       "      <td>...<\/td>\n",
       "      <td>...<\/td>\n",
       "      <td>...<\/td>\n",
       "      <td>...<\/td>\n",
       "    <\/tr>\n",
       "    <tr>\n",
       "      <th>95<\/th>\n",
       "      <td>2022<\/td>\n",
       "      <td>3<\/td>\n",
       "      <td>1001494<\/td>\n",
       "      <td>일반의류<\/td>\n",
       "      <td>9889500801<\/td>\n",
       "      <td>516<\/td>\n",
       "      <td>11110615<\/td>\n",
       "      <td>종로구<\/td>\n",
       "      <td>종로1.2.3.4가동<\/td>\n",
       "    <\/tr>\n",
       "    <tr>\n",
       "      <th>96<\/th>\n",
       "      <td>2022<\/td>\n",
       "      <td>3<\/td>\n",
       "      <td>1001494<\/td>\n",
       "      <td>반찬가게<\/td>\n",
       "      <td>1172045725<\/td>\n",
       "      <td>40<\/td>\n",
       "      <td>11110615<\/td>\n",
       "      <td>종로구<\/td>\n",
       "      <td>종로1.2.3.4가동<\/td>\n",
       "    <\/tr>\n",
       "    <tr>\n",
       "      <th>97<\/th>\n",
       "      <td>2022<\/td>\n",
       "      <td>3<\/td>\n",
       "      <td>1001494<\/td>\n",
       "      <td>청과상<\/td>\n",
       "      <td>920321651<\/td>\n",
       "      <td>10<\/td>\n",
       "      <td>11110615<\/td>\n",
       "      <td>종로구<\/td>\n",
       "      <td>종로1.2.3.4가동<\/td>\n",
       "    <\/tr>\n",
       "    <tr>\n",
       "      <th>98<\/th>\n",
       "      <td>2022<\/td>\n",
       "      <td>3<\/td>\n",
       "      <td>1001494<\/td>\n",
       "      <td>수산물판매<\/td>\n",
       "      <td>1572077711<\/td>\n",
       "      <td>12<\/td>\n",
       "      <td>11110615<\/td>\n",
       "      <td>종로구<\/td>\n",
       "      <td>종로1.2.3.4가동<\/td>\n",
       "    <\/tr>\n",
       "    <tr>\n",
       "      <th>99<\/th>\n",
       "      <td>2022<\/td>\n",
       "      <td>3<\/td>\n",
       "      <td>1001494<\/td>\n",
       "      <td>육류판매<\/td>\n",
       "      <td>986844988<\/td>\n",
       "      <td>11<\/td>\n",
       "      <td>11110615<\/td>\n",
       "      <td>종로구<\/td>\n",
       "      <td>종로1.2.3.4가동<\/td>\n",
       "    <\/tr>\n",
       "  <\/tbody>\n",
       "<\/table>\n",
       "<p>100 rows × 9 columns<\/p>\n",
       "<\/div>"
      ]
     },
     "metadata":{
      
     },
     "output_type":"display_data"
    }
   ],
   "metadata":{
    "datalore":{
     "node_id":"9vIwOOeG7fGBNWGu26ebaC",
     "type":"CODE",
     "hide_input_from_viewers":false,
     "hide_output_from_viewers":false,
     "report_properties":{
      "y":169
     }
    }
   }
  },
  {
   "cell_type":"code",
   "source":[
    "# 업종 카테고리 분류 (음식점, 교육, 의료, 여가, 생필품, 의류 및 패션, 서적 및 문구, 가구 및 가전제품, 숙박, 전자상거래엄, 기타)\n",
    "result_sales_df['서비스_업종_코드_명'] = result_sales_df['서비스_업종_코드_명'].apply(classfy_business)"
   ],
   "execution_count":28,
   "outputs":[
    
   ],
   "metadata":{
    "datalore":{
     "node_id":"7pqb5XJ9cgzfZLzstPNh1q",
     "type":"CODE",
     "hide_input_from_viewers":false,
     "hide_output_from_viewers":false,
     "report_properties":{
      "y":172
     }
    }
   }
  },
  {
   "cell_type":"code",
   "source":[
    "result_sales_df"
   ],
   "execution_count":29,
   "outputs":[
    {
     "data":{
      "text\/html":[
       "<div>\n",
       "<style scoped>\n",
       "    .dataframe tbody tr th:only-of-type {\n",
       "        vertical-align: middle;\n",
       "    }\n",
       "\n",
       "    .dataframe tbody tr th {\n",
       "        vertical-align: top;\n",
       "    }\n",
       "\n",
       "    .dataframe thead th {\n",
       "        text-align: right;\n",
       "    }\n",
       "<\/style>\n",
       "<table border=\"1\" class=\"dataframe\">\n",
       "  <thead>\n",
       "    <tr style=\"text-align: right;\">\n",
       "      <th><\/th>\n",
       "      <th>기준_년_코드<\/th>\n",
       "      <th>기준_분기_코드<\/th>\n",
       "      <th>상권_코드<\/th>\n",
       "      <th>서비스_업종_코드_명<\/th>\n",
       "      <th>분기당_매출_금액<\/th>\n",
       "      <th>점포수<\/th>\n",
       "      <th>행정동_코드<\/th>\n",
       "      <th>시군구명<\/th>\n",
       "      <th>행정동명<\/th>\n",
       "    <\/tr>\n",
       "  <\/thead>\n",
       "  <tbody>\n",
       "    <tr>\n",
       "      <th>0<\/th>\n",
       "      <td>2022<\/td>\n",
       "      <td>3<\/td>\n",
       "      <td>1001496<\/td>\n",
       "      <td>전자상거래업<\/td>\n",
       "      <td>9548586<\/td>\n",
       "      <td>6<\/td>\n",
       "      <td>11680580<\/td>\n",
       "      <td>강남구<\/td>\n",
       "      <td>삼성제1동<\/td>\n",
       "    <\/tr>\n",
       "    <tr>\n",
       "      <th>1<\/th>\n",
       "      <td>2022<\/td>\n",
       "      <td>3<\/td>\n",
       "      <td>1001496<\/td>\n",
       "      <td>가구 및 가전제품<\/td>\n",
       "      <td>103492276<\/td>\n",
       "      <td>4<\/td>\n",
       "      <td>11680580<\/td>\n",
       "      <td>강남구<\/td>\n",
       "      <td>삼성제1동<\/td>\n",
       "    <\/tr>\n",
       "    <tr>\n",
       "      <th>2<\/th>\n",
       "      <td>2022<\/td>\n",
       "      <td>3<\/td>\n",
       "      <td>1001496<\/td>\n",
       "      <td>가구 및 가전제품<\/td>\n",
       "      <td>55855797<\/td>\n",
       "      <td>6<\/td>\n",
       "      <td>11680580<\/td>\n",
       "      <td>강남구<\/td>\n",
       "      <td>삼성제1동<\/td>\n",
       "    <\/tr>\n",
       "    <tr>\n",
       "      <th>3<\/th>\n",
       "      <td>2022<\/td>\n",
       "      <td>3<\/td>\n",
       "      <td>1001496<\/td>\n",
       "      <td>가구 및 가전제품<\/td>\n",
       "      <td>8443170204<\/td>\n",
       "      <td>6<\/td>\n",
       "      <td>11680580<\/td>\n",
       "      <td>강남구<\/td>\n",
       "      <td>삼성제1동<\/td>\n",
       "    <\/tr>\n",
       "    <tr>\n",
       "      <th>4<\/th>\n",
       "      <td>2022<\/td>\n",
       "      <td>3<\/td>\n",
       "      <td>1001496<\/td>\n",
       "      <td>가구 및 가전제품<\/td>\n",
       "      <td>576420408<\/td>\n",
       "      <td>5<\/td>\n",
       "      <td>11680580<\/td>\n",
       "      <td>강남구<\/td>\n",
       "      <td>삼성제1동<\/td>\n",
       "    <\/tr>\n",
       "    <tr>\n",
       "      <th>...<\/th>\n",
       "      <td>...<\/td>\n",
       "      <td>...<\/td>\n",
       "      <td>...<\/td>\n",
       "      <td>...<\/td>\n",
       "      <td>...<\/td>\n",
       "      <td>...<\/td>\n",
       "      <td>...<\/td>\n",
       "      <td>...<\/td>\n",
       "      <td>...<\/td>\n",
       "    <\/tr>\n",
       "    <tr>\n",
       "      <th>536519<\/th>\n",
       "      <td>2019<\/td>\n",
       "      <td>4<\/td>\n",
       "      <td>1001496<\/td>\n",
       "      <td>가구 및 가전제품<\/td>\n",
       "      <td>702775358<\/td>\n",
       "      <td>6<\/td>\n",
       "      <td>11680580<\/td>\n",
       "      <td>강남구<\/td>\n",
       "      <td>삼성제1동<\/td>\n",
       "    <\/tr>\n",
       "    <tr>\n",
       "      <th>536520<\/th>\n",
       "      <td>2019<\/td>\n",
       "      <td>4<\/td>\n",
       "      <td>1001496<\/td>\n",
       "      <td>가구 및 가전제품<\/td>\n",
       "      <td>9035390798<\/td>\n",
       "      <td>5<\/td>\n",
       "      <td>11680580<\/td>\n",
       "      <td>강남구<\/td>\n",
       "      <td>삼성제1동<\/td>\n",
       "    <\/tr>\n",
       "    <tr>\n",
       "      <th>536521<\/th>\n",
       "      <td>2019<\/td>\n",
       "      <td>4<\/td>\n",
       "      <td>1001496<\/td>\n",
       "      <td>가구 및 가전제품<\/td>\n",
       "      <td>2418241704<\/td>\n",
       "      <td>8<\/td>\n",
       "      <td>11680580<\/td>\n",
       "      <td>강남구<\/td>\n",
       "      <td>삼성제1동<\/td>\n",
       "    <\/tr>\n",
       "    <tr>\n",
       "      <th>536522<\/th>\n",
       "      <td>2019<\/td>\n",
       "      <td>4<\/td>\n",
       "      <td>1001496<\/td>\n",
       "      <td>가구 및 가전제품<\/td>\n",
       "      <td>57290367<\/td>\n",
       "      <td>4<\/td>\n",
       "      <td>11680580<\/td>\n",
       "      <td>강남구<\/td>\n",
       "      <td>삼성제1동<\/td>\n",
       "    <\/tr>\n",
       "    <tr>\n",
       "      <th>536523<\/th>\n",
       "      <td>2019<\/td>\n",
       "      <td>4<\/td>\n",
       "      <td>1001496<\/td>\n",
       "      <td>전자상거래업<\/td>\n",
       "      <td>16243089<\/td>\n",
       "      <td>7<\/td>\n",
       "      <td>11680580<\/td>\n",
       "      <td>강남구<\/td>\n",
       "      <td>삼성제1동<\/td>\n",
       "    <\/tr>\n",
       "  <\/tbody>\n",
       "<\/table>\n",
       "<p>536524 rows × 9 columns<\/p>\n",
       "<\/div>"
      ]
     },
     "metadata":{
      
     },
     "output_type":"display_data"
    }
   ],
   "metadata":{
    "datalore":{
     "node_id":"zyJtMWNIxqWaFqT36XXL39",
     "type":"CODE",
     "hide_input_from_viewers":false,
     "hide_output_from_viewers":false,
     "report_properties":{
      "y":175
     }
    }
   }
  },
  {
   "cell_type":"code",
   "source":[
    "import numpy as np\n",
    "aa =result_sales_df.groupby(['기준_년_코드','시군구명','행정동명','서비스_업종_코드_명']).agg({'분기당_매출_금액':sum, })"
   ],
   "execution_count":30,
   "outputs":[
    
   ],
   "metadata":{
    "datalore":{
     "node_id":"Jvga0ohVrvWOmy2rJzwMTV",
     "type":"CODE",
     "hide_input_from_viewers":false,
     "hide_output_from_viewers":false,
     "report_properties":{
      "y":178
     }
    }
   }
  },
  {
   "cell_type":"code",
   "source":[
    "result_sales_df.groupby(['기준_년_코드','시군구명','행정동명','서비스_업종_코드_명']).agg({'점포수':sum, })"
   ],
   "execution_count":31,
   "outputs":[
    {
     "data":{
      "text\/html":[
       "<div>\n",
       "<style scoped>\n",
       "    .dataframe tbody tr th:only-of-type {\n",
       "        vertical-align: middle;\n",
       "    }\n",
       "\n",
       "    .dataframe tbody tr th {\n",
       "        vertical-align: top;\n",
       "    }\n",
       "\n",
       "    .dataframe thead th {\n",
       "        text-align: right;\n",
       "    }\n",
       "<\/style>\n",
       "<table border=\"1\" class=\"dataframe\">\n",
       "  <thead>\n",
       "    <tr style=\"text-align: right;\">\n",
       "      <th><\/th>\n",
       "      <th><\/th>\n",
       "      <th><\/th>\n",
       "      <th><\/th>\n",
       "      <th>점포수<\/th>\n",
       "    <\/tr>\n",
       "    <tr>\n",
       "      <th>기준_년_코드<\/th>\n",
       "      <th>시군구명<\/th>\n",
       "      <th>행정동명<\/th>\n",
       "      <th>서비스_업종_코드_명<\/th>\n",
       "      <th><\/th>\n",
       "    <\/tr>\n",
       "  <\/thead>\n",
       "  <tbody>\n",
       "    <tr>\n",
       "      <th rowspan=\"5\" valign=\"top\">2019<\/th>\n",
       "      <th rowspan=\"5\" valign=\"top\">강남구<\/th>\n",
       "      <th rowspan=\"5\" valign=\"top\">개포2동<\/th>\n",
       "      <th>가구 및 가전제품<\/th>\n",
       "      <td>16<\/td>\n",
       "    <\/tr>\n",
       "    <tr>\n",
       "      <th>교육<\/th>\n",
       "      <td>521<\/td>\n",
       "    <\/tr>\n",
       "    <tr>\n",
       "      <th>생필품<\/th>\n",
       "      <td>396<\/td>\n",
       "    <\/tr>\n",
       "    <tr>\n",
       "      <th>서적 및 문구<\/th>\n",
       "      <td>39<\/td>\n",
       "    <\/tr>\n",
       "    <tr>\n",
       "      <th>숙박<\/th>\n",
       "      <td>10<\/td>\n",
       "    <\/tr>\n",
       "    <tr>\n",
       "      <th>...<\/th>\n",
       "      <th>...<\/th>\n",
       "      <th>...<\/th>\n",
       "      <th>...<\/th>\n",
       "      <td>...<\/td>\n",
       "    <\/tr>\n",
       "    <tr>\n",
       "      <th rowspan=\"5\" valign=\"top\">2022<\/th>\n",
       "      <th rowspan=\"5\" valign=\"top\">중랑구<\/th>\n",
       "      <th rowspan=\"5\" valign=\"top\">중화제2동<\/th>\n",
       "      <th>숙박<\/th>\n",
       "      <td>*********<\/td>\n",
       "    <\/tr>\n",
       "    <tr>\n",
       "      <th>여가<\/th>\n",
       "      <td>****4*5*4*869***66*3**4*****14*****4*5*4*968**...<\/td>\n",
       "    <\/tr>\n",
       "    <tr>\n",
       "      <th>음식점<\/th>\n",
       "      <td>*6*7*16*67128*53*308643**2646**4*7*3933321*6*7...<\/td>\n",
       "    <\/tr>\n",
       "    <tr>\n",
       "      <th>의료<\/th>\n",
       "      <td>***33*5******43*****43*6******53*****43*6**3**...<\/td>\n",
       "    <\/tr>\n",
       "    <tr>\n",
       "      <th>의류 및 패션<\/th>\n",
       "      <td>*3***9***1158****10*3****9***1158******33***9*...<\/td>\n",
       "    <\/tr>\n",
       "  <\/tbody>\n",
       "<\/table>\n",
       "<p>14796 rows × 1 columns<\/p>\n",
       "<\/div>"
      ]
     },
     "metadata":{
      
     },
     "output_type":"display_data"
    }
   ],
   "metadata":{
    "datalore":{
     "node_id":"UUfuGF7uwEhI529YaqEGua",
     "type":"CODE",
     "hide_input_from_viewers":false,
     "hide_output_from_viewers":false,
     "report_properties":{
      "y":181
     }
    }
   }
  },
  {
   "cell_type":"code",
   "source":[
    "result_sales_df[result_sales_df['기준_년_코드'].eq(2022) & result_sales_df['기준_분기_코드'].eq(3)]"
   ],
   "execution_count":32,
   "outputs":[
    {
     "data":{
      "text\/html":[
       "<div>\n",
       "<style scoped>\n",
       "    .dataframe tbody tr th:only-of-type {\n",
       "        vertical-align: middle;\n",
       "    }\n",
       "\n",
       "    .dataframe tbody tr th {\n",
       "        vertical-align: top;\n",
       "    }\n",
       "\n",
       "    .dataframe thead th {\n",
       "        text-align: right;\n",
       "    }\n",
       "<\/style>\n",
       "<table border=\"1\" class=\"dataframe\">\n",
       "  <thead>\n",
       "    <tr style=\"text-align: right;\">\n",
       "      <th><\/th>\n",
       "      <th>기준_년_코드<\/th>\n",
       "      <th>기준_분기_코드<\/th>\n",
       "      <th>상권_코드<\/th>\n",
       "      <th>서비스_업종_코드_명<\/th>\n",
       "      <th>분기당_매출_금액<\/th>\n",
       "      <th>점포수<\/th>\n",
       "      <th>행정동_코드<\/th>\n",
       "      <th>시군구명<\/th>\n",
       "      <th>행정동명<\/th>\n",
       "    <\/tr>\n",
       "  <\/thead>\n",
       "  <tbody>\n",
       "    <tr>\n",
       "      <th>0<\/th>\n",
       "      <td>2022<\/td>\n",
       "      <td>3<\/td>\n",
       "      <td>1001496<\/td>\n",
       "      <td>전자상거래업<\/td>\n",
       "      <td>9548586<\/td>\n",
       "      <td>6<\/td>\n",
       "      <td>11680580<\/td>\n",
       "      <td>강남구<\/td>\n",
       "      <td>삼성제1동<\/td>\n",
       "    <\/tr>\n",
       "    <tr>\n",
       "      <th>1<\/th>\n",
       "      <td>2022<\/td>\n",
       "      <td>3<\/td>\n",
       "      <td>1001496<\/td>\n",
       "      <td>가구 및 가전제품<\/td>\n",
       "      <td>103492276<\/td>\n",
       "      <td>4<\/td>\n",
       "      <td>11680580<\/td>\n",
       "      <td>강남구<\/td>\n",
       "      <td>삼성제1동<\/td>\n",
       "    <\/tr>\n",
       "    <tr>\n",
       "      <th>2<\/th>\n",
       "      <td>2022<\/td>\n",
       "      <td>3<\/td>\n",
       "      <td>1001496<\/td>\n",
       "      <td>가구 및 가전제품<\/td>\n",
       "      <td>55855797<\/td>\n",
       "      <td>6<\/td>\n",
       "      <td>11680580<\/td>\n",
       "      <td>강남구<\/td>\n",
       "      <td>삼성제1동<\/td>\n",
       "    <\/tr>\n",
       "    <tr>\n",
       "      <th>3<\/th>\n",
       "      <td>2022<\/td>\n",
       "      <td>3<\/td>\n",
       "      <td>1001496<\/td>\n",
       "      <td>가구 및 가전제품<\/td>\n",
       "      <td>8443170204<\/td>\n",
       "      <td>6<\/td>\n",
       "      <td>11680580<\/td>\n",
       "      <td>강남구<\/td>\n",
       "      <td>삼성제1동<\/td>\n",
       "    <\/tr>\n",
       "    <tr>\n",
       "      <th>4<\/th>\n",
       "      <td>2022<\/td>\n",
       "      <td>3<\/td>\n",
       "      <td>1001496<\/td>\n",
       "      <td>가구 및 가전제품<\/td>\n",
       "      <td>576420408<\/td>\n",
       "      <td>5<\/td>\n",
       "      <td>11680580<\/td>\n",
       "      <td>강남구<\/td>\n",
       "      <td>삼성제1동<\/td>\n",
       "    <\/tr>\n",
       "    <tr>\n",
       "      <th>...<\/th>\n",
       "      <td>...<\/td>\n",
       "      <td>...<\/td>\n",
       "      <td>...<\/td>\n",
       "      <td>...<\/td>\n",
       "      <td>...<\/td>\n",
       "      <td>...<\/td>\n",
       "      <td>...<\/td>\n",
       "      <td>...<\/td>\n",
       "      <td>...<\/td>\n",
       "    <\/tr>\n",
       "    <tr>\n",
       "      <th>34100<\/th>\n",
       "      <td>2022<\/td>\n",
       "      <td>3<\/td>\n",
       "      <td>2110001<\/td>\n",
       "      <td>교육<\/td>\n",
       "      <td>30274954<\/td>\n",
       "      <td>3<\/td>\n",
       "      <td>11110560<\/td>\n",
       "      <td>종로구<\/td>\n",
       "      <td>평창동<\/td>\n",
       "    <\/tr>\n",
       "    <tr>\n",
       "      <th>34101<\/th>\n",
       "      <td>2022<\/td>\n",
       "      <td>3<\/td>\n",
       "      <td>2110001<\/td>\n",
       "      <td>음식점<\/td>\n",
       "      <td>29224289<\/td>\n",
       "      <td>*<\/td>\n",
       "      <td>11110560<\/td>\n",
       "      <td>종로구<\/td>\n",
       "      <td>평창동<\/td>\n",
       "    <\/tr>\n",
       "    <tr>\n",
       "      <th>34102<\/th>\n",
       "      <td>2022<\/td>\n",
       "      <td>3<\/td>\n",
       "      <td>2110001<\/td>\n",
       "      <td>음식점<\/td>\n",
       "      <td>7086399<\/td>\n",
       "      <td>*<\/td>\n",
       "      <td>11110560<\/td>\n",
       "      <td>종로구<\/td>\n",
       "      <td>평창동<\/td>\n",
       "    <\/tr>\n",
       "    <tr>\n",
       "      <th>34103<\/th>\n",
       "      <td>2022<\/td>\n",
       "      <td>3<\/td>\n",
       "      <td>2110001<\/td>\n",
       "      <td>음식점<\/td>\n",
       "      <td>300488984<\/td>\n",
       "      <td>3<\/td>\n",
       "      <td>11110560<\/td>\n",
       "      <td>종로구<\/td>\n",
       "      <td>평창동<\/td>\n",
       "    <\/tr>\n",
       "    <tr>\n",
       "      <th>34104<\/th>\n",
       "      <td>2022<\/td>\n",
       "      <td>3<\/td>\n",
       "      <td>2110001<\/td>\n",
       "      <td>음식점<\/td>\n",
       "      <td>520650264<\/td>\n",
       "      <td>11<\/td>\n",
       "      <td>11110560<\/td>\n",
       "      <td>종로구<\/td>\n",
       "      <td>평창동<\/td>\n",
       "    <\/tr>\n",
       "  <\/tbody>\n",
       "<\/table>\n",
       "<p>34105 rows × 9 columns<\/p>\n",
       "<\/div>"
      ]
     },
     "metadata":{
      
     },
     "output_type":"display_data"
    }
   ],
   "metadata":{
    "datalore":{
     "node_id":"zAJrTrasgYsyxw6nHwMmtm",
     "type":"CODE",
     "hide_input_from_viewers":false,
     "hide_output_from_viewers":false,
     "report_properties":{
      "y":184
     }
    }
   }
  },
  {
   "cell_type":"code",
   "source":[
    "result_sales_df['점포수'].value_counts()"
   ],
   "execution_count":33,
   "outputs":[
    {
     "data":{
      "text\/html":[
       "<pre>3       148105\n",
       "6        60317\n",
       "*        32348\n",
       "9        30936\n",
       "2        19663\n",
       "         ...  \n",
       "633          1\n",
       "588          1\n",
       "1019         1\n",
       "1349         1\n",
       "726          1\n",
       "Name: 점포수, Length: 1155, dtype: int64<\/pre>"
      ]
     },
     "metadata":{
      
     },
     "output_type":"display_data"
    }
   ],
   "metadata":{
    "datalore":{
     "node_id":"tUko6MkbCPrQ70pFyAiH4p",
     "type":"CODE",
     "hide_input_from_viewers":false,
     "hide_output_from_viewers":false,
     "report_properties":{
      "y":187
     }
    }
   }
  },
  {
   "cell_type":"code",
   "source":[
    "result_sales_df['점포수'].replace('*', '1',inplace = True)"
   ],
   "execution_count":34,
   "outputs":[
    
   ],
   "metadata":{
    "datalore":{
     "node_id":"lQaUmHZ0VRBjClz41fxu3L",
     "type":"CODE",
     "hide_input_from_viewers":false,
     "hide_output_from_viewers":false,
     "report_properties":{
      "y":190
     }
    }
   }
  },
  {
   "cell_type":"code",
   "source":[
    "result_sales_df['점포수'] = result_sales_df['점포수'].astype(int)"
   ],
   "execution_count":35,
   "outputs":[
    
   ],
   "metadata":{
    "datalore":{
     "node_id":"U7gl6N4OmI3EhRifjaaao3",
     "type":"CODE",
     "hide_input_from_viewers":false,
     "hide_output_from_viewers":false,
     "report_properties":{
      "y":193
     }
    }
   }
  },
  {
   "cell_type":"code",
   "source":[
    "result_sales_df.head()"
   ],
   "execution_count":36,
   "outputs":[
    {
     "data":{
      "text\/html":[
       "<div>\n",
       "<style scoped>\n",
       "    .dataframe tbody tr th:only-of-type {\n",
       "        vertical-align: middle;\n",
       "    }\n",
       "\n",
       "    .dataframe tbody tr th {\n",
       "        vertical-align: top;\n",
       "    }\n",
       "\n",
       "    .dataframe thead th {\n",
       "        text-align: right;\n",
       "    }\n",
       "<\/style>\n",
       "<table border=\"1\" class=\"dataframe\">\n",
       "  <thead>\n",
       "    <tr style=\"text-align: right;\">\n",
       "      <th><\/th>\n",
       "      <th>기준_년_코드<\/th>\n",
       "      <th>기준_분기_코드<\/th>\n",
       "      <th>상권_코드<\/th>\n",
       "      <th>서비스_업종_코드_명<\/th>\n",
       "      <th>분기당_매출_금액<\/th>\n",
       "      <th>점포수<\/th>\n",
       "      <th>행정동_코드<\/th>\n",
       "      <th>시군구명<\/th>\n",
       "      <th>행정동명<\/th>\n",
       "    <\/tr>\n",
       "  <\/thead>\n",
       "  <tbody>\n",
       "    <tr>\n",
       "      <th>0<\/th>\n",
       "      <td>2022<\/td>\n",
       "      <td>3<\/td>\n",
       "      <td>1001496<\/td>\n",
       "      <td>전자상거래업<\/td>\n",
       "      <td>9548586<\/td>\n",
       "      <td>6<\/td>\n",
       "      <td>11680580<\/td>\n",
       "      <td>강남구<\/td>\n",
       "      <td>삼성제1동<\/td>\n",
       "    <\/tr>\n",
       "    <tr>\n",
       "      <th>1<\/th>\n",
       "      <td>2022<\/td>\n",
       "      <td>3<\/td>\n",
       "      <td>1001496<\/td>\n",
       "      <td>가구 및 가전제품<\/td>\n",
       "      <td>103492276<\/td>\n",
       "      <td>4<\/td>\n",
       "      <td>11680580<\/td>\n",
       "      <td>강남구<\/td>\n",
       "      <td>삼성제1동<\/td>\n",
       "    <\/tr>\n",
       "    <tr>\n",
       "      <th>2<\/th>\n",
       "      <td>2022<\/td>\n",
       "      <td>3<\/td>\n",
       "      <td>1001496<\/td>\n",
       "      <td>가구 및 가전제품<\/td>\n",
       "      <td>55855797<\/td>\n",
       "      <td>6<\/td>\n",
       "      <td>11680580<\/td>\n",
       "      <td>강남구<\/td>\n",
       "      <td>삼성제1동<\/td>\n",
       "    <\/tr>\n",
       "    <tr>\n",
       "      <th>3<\/th>\n",
       "      <td>2022<\/td>\n",
       "      <td>3<\/td>\n",
       "      <td>1001496<\/td>\n",
       "      <td>가구 및 가전제품<\/td>\n",
       "      <td>8443170204<\/td>\n",
       "      <td>6<\/td>\n",
       "      <td>11680580<\/td>\n",
       "      <td>강남구<\/td>\n",
       "      <td>삼성제1동<\/td>\n",
       "    <\/tr>\n",
       "    <tr>\n",
       "      <th>4<\/th>\n",
       "      <td>2022<\/td>\n",
       "      <td>3<\/td>\n",
       "      <td>1001496<\/td>\n",
       "      <td>가구 및 가전제품<\/td>\n",
       "      <td>576420408<\/td>\n",
       "      <td>5<\/td>\n",
       "      <td>11680580<\/td>\n",
       "      <td>강남구<\/td>\n",
       "      <td>삼성제1동<\/td>\n",
       "    <\/tr>\n",
       "  <\/tbody>\n",
       "<\/table>\n",
       "<\/div>"
      ]
     },
     "metadata":{
      
     },
     "output_type":"display_data"
    }
   ],
   "metadata":{
    "datalore":{
     "node_id":"CyggFwKckr4ZDCHBkV4Dev",
     "type":"CODE",
     "hide_input_from_viewers":false,
     "hide_output_from_viewers":false,
     "report_properties":{
      "y":196
     }
    }
   }
  },
  {
   "cell_type":"code",
   "source":[
    "result_sales_df.isna().sum()"
   ],
   "execution_count":37,
   "outputs":[
    {
     "data":{
      "text\/html":[
       "<pre>기준_년_코드        0\n",
       "기준_분기_코드       0\n",
       "상권_코드          0\n",
       "서비스_업종_코드_명    0\n",
       "분기당_매출_금액      0\n",
       "점포수            0\n",
       "행정동_코드         0\n",
       "시군구명           0\n",
       "행정동명           0\n",
       "dtype: int64<\/pre>"
      ]
     },
     "metadata":{
      
     },
     "output_type":"display_data"
    }
   ],
   "metadata":{
    "datalore":{
     "node_id":"WFmELFS7DKA9YoPBSuzfEy",
     "type":"CODE",
     "hide_input_from_viewers":false,
     "hide_output_from_viewers":false,
     "report_properties":{
      "y":199
     }
    }
   }
  },
  {
   "cell_type":"code",
   "source":[
    "bb =aa.unstack()"
   ],
   "execution_count":38,
   "outputs":[
    
   ],
   "metadata":{
    "datalore":{
     "node_id":"kSKZHlkKhqdpO6nIFfqXgR",
     "type":"CODE",
     "hide_input_from_viewers":false,
     "hide_output_from_viewers":false,
     "report_properties":{
      "y":202
     }
    }
   }
  },
  {
   "cell_type":"code",
   "source":[
    "type(result_sales_df)"
   ],
   "execution_count":39,
   "outputs":[
    {
     "data":{
      "text\/plain":[
       "pandas.core.frame.DataFrame"
      ]
     },
     "metadata":{
      
     },
     "output_type":"display_data"
    }
   ],
   "metadata":{
    "datalore":{
     "node_id":"UAAKMWvZpCSKJXV2a9O4c8",
     "type":"CODE",
     "hide_input_from_viewers":false,
     "hide_output_from_viewers":false,
     "report_properties":{
      "y":205
     }
    }
   }
  },
  {
   "cell_type":"code",
   "source":[
    "result_sales_df"
   ],
   "execution_count":40,
   "outputs":[
    {
     "data":{
      "text\/html":[
       "<div>\n",
       "<style scoped>\n",
       "    .dataframe tbody tr th:only-of-type {\n",
       "        vertical-align: middle;\n",
       "    }\n",
       "\n",
       "    .dataframe tbody tr th {\n",
       "        vertical-align: top;\n",
       "    }\n",
       "\n",
       "    .dataframe thead th {\n",
       "        text-align: right;\n",
       "    }\n",
       "<\/style>\n",
       "<table border=\"1\" class=\"dataframe\">\n",
       "  <thead>\n",
       "    <tr style=\"text-align: right;\">\n",
       "      <th><\/th>\n",
       "      <th>기준_년_코드<\/th>\n",
       "      <th>기준_분기_코드<\/th>\n",
       "      <th>상권_코드<\/th>\n",
       "      <th>서비스_업종_코드_명<\/th>\n",
       "      <th>분기당_매출_금액<\/th>\n",
       "      <th>점포수<\/th>\n",
       "      <th>행정동_코드<\/th>\n",
       "      <th>시군구명<\/th>\n",
       "      <th>행정동명<\/th>\n",
       "    <\/tr>\n",
       "  <\/thead>\n",
       "  <tbody>\n",
       "    <tr>\n",
       "      <th>0<\/th>\n",
       "      <td>2022<\/td>\n",
       "      <td>3<\/td>\n",
       "      <td>1001496<\/td>\n",
       "      <td>전자상거래업<\/td>\n",
       "      <td>9548586<\/td>\n",
       "      <td>6<\/td>\n",
       "      <td>11680580<\/td>\n",
       "      <td>강남구<\/td>\n",
       "      <td>삼성제1동<\/td>\n",
       "    <\/tr>\n",
       "    <tr>\n",
       "      <th>1<\/th>\n",
       "      <td>2022<\/td>\n",
       "      <td>3<\/td>\n",
       "      <td>1001496<\/td>\n",
       "      <td>가구 및 가전제품<\/td>\n",
       "      <td>103492276<\/td>\n",
       "      <td>4<\/td>\n",
       "      <td>11680580<\/td>\n",
       "      <td>강남구<\/td>\n",
       "      <td>삼성제1동<\/td>\n",
       "    <\/tr>\n",
       "    <tr>\n",
       "      <th>2<\/th>\n",
       "      <td>2022<\/td>\n",
       "      <td>3<\/td>\n",
       "      <td>1001496<\/td>\n",
       "      <td>가구 및 가전제품<\/td>\n",
       "      <td>55855797<\/td>\n",
       "      <td>6<\/td>\n",
       "      <td>11680580<\/td>\n",
       "      <td>강남구<\/td>\n",
       "      <td>삼성제1동<\/td>\n",
       "    <\/tr>\n",
       "    <tr>\n",
       "      <th>3<\/th>\n",
       "      <td>2022<\/td>\n",
       "      <td>3<\/td>\n",
       "      <td>1001496<\/td>\n",
       "      <td>가구 및 가전제품<\/td>\n",
       "      <td>8443170204<\/td>\n",
       "      <td>6<\/td>\n",
       "      <td>11680580<\/td>\n",
       "      <td>강남구<\/td>\n",
       "      <td>삼성제1동<\/td>\n",
       "    <\/tr>\n",
       "    <tr>\n",
       "      <th>4<\/th>\n",
       "      <td>2022<\/td>\n",
       "      <td>3<\/td>\n",
       "      <td>1001496<\/td>\n",
       "      <td>가구 및 가전제품<\/td>\n",
       "      <td>576420408<\/td>\n",
       "      <td>5<\/td>\n",
       "      <td>11680580<\/td>\n",
       "      <td>강남구<\/td>\n",
       "      <td>삼성제1동<\/td>\n",
       "    <\/tr>\n",
       "    <tr>\n",
       "      <th>...<\/th>\n",
       "      <td>...<\/td>\n",
       "      <td>...<\/td>\n",
       "      <td>...<\/td>\n",
       "      <td>...<\/td>\n",
       "      <td>...<\/td>\n",
       "      <td>...<\/td>\n",
       "      <td>...<\/td>\n",
       "      <td>...<\/td>\n",
       "      <td>...<\/td>\n",
       "    <\/tr>\n",
       "    <tr>\n",
       "      <th>536519<\/th>\n",
       "      <td>2019<\/td>\n",
       "      <td>4<\/td>\n",
       "      <td>1001496<\/td>\n",
       "      <td>가구 및 가전제품<\/td>\n",
       "      <td>702775358<\/td>\n",
       "      <td>6<\/td>\n",
       "      <td>11680580<\/td>\n",
       "      <td>강남구<\/td>\n",
       "      <td>삼성제1동<\/td>\n",
       "    <\/tr>\n",
       "    <tr>\n",
       "      <th>536520<\/th>\n",
       "      <td>2019<\/td>\n",
       "      <td>4<\/td>\n",
       "      <td>1001496<\/td>\n",
       "      <td>가구 및 가전제품<\/td>\n",
       "      <td>9035390798<\/td>\n",
       "      <td>5<\/td>\n",
       "      <td>11680580<\/td>\n",
       "      <td>강남구<\/td>\n",
       "      <td>삼성제1동<\/td>\n",
       "    <\/tr>\n",
       "    <tr>\n",
       "      <th>536521<\/th>\n",
       "      <td>2019<\/td>\n",
       "      <td>4<\/td>\n",
       "      <td>1001496<\/td>\n",
       "      <td>가구 및 가전제품<\/td>\n",
       "      <td>2418241704<\/td>\n",
       "      <td>8<\/td>\n",
       "      <td>11680580<\/td>\n",
       "      <td>강남구<\/td>\n",
       "      <td>삼성제1동<\/td>\n",
       "    <\/tr>\n",
       "    <tr>\n",
       "      <th>536522<\/th>\n",
       "      <td>2019<\/td>\n",
       "      <td>4<\/td>\n",
       "      <td>1001496<\/td>\n",
       "      <td>가구 및 가전제품<\/td>\n",
       "      <td>57290367<\/td>\n",
       "      <td>4<\/td>\n",
       "      <td>11680580<\/td>\n",
       "      <td>강남구<\/td>\n",
       "      <td>삼성제1동<\/td>\n",
       "    <\/tr>\n",
       "    <tr>\n",
       "      <th>536523<\/th>\n",
       "      <td>2019<\/td>\n",
       "      <td>4<\/td>\n",
       "      <td>1001496<\/td>\n",
       "      <td>전자상거래업<\/td>\n",
       "      <td>16243089<\/td>\n",
       "      <td>7<\/td>\n",
       "      <td>11680580<\/td>\n",
       "      <td>강남구<\/td>\n",
       "      <td>삼성제1동<\/td>\n",
       "    <\/tr>\n",
       "  <\/tbody>\n",
       "<\/table>\n",
       "<p>536524 rows × 9 columns<\/p>\n",
       "<\/div>"
      ]
     },
     "metadata":{
      
     },
     "output_type":"display_data"
    }
   ],
   "metadata":{
    "datalore":{
     "node_id":"N5QOhp9mnFPvbh1J2XjlEg",
     "type":"CODE",
     "hide_input_from_viewers":false,
     "hide_output_from_viewers":false,
     "report_properties":{
      "y":208
     }
    }
   }
  },
  {
   "cell_type":"code",
   "source":[
    "aa =result_sales_df.groupby(['기준_년_코드', '행정동_코드','상권_코드','서비스_업종_코드_명']).agg({'분기당_매출_금액':sum})"
   ],
   "execution_count":41,
   "outputs":[
    
   ],
   "metadata":{
    "datalore":{
     "node_id":"8n7MyHneqn4jq1nNoTyoqu",
     "type":"CODE",
     "hide_input_from_viewers":true,
     "hide_output_from_viewers":true
    }
   }
  },
  {
   "cell_type":"code",
   "source":[
    "aab =aa.unstack().fillna(0)"
   ],
   "execution_count":42,
   "outputs":[
    
   ],
   "metadata":{
    "datalore":{
     "node_id":"hfRkAB1j23eQWws4k9KFZs",
     "type":"CODE",
     "hide_input_from_viewers":true,
     "hide_output_from_viewers":true
    }
   }
  },
  {
   "cell_type":"code",
   "source":[
    "aab"
   ],
   "execution_count":43,
   "outputs":[
    {
     "data":{
      "text\/html":[
       "<div>\n",
       "<style scoped>\n",
       "    .dataframe tbody tr th:only-of-type {\n",
       "        vertical-align: middle;\n",
       "    }\n",
       "\n",
       "    .dataframe tbody tr th {\n",
       "        vertical-align: top;\n",
       "    }\n",
       "\n",
       "    .dataframe thead tr th {\n",
       "        text-align: left;\n",
       "    }\n",
       "\n",
       "    .dataframe thead tr:last-of-type th {\n",
       "        text-align: right;\n",
       "    }\n",
       "<\/style>\n",
       "<table border=\"1\" class=\"dataframe\">\n",
       "  <thead>\n",
       "    <tr>\n",
       "      <th><\/th>\n",
       "      <th><\/th>\n",
       "      <th><\/th>\n",
       "      <th colspan=\"11\" halign=\"left\">분기당_매출_금액<\/th>\n",
       "    <\/tr>\n",
       "    <tr>\n",
       "      <th><\/th>\n",
       "      <th><\/th>\n",
       "      <th>서비스_업종_코드_명<\/th>\n",
       "      <th>가구 및 가전제품<\/th>\n",
       "      <th>교육<\/th>\n",
       "      <th>기타<\/th>\n",
       "      <th>생필품<\/th>\n",
       "      <th>서적 및 문구<\/th>\n",
       "      <th>숙박<\/th>\n",
       "      <th>여가<\/th>\n",
       "      <th>음식점<\/th>\n",
       "      <th>의료<\/th>\n",
       "      <th>의류 및 패션<\/th>\n",
       "      <th>전자상거래업<\/th>\n",
       "    <\/tr>\n",
       "    <tr>\n",
       "      <th>기준_년_코드<\/th>\n",
       "      <th>행정동_코드<\/th>\n",
       "      <th>상권_코드<\/th>\n",
       "      <th><\/th>\n",
       "      <th><\/th>\n",
       "      <th><\/th>\n",
       "      <th><\/th>\n",
       "      <th><\/th>\n",
       "      <th><\/th>\n",
       "      <th><\/th>\n",
       "      <th><\/th>\n",
       "      <th><\/th>\n",
       "      <th><\/th>\n",
       "      <th><\/th>\n",
       "    <\/tr>\n",
       "  <\/thead>\n",
       "  <tbody>\n",
       "    <tr>\n",
       "      <th rowspan=\"5\" valign=\"top\">2019<\/th>\n",
       "      <th rowspan=\"5\" valign=\"top\">11110515<\/th>\n",
       "      <th>2110008<\/th>\n",
       "      <td>4.456214e+08<\/td>\n",
       "      <td>3.832555e+08<\/td>\n",
       "      <td>0.0<\/td>\n",
       "      <td>1.312428e+10<\/td>\n",
       "      <td>1.036654e+08<\/td>\n",
       "      <td>166996509.0<\/td>\n",
       "      <td>7.760108e+08<\/td>\n",
       "      <td>1.125582e+10<\/td>\n",
       "      <td>4.667221e+08<\/td>\n",
       "      <td>8.167748e+08<\/td>\n",
       "      <td>2.356130e+09<\/td>\n",
       "    <\/tr>\n",
       "    <tr>\n",
       "      <th>2110011<\/th>\n",
       "      <td>0.000000e+00<\/td>\n",
       "      <td>0.000000e+00<\/td>\n",
       "      <td>0.0<\/td>\n",
       "      <td>0.000000e+00<\/td>\n",
       "      <td>0.000000e+00<\/td>\n",
       "      <td>0.0<\/td>\n",
       "      <td>0.000000e+00<\/td>\n",
       "      <td>1.676150e+08<\/td>\n",
       "      <td>0.000000e+00<\/td>\n",
       "      <td>0.000000e+00<\/td>\n",
       "      <td>0.000000e+00<\/td>\n",
       "    <\/tr>\n",
       "    <tr>\n",
       "      <th>2110014<\/th>\n",
       "      <td>0.000000e+00<\/td>\n",
       "      <td>0.000000e+00<\/td>\n",
       "      <td>0.0<\/td>\n",
       "      <td>0.000000e+00<\/td>\n",
       "      <td>2.143717e+07<\/td>\n",
       "      <td>0.0<\/td>\n",
       "      <td>2.404056e+08<\/td>\n",
       "      <td>1.650478e+09<\/td>\n",
       "      <td>0.000000e+00<\/td>\n",
       "      <td>2.000000e+06<\/td>\n",
       "      <td>0.000000e+00<\/td>\n",
       "    <\/tr>\n",
       "    <tr>\n",
       "      <th>2110015<\/th>\n",
       "      <td>0.000000e+00<\/td>\n",
       "      <td>0.000000e+00<\/td>\n",
       "      <td>0.0<\/td>\n",
       "      <td>0.000000e+00<\/td>\n",
       "      <td>0.000000e+00<\/td>\n",
       "      <td>0.0<\/td>\n",
       "      <td>0.000000e+00<\/td>\n",
       "      <td>2.910551e+09<\/td>\n",
       "      <td>0.000000e+00<\/td>\n",
       "      <td>0.000000e+00<\/td>\n",
       "      <td>0.000000e+00<\/td>\n",
       "    <\/tr>\n",
       "    <tr>\n",
       "      <th>2130001<\/th>\n",
       "      <td>4.543982e+08<\/td>\n",
       "      <td>1.204708e+08<\/td>\n",
       "      <td>0.0<\/td>\n",
       "      <td>1.011177e+10<\/td>\n",
       "      <td>4.053000e+09<\/td>\n",
       "      <td>0.0<\/td>\n",
       "      <td>9.754630e+07<\/td>\n",
       "      <td>3.831897e+09<\/td>\n",
       "      <td>3.945177e+08<\/td>\n",
       "      <td>5.186727e+08<\/td>\n",
       "      <td>0.000000e+00<\/td>\n",
       "    <\/tr>\n",
       "    <tr>\n",
       "      <th>...<\/th>\n",
       "      <th>...<\/th>\n",
       "      <th>...<\/th>\n",
       "      <td>...<\/td>\n",
       "      <td>...<\/td>\n",
       "      <td>...<\/td>\n",
       "      <td>...<\/td>\n",
       "      <td>...<\/td>\n",
       "      <td>...<\/td>\n",
       "      <td>...<\/td>\n",
       "      <td>...<\/td>\n",
       "      <td>...<\/td>\n",
       "      <td>...<\/td>\n",
       "      <td>...<\/td>\n",
       "    <\/tr>\n",
       "    <tr>\n",
       "      <th rowspan=\"5\" valign=\"top\">2022<\/th>\n",
       "      <th rowspan=\"5\" valign=\"top\">11740700<\/th>\n",
       "      <th>2111073<\/th>\n",
       "      <td>1.153412e+09<\/td>\n",
       "      <td>4.076211e+08<\/td>\n",
       "      <td>230150443.0<\/td>\n",
       "      <td>7.786442e+09<\/td>\n",
       "      <td>1.533426e+07<\/td>\n",
       "      <td>34272323.0<\/td>\n",
       "      <td>3.596593e+09<\/td>\n",
       "      <td>9.436472e+09<\/td>\n",
       "      <td>1.487176e+09<\/td>\n",
       "      <td>1.156560e+09<\/td>\n",
       "      <td>0.000000e+00<\/td>\n",
       "    <\/tr>\n",
       "    <tr>\n",
       "      <th>2111076<\/th>\n",
       "      <td>0.000000e+00<\/td>\n",
       "      <td>2.219025e+09<\/td>\n",
       "      <td>0.0<\/td>\n",
       "      <td>1.430270e+09<\/td>\n",
       "      <td>2.378242e+08<\/td>\n",
       "      <td>0.0<\/td>\n",
       "      <td>1.316511e+10<\/td>\n",
       "      <td>5.696665e+09<\/td>\n",
       "      <td>2.082179e+09<\/td>\n",
       "      <td>6.229532e+08<\/td>\n",
       "      <td>0.000000e+00<\/td>\n",
       "    <\/tr>\n",
       "    <tr>\n",
       "      <th>2111079<\/th>\n",
       "      <td>0.000000e+00<\/td>\n",
       "      <td>5.722631e+08<\/td>\n",
       "      <td>0.0<\/td>\n",
       "      <td>6.827929e+08<\/td>\n",
       "      <td>3.683133e+07<\/td>\n",
       "      <td>0.0<\/td>\n",
       "      <td>1.287474e+08<\/td>\n",
       "      <td>5.226998e+08<\/td>\n",
       "      <td>1.215524e+10<\/td>\n",
       "      <td>9.741139e+07<\/td>\n",
       "      <td>0.000000e+00<\/td>\n",
       "    <\/tr>\n",
       "    <tr>\n",
       "      <th>2111081<\/th>\n",
       "      <td>0.000000e+00<\/td>\n",
       "      <td>0.000000e+00<\/td>\n",
       "      <td>746848309.0<\/td>\n",
       "      <td>0.000000e+00<\/td>\n",
       "      <td>2.422495e+08<\/td>\n",
       "      <td>0.0<\/td>\n",
       "      <td>1.141780e+08<\/td>\n",
       "      <td>4.042314e+07<\/td>\n",
       "      <td>5.931325e+08<\/td>\n",
       "      <td>8.912606e+08<\/td>\n",
       "      <td>0.000000e+00<\/td>\n",
       "    <\/tr>\n",
       "    <tr>\n",
       "      <th>2111082<\/th>\n",
       "      <td>0.000000e+00<\/td>\n",
       "      <td>2.995948e+08<\/td>\n",
       "      <td>0.0<\/td>\n",
       "      <td>5.572472e+08<\/td>\n",
       "      <td>0.000000e+00<\/td>\n",
       "      <td>0.0<\/td>\n",
       "      <td>1.894782e+08<\/td>\n",
       "      <td>3.087141e+07<\/td>\n",
       "      <td>0.000000e+00<\/td>\n",
       "      <td>0.000000e+00<\/td>\n",
       "      <td>0.000000e+00<\/td>\n",
       "    <\/tr>\n",
       "  <\/tbody>\n",
       "<\/table>\n",
       "<p>6603 rows × 11 columns<\/p>\n",
       "<\/div>"
      ]
     },
     "metadata":{
      
     },
     "output_type":"display_data"
    }
   ],
   "metadata":{
    "datalore":{
     "node_id":"WZxX5USypyx3OJn4jKLnkJ",
     "type":"CODE",
     "hide_input_from_viewers":true,
     "hide_output_from_viewers":true
    }
   }
  },
  {
   "cell_type":"code",
   "source":[
    "aab.loc[(2019,11110615)]"
   ],
   "execution_count":44,
   "outputs":[
    {
     "data":{
      "text\/html":[
       "<div>\n",
       "<style scoped>\n",
       "    .dataframe tbody tr th:only-of-type {\n",
       "        vertical-align: middle;\n",
       "    }\n",
       "\n",
       "    .dataframe tbody tr th {\n",
       "        vertical-align: top;\n",
       "    }\n",
       "\n",
       "    .dataframe thead tr th {\n",
       "        text-align: left;\n",
       "    }\n",
       "\n",
       "    .dataframe thead tr:last-of-type th {\n",
       "        text-align: right;\n",
       "    }\n",
       "<\/style>\n",
       "<table border=\"1\" class=\"dataframe\">\n",
       "  <thead>\n",
       "    <tr>\n",
       "      <th><\/th>\n",
       "      <th colspan=\"11\" halign=\"left\">분기당_매출_금액<\/th>\n",
       "    <\/tr>\n",
       "    <tr>\n",
       "      <th>서비스_업종_코드_명<\/th>\n",
       "      <th>가구 및 가전제품<\/th>\n",
       "      <th>교육<\/th>\n",
       "      <th>기타<\/th>\n",
       "      <th>생필품<\/th>\n",
       "      <th>서적 및 문구<\/th>\n",
       "      <th>숙박<\/th>\n",
       "      <th>여가<\/th>\n",
       "      <th>음식점<\/th>\n",
       "      <th>의료<\/th>\n",
       "      <th>의류 및 패션<\/th>\n",
       "      <th>전자상거래업<\/th>\n",
       "    <\/tr>\n",
       "    <tr>\n",
       "      <th>상권_코드<\/th>\n",
       "      <th><\/th>\n",
       "      <th><\/th>\n",
       "      <th><\/th>\n",
       "      <th><\/th>\n",
       "      <th><\/th>\n",
       "      <th><\/th>\n",
       "      <th><\/th>\n",
       "      <th><\/th>\n",
       "      <th><\/th>\n",
       "      <th><\/th>\n",
       "      <th><\/th>\n",
       "    <\/tr>\n",
       "  <\/thead>\n",
       "  <tbody>\n",
       "    <tr>\n",
       "      <th>1001494<\/th>\n",
       "      <td>1.181736e+11<\/td>\n",
       "      <td>2.201899e+10<\/td>\n",
       "      <td>3.999848e+09<\/td>\n",
       "      <td>4.320367e+10<\/td>\n",
       "      <td>1.018969e+11<\/td>\n",
       "      <td>1.173135e+10<\/td>\n",
       "      <td>4.727487e+10<\/td>\n",
       "      <td>2.889174e+11<\/td>\n",
       "      <td>9.388441e+10<\/td>\n",
       "      <td>1.071275e+11<\/td>\n",
       "      <td>4.796049e+09<\/td>\n",
       "    <\/tr>\n",
       "    <tr>\n",
       "      <th>2110019<\/th>\n",
       "      <td>1.456608e+07<\/td>\n",
       "      <td>0.000000e+00<\/td>\n",
       "      <td>0.000000e+00<\/td>\n",
       "      <td>2.410780e+09<\/td>\n",
       "      <td>0.000000e+00<\/td>\n",
       "      <td>4.206762e+07<\/td>\n",
       "      <td>0.000000e+00<\/td>\n",
       "      <td>2.139014e+09<\/td>\n",
       "      <td>1.155623e+09<\/td>\n",
       "      <td>2.005513e+09<\/td>\n",
       "      <td>4.901587e+08<\/td>\n",
       "    <\/tr>\n",
       "    <tr>\n",
       "      <th>2120004<\/th>\n",
       "      <td>3.389167e+09<\/td>\n",
       "      <td>2.155744e+08<\/td>\n",
       "      <td>0.000000e+00<\/td>\n",
       "      <td>7.025693e+09<\/td>\n",
       "      <td>6.262283e+08<\/td>\n",
       "      <td>5.128003e+07<\/td>\n",
       "      <td>1.778219e+08<\/td>\n",
       "      <td>5.330963e+10<\/td>\n",
       "      <td>6.414474e+09<\/td>\n",
       "      <td>8.107892e+09<\/td>\n",
       "      <td>1.847117e+08<\/td>\n",
       "    <\/tr>\n",
       "    <tr>\n",
       "      <th>2120006<\/th>\n",
       "      <td>4.864142e+09<\/td>\n",
       "      <td>1.955454e+10<\/td>\n",
       "      <td>0.000000e+00<\/td>\n",
       "      <td>2.736976e+10<\/td>\n",
       "      <td>9.136548e+10<\/td>\n",
       "      <td>2.080295e+09<\/td>\n",
       "      <td>1.633752e+10<\/td>\n",
       "      <td>2.980782e+11<\/td>\n",
       "      <td>6.699271e+10<\/td>\n",
       "      <td>4.448109e+10<\/td>\n",
       "      <td>1.096916e+10<\/td>\n",
       "    <\/tr>\n",
       "    <tr>\n",
       "      <th>2120008<\/th>\n",
       "      <td>4.970569e+09<\/td>\n",
       "      <td>8.637133e+08<\/td>\n",
       "      <td>0.000000e+00<\/td>\n",
       "      <td>1.890526e+10<\/td>\n",
       "      <td>1.175721e+10<\/td>\n",
       "      <td>3.617255e+08<\/td>\n",
       "      <td>6.899933e+08<\/td>\n",
       "      <td>8.276777e+10<\/td>\n",
       "      <td>8.949584e+09<\/td>\n",
       "      <td>2.240998e+10<\/td>\n",
       "      <td>1.732791e+09<\/td>\n",
       "    <\/tr>\n",
       "    <tr>\n",
       "      <th>2120009<\/th>\n",
       "      <td>3.540269e+10<\/td>\n",
       "      <td>6.307524e+09<\/td>\n",
       "      <td>0.000000e+00<\/td>\n",
       "      <td>4.109956e+10<\/td>\n",
       "      <td>6.792852e+09<\/td>\n",
       "      <td>1.550354e+10<\/td>\n",
       "      <td>6.098482e+09<\/td>\n",
       "      <td>1.876955e+11<\/td>\n",
       "      <td>4.590535e+10<\/td>\n",
       "      <td>3.453551e+11<\/td>\n",
       "      <td>1.240727e+10<\/td>\n",
       "    <\/tr>\n",
       "    <tr>\n",
       "      <th>2120010<\/th>\n",
       "      <td>0.000000e+00<\/td>\n",
       "      <td>0.000000e+00<\/td>\n",
       "      <td>0.000000e+00<\/td>\n",
       "      <td>6.130780e+09<\/td>\n",
       "      <td>7.188421e+06<\/td>\n",
       "      <td>2.435096e+09<\/td>\n",
       "      <td>0.000000e+00<\/td>\n",
       "      <td>7.801685e+09<\/td>\n",
       "      <td>2.501617e+10<\/td>\n",
       "      <td>4.807504e+08<\/td>\n",
       "      <td>5.101242e+08<\/td>\n",
       "    <\/tr>\n",
       "    <tr>\n",
       "      <th>2120011<\/th>\n",
       "      <td>7.493618e+08<\/td>\n",
       "      <td>0.000000e+00<\/td>\n",
       "      <td>0.000000e+00<\/td>\n",
       "      <td>9.408585e+09<\/td>\n",
       "      <td>5.370391e+09<\/td>\n",
       "      <td>0.000000e+00<\/td>\n",
       "      <td>2.297769e+09<\/td>\n",
       "      <td>1.692921e+10<\/td>\n",
       "      <td>7.857683e+09<\/td>\n",
       "      <td>4.952532e+10<\/td>\n",
       "      <td>1.571621e+08<\/td>\n",
       "    <\/tr>\n",
       "    <tr>\n",
       "      <th>2130004<\/th>\n",
       "      <td>9.389566e+09<\/td>\n",
       "      <td>0.000000e+00<\/td>\n",
       "      <td>0.000000e+00<\/td>\n",
       "      <td>3.500499e+09<\/td>\n",
       "      <td>0.000000e+00<\/td>\n",
       "      <td>0.000000e+00<\/td>\n",
       "      <td>0.000000e+00<\/td>\n",
       "      <td>4.937285e+08<\/td>\n",
       "      <td>0.000000e+00<\/td>\n",
       "      <td>2.604440e+07<\/td>\n",
       "      <td>0.000000e+00<\/td>\n",
       "    <\/tr>\n",
       "    <tr>\n",
       "      <th>2130005<\/th>\n",
       "      <td>1.347071e+10<\/td>\n",
       "      <td>0.000000e+00<\/td>\n",
       "      <td>0.000000e+00<\/td>\n",
       "      <td>2.065784e+08<\/td>\n",
       "      <td>3.439489e+06<\/td>\n",
       "      <td>0.000000e+00<\/td>\n",
       "      <td>0.000000e+00<\/td>\n",
       "      <td>4.107928e+07<\/td>\n",
       "      <td>0.000000e+00<\/td>\n",
       "      <td>4.403118e+08<\/td>\n",
       "      <td>1.309804e+08<\/td>\n",
       "    <\/tr>\n",
       "    <tr>\n",
       "      <th>2130006<\/th>\n",
       "      <td>0.000000e+00<\/td>\n",
       "      <td>0.000000e+00<\/td>\n",
       "      <td>0.000000e+00<\/td>\n",
       "      <td>0.000000e+00<\/td>\n",
       "      <td>0.000000e+00<\/td>\n",
       "      <td>0.000000e+00<\/td>\n",
       "      <td>0.000000e+00<\/td>\n",
       "      <td>0.000000e+00<\/td>\n",
       "      <td>0.000000e+00<\/td>\n",
       "      <td>7.319845e+07<\/td>\n",
       "      <td>0.000000e+00<\/td>\n",
       "    <\/tr>\n",
       "    <tr>\n",
       "      <th>2130007<\/th>\n",
       "      <td>1.100860e+10<\/td>\n",
       "      <td>0.000000e+00<\/td>\n",
       "      <td>2.511344e+07<\/td>\n",
       "      <td>6.483137e+09<\/td>\n",
       "      <td>7.318208e+07<\/td>\n",
       "      <td>3.605426e+08<\/td>\n",
       "      <td>5.341156e+07<\/td>\n",
       "      <td>3.244990e+10<\/td>\n",
       "      <td>2.165724e+10<\/td>\n",
       "      <td>3.949321e+09<\/td>\n",
       "      <td>0.000000e+00<\/td>\n",
       "    <\/tr>\n",
       "  <\/tbody>\n",
       "<\/table>\n",
       "<\/div>"
      ]
     },
     "metadata":{
      
     },
     "output_type":"display_data"
    }
   ],
   "metadata":{
    "datalore":{
     "node_id":"zlGoMqC3ct8QEKefXlkATj",
     "type":"CODE",
     "hide_input_from_viewers":true,
     "hide_output_from_viewers":true
    }
   }
  },
  {
   "cell_type":"code",
   "source":[
    "aab.loc[(2019,1101053)]"
   ],
   "execution_count":45,
   "outputs":[
    {
     "ename":"KeyError",
     "evalue":"KeyError: 1101053",
     "traceback":[
      "\u001b[0;31m---------------------------------------------------------------------------",
      "Traceback (most recent call last)",
      "    at line 1 in <module>",
      "    at line 925 in __getitem__(self, key)",
      "    at line 1100 in _getitem_tuple(self, tup)",
      "    at line 862 in _getitem_lowerdim(self, tup)",
      "    at line 925 in __getitem__(self, key)",
      "    at line 1100 in _getitem_tuple(self, tup)",
      "    at line 822 in _getitem_lowerdim(self, tup)",
      "    at line 906 in _getitem_nested_tuple(self, tup)",
      "    at line 1164 in _getitem_axis(self, key, axis)",
      "    at line 1113 in _get_label(self, label, axis)",
      "    at line 3761 in xs(self, key, axis, level, drop_level)",
      "    at line 3457 in __getitem__(self, key)",
      "    at line 3508 in _getitem_multilevel(self, key)",
      "    at line 2922 in get_loc(self, key, method)",
      "    at line 3204 in _get_level_indexer(self, key, level, indexer)",
      "    at line 2855 in _get_loc_single_level_index(self, level_index, key)",
      "    at line 3363 in get_loc(self, key, method, tolerance)",
      "KeyError: 1101053"
     ],
     "output_type":"error"
    }
   ],
   "metadata":{
    "datalore":{
     "node_id":"GIRbfjnXvSqpW3k9evdD9U",
     "type":"CODE",
     "hide_input_from_viewers":true,
     "hide_output_from_viewers":true
    }
   }
  },
  {
   "cell_type":"code",
   "source":[
    "def store_cnt(df):\n",
    "    df[df['기준_년_코드']<2022]\n",
    "    store_cnt_df = df[df['기준_분기_코드']==4]\n",
    "    return store_cnt_df\n",
    "    \n",
    "def store_cnt_2022(df):\n",
    "    df[df['기준_년_코드']==2022]\n",
    "    store_cnt_2022_df = df[df['기준_분기_코드']==3]\n",
    "    return store_cnt_2022_df"
   ],
   "execution_count":null,
   "outputs":[
    
   ],
   "metadata":{
    "datalore":{
     "node_id":"e8aGWC5po3fKpBNh2IYXbb",
     "type":"CODE",
     "hide_input_from_viewers":false,
     "hide_output_from_viewers":false,
     "report_properties":{
      "y":211
     }
    }
   }
  },
  {
   "cell_type":"code",
   "source":[
    "store_cnt_df = store_cnt(result_sales_df)"
   ],
   "execution_count":null,
   "outputs":[
    
   ],
   "metadata":{
    "datalore":{
     "node_id":"9V3KPx0FuQuae9PWCKAzZm",
     "type":"CODE",
     "hide_input_from_viewers":false,
     "hide_output_from_viewers":false,
     "report_properties":{
      "y":214
     }
    }
   }
  },
  {
   "cell_type":"code",
   "source":[
    "store_cnt_2022_df = store_cnt_2022(result_sales_df)"
   ],
   "execution_count":null,
   "outputs":[
    
   ],
   "metadata":{
    "datalore":{
     "node_id":"ZiyKAgLvrOJRjxwE6rh6FH",
     "type":"CODE",
     "hide_input_from_viewers":false,
     "hide_output_from_viewers":false,
     "report_properties":{
      "y":217
     }
    }
   }
  },
  {
   "cell_type":"code",
   "source":[
    "store_cnt_2022_df.head()"
   ],
   "execution_count":null,
   "outputs":[
    
   ],
   "metadata":{
    "datalore":{
     "node_id":"F6upkg9IwRVtG9gFkHm2j9",
     "type":"CODE",
     "hide_input_from_viewers":false,
     "hide_output_from_viewers":false,
     "report_properties":{
      "y":220
     }
    }
   }
  },
  {
   "cell_type":"code",
   "source":[
    "store_cnt_df = store_cnt_df.append(store_cnt_2022_df,ignore_index=True)"
   ],
   "execution_count":null,
   "outputs":[
    
   ],
   "metadata":{
    "datalore":{
     "node_id":"zHEk3wJOCQKkhtxqVXrUkj",
     "type":"CODE",
     "hide_input_from_viewers":false,
     "hide_output_from_viewers":false,
     "report_properties":{
      "y":223
     }
    }
   }
  },
  {
   "cell_type":"code",
   "source":[
    "store_cnt_df.drop(['기준_분기_코드', '분기당_매출_금액', '시군구명', '행정동명'], axis=1, inplace=True)"
   ],
   "execution_count":null,
   "outputs":[
    
   ],
   "metadata":{
    "datalore":{
     "node_id":"ewh7Qnfcm1dn9Mnng7agLZ",
     "type":"CODE",
     "hide_input_from_viewers":false,
     "hide_output_from_viewers":false,
     "report_properties":{
      "y":226
     }
    }
   }
  },
  {
   "cell_type":"code",
   "source":[
    "store_cnt_df.head(50)"
   ],
   "execution_count":null,
   "outputs":[
    
   ],
   "metadata":{
    "datalore":{
     "node_id":"hBE38rcPYqcFygOr90H5Bm",
     "type":"CODE",
     "hide_input_from_viewers":false,
     "hide_output_from_viewers":false,
     "report_properties":{
      "y":229
     }
    }
   }
  },
  {
   "cell_type":"code",
   "source":[
    "store_cnt_dfgroupby(['기준_년_코드', '행정동_코드', '서비스_업종_코드_명'])['점포수'].sum()"
   ],
   "execution_count":null,
   "outputs":[
    
   ],
   "metadata":{
    "datalore":{
     "node_id":"pBZkwyi44h1cdnMU24VZnG",
     "type":"CODE",
     "hide_input_from_viewers":true,
     "hide_output_from_viewers":true
    }
   }
  },
  {
   "cell_type":"code",
   "source":[
    "seoul_store_df = pd.DataFrame(store_cnt_df.groupby(['기준_년_코드', '행정동_코드', '서비스_업종_코드_명'])['점포수'].sum().reset_index())"
   ],
   "execution_count":null,
   "outputs":[
    
   ],
   "metadata":{
    "datalore":{
     "node_id":"FcT5726sYKGZjutfV9O4MY",
     "type":"CODE",
     "hide_input_from_viewers":false,
     "hide_output_from_viewers":false,
     "report_properties":{
      "y":232
     }
    }
   }
  },
  {
   "cell_type":"code",
   "source":[
    "seoul_store_df"
   ],
   "execution_count":null,
   "outputs":[
    
   ],
   "metadata":{
    "datalore":{
     "node_id":"RgzvBeDBveh7Cd3clsDEvG",
     "type":"CODE",
     "hide_input_from_viewers":true,
     "hide_output_from_viewers":true
    }
   }
  },
  {
   "cell_type":"markdown",
   "source":[
    "* 기준_분기_코드, 시군구명, 행정동명, 분기별 매출 drop 필요 \n",
    "* 서비스_업종_코드_명 기준으로 groupby \n",
    ">> 해결 ! "
   ],
   "attachments":{
    
   },
   "metadata":{
    "datalore":{
     "node_id":"o6dLnq7MNBFM7r8N0T1coY",
     "type":"MD",
     "hide_input_from_viewers":false,
     "hide_output_from_viewers":false,
     "report_properties":{
      "y":235
     }
    }
   }
  },
  {
   "cell_type":"code",
   "source":[
    "# 연도별 업종별 총 매출액 \n",
    "def quartely_sales(df):\n",
    "    sales_2022_df = df.loc[df['기준_년_코드']==2022] \n",
    "    q3_df = sales_2022_df.loc[sales_2022_df['기준_분기_코드']==3]\n",
    "    df = df.append(q3_df, ignore_index=True)\n",
    "\n",
    "    total_sales_df = pd.DataFrame(df.groupby(['기준_년_코드', '행정동_코드', '서비스_업종_코드_명'])['분기당_매출_금액'].sum().reset_index())\n",
    "    return total_sales_df"
   ],
   "execution_count":null,
   "outputs":[
    
   ],
   "metadata":{
    "datalore":{
     "node_id":"iblpoN5aP6S7dEqA8pmKQj",
     "type":"CODE",
     "hide_input_from_viewers":false,
     "hide_output_from_viewers":false,
     "report_properties":{
      "y":238
     }
    }
   }
  },
  {
   "cell_type":"code",
   "source":[
    "# test2022_df = result_sales_df1.loc[result_sales_df1['기준_년_코드']==2022] \n",
    "# q3_df = test2022_df.loc[test2022_df['기준_분기_코드']==3]\n",
    "# df = df.append(q3_df, ignore_index=True)"
   ],
   "execution_count":null,
   "outputs":[
    
   ],
   "metadata":{
    "datalore":{
     "node_id":"W10PWdCbqVEBITtE7J0JqM",
     "type":"CODE",
     "hide_input_from_viewers":true,
     "hide_output_from_viewers":true
    }
   }
  },
  {
   "cell_type":"code",
   "source":[
    "seoul_sales_df = quartely_sales(result_sales_df)"
   ],
   "execution_count":null,
   "outputs":[
    
   ],
   "metadata":{
    "datalore":{
     "node_id":"ksBG4CPOe2Ph7XYeGq5Vga",
     "type":"CODE",
     "hide_input_from_viewers":false,
     "hide_output_from_viewers":false,
     "report_properties":{
      "y":241
     }
    }
   }
  },
  {
   "cell_type":"code",
   "source":[
    "seoul_sales_df"
   ],
   "execution_count":null,
   "outputs":[
    
   ],
   "metadata":{
    "datalore":{
     "node_id":"ZSd40lU9WtXXiGw9Pn9pqz",
     "type":"CODE",
     "hide_input_from_viewers":true,
     "hide_output_from_viewers":true
    }
   }
  },
  {
   "cell_type":"code",
   "source":[
    "# 연도별 분리\n",
    "store19 = seoul_store_df[seoul_store_df['기준_년_코드']==2019]\n",
    "store20 = seoul_store_df[seoul_store_df['기준_년_코드']==2020]\n",
    "store21 = seoul_store_df[seoul_store_df['기준_년_코드']==2021]\n",
    "store22 = seoul_store_df[seoul_store_df['기준_년_코드']==2022]\n",
    "        \n",
    "store19_sales = seoul_sales_df[seoul_sales_df['기준_년_코드']==2019]\n",
    "store20_sales = seoul_sales_df[seoul_sales_df['기준_년_코드']==2020]\n",
    "store21_sales = seoul_sales_df[seoul_sales_df['기준_년_코드']==2021]\n",
    "store22_sales = seoul_sales_df[seoul_sales_df['기준_년_코드']==2022]"
   ],
   "execution_count":null,
   "outputs":[
    
   ],
   "metadata":{
    "datalore":{
     "node_id":"6B95RZjel3zYFcDqsFwEK0",
     "type":"CODE",
     "hide_input_from_viewers":true,
     "hide_output_from_viewers":true
    }
   }
  },
  {
   "cell_type":"code",
   "source":[
    "# 서비스 업종코드별 groupby 함수 \n",
    "\n",
    "def store_cnt_fc(df):\n",
    "    return df.groupby(['행정동_코드', '서비스_업종_코드_명'])['점포수'].sum().unstack()\n",
    "\n",
    "def store_sales_fc(df):\n",
    "    return df.groupby(['행정동_코드', '서비스_업종_코드_명'])['분기당_매출_금액'].sum().unstack()"
   ],
   "execution_count":null,
   "outputs":[
    
   ],
   "metadata":{
    "datalore":{
     "node_id":"s8r6w8BBZFeyvffRFFsotE",
     "type":"CODE",
     "hide_input_from_viewers":true,
     "hide_output_from_viewers":true
    }
   }
  },
  {
   "cell_type":"code",
   "source":[
    "store19_df = store_cnt_fc(store19)\n",
    "store20_df = store_cnt_fc(store20)\n",
    "store21_df = store_cnt_fc(store21)\n",
    "store22_df = store_cnt_fc(store22)\n",
    "\n",
    "store19_sales_df = store_sales_fc(store19_sales)\n",
    "store20_sales_df = store_sales_fc(store20_sales)\n",
    "store21_sales_df = store_sales_fc(store21_sales)\n",
    "store22_sales_df = store_sales_fc(store22_sales)"
   ],
   "execution_count":null,
   "outputs":[
    
   ],
   "metadata":{
    "datalore":{
     "node_id":"xjB28vv2XjdFWKZvgOtFwk",
     "type":"CODE",
     "hide_input_from_viewers":true,
     "hide_output_from_viewers":true
    }
   }
  },
  {
   "cell_type":"code",
   "source":[
    "store19_df = store19_df.fillna(1)\n",
    "store20_df = store20_df.fillna(1)\n",
    "store21_df = store21_df.fillna(1)\n",
    "store22_df = store22_df.fillna(1)\n",
    "\n",
    "store19_sales_df = store19_sales_df.fillna(1)\n",
    "store20_sales_df = store20_sales_df.fillna(1)\n",
    "store21_sales_df = store21_sales_df.fillna(1)\n",
    "store22_sales_df = store22_sales_df.fillna(1)"
   ],
   "execution_count":null,
   "outputs":[
    
   ],
   "metadata":{
    "datalore":{
     "node_id":"6so7SHbAmukSwExmJ6kCA8",
     "type":"CODE",
     "hide_input_from_viewers":true,
     "hide_output_from_viewers":true
    }
   }
  },
  {
   "cell_type":"code",
   "source":[
    "# 각 데이터프레임 csv 파일로 저장 \n",
    "store19_df.to_csv('store19', index=True)\n",
    "store20_df.to_csv('store20', index=True)\n",
    "store21_df.to_csv('store21', index=True)\n",
    "store22_df.to_csv('store22', index=True)\n",
    "\n",
    "store19_sales_df.to_csv('store19_sales', index=True)\n",
    "store20_sales_df.to_csv('store20_sales', index=True)\n",
    "store21_sales_df.to_csv('store21_sales', index=True)\n",
    "store22_sales_df.to_csv('store22_sales', index=True)"
   ],
   "execution_count":null,
   "outputs":[
    
   ],
   "metadata":{
    "datalore":{
     "node_id":"T7wNOjiVe3lpLrai1rt9au",
     "type":"CODE",
     "hide_input_from_viewers":true,
     "hide_output_from_viewers":true
    }
   }
  },
  {
   "cell_type":"code",
   "source":[
    "seoul_ss_2019 = seoul_store_sales[seoul_store_sales['기준_년_코드']==2019]"
   ],
   "execution_count":null,
   "outputs":[
    
   ],
   "metadata":{
    "datalore":{
     "node_id":"RiMm5tics103elAs7zUbnw",
     "type":"CODE",
     "hide_input_from_viewers":true,
     "hide_output_from_viewers":true
    }
   }
  },
  {
   "cell_type":"code",
   "source":[
    "seoul_ss_2019.groupby(['행정동_코드', '서비스_업종_코드_명'])['분기당_매출_금액'].sum().unstack()"
   ],
   "execution_count":null,
   "outputs":[
    
   ],
   "metadata":{
    "datalore":{
     "node_id":"wpMurYygqO83HCdo27wZOU",
     "type":"CODE",
     "hide_input_from_viewers":true,
     "hide_output_from_viewers":true
    }
   }
  },
  {
   "cell_type":"code",
   "source":[
    "# def sum_business_sale_total(df,service_name):\n",
    "#     df[df['서비스_업종_코드_명'].eq(service_name)]\n"
   ],
   "execution_count":null,
   "outputs":[
    
   ],
   "metadata":{
    "datalore":{
     "node_id":"QWrMgugmAfznVOKz4mGMd0",
     "type":"CODE",
     "hide_input_from_viewers":true,
     "hide_output_from_viewers":true
    }
   }
  },
  {
   "cell_type":"code",
   "source":[
    "seoul_store_sales"
   ],
   "execution_count":null,
   "outputs":[
    
   ],
   "metadata":{
    "datalore":{
     "node_id":"EmBctgM0XZMdq6oHOwGMEo",
     "type":"CODE",
     "hide_input_from_viewers":true,
     "hide_output_from_viewers":true
    }
   }
  },
  {
   "cell_type":"code",
   "source":[
    "seoul_store_sales2019 =seoul_store_sales[seoul_store_sales['기준_년_코드']==2019].drop('기준_년_코드' , axis=1)"
   ],
   "execution_count":null,
   "outputs":[
    
   ],
   "metadata":{
    "datalore":{
     "node_id":"FJjDEyuYGlxbgC8ZDmEx48",
     "type":"CODE",
     "hide_input_from_viewers":true,
     "hide_output_from_viewers":true
    }
   }
  },
  {
   "cell_type":"code",
   "source":[
    "seoul_store_sales2019.groupby(['행정동_코드', '서비스_업종_코드_명']).max().unstack()"
   ],
   "execution_count":null,
   "outputs":[
    
   ],
   "metadata":{
    "datalore":{
     "node_id":"yiFPl3N3MEIysfHHV2BSpK",
     "type":"CODE",
     "hide_input_from_viewers":true,
     "hide_output_from_viewers":true
    }
   }
  },
  {
   "cell_type":"markdown",
   "source":[
    "# 군집화 "
   ],
   "attachments":{
    
   },
   "metadata":{
    "datalore":{
     "node_id":"군집화 ",
     "type":"MD",
     "hide_input_from_viewers":false,
     "hide_output_from_viewers":false,
     "sheet_delimiter":true
    }
   }
  },
  {
   "cell_type":"code",
   "source":[
    
   ],
   "execution_count":null,
   "outputs":[
    
   ],
   "metadata":{
    "datalore":{
     "node_id":"u0JQFQAuyAbZKvEfxCYA5S",
     "type":"CODE",
     "hide_input_from_viewers":true,
     "hide_output_from_viewers":true
    }
   }
  },
  {
   "cell_type":"markdown",
   "source":[
    "# Hyeonmin "
   ],
   "attachments":{
    
   },
   "metadata":{
    "datalore":{
     "node_id":"Hyeonmin ",
     "type":"MD",
     "hide_input_from_viewers":false,
     "hide_output_from_viewers":false,
     "sheet_delimiter":true
    }
   }
  },
  {
   "cell_type":"code",
   "source":[
    "area_df"
   ],
   "execution_count":null,
   "outputs":[
    
   ],
   "metadata":{
    "datalore":{
     "node_id":"b8ZyJp8exDKvbZYNVtazuC",
     "type":"CODE",
     "hide_input_from_viewers":false,
     "hide_output_from_viewers":false,
     "report_properties":{
      "y":247
     }
    }
   }
  },
  {
   "cell_type":"code",
   "source":[
    "seoul_df = pd.read_csv('\/data\/notebook_files\/서울시 건축물대장 법정동,행정동 코드정보.csv', )"
   ],
   "execution_count":null,
   "outputs":[
    
   ],
   "metadata":{
    "datalore":{
     "node_id":"iXFpaM2UKtiHwp88RiDump",
     "type":"CODE",
     "hide_input_from_viewers":false,
     "hide_output_from_viewers":false,
     "report_properties":{
      "y":250
     }
    }
   }
  },
  {
   "cell_type":"code",
   "source":[
    "store2019_df"
   ],
   "execution_count":null,
   "outputs":[
    
   ],
   "metadata":{
    "datalore":{
     "node_id":"hKxSUNtN2ncwdPF7uEgZ35",
     "type":"CODE",
     "hide_input_from_viewers":false,
     "hide_output_from_viewers":false,
     "report_properties":{
      "y":253
     }
    }
   }
  },
  {
   "cell_type":"code",
   "source":[
    "seoul_df.info()"
   ],
   "execution_count":null,
   "outputs":[
    
   ],
   "metadata":{
    "datalore":{
     "node_id":"g2uBujVFArZVLsXx0dQNhu",
     "type":"CODE",
     "hide_input_from_viewers":false,
     "hide_output_from_viewers":false,
     "report_properties":{
      "y":256
     }
    }
   }
  },
  {
   "cell_type":"code",
   "source":[
    "seoul_df['시군구코드'] = seoul_df['시군구코드'].astype(str)\n",
    "seoul_df['행정동코드'] = seoul_df['행정동코드'].astype(str)"
   ],
   "execution_count":null,
   "outputs":[
    
   ],
   "metadata":{
    "datalore":{
     "node_id":"O8rBo97ObdbFwxP71VOtr8",
     "type":"CODE",
     "hide_input_from_viewers":false,
     "hide_output_from_viewers":false,
     "report_properties":{
      "y":259
     }
    }
   }
  },
  {
   "cell_type":"code",
   "source":[
    "seoul_df['시군구_행정동'] = seoul_df['시군구코드'] + seoul_df['행정동코드']"
   ],
   "execution_count":null,
   "outputs":[
    
   ],
   "metadata":{
    "datalore":{
     "node_id":"VxtASzyu7hvp9Hnhe5V3EQ",
     "type":"CODE",
     "hide_input_from_viewers":false,
     "hide_output_from_viewers":false,
     "report_properties":{
      "y":262
     }
    }
   }
  },
  {
   "cell_type":"code",
   "source":[
    "seoul_df.head(3)"
   ],
   "execution_count":null,
   "outputs":[
    
   ],
   "metadata":{
    "datalore":{
     "node_id":"3T9D4B3uExp8v6FMvaKMjH",
     "type":"CODE",
     "hide_input_from_viewers":false,
     "hide_output_from_viewers":false,
     "report_properties":{
      "y":265
     }
    }
   }
  },
  {
   "cell_type":"code",
   "source":[
    "new_seoul_df = seoul_df[['시군구명', '행정동명', '시군구_행정동']]\n",
    "new_seoul_df['군구_행정동명'] = new_seoul_df['시군구명'] + ' ' + new_seoul_df['행정동명']\n",
    "new_seoul_df['군구_행정동명']\n",
    "new_seoul_df"
   ],
   "execution_count":null,
   "outputs":[
    
   ],
   "metadata":{
    "datalore":{
     "node_id":"RhZU5rR40AIppunCjBX0Fp",
     "type":"CODE",
     "hide_input_from_viewers":false,
     "hide_output_from_viewers":false,
     "report_properties":{
      "y":268
     }
    }
   }
  },
  {
   "cell_type":"code",
   "source":[
    "# 시군구 행정동 \n",
    "\n",
    "def to_dong(area_code):\n",
    "    global new_seoul_df\n",
    "    area_code = str(area_code)\n",
    "    temp = new_seoul_df[new_seoul_df['시군구_행정동'] == area_code]\n",
    "    # print(temp, '\\n',len(temp))\n",
    "    # if len(temp)> 1:\n",
    "    #     # print(temp)\n",
    "    #     temp = temp.iloc[0]\n",
    "    # return temp\n",
    "    return temp['군구_행정동명'].to_list()[0]"
   ],
   "execution_count":null,
   "outputs":[
    
   ],
   "metadata":{
    "datalore":{
     "node_id":"PcEqAdqxr3sQXXG86tnG13",
     "type":"CODE",
     "hide_input_from_viewers":false,
     "hide_output_from_viewers":false,
     "report_properties":{
      "y":271
     }
    }
   }
  },
  {
   "cell_type":"code",
   "source":[
    "area_df['시군구_행정동'] = area_df['행정동_코드'].apply(to_dong)"
   ],
   "execution_count":null,
   "outputs":[
    
   ],
   "metadata":{
    "datalore":{
     "node_id":"WpBFTFFY7zVKa9hKdtyD45",
     "type":"CODE",
     "hide_input_from_viewers":false,
     "hide_output_from_viewers":false,
     "report_properties":{
      "y":274
     }
    }
   }
  },
  {
   "cell_type":"code",
   "source":[
    "area_df[area_df['시군구_행정동'].str.contains('관악구')]"
   ],
   "execution_count":null,
   "outputs":[
    
   ],
   "metadata":{
    "datalore":{
     "node_id":"KASsCGNhQr7ZPTuSoWvdLc",
     "type":"CODE",
     "hide_input_from_viewers":false,
     "hide_output_from_viewers":false,
     "report_properties":{
      "y":277
     }
    }
   }
  },
  {
   "cell_type":"code",
   "source":[
    "!area_df"
   ],
   "execution_count":null,
   "outputs":[
    
   ],
   "metadata":{
    "datalore":{
     "node_id":"orrehcYTOe1c1FvuMXAvfl",
     "type":"CODE",
     "hide_input_from_viewers":false,
     "hide_output_from_viewers":false,
     "report_properties":{
      "y":280
     }
    }
   }
  },
  {
   "cell_type":"code",
   "source":[
    "a = area_df.groupby('시군구_행정동').agg({'상권_구분_코드_명': np.count_nonzero}).sort_values(by='상권_구분_코드_명', ascending=False)"
   ],
   "execution_count":null,
   "outputs":[
    
   ],
   "metadata":{
    "datalore":{
     "node_id":"YsVB4nlJqU6WC7lIhdOusZ",
     "type":"CODE",
     "hide_input_from_viewers":false,
     "hide_output_from_viewers":false,
     "report_properties":{
      "y":283
     }
    }
   }
  },
  {
   "cell_type":"code",
   "source":[
    "group2 = store_df.groupby(by=['기준_년_코드', '서비스_업종_번호'])['점포_수']\n",
    "pd.DataFrame(group2.size().reset_index(name=\"Group_Count\"))"
   ],
   "execution_count":null,
   "outputs":[
    
   ],
   "metadata":{
    "datalore":{
     "node_id":"5tj8KEyyzaHBCahogYuguC",
     "type":"CODE",
     "hide_input_from_viewers":false,
     "hide_output_from_viewers":false,
     "report_properties":{
      "y":286
     }
    }
   }
  },
  {
   "cell_type":"code",
   "source":[
    "store_df.groupby(by=['기준_년_코드', '서비스_업종_번호'])"
   ],
   "execution_count":null,
   "outputs":[
    
   ],
   "metadata":{
    "datalore":{
     "node_id":"7b1LQc3aSlbNhj4Ilx1DoI",
     "type":"CODE",
     "hide_input_from_viewers":false,
     "hide_output_from_viewers":false,
     "report_properties":{
      "y":289
     }
    }
   }
  },
  {
   "cell_type":"code",
   "source":[
    "classification_dicts = {\"음식점\":\n",
    "                            [\"한식음식점\",\n",
    "                             \"중식음식점\",\n",
    "                             \"일식음식점\",\n",
    "                             \"양식음식점\",\n",
    "                             \"패스트푸드점\",\n",
    "                             \"치킨전문점\",\n",
    "                             \"분식전문점\",\n",
    "                             \"호프-간이주점\",\n",
    "                             \"제과점\",\n",
    "                             \"커피-음료\", ]\n",
    "    ,\n",
    "                        \"교육\": [\"일반교습학원\",\n",
    "                               \"외국어학원\",\n",
    "                               \"예술학원\",\n",
    "                               \"스포츠 강습\",\n",
    "                               ]\n",
    "    ,\n",
    "                        \"의료\": [\"일반의원\",\n",
    "                               \"치과의원\",\n",
    "                               \"한의원\",\n",
    "                               \"의약품\",\n",
    "                               \"의료기기\",\n",
    "                               ]\n",
    "    ,\n",
    "                        \"여가\": [\"당구장\",\n",
    "                               \"골프연습장\",\n",
    "                               \"PC방\",\n",
    "                               \"스포츠클럽\",\n",
    "                               \"노래방\",\n",
    "                               \"미용실\",\n",
    "                               \"네일숍\",\n",
    "                               \"피부관리실\",\n",
    "                               \"자동차미용\",\n",
    "                               \"운동\/경기용품\",\n",
    "                               \"자전거 및 기타운송장비\",\n",
    "                               ]\n",
    "    ,\n",
    "                        \"생필품\": [\"슈퍼마켓\",\n",
    "                                \"편의점\",\n",
    "                                \"미곡판매\",\n",
    "                                \"육류판매\",\n",
    "                                \"수산물판매\",\n",
    "                                \"청과상\",\n",
    "                                \"반찬가게\",\n",
    "                                \"세탁소\",\n",
    "                                \"가전제품수리\",\n",
    "                                \"자동차수리\",\n",
    "                                \"철물점\",\n",
    "                                ],\n",
    "                        \"의류 및 패션\": [\"일반의류\",\n",
    "                                    \"신발\",\n",
    "                                    \"가방\",\n",
    "                                    \"안경\",\n",
    "                                    \"시계및귀금속\",\n",
    "                                    \"화장품\",\n",
    "                                    ]\n",
    "    ,\n",
    "                        \"서적 및 문구\": [\"서적\",\n",
    "                                    \"문구\",\n",
    "                                    \"완구\",\n",
    "                                    ]\n",
    "    ,\n",
    "                        \"가구 및 가전제품\": [\"인테리어\",\n",
    "                                      \"조명용품\",\n",
    "                                      \"섬유제품\",\n",
    "                                      \"화초\",\n",
    "                                      \"가구\",\n",
    "                                      \"가전제품\",\n",
    "                                      \"컴퓨터및주변장치판매\",\n",
    "                                      \"핸드폰\",\n",
    "                                      ]\n",
    "    ,\n",
    "                        \"숙박\": [\"여관\",\n",
    "                               \"고시원\",\n",
    "                               ]\n",
    "    ,\n",
    "                        \"기타\": [\"부동산중개업\",\n",
    "                               \"애완동물\",\n",
    "                               ]\n",
    "    ,\n",
    "                        \"전자상거래업\": [\"전자상거래업\"]\n",
    "    ,\n",
    "                        }"
   ],
   "execution_count":null,
   "outputs":[
    
   ],
   "metadata":{
    "datalore":{
     "node_id":"yy5Ju9h8qtDpoVM0kSgiUe",
     "type":"CODE",
     "hide_input_from_viewers":false,
     "hide_output_from_viewers":false,
     "report_properties":{
      "y":292
     }
    }
   }
  },
  {
   "cell_type":"code",
   "source":[
    "def classfy_business(string):\n",
    "    global classification_dicts\n",
    "    for clss,businesses in classification_dicts.items():\n",
    "        if string in businesses:\n",
    "            return clss\n",
    "    return 'None'"
   ],
   "execution_count":null,
   "outputs":[
    
   ],
   "metadata":{
    "datalore":{
     "node_id":"MUtRCfkwyvBhura2hOhR9z",
     "type":"CODE",
     "hide_input_from_viewers":false,
     "hide_output_from_viewers":false,
     "report_properties":{
      "y":295
     }
    }
   }
  },
  {
   "cell_type":"code",
   "source":[
    "classfy_business(\"인테리어\")"
   ],
   "execution_count":null,
   "outputs":[
    
   ],
   "metadata":{
    "datalore":{
     "node_id":"916YlDTHJBvo9zod1qB8nR",
     "type":"CODE",
     "hide_input_from_viewers":false,
     "hide_output_from_viewers":false,
     "report_properties":{
      "y":298
     }
    }
   }
  },
  {
   "cell_type":"code",
   "source":[
    "store_df['서비스_업종_코드_명'].apply(classfy_business)"
   ],
   "execution_count":null,
   "outputs":[
    
   ],
   "metadata":{
    "datalore":{
     "node_id":"XUuXnssiLT9rUu40O5ICps",
     "type":"CODE",
     "hide_input_from_viewers":false,
     "hide_output_from_viewers":false,
     "report_properties":{
      "y":301
     }
    }
   }
  },
  {
   "cell_type":"code",
   "source":[
    "store_df['서비스_업종_코드_명'].value_counts()"
   ],
   "execution_count":null,
   "outputs":[
    
   ],
   "metadata":{
    "datalore":{
     "node_id":"0H9qSr5o2wLQzsejs37AUa",
     "type":"CODE",
     "hide_input_from_viewers":false,
     "hide_output_from_viewers":false,
     "report_properties":{
      "y":304
     }
    }
   }
  },
  {
   "cell_type":"code",
   "source":[
    "sales_df_2019"
   ],
   "execution_count":null,
   "outputs":[
    
   ],
   "metadata":{
    "datalore":{
     "node_id":"e61uSHAyHH3OAYyI7A66AD",
     "type":"CODE",
     "hide_input_from_viewers":false,
     "hide_output_from_viewers":false,
     "report_properties":{
      "y":307
     }
    }
   }
  },
  {
   "cell_type":"code",
   "source":[
    "sales_df_2019 = pd.read_csv('\/data\/notebook_files\/서울시_우리마을가게_상권분석서비스(신_상권_추정매출)_2019년.csv')\n",
    "sales_df_2020 = pd.read_csv('\/data\/notebook_files\/서울시_우리마을가게_상권분석서비스(신_상권_추정매출)_2020년.csv')\n",
    "sales_df_2021 = pd.read_csv('\/data\/notebook_files\/서울시_우리마을가게_상권분석서비스(신_상권_추정매출)_2021년.csv')\n",
    "sales_df_2022 = pd.read_csv('\/data\/notebook_files\/서울시 우리마을가게 상권분석서비스(상권-추정매출)_2022년 3분기 까지.csv')"
   ],
   "execution_count":null,
   "outputs":[
    
   ],
   "metadata":{
    "datalore":{
     "node_id":"F2OXrHzsxa8lOaNXQbgTe9",
     "type":"CODE",
     "hide_input_from_viewers":false,
     "hide_output_from_viewers":false,
     "report_properties":{
      "y":310
     }
    }
   }
  },
  {
   "cell_type":"code",
   "source":[
    "new_code = sales_df_2019['서비스_업종_코드_명']\n"
   ],
   "execution_count":null,
   "outputs":[
    
   ],
   "metadata":{
    "datalore":{
     "node_id":"8AXdmguai74R4vPM2H6Inx",
     "type":"CODE",
     "hide_input_from_viewers":false,
     "hide_output_from_viewers":false,
     "report_properties":{
      "y":313
     }
    }
   }
  },
  {
   "cell_type":"code",
   "source":[
    "new_code = pd.concat([new_code,sales_df_2020['서비스_업종_코드_명']])\n",
    "new_code = pd.concat([new_code,sales_df_2021['서비스_업종_코드_명']])\n",
    "new_code = pd.concat([new_code,sales_df_2022['서비스_업종_코드_명']])"
   ],
   "execution_count":null,
   "outputs":[
    
   ],
   "metadata":{
    "datalore":{
     "node_id":"sbB7fFnX0gSNxKNvq75c5F",
     "type":"CODE",
     "hide_input_from_viewers":false,
     "hide_output_from_viewers":false,
     "report_properties":{
      "y":316
     }
    }
   }
  },
  {
   "cell_type":"code",
   "source":[
    "sales_df_2019['서비스_업종_코드_명'] = sales_df_2019['서비스_업종_코드_명'].apply(classfy_business)"
   ],
   "execution_count":null,
   "outputs":[
    
   ],
   "metadata":{
    "datalore":{
     "node_id":"KTGtXyPBttkmaML2TJvjcA",
     "type":"CODE",
     "hide_input_from_viewers":false,
     "hide_output_from_viewers":false,
     "report_properties":{
      "y":319
     }
    }
   }
  },
  {
   "cell_type":"code",
   "source":[
    "sales_df_2019.groupby('서비스_업종_코드_명').agg({'분기당_매출_금액':sum})"
   ],
   "execution_count":null,
   "outputs":[
    
   ],
   "metadata":{
    "datalore":{
     "node_id":"xgtxMS3D4SLuLe840We9CD",
     "type":"CODE",
     "hide_input_from_viewers":false,
     "hide_output_from_viewers":false,
     "report_properties":{
      "y":322
     }
    }
   }
  },
  {
   "cell_type":"code",
   "source":[
    
   ],
   "execution_count":null,
   "outputs":[
    
   ],
   "metadata":{
    "datalore":{
     "node_id":"hd579G5cDkL7H1Ggqcwsbl",
     "type":"CODE",
     "hide_input_from_viewers":true,
     "hide_output_from_viewers":true
    }
   }
  },
  {
   "cell_type":"markdown",
   "source":[
    "# Sheet 7"
   ],
   "attachments":{
    
   },
   "metadata":{
    "datalore":{
     "node_id":"Sheet 7",
     "type":"MD",
     "hide_input_from_viewers":false,
     "hide_output_from_viewers":false,
     "sheet_delimiter":true
    }
   }
  },
  {
   "cell_type":"code",
   "source":[
    "import pandas as pd"
   ],
   "execution_count":null,
   "outputs":[
    
   ],
   "metadata":{
    "datalore":{
     "node_id":"QMIzcRSGhqg2YgWQmMtm9O",
     "type":"CODE",
     "hide_input_from_viewers":false,
     "hide_output_from_viewers":false,
     "report_properties":{
      "y":325
     }
    }
   }
  },
  {
   "cell_type":"code",
   "source":[
    "# 서울시 우리마을가게 상권분석서비스(상권영역)\n",
    "area_df = pd.read_csv('\/data\/notebook_files\/서울시 우리마을가게 상권분석서비스(상권영역).csv', encoding='cp949')\n",
    "\n",
    "# 서울시 우리마을가게 상권분석서비스(점포) - 2020~2022\n",
    "store_df = pd.read_csv('\/data\/notebook_files\/서울시 우리마을가게 상권분석서비스(상권-점포).csv', encoding='cp949')\n",
    "\n",
    "# 서울시 우리마을가게 상권분석서비스(점포) - 2019\n",
    "seoul_df = pd.read_csv('\/data\/notebook_files\/서울시 건축물대장 법정동,행정동 코드정보.csv', )\n",
    "store2019_df = pd.read_csv('\/data\/notebook_files\/서울시_우리마을가게_상권분석서비스(신_상권_점포)_2019년.csv', encoding='cp949')"
   ],
   "execution_count":null,
   "outputs":[
    
   ],
   "metadata":{
    "datalore":{
     "node_id":"3TmgUUxy7AZARh3CyqkQJ1",
     "type":"CODE",
     "hide_input_from_viewers":false,
     "hide_output_from_viewers":false,
     "report_properties":{
      "y":328
     }
    }
   }
  },
  {
   "cell_type":"code",
   "source":[
    "seoul_df.head()"
   ],
   "execution_count":null,
   "outputs":[
    
   ],
   "metadata":{
    "datalore":{
     "node_id":"rHBDIVCLPCzfCuUGwTLbGE",
     "type":"CODE",
     "hide_input_from_viewers":false,
     "hide_output_from_viewers":false,
     "report_properties":{
      "y":331
     }
    }
   }
  },
  {
   "cell_type":"code",
   "source":[
    "seoul_df['시군구코드'] = seoul_df['시군구코드'].astype(str)\n",
    "seoul_df['행정동코드'] = seoul_df['행정동코드'].astype(str)"
   ],
   "execution_count":null,
   "outputs":[
    
   ],
   "metadata":{
    "datalore":{
     "node_id":"hkbNJTJBi5KFCrv7M1lpIU",
     "type":"CODE",
     "hide_input_from_viewers":false,
     "hide_output_from_viewers":false,
     "report_properties":{
      "y":334
     }
    }
   }
  },
  {
   "cell_type":"code",
   "source":[
    "seoul_df['시군구_행정동'] = seoul_df['시군구코드'] + seoul_df['행정동코드']"
   ],
   "execution_count":null,
   "outputs":[
    
   ],
   "metadata":{
    "datalore":{
     "node_id":"b9AbIMpb2ry5N86s0kpjoH",
     "type":"CODE",
     "hide_input_from_viewers":false,
     "hide_output_from_viewers":false,
     "report_properties":{
      "y":337
     }
    }
   }
  },
  {
   "cell_type":"code",
   "source":[
    "seoul_df.head()"
   ],
   "execution_count":null,
   "outputs":[
    
   ],
   "metadata":{
    "datalore":{
     "node_id":"KpNZSWMtpOPttXjQko0f6E",
     "type":"CODE",
     "hide_input_from_viewers":false,
     "hide_output_from_viewers":false,
     "report_properties":{
      "y":340
     }
    }
   }
  },
  {
   "cell_type":"code",
   "source":[
    "store_df.info()"
   ],
   "execution_count":null,
   "outputs":[
    
   ],
   "metadata":{
    "datalore":{
     "node_id":"2FQtDaLW5WqX9INdJfuJ8w",
     "type":"CODE",
     "hide_input_from_viewers":false,
     "hide_output_from_viewers":false,
     "report_properties":{
      "y":343
     }
    }
   }
  },
  {
   "cell_type":"code",
   "source":[
    "store_df.head()"
   ],
   "execution_count":null,
   "outputs":[
    
   ],
   "metadata":{
    "datalore":{
     "node_id":"A4VUJnnTzEmwWGf6TKw4rT",
     "type":"CODE",
     "hide_input_from_viewers":false,
     "hide_output_from_viewers":false,
     "report_properties":{
      "y":346
     }
    }
   }
  },
  {
   "cell_type":"code",
   "source":[
    
   ],
   "execution_count":null,
   "outputs":[
    
   ],
   "metadata":{
    "datalore":{
     "node_id":"HmwidqUDr21rSBLD2mI1NK",
     "type":"CODE",
     "hide_input_from_viewers":true,
     "hide_output_from_viewers":true
    }
   }
  },
  {
   "cell_type":"markdown",
   "source":[
    "# 화정"
   ],
   "attachments":{
    
   },
   "metadata":{
    "datalore":{
     "node_id":"화정",
     "type":"MD",
     "hide_input_from_viewers":false,
     "hide_output_from_viewers":false,
     "sheet_delimiter":true
    }
   }
  },
  {
   "cell_type":"code",
   "source":[
    "import pandas as pd\n",
    "import numpy as np"
   ],
   "execution_count":null,
   "outputs":[
    
   ],
   "metadata":{
    "datalore":{
     "node_id":"cn3qGjdKjd4GmWCeUwoJNA",
     "type":"CODE",
     "hide_input_from_viewers":false,
     "hide_output_from_viewers":false,
     "report_properties":{
      "y":349
     }
    }
   }
  },
  {
   "cell_type":"code",
   "source":[
    "# 서울시 우리마을가게 상권분석서비스(상권영역)\n",
    "area_df = pd.read_csv('\/data\/notebook_files\/서울시 우리마을가게 상권분석서비스(상권영역).csv', encoding='cp949')\n",
    "\n",
    "# 서울시 우리마을가게 상권분석서비스(점포) - 2020~2022\n",
    "store_df = pd.read_csv('\/data\/notebook_files\/서울시 우리마을가게 상권분석서비스(상권-점포).csv', encoding='cp949')\n",
    "\n",
    "# 서울시 우리마을가게 상권분석서비스(점포) - 2019\n",
    "store2019_df = pd.read_csv('\/data\/notebook_files\/서울시_우리마을가게_상권분석서비스(신_상권_점포)_2019년.csv', encoding='cp949')\n",
    "\n",
    "# 서울시 건축물대장 법정동, 행정동 코드 정도 \n",
    "seoul_df = pd.read_csv('\/data\/notebook_files\/서울시 건축물대장 법정동,행정동 코드정보.csv', )"
   ],
   "execution_count":null,
   "outputs":[
    
   ],
   "metadata":{
    "datalore":{
     "node_id":"onT0s6JgE3q69Rk2HZnQ9N",
     "type":"CODE",
     "hide_input_from_viewers":false,
     "hide_output_from_viewers":false,
     "report_properties":{
      "y":352
     }
    }
   }
  },
  {
   "cell_type":"code",
   "source":[
    "seoul_df.info()"
   ],
   "execution_count":null,
   "outputs":[
    
   ],
   "metadata":{
    "datalore":{
     "node_id":"hURGfScKSjnHP8M2I25Pz3",
     "type":"CODE",
     "hide_input_from_viewers":false,
     "hide_output_from_viewers":false,
     "report_properties":{
      "y":355
     }
    }
   }
  },
  {
   "cell_type":"code",
   "source":[
    "seoul_df['시군구코드'] = seoul_df['시군구코드'].astype(str)\n",
    "seoul_df['행정동코드'] = seoul_df['행정동코드'].astype(str)"
   ],
   "execution_count":null,
   "outputs":[
    
   ],
   "metadata":{
    "datalore":{
     "node_id":"SJlE0Ly1p74TzqhPwIHzHA",
     "type":"CODE",
     "hide_input_from_viewers":false,
     "hide_output_from_viewers":false,
     "report_properties":{
      "y":358
     }
    }
   }
  },
  {
   "cell_type":"code",
   "source":[
    "seoul_df['시군구_행정동'] = seoul_df['시군구코드'] + seoul_df['행정동코드']"
   ],
   "execution_count":null,
   "outputs":[
    
   ],
   "metadata":{
    "datalore":{
     "node_id":"fbiEf1FE0VHS5PFwFQCGT6",
     "type":"CODE",
     "hide_input_from_viewers":false,
     "hide_output_from_viewers":false,
     "report_properties":{
      "y":361
     }
    }
   }
  },
  {
   "cell_type":"code",
   "source":[
    "def change_function(area_code):\n",
    "    global seoul_df\n",
    "    area_code = str(area_code)\n",
    "    temp = seoul_df[seoul_df['시군구_행정동'] == area_code]\n",
    "    # print(temp, '\\n',len(temp))\n",
    "    if len(temp) > 1:\n",
    "        # print(temp)\n",
    "        temp = temp.iloc[0].to_dict()\n",
    "    # return temp\n",
    "    return temp['시군구명'] + ' ' + temp['행정동명']"
   ],
   "execution_count":null,
   "outputs":[
    
   ],
   "metadata":{
    "datalore":{
     "node_id":"R7qDqF0f2uMkLA1IT4Wn2J",
     "type":"CODE",
     "hide_input_from_viewers":false,
     "hide_output_from_viewers":false,
     "report_properties":{
      "y":364
     }
    }
   }
  },
  {
   "cell_type":"code",
   "source":[
    "change_function(11170650)"
   ],
   "execution_count":null,
   "outputs":[
    
   ],
   "metadata":{
    "datalore":{
     "node_id":"Cl6gujPkkPwK2NytbGhVyz",
     "type":"CODE",
     "hide_input_from_viewers":false,
     "hide_output_from_viewers":false,
     "report_properties":{
      "y":367
     }
    }
   }
  },
  {
   "cell_type":"code",
   "source":[
    "area_df['행정동_코드'].apply(lambda x: 1 if x > 11545600 else 0)"
   ],
   "execution_count":null,
   "outputs":[
    
   ],
   "metadata":{
    "datalore":{
     "node_id":"16oDiC8zs9YTy41nSGIzNS",
     "type":"CODE",
     "hide_input_from_viewers":false,
     "hide_output_from_viewers":false,
     "report_properties":{
      "y":370
     }
    }
   }
  },
  {
   "cell_type":"code",
   "source":[
    "seoul_df"
   ],
   "execution_count":null,
   "outputs":[
    
   ],
   "metadata":{
    "datalore":{
     "node_id":"PE3m4BMMVgRHfucWUhvBGa",
     "type":"CODE",
     "hide_input_from_viewers":false,
     "hide_output_from_viewers":false,
     "report_properties":{
      "y":373
     }
    }
   }
  },
  {
   "cell_type":"code",
   "source":[
    "area_df"
   ],
   "execution_count":null,
   "outputs":[
    
   ],
   "metadata":{
    "datalore":{
     "node_id":"NZqKdZVSbL0GNXy4SC8fJQ",
     "type":"CODE",
     "hide_input_from_viewers":false,
     "hide_output_from_viewers":false,
     "report_properties":{
      "y":376
     }
    }
   }
  },
  {
   "cell_type":"code",
   "source":[
    
   ],
   "execution_count":null,
   "outputs":[
    
   ],
   "metadata":{
    "datalore":{
     "node_id":"uU70D2n6wBGM8ynp88hd07",
     "type":"CODE",
     "hide_input_from_viewers":true,
     "hide_output_from_viewers":true
    }
   }
  },
  {
   "cell_type":"code",
   "source":[
    "# store_df + store2019_df 병합 (새로운 컬럼 없이 아래로 통합)\n",
    "store_df = store_df.append(store2019_df, ignore_index=True)"
   ],
   "execution_count":null,
   "outputs":[
    
   ],
   "metadata":{
    "datalore":{
     "node_id":"BZTxYEEg1vcq69BDjWgeMR",
     "type":"CODE",
     "hide_input_from_viewers":false,
     "hide_output_from_viewers":false,
     "report_properties":{
      "y":379
     }
    }
   }
  },
  {
   "cell_type":"code",
   "source":[
    "# 외식업 = 1, 서비스업 = 2, 소매업 = 3 \n",
    "store_df['서비스_업종_번호'] = store_df['서비스_업종_코드'].str[2:3]"
   ],
   "execution_count":null,
   "outputs":[
    
   ],
   "metadata":{
    "datalore":{
     "node_id":"ZiQsKIwTPlKYyoP315osT7",
     "type":"CODE",
     "hide_input_from_viewers":false,
     "hide_output_from_viewers":false,
     "report_properties":{
      "y":382
     }
    }
   }
  },
  {
   "cell_type":"code",
   "source":[
    "new_area = area_df[['상권_코드', '행정동_코드']]\n",
    "\n",
    "store_df = pd.merge(store_df, new_area, how='inner', on='상권_코드')"
   ],
   "execution_count":null,
   "outputs":[
    
   ],
   "metadata":{
    "datalore":{
     "node_id":"2KPvk7zayFAkEYLp1djHgT",
     "type":"CODE",
     "hide_input_from_viewers":false,
     "hide_output_from_viewers":false,
     "report_properties":{
      "y":385
     }
    }
   }
  },
  {
   "cell_type":"code",
   "source":[
    "store_df.head(3)"
   ],
   "execution_count":null,
   "outputs":[
    
   ],
   "metadata":{
    "datalore":{
     "node_id":"QT3ynwFipxwK3H9H6nETdD",
     "type":"CODE",
     "hide_input_from_viewers":false,
     "hide_output_from_viewers":false,
     "report_properties":{
      "y":388
     }
    }
   }
  },
  {
   "cell_type":"code",
   "source":[
    "import matplotlib.pyplot as plt\n",
    "# matplotlib 한글 깨짐 방지\n",
    "\n",
    "import matplotlib\n",
    "import matplotlib.font_manager as fm\n",
    "\n",
    "fm.get_fontconfig_fonts()\n",
    "font_location = '\/data\/notebook_files\/fonts\/esamanru_Medium.ttf'\n",
    "# font_location = 'C:\/Windows\/Fonts\/NanumGothic.ttf' # For Windows\n",
    "fprop = fm.FontProperties(fname=font_location)\n",
    "\n",
    "# matplotlib.rc('font', family=font_name)"
   ],
   "execution_count":null,
   "outputs":[
    
   ],
   "metadata":{
    "datalore":{
     "node_id":"XV2B49VBr7UdTv6gnKWwzM",
     "type":"CODE",
     "hide_input_from_viewers":false,
     "hide_output_from_viewers":false,
     "report_properties":{
      "y":391
     }
    }
   }
  },
  {
   "cell_type":"code",
   "source":[
    "store_cnt_group = store_df.groupby(by=['기준_년_코드'])['점포_수'].count()\n",
    "\n",
    "plt.plot(store_cnt_group)\n",
    "plt.xticks(size=8, rotation=45)\n",
    "plt.plot(store_cnt_group, marker='*', markersize=8)\n",
    "plt.title('연도별 서울시 점포 수', fontproperties=fprop)\n",
    "plt.ylabel('점포수(개)', fontproperties=fprop)\n",
    "plt.legend(labels=['연도별 점포수 추이'], loc='best', fontsize=12, fontproperties=fprop)\n",
    "plt.grid(True)\n",
    "plt.show()"
   ],
   "execution_count":null,
   "outputs":[
    
   ],
   "metadata":{
    "datalore":{
     "node_id":"ECNlpEbf9rE7yNjdoL0Qyr",
     "type":"CODE",
     "hide_input_from_viewers":false,
     "hide_output_from_viewers":false,
     "report_properties":{
      "y":394
     }
    }
   }
  },
  {
   "cell_type":"code",
   "source":[
    "group2 = store_df.groupby(by=['기준_년_코드', '서비스_업종_번호'])['점포_수'].count()\n",
    "group2"
   ],
   "execution_count":null,
   "outputs":[
    
   ],
   "metadata":{
    "datalore":{
     "node_id":"fqnv2JNaTJNuXeTSmN50Ko",
     "type":"CODE",
     "hide_input_from_viewers":false,
     "hide_output_from_viewers":false,
     "report_properties":{
      "y":397
     }
    }
   }
  },
  {
   "cell_type":"code",
   "source":[
    "store_ctg_group = store_df.groupby(['기준_년_코드', '서비스_업종_번호'])['점포_수'].count().unstack()\n",
    "store_ctg_group.plot.bar(rot=0)"
   ],
   "execution_count":null,
   "outputs":[
    
   ],
   "metadata":{
    "datalore":{
     "node_id":"LQT6fmqshJQB92o8JOShN9",
     "type":"CODE",
     "hide_input_from_viewers":false,
     "hide_output_from_viewers":false,
     "report_properties":{
      "y":400
     }
    }
   }
  },
  {
   "cell_type":"code",
   "source":[
    "store_ctg_group.plot.bar(stacked=True, rot=0)"
   ],
   "execution_count":null,
   "outputs":[
    
   ],
   "metadata":{
    "datalore":{
     "node_id":"YosF7ZzLwlzHuzzD8VmB38",
     "type":"CODE",
     "hide_input_from_viewers":false,
     "hide_output_from_viewers":false,
     "report_properties":{
      "y":403
     }
    }
   }
  },
  {
   "cell_type":"markdown",
   "source":[
    "서비스업(2)과 소매업(3)이 크게 감소 (특히나 소매업 감소 大)"
   ],
   "attachments":{
    
   },
   "metadata":{
    "datalore":{
     "node_id":"vsBlCkuBjBIZCLKO4y8f4Y",
     "type":"MD",
     "hide_input_from_viewers":false,
     "hide_output_from_viewers":false,
     "report_properties":{
      "y":406
     }
    }
   }
  },
  {
   "cell_type":"code",
   "source":[
    "# unstack()과 결과 동일 \n",
    "# store_ctg_group = store_df.groupby(['기준_년_코드', '서비스_업종_번호'])['점포_수'].count()\n",
    "# store_ctg_group.reset_index().pivot(index='기준_년_코드',columns='서비스_업종_번호',values='점포_수')"
   ],
   "execution_count":null,
   "outputs":[
    
   ],
   "metadata":{
    "datalore":{
     "node_id":"iIq57VA5P1MAsJuLaF385e",
     "type":"CODE",
     "hide_input_from_viewers":false,
     "hide_output_from_viewers":false,
     "report_properties":{
      "y":409
     }
    }
   }
  },
  {
   "cell_type":"code",
   "source":[
    
   ],
   "execution_count":null,
   "outputs":[
    
   ],
   "metadata":{
    "datalore":{
     "node_id":"mj5kCFTmzcqJKj7D7uEUKT",
     "type":"CODE",
     "hide_input_from_viewers":true,
     "hide_output_from_viewers":true
    }
   }
  },
  {
   "cell_type":"code",
   "source":[
    "store_df"
   ],
   "execution_count":null,
   "outputs":[
    
   ],
   "metadata":{
    "datalore":{
     "node_id":"gVjgoNghT7giIaoNf7vDZw",
     "type":"CODE",
     "hide_input_from_viewers":false,
     "hide_output_from_viewers":false,
     "report_properties":{
      "y":412
     }
    }
   }
  },
  {
   "cell_type":"code",
   "source":[
    
   ],
   "execution_count":null,
   "outputs":[
    
   ],
   "metadata":{
    "datalore":{
     "node_id":"KhVLHHS2zkIzcBagt5JSTA",
     "type":"CODE",
     "hide_input_from_viewers":true,
     "hide_output_from_viewers":true
    }
   }
  },
  {
   "cell_type":"code",
   "source":[
    "import pandas as pd\n",
    "import numpy as np"
   ],
   "execution_count":null,
   "outputs":[
    
   ],
   "metadata":{
    "datalore":{
     "node_id":"JWaEZiGiV2jETNS8noyntO",
     "type":"CODE",
     "hide_input_from_viewers":false,
     "hide_output_from_viewers":false,
     "report_properties":{
      "y":415
     }
    }
   }
  },
  {
   "cell_type":"code",
   "source":[
    "# 서울시 우리마을가게 상권분석서비스(추정매출)\n",
    "sales_df = pd.read_csv('\/data\/notebook_files\/서울시_우리마을가게_상권분석서비스(신_상권_추정매출)_2020년.csv')"
   ],
   "execution_count":null,
   "outputs":[
    
   ],
   "metadata":{
    "datalore":{
     "node_id":"YsVHmH8sOaQKc76rjAytjq",
     "type":"CODE",
     "hide_input_from_viewers":false,
     "hide_output_from_viewers":false,
     "report_properties":{
      "y":418
     }
    }
   }
  },
  {
   "cell_type":"code",
   "source":[
    "sales_df.head()"
   ],
   "execution_count":null,
   "outputs":[
    
   ],
   "metadata":{
    "datalore":{
     "node_id":"Igvc9Vcgso6lUrW9sSWcHM",
     "type":"CODE",
     "hide_input_from_viewers":false,
     "hide_output_from_viewers":false,
     "report_properties":{
      "y":421
     }
    }
   }
  },
  {
   "cell_type":"code",
   "source":[
    
   ],
   "execution_count":null,
   "outputs":[
    
   ],
   "metadata":{
    "datalore":{
     "node_id":"0S0Qe8z7zh8ONkru6604Cc",
     "type":"CODE",
     "hide_input_from_viewers":true,
     "hide_output_from_viewers":true
    }
   }
  },
  {
   "cell_type":"code",
   "source":[
    "# 연도별로 \n",
    "# 상권코드가 일치하는 항목끼리 \n",
    "# 1분기 + 2분기 + 3분기 + 4분기 매출값을 더해라 "
   ],
   "execution_count":null,
   "outputs":[
    
   ],
   "metadata":{
    "datalore":{
     "node_id":"2J6lezjztX21XnkWY6XPfu",
     "type":"CODE",
     "hide_input_from_viewers":false,
     "hide_output_from_viewers":false,
     "report_properties":{
      "y":424
     }
    }
   }
  },
  {
   "cell_type":"code",
   "source":[
    "total_sales = sales_df.groupby(['기준_년_코드', '상권_코드'])['분기당_매출_금액'].sum()\n",
    "total_sales_df = pd.DataFrame(total_sales.reset_index())\n",
    "total_sales_df"
   ],
   "execution_count":null,
   "outputs":[
    
   ],
   "metadata":{
    "datalore":{
     "node_id":"OM1Hw4ybKErHW3CYrJ1M28",
     "type":"CODE",
     "hide_input_from_viewers":false,
     "hide_output_from_viewers":false,
     "report_properties":{
      "y":427
     }
    }
   }
  },
  {
   "cell_type":"code",
   "source":[
    "total_sales_df = pd.DataFrame(sales_df.groupby(['기준_년_코드', '상권_코드'])['분기당_매출_금액'].sum().reset_index())\n",
    "total_sales_df"
   ],
   "execution_count":null,
   "outputs":[
    
   ],
   "metadata":{
    "datalore":{
     "node_id":"EgmlfmEM58WIpcLNsQGInb",
     "type":"CODE",
     "hide_input_from_viewers":false,
     "hide_output_from_viewers":false,
     "report_properties":{
      "y":430
     }
    }
   }
  },
  {
   "cell_type":"code",
   "source":[
    "def quartely_sales(df):\n",
    "    sales_2022_df = df.loc[df['기준_년_코드']==2022] \n",
    "    q3_df = sales_2022_df.loc[sales_2022_df['기준_분기_코드']==3]\n",
    "    df = df.append(q3_df, ignore_index=True)\n",
    "\n",
    "    total_sales_df = pd.DataFrame(df.groupby(['기준_년_코드', '상권_코드'])['분기당_매출_금액'].sum().reset_index())\n",
    "    return total_sales_df"
   ],
   "execution_count":null,
   "outputs":[
    
   ],
   "metadata":{
    "datalore":{
     "node_id":"EP2Vf1aTuMQU6cKO3uyVR2",
     "type":"CODE",
     "hide_input_from_viewers":false,
     "hide_output_from_viewers":false,
     "report_properties":{
      "y":433
     }
    }
   }
  },
  {
   "cell_type":"code",
   "source":[
    "# 서울시 우리마을가게 상권분석서비스(추정매출) - 2022 ver \n",
    "sales2022_df = pd.read_csv('\/data\/notebook_files\/서울시 우리마을가게 상권분석서비스(상권-추정매출)_2022년 3분기 까지.csv')"
   ],
   "execution_count":null,
   "outputs":[
    
   ],
   "metadata":{
    "datalore":{
     "node_id":"IMHrvWZsqOFdtroA90aeRL",
     "type":"CODE",
     "hide_input_from_viewers":false,
     "hide_output_from_viewers":false,
     "report_properties":{
      "y":436
     }
    }
   }
  },
  {
   "cell_type":"code",
   "source":[
    "sales2022_df\n",
    "sales2022_3_df = sales2022_df.loc[sales2022_df['기준_분기_코드']==3] # 3분기 데이터만 필터링 \n",
    "\n",
    "# sales2022_df + sales2022_3_df 병합 (새로운 컬럼 없이 아래로 통합)\n",
    "sales2022_df = sales2022_df.append(sales2022_3_df, ignore_index=True)"
   ],
   "execution_count":null,
   "outputs":[
    
   ],
   "metadata":{
    "datalore":{
     "node_id":"YHE1QMZluRP2EiomsddXnh",
     "type":"CODE",
     "hide_input_from_viewers":false,
     "hide_output_from_viewers":false,
     "report_properties":{
      "y":439
     }
    }
   }
  },
  {
   "cell_type":"code",
   "source":[
    "quartely_sales(sales2022_df)"
   ],
   "execution_count":null,
   "outputs":[
    
   ],
   "metadata":{
    "datalore":{
     "node_id":"TEjIzUVTCiIT3z7XAVt8wI",
     "type":"CODE",
     "hide_input_from_viewers":false,
     "hide_output_from_viewers":false,
     "report_properties":{
      "y":442
     }
    }
   }
  },
  {
   "cell_type":"code",
   "source":[
    "# 데이터 정규화 \n",
    "from sklearn.preprocessing import MinMaxScaler\n",
    "scaler = MinMaxScaler()\n",
    "df_minmax = scaler.fit_transform(df)"
   ],
   "execution_count":null,
   "outputs":[
    
   ],
   "metadata":{
    "datalore":{
     "node_id":"vYRjtMmcy4e9GbcwgOZQJ8",
     "type":"CODE",
     "hide_input_from_viewers":false,
     "hide_output_from_viewers":false,
     "report_properties":{
      "y":445
     }
    }
   }
  },
  {
   "cell_type":"code",
   "source":[
    "df_minmax = scaler.fit_transform(df)"
   ],
   "execution_count":null,
   "outputs":[
    
   ],
   "metadata":{
    "datalore":{
     "node_id":"9g6MkhFy6Ekn4NmH2GCE22",
     "type":"CODE",
     "hide_input_from_viewers":false,
     "hide_output_from_viewers":false,
     "report_properties":{
      "y":448
     }
    }
   }
  },
  {
   "cell_type":"code",
   "source":[
    "# 군집수 찾기 "
   ],
   "execution_count":null,
   "outputs":[
    
   ],
   "metadata":{
    "datalore":{
     "node_id":"o0Citx4xtrS8ROsBSRlAZS",
     "type":"CODE",
     "hide_input_from_viewers":false,
     "hide_output_from_viewers":false,
     "report_properties":{
      "y":451
     }
    }
   }
  },
  {
   "cell_type":"markdown",
   "source":[
    "# covid19"
   ],
   "attachments":{
    
   },
   "metadata":{
    "datalore":{
     "node_id":"covid19",
     "type":"MD",
     "hide_input_from_viewers":false,
     "hide_output_from_viewers":false,
     "sheet_delimiter":true
    }
   }
  },
  {
   "cell_type":"code",
   "source":[
    "# 필수라이브러리 \n",
    "# matplotlib 한글 깨짐 방지\n",
    "\n",
    "import numpy as np\n",
    "import pandas as pd\n",
    "\n",
    "import matplotlib\n",
    "import matplotlib.font_manager as fm\n",
    "import matplotlib.pyplot as plt\n",
    "\n",
    "# import PublicDataReader as pdr\n",
    "\n",
    "fm.get_fontconfig_fonts()\n",
    "font_location = '\/data\/notebook_files\/fonts\/esamanru_Medium.ttf'\n",
    "# font_location = 'C:\/Windows\/Fonts\/NanumGothic.ttf' # For Windows\n",
    "fprop = fm.FontProperties(fname=font_location)\n",
    "\n",
    "# matplotlib.rc('font', family=font_name)"
   ],
   "execution_count":null,
   "outputs":[
    
   ],
   "metadata":{
    "datalore":{
     "node_id":"i9wqG16iBtS89fJgumn02S",
     "type":"CODE",
     "hide_input_from_viewers":true,
     "hide_output_from_viewers":true
    }
   }
  },
  {
   "cell_type":"code",
   "source":[
    "covid_df = pd.read_csv('\/data\/notebook_files\/서울시 코로나19 자치구별 확진자 발생동향.csv', encoding='cp949')"
   ],
   "execution_count":null,
   "outputs":[
    
   ],
   "metadata":{
    "datalore":{
     "node_id":"a4mdHYCKUHnWCHbHDupm9U",
     "type":"CODE",
     "hide_input_from_viewers":true,
     "hide_output_from_viewers":true
    }
   }
  },
  {
   "cell_type":"code",
   "source":[
    "covid_df"
   ],
   "execution_count":null,
   "outputs":[
    
   ],
   "metadata":{
    "datalore":{
     "node_id":"59pIIGXRoLVpTE0JOONzJG",
     "type":"CODE",
     "hide_input_from_viewers":true,
     "hide_output_from_viewers":true
    }
   }
  },
  {
   "cell_type":"code",
   "source":[
    "covid_df.info()"
   ],
   "execution_count":null,
   "outputs":[
    
   ],
   "metadata":{
    "datalore":{
     "node_id":"e4vRMuVNKBJs83FYpFOAlO",
     "type":"CODE",
     "hide_input_from_viewers":true,
     "hide_output_from_viewers":true
    }
   }
  },
  {
   "cell_type":"code",
   "source":[
    "covid_df['자치구 기준일'] = pd.to_datetime(covid_df['자치구 기준일'])"
   ],
   "execution_count":null,
   "outputs":[
    
   ],
   "metadata":{
    "datalore":{
     "node_id":"0oeUAgMm7JHnYJYJaPT7fP",
     "type":"CODE",
     "hide_input_from_viewers":true,
     "hide_output_from_viewers":true
    }
   }
  },
  {
   "cell_type":"code",
   "source":[
    "seoul_covid_df = covid_df[covid_df.columns.drop(list(covid_df.filter(regex='전체')))]\n",
    "seoul_covid_df.drop(['기타 추가'], axis=1, inplace=True)"
   ],
   "execution_count":null,
   "outputs":[
    
   ],
   "metadata":{
    "datalore":{
     "node_id":"CLE2QFhtlJ4X2KU0WZAlcb",
     "type":"CODE",
     "hide_input_from_viewers":true,
     "hide_output_from_viewers":true
    }
   }
  },
  {
   "cell_type":"code",
   "source":[
    "seoul_covid_df"
   ],
   "execution_count":null,
   "outputs":[
    
   ],
   "metadata":{
    "datalore":{
     "node_id":"ThVx9ppojddwVZ0c09Kg7O",
     "type":"CODE",
     "hide_input_from_viewers":true,
     "hide_output_from_viewers":true
    }
   }
  },
  {
   "cell_type":"code",
   "source":[
    "seoul_covid_df.columns = seoul_covid_df.columns.str.replace(' 추가', '')"
   ],
   "execution_count":null,
   "outputs":[
    
   ],
   "metadata":{
    "datalore":{
     "node_id":"ua4Lxr3oI9kTl6ULe5mHbc",
     "type":"CODE",
     "hide_input_from_viewers":true,
     "hide_output_from_viewers":true
    }
   }
  },
  {
   "cell_type":"code",
   "source":[
    "# seoul_covid_df['날짜'] = seoul_covid_df['자치구 기준일'].dt.strftime('%Y-%m')\n",
    "# seoul_covid_df.head(3)"
   ],
   "execution_count":null,
   "outputs":[
    
   ],
   "metadata":{
    "datalore":{
     "node_id":"fkPmosKZadlH2USO1sErPS",
     "type":"CODE",
     "hide_input_from_viewers":true,
     "hide_output_from_viewers":true
    }
   }
  },
  {
   "cell_type":"code",
   "source":[
    "# seoul_covid_df['Year'] = seoul_covid_df['자치구 기준일'].dt.year\n",
    "# seoul_covid_df['Month'] = seoul_covid_df['자치구 기준일'].dt.month"
   ],
   "execution_count":null,
   "outputs":[
    
   ],
   "metadata":{
    "datalore":{
     "node_id":"iB7yb4N8FDJvD0rtskDPAG",
     "type":"CODE",
     "hide_input_from_viewers":true,
     "hide_output_from_viewers":true
    }
   }
  },
  {
   "cell_type":"code",
   "source":[
    "# seoul_covid_df = seoul_covid_df.groupby(['Year', 'Month']).sum().reset_index()"
   ],
   "execution_count":null,
   "outputs":[
    
   ],
   "metadata":{
    "datalore":{
     "node_id":"qgnCQ1thimzrvZjUCa9pd1",
     "type":"CODE",
     "hide_input_from_viewers":true,
     "hide_output_from_viewers":true
    }
   }
  },
  {
   "cell_type":"code",
   "source":[
    "covid2020_df = seoul_covid_df[seoul_covid_df['자치구 기준일'].dt.year==2020]\n",
    "covid2021_df = seoul_covid_df[seoul_covid_df['자치구 기준일'].dt.year==2021]\n",
    "covid2022_df = seoul_covid_df[seoul_covid_df['자치구 기준일'].dt.year==2022]"
   ],
   "execution_count":null,
   "outputs":[
    
   ],
   "metadata":{
    "datalore":{
     "node_id":"MomLfV1ZF0hdf7C0g50pOQ",
     "type":"CODE",
     "hide_input_from_viewers":true,
     "hide_output_from_viewers":true
    }
   }
  },
  {
   "cell_type":"code",
   "source":[
    "covid2020_df.plot(x='자치구 기준일')"
   ],
   "execution_count":null,
   "outputs":[
    
   ],
   "metadata":{
    "datalore":{
     "node_id":"ZFRwaXQdSLeXD3HHMjLNfr",
     "type":"CODE",
     "hide_input_from_viewers":true,
     "hide_output_from_viewers":true
    }
   }
  },
  {
   "cell_type":"code",
   "source":[
    
   ],
   "execution_count":null,
   "outputs":[
    
   ],
   "metadata":{
    "datalore":{
     "node_id":"ukC6ClgH5XKHvGHyy71m9J",
     "type":"CODE",
     "hide_input_from_viewers":true,
     "hide_output_from_viewers":true
    }
   }
  },
  {
   "cell_type":"markdown",
   "source":[
    "# Sheet 20"
   ],
   "attachments":{
    
   },
   "metadata":{
    "datalore":{
     "node_id":"Sheet 20",
     "type":"MD",
     "hide_input_from_viewers":false,
     "hide_output_from_viewers":false,
     "sheet_delimiter":true
    }
   }
  },
  {
   "cell_type":"code",
   "source":[
    "import pandas as pd"
   ],
   "execution_count":null,
   "outputs":[
    
   ],
   "metadata":{
    "datalore":{
     "node_id":"7rrqVB7fXezZBJ5fCA1cHp",
     "type":"CODE",
     "hide_input_from_viewers":true,
     "hide_output_from_viewers":true
    }
   }
  },
  {
   "cell_type":"code",
   "source":[
    "df = pd.read_csv(\"\/data\/notebook_files\/store22\")\n",
    "df.set_index('행정동_코드')"
   ],
   "execution_count":null,
   "outputs":[
    
   ],
   "metadata":{
    "datalore":{
     "node_id":"89qJduAqbZ36PPNL8HQkSJ",
     "type":"CODE",
     "hide_input_from_viewers":true,
     "hide_output_from_viewers":true
    }
   }
  },
  {
   "cell_type":"code",
   "source":[
    
   ],
   "execution_count":null,
   "outputs":[
    
   ],
   "metadata":{
    "datalore":{
     "node_id":"6y6XrLXd94XhyRxiSrfIeP",
     "type":"CODE",
     "hide_input_from_viewers":true,
     "hide_output_from_viewers":true
    }
   }
  }
 ],
 "metadata":{
  "kernelspec":{
   "display_name":"Python",
   "language":"python",
   "name":"python"
  },
  "datalore":{
   "version":1,
   "computation_mode":"JUPYTER",
   "packages":[
    
   ]
  }
 },
 "nbformat":4,
 "nbformat_minor":4
}