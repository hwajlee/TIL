{
 "cells": [
  {
   "cell_type": "markdown",
   "metadata": {},
   "source": [
    "#### 참고 : tensorflow.keras 공식 문서 (Official API Docs) @ https://www.tensorflow.org/api_docs/python/tf/keras"
   ]
  },
  {
   "cell_type": "markdown",
   "metadata": {},
   "source": [
    "<br>\n",
    "\n",
    "## 1. Data loading & preprocessing"
   ]
  },
  {
   "cell_type": "code",
   "execution_count": 1,
   "metadata": {},
   "outputs": [],
   "source": [
    "import pandas as pd\n",
    "import numpy as np\n",
    "import matplotlib.pyplot as plt"
   ]
  },
  {
   "cell_type": "code",
   "execution_count": 2,
   "metadata": {},
   "outputs": [
    {
     "data": {
      "text/html": [
       "<div>\n",
       "<style scoped>\n",
       "    .dataframe tbody tr th:only-of-type {\n",
       "        vertical-align: middle;\n",
       "    }\n",
       "\n",
       "    .dataframe tbody tr th {\n",
       "        vertical-align: top;\n",
       "    }\n",
       "\n",
       "    .dataframe thead th {\n",
       "        text-align: right;\n",
       "    }\n",
       "</style>\n",
       "<table border=\"1\" class=\"dataframe\">\n",
       "  <thead>\n",
       "    <tr style=\"text-align: right;\">\n",
       "      <th></th>\n",
       "      <th>PassengerId</th>\n",
       "      <th>Survived</th>\n",
       "      <th>Pclass</th>\n",
       "      <th>Name</th>\n",
       "      <th>Sex</th>\n",
       "      <th>Age</th>\n",
       "      <th>SibSp</th>\n",
       "      <th>Parch</th>\n",
       "      <th>Ticket</th>\n",
       "      <th>Fare</th>\n",
       "      <th>Cabin</th>\n",
       "      <th>Embarked</th>\n",
       "    </tr>\n",
       "  </thead>\n",
       "  <tbody>\n",
       "    <tr>\n",
       "      <th>0</th>\n",
       "      <td>1</td>\n",
       "      <td>0</td>\n",
       "      <td>3</td>\n",
       "      <td>Braund, Mr. Owen Harris</td>\n",
       "      <td>male</td>\n",
       "      <td>22.0</td>\n",
       "      <td>1</td>\n",
       "      <td>0</td>\n",
       "      <td>A/5 21171</td>\n",
       "      <td>7.2500</td>\n",
       "      <td>NaN</td>\n",
       "      <td>S</td>\n",
       "    </tr>\n",
       "    <tr>\n",
       "      <th>1</th>\n",
       "      <td>2</td>\n",
       "      <td>1</td>\n",
       "      <td>1</td>\n",
       "      <td>Cumings, Mrs. John Bradley (Florence Briggs Th...</td>\n",
       "      <td>female</td>\n",
       "      <td>38.0</td>\n",
       "      <td>1</td>\n",
       "      <td>0</td>\n",
       "      <td>PC 17599</td>\n",
       "      <td>71.2833</td>\n",
       "      <td>C85</td>\n",
       "      <td>C</td>\n",
       "    </tr>\n",
       "    <tr>\n",
       "      <th>2</th>\n",
       "      <td>3</td>\n",
       "      <td>1</td>\n",
       "      <td>3</td>\n",
       "      <td>Heikkinen, Miss. Laina</td>\n",
       "      <td>female</td>\n",
       "      <td>26.0</td>\n",
       "      <td>0</td>\n",
       "      <td>0</td>\n",
       "      <td>STON/O2. 3101282</td>\n",
       "      <td>7.9250</td>\n",
       "      <td>NaN</td>\n",
       "      <td>S</td>\n",
       "    </tr>\n",
       "  </tbody>\n",
       "</table>\n",
       "</div>"
      ],
      "text/plain": [
       "   PassengerId  Survived  Pclass  \\\n",
       "0            1         0       3   \n",
       "1            2         1       1   \n",
       "2            3         1       3   \n",
       "\n",
       "                                                Name     Sex   Age  SibSp  \\\n",
       "0                            Braund, Mr. Owen Harris    male  22.0      1   \n",
       "1  Cumings, Mrs. John Bradley (Florence Briggs Th...  female  38.0      1   \n",
       "2                             Heikkinen, Miss. Laina  female  26.0      0   \n",
       "\n",
       "   Parch            Ticket     Fare Cabin Embarked  \n",
       "0      0         A/5 21171   7.2500   NaN        S  \n",
       "1      0          PC 17599  71.2833   C85        C  \n",
       "2      0  STON/O2. 3101282   7.9250   NaN        S  "
      ]
     },
     "execution_count": 2,
     "metadata": {},
     "output_type": "execute_result"
    }
   ],
   "source": [
    "titanic_df = pd.read_csv(\"titanic.csv\")\n",
    "titanic_df.head(3)"
   ]
  },
  {
   "cell_type": "code",
   "execution_count": 3,
   "metadata": {},
   "outputs": [
    {
     "data": {
      "text/html": [
       "<div>\n",
       "<style scoped>\n",
       "    .dataframe tbody tr th:only-of-type {\n",
       "        vertical-align: middle;\n",
       "    }\n",
       "\n",
       "    .dataframe tbody tr th {\n",
       "        vertical-align: top;\n",
       "    }\n",
       "\n",
       "    .dataframe thead th {\n",
       "        text-align: right;\n",
       "    }\n",
       "</style>\n",
       "<table border=\"1\" class=\"dataframe\">\n",
       "  <thead>\n",
       "    <tr style=\"text-align: right;\">\n",
       "      <th></th>\n",
       "      <th>Survived</th>\n",
       "      <th>Pclass</th>\n",
       "      <th>Sex</th>\n",
       "      <th>Age</th>\n",
       "      <th>Fare</th>\n",
       "      <th>Embarked</th>\n",
       "      <th>Title</th>\n",
       "      <th>FamilySize</th>\n",
       "      <th>isAlone</th>\n",
       "    </tr>\n",
       "  </thead>\n",
       "  <tbody>\n",
       "    <tr>\n",
       "      <th>0</th>\n",
       "      <td>0</td>\n",
       "      <td>3</td>\n",
       "      <td>0</td>\n",
       "      <td>1.0</td>\n",
       "      <td>0.0</td>\n",
       "      <td>0</td>\n",
       "      <td>3</td>\n",
       "      <td>0.4</td>\n",
       "      <td>0</td>\n",
       "    </tr>\n",
       "    <tr>\n",
       "      <th>1</th>\n",
       "      <td>1</td>\n",
       "      <td>1</td>\n",
       "      <td>1</td>\n",
       "      <td>2.0</td>\n",
       "      <td>0.0</td>\n",
       "      <td>2</td>\n",
       "      <td>4</td>\n",
       "      <td>0.4</td>\n",
       "      <td>0</td>\n",
       "    </tr>\n",
       "    <tr>\n",
       "      <th>2</th>\n",
       "      <td>1</td>\n",
       "      <td>3</td>\n",
       "      <td>1</td>\n",
       "      <td>1.0</td>\n",
       "      <td>0.0</td>\n",
       "      <td>0</td>\n",
       "      <td>2</td>\n",
       "      <td>0.0</td>\n",
       "      <td>1</td>\n",
       "    </tr>\n",
       "  </tbody>\n",
       "</table>\n",
       "</div>"
      ],
      "text/plain": [
       "   Survived  Pclass  Sex  Age  Fare  Embarked  Title  FamilySize  isAlone\n",
       "0         0       3    0  1.0   0.0         0      3         0.4        0\n",
       "1         1       1    1  2.0   0.0         2      4         0.4        0\n",
       "2         1       3    1  1.0   0.0         0      2         0.0        1"
      ]
     },
     "execution_count": 3,
     "metadata": {},
     "output_type": "execute_result"
    }
   ],
   "source": [
    "del titanic_df['Cabin'] # 너무 많은 결측치가 존재\n",
    "del titanic_df['PassengerId'] # Passenger 번호는 큰 의미를 갖고있지 않은 일련번호\n",
    "del titanic_df['Ticket'] # ticket 번호에서 패턴이 확인되지 않음\n",
    "\n",
    "\n",
    "titanic_df['Title'] = titanic_df['Name'].str.extract('([A-Za-z]+)\\.', expand=False)\n",
    "del titanic_df['Name'] # 호칭만 남김\n",
    "\n",
    "rare_title = []\n",
    "for title in set(titanic_df['Title']):\n",
    "    if list(titanic_df['Title']).count(title) < 10:\n",
    "        rare_title.append(title)\n",
    "\n",
    "titanic_df['Title'] = titanic_df['Title'].replace('Mlle', 'Miss') # Mademoiselle\n",
    "titanic_df['Title'] = titanic_df['Title'].replace('Ms', 'Miss') \n",
    "titanic_df['Title'] = titanic_df['Title'].replace('Mme', 'Mrs') # Madame\n",
    "titanic_df['Title'] = titanic_df['Title'].replace(rare_title, 'Rare')\n",
    "\n",
    "title_mapping = {\"Master\":1, \"Miss\":2, \"Mr\":3, \"Mrs\":4, \"Rare\":5 }\n",
    "titanic_df['Title'] = titanic_df['Title'].map(title_mapping)\n",
    "titanic_df['Title'] = titanic_df['Title'].fillna(0)\n",
    "titanic_df['Title'].astype(int)\n",
    "\n",
    "\n",
    "sex_mapping = {\"male\": 0 , \"female\":1} \n",
    "titanic_df['Sex'] = titanic_df['Sex'].map(sex_mapping)\n",
    "\n",
    "\n",
    "titanic_df['Embarked'] = titanic_df['Embarked'].fillna('S')\n",
    "mapping_data ={\"S\":0, \"Q\":1, \"C\":2}\n",
    "titanic_df[\"Embarked\"] = titanic_df[\"Embarked\"].map(mapping_data)\n",
    "\n",
    "\n",
    "titanic_df.loc[ titanic_df['Fare'] <= 102, 'Fare'] = 0\n",
    "titanic_df.loc[(titanic_df['Fare'] > 102) & (titanic_df['Fare'] <= 204), 'Fare'] = 1\n",
    "titanic_df.loc[(titanic_df['Fare'] > 204) & (titanic_df['Fare'] <= 307), 'Fare'] = 2\n",
    "titanic_df.loc[ titanic_df['Fare'] > 307, 'Fare'] = 4\n",
    "\n",
    "\n",
    "titanic_df[\"FamilySize\"] = titanic_df[\"SibSp\"] + titanic_df[\"Parch\"] +1\n",
    "del titanic_df['SibSp']\n",
    "del titanic_df['Parch']\n",
    "\n",
    "titanic_df['isAlone'] = 0\n",
    "titanic_df.loc[titanic_df['FamilySize'] == 1, 'isAlone'] = 1\n",
    "\n",
    "family_mapping = {1: 0, 2: 0.4, 3: 0.8, 4: 1.2, 5: 1.6, 6: 2, 7: 2.4, 8: 2.8, 9: 3.2, 10: 3.6, 11: 4}\n",
    "titanic_df['FamilySize'] = titanic_df['FamilySize'].map(family_mapping)\n",
    "\n",
    "\n",
    "titanic_df[\"Age\"].fillna(titanic_df.groupby(\"Title\")[\"Age\"].transform(\"median\"), inplace=True)\n",
    "\n",
    "titanic_df.loc[ titanic_df['Age'] <= 16, 'Age'] = 0\n",
    "titanic_df.loc[(titanic_df['Age'] > 16) & (titanic_df['Age'] <= 32), 'Age'] = 1\n",
    "titanic_df.loc[(titanic_df['Age'] > 32) & (titanic_df['Age'] <= 48), 'Age'] = 2\n",
    "titanic_df.loc[(titanic_df['Age'] > 48) & (titanic_df['Age'] <= 64), 'Age'] = 3\n",
    "titanic_df.loc[ titanic_df['Age'] > 64, 'Age'] = 4\n",
    "\n",
    "titanic_df.head(3)"
   ]
  },
  {
   "cell_type": "markdown",
   "metadata": {},
   "source": [
    "<br>\n",
    "\n",
    "## 2. Devide dataframe into X & Y -> Train X / Test X / Train Y / Test Y"
   ]
  },
  {
   "cell_type": "code",
   "execution_count": 11,
   "metadata": {},
   "outputs": [],
   "source": [
    "titanic_target = titanic_df[['Survived']].copy()\n",
    "titanic_data = titanic_df.copy()\n",
    "\n",
    "del titanic_data['Survived']"
   ]
  },
  {
   "cell_type": "code",
   "execution_count": 12,
   "metadata": {},
   "outputs": [],
   "source": [
    "from sklearn import model_selection"
   ]
  },
  {
   "cell_type": "code",
   "execution_count": 13,
   "metadata": {},
   "outputs": [
    {
     "name": "stdout",
     "output_type": "stream",
     "text": [
      "(623, 8)\n",
      "(268, 8)\n",
      "(623, 1)\n",
      "(268, 1)\n"
     ]
    }
   ],
   "source": [
    "train_data, test_data, train_label, test_label = model_selection.train_test_split(titanic_data, titanic_target,\n",
    "                                                                                 test_size=0.3,\n",
    "                                                                                 random_state=0)\n",
    "print(train_data.shape)\n",
    "print(test_data.shape)\n",
    "print(train_label.shape)\n",
    "print(test_label.shape)"
   ]
  },
  {
   "cell_type": "markdown",
   "metadata": {},
   "source": [
    "<br>\n",
    "\n",
    "## 3. Change normal labels to one-hot labels"
   ]
  },
  {
   "cell_type": "code",
   "execution_count": 14,
   "metadata": {},
   "outputs": [
    {
     "data": {
      "text/html": [
       "<div>\n",
       "<style scoped>\n",
       "    .dataframe tbody tr th:only-of-type {\n",
       "        vertical-align: middle;\n",
       "    }\n",
       "\n",
       "    .dataframe tbody tr th {\n",
       "        vertical-align: top;\n",
       "    }\n",
       "\n",
       "    .dataframe thead th {\n",
       "        text-align: right;\n",
       "    }\n",
       "</style>\n",
       "<table border=\"1\" class=\"dataframe\">\n",
       "  <thead>\n",
       "    <tr style=\"text-align: right;\">\n",
       "      <th></th>\n",
       "      <th>Survived</th>\n",
       "    </tr>\n",
       "  </thead>\n",
       "  <tbody>\n",
       "    <tr>\n",
       "      <th>857</th>\n",
       "      <td>1</td>\n",
       "    </tr>\n",
       "    <tr>\n",
       "      <th>52</th>\n",
       "      <td>1</td>\n",
       "    </tr>\n",
       "    <tr>\n",
       "      <th>386</th>\n",
       "      <td>0</td>\n",
       "    </tr>\n",
       "    <tr>\n",
       "      <th>124</th>\n",
       "      <td>0</td>\n",
       "    </tr>\n",
       "    <tr>\n",
       "      <th>578</th>\n",
       "      <td>0</td>\n",
       "    </tr>\n",
       "  </tbody>\n",
       "</table>\n",
       "</div>"
      ],
      "text/plain": [
       "     Survived\n",
       "857         1\n",
       "52          1\n",
       "386         0\n",
       "124         0\n",
       "578         0"
      ]
     },
     "execution_count": 14,
     "metadata": {},
     "output_type": "execute_result"
    }
   ],
   "source": [
    "train_label[:5]"
   ]
  },
  {
   "cell_type": "code",
   "execution_count": 15,
   "metadata": {},
   "outputs": [
    {
     "name": "stdout",
     "output_type": "stream",
     "text": [
      "(623, 2)\n",
      "(268, 2)\n"
     ]
    }
   ],
   "source": [
    "from tensorflow.keras import utils\n",
    "\n",
    "train_label = utils.to_categorical(train_label) # 0 or 1 -> one-hot vector\n",
    "test_label = utils.to_categorical(test_label) # 0 or 1 -> one-hot vector\n",
    "\n",
    "print(train_label.shape) \n",
    "print(test_label.shape) \n",
    "\n",
    "# from sklearn import preprocessing\n",
    "# enc = preprocessing.OneHotEncoder(categories='auto') # Apply 'One-hot encoding' on labels (Single integer to One-hot vector)\n",
    "# train_label = enc.fit_transform(train_label).toarray()\n",
    "# test_label = enc.fit_transform(test_label).toarray()"
   ]
  },
  {
   "cell_type": "code",
   "execution_count": 16,
   "metadata": {},
   "outputs": [
    {
     "data": {
      "text/plain": [
       "array([[0., 1.],\n",
       "       [0., 1.],\n",
       "       [1., 0.],\n",
       "       ...,\n",
       "       [1., 0.],\n",
       "       [0., 1.],\n",
       "       [1., 0.]], dtype=float32)"
      ]
     },
     "execution_count": 16,
     "metadata": {},
     "output_type": "execute_result"
    }
   ],
   "source": [
    "train_label"
   ]
  },
  {
   "cell_type": "markdown",
   "metadata": {},
   "source": [
    "<br>\n",
    "\n",
    "## 4. Build & Train the model "
   ]
  },
  {
   "cell_type": "code",
   "execution_count": 9,
   "metadata": {},
   "outputs": [],
   "source": [
    "import tensorflow as tf\n",
    "\n",
    "# tf.keras 에 필요한 함수들이 모여있습니다.\n",
    "\n",
    "from tensorflow.keras import datasets, utils\n",
    "from tensorflow.keras import models, layers, activations, initializers, losses, optimizers, metrics"
   ]
  },
  {
   "cell_type": "code",
   "execution_count": 21,
   "metadata": {},
   "outputs": [],
   "source": [
    "import os\n",
    "os.environ['TF_CPP_MIN_LOG_LEVEL'] = '2' # https://stackoverflow.com/questions/35911252/disable-tensorflow-debugging-information"
   ]
  },
  {
   "cell_type": "code",
   "execution_count": 17,
   "metadata": {
    "scrolled": true
   },
   "outputs": [],
   "source": [
    "model = models.Sequential() \n",
    "\n",
    "# 첫 번째 hidden layer \n",
    "model.add(layers.Dense(input_dim=8, units=256, activation=None, kernel_initializer=initializers.he_uniform())) \n",
    "# model.add(layers.BatchNormalization()) # Use this line as if needed\n",
    "# batch normalization은 속도 향상에 main focus가 맞춰져 있음 (overfiting 개선은 될 수도 안 될 수도 있음->drop out이 더 효과적)\n",
    "model.add(layers.Activation('elu')) # elu or relu (or layers.ELU / layers.LeakyReLU)\n",
    "\n",
    "# 두 번째 hidden layer \n",
    "model.add(layers.Dense(units=512, activation=None, kernel_initializer=initializers.he_uniform())) \n",
    "model.add(layers.Activation('elu')) \n",
    "\n",
    "# 세 번째 hidden layer \n",
    "model.add(layers.Dense(units=512, activation=None, kernel_initializer=initializers.he_uniform())) \n",
    "model.add(layers.Activation('elu'))\n",
    "\n",
    "# 네 번째 hidden layer \n",
    "model.add(layers.Dense(units=256, activation=None, kernel_initializer=initializers.he_uniform())) \n",
    "model.add(layers.Activation('elu')) \n",
    "model.add(layers.Dropout(rate=0.5)) # Dropout-layer\n",
    "\n",
    "# Output layer\n",
    "model.add(layers.Dense(units=2, activation='softmax')) # One-hot vector for 0 & 1"
   ]
  },
  {
   "cell_type": "code",
   "execution_count": 18,
   "metadata": {},
   "outputs": [],
   "source": [
    "# \"Compile\" the model description (Configures the model for training)\n",
    "\n",
    "model.compile(optimizer=optimizers.Adam(), # Please try the Adam-optimizer\n",
    "              loss=losses.categorical_crossentropy, \n",
    "              metrics=[metrics.categorical_accuracy]) # Precision / Recall / F1-Score 적용하기 @ https://j.mp/3cf3lbi"
   ]
  },
  {
   "cell_type": "code",
   "execution_count": 20,
   "metadata": {},
   "outputs": [
    {
     "name": "stdout",
     "output_type": "stream",
     "text": [
      "Model: \"sequential\"\n",
      "_________________________________________________________________\n",
      "Layer (type)                 Output Shape              Param #   \n",
      "=================================================================\n",
      "dense (Dense)                (None, 256)               2304      \n",
      "_________________________________________________________________\n",
      "activation (Activation)      (None, 256)               0         \n",
      "_________________________________________________________________\n",
      "dense_1 (Dense)              (None, 512)               131584    \n",
      "_________________________________________________________________\n",
      "activation_1 (Activation)    (None, 512)               0         \n",
      "_________________________________________________________________\n",
      "dense_2 (Dense)              (None, 512)               262656    \n",
      "_________________________________________________________________\n",
      "activation_2 (Activation)    (None, 512)               0         \n",
      "_________________________________________________________________\n",
      "dense_3 (Dense)              (None, 256)               131328    \n",
      "_________________________________________________________________\n",
      "activation_3 (Activation)    (None, 256)               0         \n",
      "_________________________________________________________________\n",
      "dropout (Dropout)            (None, 256)               0         \n",
      "_________________________________________________________________\n",
      "dense_4 (Dense)              (None, 2)                 514       \n",
      "=================================================================\n",
      "Total params: 528,386\n",
      "Trainable params: 528,386\n",
      "Non-trainable params: 0\n",
      "_________________________________________________________________\n"
     ]
    }
   ],
   "source": [
    "model.summary()"
   ]
  },
  {
   "cell_type": "code",
   "execution_count": 19,
   "metadata": {},
   "outputs": [
    {
     "name": "stdout",
     "output_type": "stream",
     "text": [
      "Epoch 1/20\n",
      "5/5 [==============================] - 0s 27ms/step - loss: 5.7050 - categorical_accuracy: 0.5894 - val_loss: 3.9859 - val_categorical_accuracy: 0.4439\n",
      "Epoch 2/20\n",
      "5/5 [==============================] - 0s 7ms/step - loss: 2.5236 - categorical_accuracy: 0.5986 - val_loss: 2.4867 - val_categorical_accuracy: 0.5829\n",
      "Epoch 3/20\n",
      "5/5 [==============================] - 0s 7ms/step - loss: 1.2597 - categorical_accuracy: 0.7385 - val_loss: 0.7183 - val_categorical_accuracy: 0.7487\n",
      "Epoch 4/20\n",
      "5/5 [==============================] - 0s 7ms/step - loss: 0.9120 - categorical_accuracy: 0.7064 - val_loss: 1.0118 - val_categorical_accuracy: 0.6738\n",
      "Epoch 5/20\n",
      "5/5 [==============================] - 0s 7ms/step - loss: 0.7726 - categorical_accuracy: 0.7661 - val_loss: 0.4856 - val_categorical_accuracy: 0.7914\n",
      "Epoch 6/20\n",
      "5/5 [==============================] - 0s 6ms/step - loss: 0.6881 - categorical_accuracy: 0.6972 - val_loss: 0.7589 - val_categorical_accuracy: 0.7594\n",
      "Epoch 7/20\n",
      "5/5 [==============================] - 0s 7ms/step - loss: 0.6977 - categorical_accuracy: 0.8005 - val_loss: 0.4635 - val_categorical_accuracy: 0.8235\n",
      "Epoch 8/20\n",
      "5/5 [==============================] - 0s 6ms/step - loss: 0.5972 - categorical_accuracy: 0.7477 - val_loss: 0.4710 - val_categorical_accuracy: 0.8182\n",
      "Epoch 9/20\n",
      "5/5 [==============================] - 0s 7ms/step - loss: 0.5524 - categorical_accuracy: 0.7729 - val_loss: 0.6932 - val_categorical_accuracy: 0.7005\n",
      "Epoch 10/20\n",
      "5/5 [==============================] - 0s 7ms/step - loss: 0.5572 - categorical_accuracy: 0.7982 - val_loss: 0.4632 - val_categorical_accuracy: 0.8289\n",
      "Epoch 11/20\n",
      "5/5 [==============================] - 0s 7ms/step - loss: 0.5637 - categorical_accuracy: 0.7638 - val_loss: 0.5533 - val_categorical_accuracy: 0.8075\n",
      "Epoch 12/20\n",
      "5/5 [==============================] - 0s 7ms/step - loss: 0.5477 - categorical_accuracy: 0.8119 - val_loss: 0.5722 - val_categorical_accuracy: 0.7968\n",
      "Epoch 13/20\n",
      "5/5 [==============================] - 0s 6ms/step - loss: 0.5641 - categorical_accuracy: 0.7683 - val_loss: 0.4940 - val_categorical_accuracy: 0.8235\n",
      "Epoch 14/20\n",
      "5/5 [==============================] - 0s 7ms/step - loss: 0.5195 - categorical_accuracy: 0.8165 - val_loss: 0.6441 - val_categorical_accuracy: 0.7968\n",
      "Epoch 15/20\n",
      "5/5 [==============================] - 0s 7ms/step - loss: 0.5006 - categorical_accuracy: 0.7913 - val_loss: 0.5044 - val_categorical_accuracy: 0.8342\n",
      "Epoch 16/20\n",
      "5/5 [==============================] - 0s 7ms/step - loss: 0.5540 - categorical_accuracy: 0.7890 - val_loss: 0.5955 - val_categorical_accuracy: 0.8021\n",
      "Epoch 17/20\n",
      "5/5 [==============================] - 0s 6ms/step - loss: 0.4945 - categorical_accuracy: 0.8005 - val_loss: 0.6078 - val_categorical_accuracy: 0.8021\n",
      "Epoch 18/20\n",
      "5/5 [==============================] - 0s 6ms/step - loss: 0.5008 - categorical_accuracy: 0.8188 - val_loss: 0.4728 - val_categorical_accuracy: 0.8235\n",
      "Epoch 19/20\n",
      "5/5 [==============================] - 0s 7ms/step - loss: 0.5483 - categorical_accuracy: 0.7752 - val_loss: 0.6280 - val_categorical_accuracy: 0.7433\n",
      "Epoch 20/20\n",
      "5/5 [==============================] - 0s 7ms/step - loss: 0.5035 - categorical_accuracy: 0.8234 - val_loss: 0.5491 - val_categorical_accuracy: 0.8075\n"
     ]
    }
   ],
   "source": [
    "# \"Fit\" the model on training data\n",
    "history = model.fit(train_data, train_label, batch_size=100, epochs=20, validation_split=0.3) "
   ]
  },
  {
   "cell_type": "code",
   "execution_count": 21,
   "metadata": {
    "scrolled": true
   },
   "outputs": [
    {
     "name": "stdout",
     "output_type": "stream",
     "text": [
      "9/9 [==============================] - 0s 872us/step - loss: 0.4448 - categorical_accuracy: 0.8284\n",
      "loss (cross-entropy) : 0.4447830021381378\n",
      "test accuracy : 0.8283582329750061\n"
     ]
    }
   ],
   "source": [
    "# \"Evaluate\" the model on test data\n",
    "\n",
    "result = model.evaluate(test_data, test_label)\n",
    "\n",
    "print('loss (cross-entropy) :', result[0])\n",
    "print('test accuracy :', result[1])"
   ]
  },
  {
   "cell_type": "code",
   "execution_count": 22,
   "metadata": {},
   "outputs": [
    {
     "data": {
      "text/plain": [
       "dict_keys(['loss', 'categorical_accuracy', 'val_loss', 'val_categorical_accuracy'])"
      ]
     },
     "execution_count": 22,
     "metadata": {},
     "output_type": "execute_result"
    }
   ],
   "source": [
    "history.history.keys()"
   ]
  },
  {
   "cell_type": "code",
   "execution_count": 25,
   "metadata": {
    "scrolled": false
   },
   "outputs": [
    {
     "data": {
      "image/png": "[encoded data removed]",
      "text/plain": [
       "<Figure size 640x480 with 1 Axes>"
      ]
     },
     "metadata": {},
     "output_type": "display_data"
    }
   ],
   "source": [
    "acc = history.history['categorical_accuracy']\n",
    "val_acc = history.history['val_categorical_accuracy']\n",
    "\n",
    "x_len = np.arange(len(acc)) # array of range\n",
    "\n",
    "plt.plot(x_len, acc, marker='.', c='blue', label=\"Train-set Acc.\")\n",
    "plt.plot(x_len, val_acc, marker='.', c='red', label=\"Validation-set Acc.\")\n",
    "\n",
    "plt.legend(loc='lower right')\n",
    "plt.grid()\n",
    "plt.xlabel('epoch')\n",
    "plt.ylabel('Accuracy')\n",
    "plt.show()"
   ]
  },
  {
   "cell_type": "code",
   "execution_count": 39,
   "metadata": {},
   "outputs": [
    {
     "data": {
      "text/plain": [
       "dict_keys(['loss', 'categorical_accuracy', 'val_loss', 'val_categorical_accuracy'])"
      ]
     },
     "execution_count": 39,
     "metadata": {},
     "output_type": "execute_result"
    }
   ],
   "source": [
    "history.history.keys()"
   ]
  },
  {
   "cell_type": "code",
   "execution_count": 32,
   "metadata": {},
   "outputs": [
    {
     "data": {
      "image/png": "[encoded data removed]",
      "text/plain": [
       "<Figure size 640x480 with 1 Axes>"
      ]
     },
     "metadata": {},
     "output_type": "display_data"
    }
   ],
   "source": [
    "loss = history.history['loss']\n",
    "val_loss = history.history['val_loss']\n",
    "\n",
    "x_len = np.arange(len(acc))\n",
    "\n",
    "plt.plot(x_len, loss, marker='.', c='blue', label=\"Train-set loss.\")\n",
    "plt.plot(x_len, val_loss, marker='.', c='red', label=\"Validation-set loss.\")\n",
    "\n",
    "plt.legend(loc='upper right')\n",
    "plt.grid()\n",
    "plt.xlabel('epoch')\n",
    "plt.ylabel('Cross-entropy')\n",
    "plt.show()"
   ]
  },
  {
   "cell_type": "code",
   "execution_count": 33,
   "metadata": {},
   "outputs": [
    {
     "data": {
      "text/html": [
       "<div>\n",
       "<style scoped>\n",
       "    .dataframe tbody tr th:only-of-type {\n",
       "        vertical-align: middle;\n",
       "    }\n",
       "\n",
       "    .dataframe tbody tr th {\n",
       "        vertical-align: top;\n",
       "    }\n",
       "\n",
       "    .dataframe thead th {\n",
       "        text-align: right;\n",
       "    }\n",
       "</style>\n",
       "<table border=\"1\" class=\"dataframe\">\n",
       "  <thead>\n",
       "    <tr style=\"text-align: right;\">\n",
       "      <th></th>\n",
       "      <th>Pclass</th>\n",
       "      <th>Sex</th>\n",
       "      <th>Age</th>\n",
       "      <th>Fare</th>\n",
       "      <th>Embarked</th>\n",
       "      <th>Title</th>\n",
       "      <th>FamilySize</th>\n",
       "      <th>isAlone</th>\n",
       "    </tr>\n",
       "  </thead>\n",
       "  <tbody>\n",
       "    <tr>\n",
       "      <th>495</th>\n",
       "      <td>3</td>\n",
       "      <td>0</td>\n",
       "      <td>1.0</td>\n",
       "      <td>0.0</td>\n",
       "      <td>2</td>\n",
       "      <td>3</td>\n",
       "      <td>0.0</td>\n",
       "      <td>1</td>\n",
       "    </tr>\n",
       "    <tr>\n",
       "      <th>648</th>\n",
       "      <td>3</td>\n",
       "      <td>0</td>\n",
       "      <td>1.0</td>\n",
       "      <td>0.0</td>\n",
       "      <td>0</td>\n",
       "      <td>3</td>\n",
       "      <td>0.0</td>\n",
       "      <td>1</td>\n",
       "    </tr>\n",
       "    <tr>\n",
       "      <th>278</th>\n",
       "      <td>3</td>\n",
       "      <td>0</td>\n",
       "      <td>0.0</td>\n",
       "      <td>0.0</td>\n",
       "      <td>1</td>\n",
       "      <td>1</td>\n",
       "      <td>2.0</td>\n",
       "      <td>0</td>\n",
       "    </tr>\n",
       "  </tbody>\n",
       "</table>\n",
       "</div>"
      ],
      "text/plain": [
       "     Pclass  Sex  Age  Fare  Embarked  Title  FamilySize  isAlone\n",
       "495       3    0  1.0   0.0         2      3         0.0        1\n",
       "648       3    0  1.0   0.0         0      3         0.0        1\n",
       "278       3    0  0.0   0.0         1      1         2.0        0"
      ]
     },
     "execution_count": 33,
     "metadata": {},
     "output_type": "execute_result"
    }
   ],
   "source": [
    "test_data.head(3)"
   ]
  },
  {
   "cell_type": "code",
   "execution_count": 26,
   "metadata": {},
   "outputs": [
    {
     "data": {
      "text/plain": [
       "array([[9.11593497e-01, 8.84065256e-02],\n",
       "       [8.93760383e-01, 1.06239557e-01],\n",
       "       [9.86705840e-01, 1.32941632e-02],\n",
       "       [1.12314231e-03, 9.98876870e-01],\n",
       "       [3.53452712e-01, 6.46547258e-01],\n",
       "       [9.03464675e-01, 9.65352952e-02],\n",
       "       [3.05479206e-03, 9.96945202e-01],\n",
       "       [1.20081771e-02, 9.87991869e-01],\n",
       "       [6.73485518e-01, 3.26514572e-01],\n",
       "       [4.57728267e-01, 5.42271793e-01],\n",
       "       [9.72098351e-01, 2.79016346e-02],\n",
       "       [1.80625930e-01, 8.19374144e-01],\n",
       "       [8.96682858e-01, 1.03317119e-01],\n",
       "       [5.91172874e-02, 9.40882683e-01],\n",
       "       [6.21526386e-04, 9.99378443e-01],\n",
       "       [1.12628445e-01, 8.87371540e-01],\n",
       "       [8.93760383e-01, 1.06239557e-01],\n",
       "       [9.86123204e-01, 1.38768163e-02],\n",
       "       [9.59883809e-01, 4.01162356e-02],\n",
       "       [1.20992146e-01, 8.79007876e-01],\n",
       "       [9.15392041e-01, 8.46079662e-02],\n",
       "       [6.25473587e-03, 9.93745208e-01],\n",
       "       [8.96682858e-01, 1.03317119e-01],\n",
       "       [9.03464675e-01, 9.65352952e-02],\n",
       "       [4.56914783e-01, 5.43085217e-01],\n",
       "       [2.64617684e-03, 9.97353792e-01],\n",
       "       [8.93760383e-01, 1.06239557e-01],\n",
       "       [4.56914783e-01, 5.43085217e-01],\n",
       "       [1.21637797e-02, 9.87836182e-01],\n",
       "       [9.22432542e-01, 7.75674582e-02],\n",
       "       [9.61763620e-01, 3.82364094e-02],\n",
       "       [2.62963623e-01, 7.37036347e-01],\n",
       "       [8.93760383e-01, 1.06239557e-01],\n",
       "       [9.03464675e-01, 9.65352952e-02],\n",
       "       [9.72098351e-01, 2.79016346e-02],\n",
       "       [9.18385863e-01, 8.16141367e-02],\n",
       "       [9.59883809e-01, 4.01162356e-02],\n",
       "       [9.15392041e-01, 8.46079662e-02],\n",
       "       [9.15392041e-01, 8.46079662e-02],\n",
       "       [9.30360258e-01, 6.96397424e-02],\n",
       "       [7.63663888e-01, 2.36336112e-01],\n",
       "       [9.11593497e-01, 8.84065256e-02],\n",
       "       [8.93760383e-01, 1.06239557e-01],\n",
       "       [9.95564461e-01, 4.43560164e-03],\n",
       "       [2.69324548e-04, 9.99730647e-01],\n",
       "       [8.93760383e-01, 1.06239557e-01],\n",
       "       [8.93760383e-01, 1.06239557e-01],\n",
       "       [6.66213571e-04, 9.99333799e-01],\n",
       "       [9.36135292e-01, 6.38647452e-02],\n",
       "       [9.72653270e-01, 2.73468159e-02],\n",
       "       [9.03464675e-01, 9.65352952e-02],\n",
       "       [6.73485518e-01, 3.26514572e-01],\n",
       "       [5.91172874e-02, 9.40882683e-01],\n",
       "       [8.93760383e-01, 1.06239557e-01],\n",
       "       [7.63226092e-01, 2.36773908e-01],\n",
       "       [9.86123204e-01, 1.38768163e-02],\n",
       "       [7.45327353e-01, 2.54672647e-01],\n",
       "       [9.70851660e-01, 2.91483495e-02],\n",
       "       [9.95484710e-01, 4.51530656e-03],\n",
       "       [9.76720929e-01, 2.32790783e-02],\n",
       "       [9.11593497e-01, 8.84065256e-02],\n",
       "       [8.87262166e-01, 1.12737775e-01],\n",
       "       [8.24392599e-04, 9.99175608e-01],\n",
       "       [6.18308365e-01, 3.81691605e-01],\n",
       "       [6.12799704e-01, 3.87200296e-01],\n",
       "       [8.96682858e-01, 1.03317119e-01],\n",
       "       [1.13842450e-03, 9.98861551e-01],\n",
       "       [9.79738355e-01, 2.02616174e-02],\n",
       "       [5.91172874e-02, 9.40882683e-01],\n",
       "       [5.15665102e-04, 9.99484301e-01],\n",
       "       [1.21637797e-02, 9.87836182e-01],\n",
       "       [9.19415295e-01, 8.05847719e-02],\n",
       "       [6.73485518e-01, 3.26514572e-01],\n",
       "       [8.93760383e-01, 1.06239557e-01],\n",
       "       [8.93760383e-01, 1.06239557e-01],\n",
       "       [1.13712564e-01, 8.86287451e-01],\n",
       "       [9.98195231e-01, 1.80481176e-03],\n",
       "       [7.86920488e-01, 2.13079512e-01],\n",
       "       [9.59883809e-01, 4.01162356e-02],\n",
       "       [8.56065214e-01, 1.43934742e-01],\n",
       "       [9.60427284e-01, 3.95727754e-02],\n",
       "       [1.38846919e-01, 8.61153126e-01],\n",
       "       [3.65186445e-02, 9.63481307e-01],\n",
       "       [7.17832983e-01, 2.82166958e-01],\n",
       "       [9.36135292e-01, 6.38647452e-02],\n",
       "       [5.15665102e-04, 9.99484301e-01],\n",
       "       [1.71109350e-04, 9.99828815e-01],\n",
       "       [6.56456172e-01, 3.43543768e-01],\n",
       "       [2.48677544e-02, 9.75132227e-01],\n",
       "       [9.29970860e-01, 7.00291172e-02],\n",
       "       [9.03464675e-01, 9.65352952e-02],\n",
       "       [8.93760383e-01, 1.06239557e-01],\n",
       "       [2.53093630e-01, 7.46906340e-01],\n",
       "       [1.03635779e-04, 9.99896407e-01],\n",
       "       [9.22432661e-01, 7.75673389e-02],\n",
       "       [9.11593497e-01, 8.84065628e-02],\n",
       "       [3.65186445e-02, 9.63481307e-01],\n",
       "       [9.95564461e-01, 4.43560164e-03],\n",
       "       [6.73596799e-01, 3.26403201e-01],\n",
       "       [7.63226092e-01, 2.36773908e-01],\n",
       "       [9.99471009e-01, 5.28968696e-04],\n",
       "       [9.82309997e-01, 1.76900551e-02],\n",
       "       [8.93760383e-01, 1.06239557e-01],\n",
       "       [9.86391187e-01, 1.36088552e-02],\n",
       "       [6.12799704e-01, 3.87200296e-01],\n",
       "       [7.99073935e-01, 2.00926021e-01],\n",
       "       [2.09485814e-02, 9.79051352e-01],\n",
       "       [9.80733275e-01, 1.92667414e-02],\n",
       "       [9.70206499e-01, 2.97935717e-02],\n",
       "       [6.31911337e-01, 3.68088633e-01],\n",
       "       [9.59883809e-01, 4.01162356e-02],\n",
       "       [1.41790355e-04, 9.99858141e-01],\n",
       "       [8.93760383e-01, 1.06239557e-01],\n",
       "       [4.56914783e-01, 5.43085217e-01],\n",
       "       [9.94490862e-01, 5.50911203e-03],\n",
       "       [6.29198998e-02, 9.37080085e-01],\n",
       "       [4.27676558e-01, 5.72323442e-01],\n",
       "       [1.05391018e-01, 8.94608974e-01],\n",
       "       [9.59883809e-01, 4.01162356e-02],\n",
       "       [3.76313962e-02, 9.62368608e-01],\n",
       "       [8.93760383e-01, 1.06239557e-01],\n",
       "       [8.96682858e-01, 1.03317119e-01],\n",
       "       [8.93760383e-01, 1.06239557e-01],\n",
       "       [8.66124034e-01, 1.33875981e-01],\n",
       "       [9.59883809e-01, 4.01162356e-02],\n",
       "       [7.67348826e-01, 2.32651204e-01],\n",
       "       [9.11593497e-01, 8.84065628e-02],\n",
       "       [9.72098351e-01, 2.79016495e-02],\n",
       "       [9.15392041e-01, 8.46079662e-02],\n",
       "       [9.30360258e-01, 6.96397424e-02],\n",
       "       [3.96221220e-01, 6.03778780e-01],\n",
       "       [8.93760383e-01, 1.06239557e-01],\n",
       "       [8.93760383e-01, 1.06239557e-01],\n",
       "       [7.54154027e-01, 2.45846018e-01],\n",
       "       [7.45327353e-01, 2.54672647e-01],\n",
       "       [8.93760383e-01, 1.06239557e-01],\n",
       "       [9.60427284e-01, 3.95727754e-02],\n",
       "       [6.21278346e-01, 3.78721654e-01],\n",
       "       [9.88126159e-01, 1.18738981e-02],\n",
       "       [9.15392041e-01, 8.46079662e-02],\n",
       "       [9.15392041e-01, 8.46079662e-02],\n",
       "       [2.43819362e-04, 9.99756157e-01],\n",
       "       [8.93760383e-01, 1.06239557e-01],\n",
       "       [3.96221220e-01, 6.03778780e-01],\n",
       "       [6.29198998e-02, 9.37080085e-01],\n",
       "       [4.56914783e-01, 5.43085217e-01],\n",
       "       [9.15392041e-01, 8.46079662e-02],\n",
       "       [1.23998038e-02, 9.87600207e-01],\n",
       "       [5.66038536e-04, 9.99433935e-01],\n",
       "       [8.93760383e-01, 1.06239557e-01],\n",
       "       [9.19415295e-01, 8.05847719e-02],\n",
       "       [4.56914783e-01, 5.43085217e-01],\n",
       "       [7.41081774e-01, 2.58918196e-01],\n",
       "       [8.93760383e-01, 1.06239557e-01],\n",
       "       [8.76624063e-02, 9.12337542e-01],\n",
       "       [9.15392041e-01, 8.46079662e-02],\n",
       "       [4.14855957e-01, 5.85144043e-01],\n",
       "       [9.43715334e-01, 5.62847219e-02],\n",
       "       [3.96220982e-01, 6.03779018e-01],\n",
       "       [2.44285434e-01, 7.55714536e-01],\n",
       "       [8.93760383e-01, 1.06239557e-01],\n",
       "       [9.11593497e-01, 8.84065256e-02],\n",
       "       [1.27583524e-04, 9.99872446e-01],\n",
       "       [9.04304981e-01, 9.56950560e-02],\n",
       "       [8.46308172e-01, 1.53691918e-01],\n",
       "       [8.93760383e-01, 1.06239557e-01],\n",
       "       [9.82646227e-01, 1.73537526e-02],\n",
       "       [8.93760383e-01, 1.06239557e-01],\n",
       "       [8.93760383e-01, 1.06239557e-01],\n",
       "       [8.93760383e-01, 1.06239557e-01],\n",
       "       [9.82646227e-01, 1.73537526e-02],\n",
       "       [1.03635779e-04, 9.99896407e-01],\n",
       "       [8.93760383e-01, 1.06239557e-01],\n",
       "       [8.93760383e-01, 1.06239557e-01],\n",
       "       [1.08778268e-01, 8.91221762e-01],\n",
       "       [8.93760383e-01, 1.06239557e-01],\n",
       "       [4.79252252e-04, 9.99520779e-01],\n",
       "       [8.93760383e-01, 1.06239557e-01],\n",
       "       [8.93760383e-01, 1.06239557e-01],\n",
       "       [5.49288392e-01, 4.50711638e-01],\n",
       "       [9.15392041e-01, 8.46079662e-02],\n",
       "       [9.17371750e-01, 8.26281980e-02],\n",
       "       [9.11593497e-01, 8.84065256e-02],\n",
       "       [8.93760383e-01, 1.06239557e-01],\n",
       "       [7.76925921e-01, 2.23074108e-01],\n",
       "       [8.93760383e-01, 1.06239557e-01],\n",
       "       [3.96221220e-01, 6.03778780e-01],\n",
       "       [9.15392041e-01, 8.46079662e-02],\n",
       "       [8.93760383e-01, 1.06239557e-01],\n",
       "       [2.10297048e-01, 7.89702892e-01],\n",
       "       [7.54154027e-01, 2.45845988e-01],\n",
       "       [9.27241445e-01, 7.27585033e-02],\n",
       "       [1.08778268e-01, 8.91221762e-01],\n",
       "       [3.96221220e-01, 6.03778780e-01],\n",
       "       [8.96682858e-01, 1.03317119e-01],\n",
       "       [7.90288866e-01, 2.09711194e-01],\n",
       "       [8.93760383e-01, 1.06239557e-01],\n",
       "       [4.33706433e-01, 5.66293597e-01],\n",
       "       [7.76925921e-01, 2.23074108e-01],\n",
       "       [9.82646227e-01, 1.73537526e-02],\n",
       "       [8.93760383e-01, 1.06239557e-01],\n",
       "       [5.99587858e-01, 4.00412172e-01],\n",
       "       [9.59195197e-01, 4.08047661e-02],\n",
       "       [1.27495617e-01, 8.72504413e-01],\n",
       "       [8.93760383e-01, 1.06239557e-01],\n",
       "       [8.83258700e-01, 1.16741344e-01],\n",
       "       [4.27676558e-01, 5.72323442e-01],\n",
       "       [8.93760383e-01, 1.06239557e-01],\n",
       "       [6.76358938e-02, 9.32364047e-01],\n",
       "       [9.82646227e-01, 1.73537526e-02],\n",
       "       [8.93760383e-01, 1.06239557e-01],\n",
       "       [6.18308604e-01, 3.81691366e-01],\n",
       "       [9.95484710e-01, 4.51530656e-03],\n",
       "       [1.73535645e-01, 8.26464355e-01],\n",
       "       [9.36135292e-01, 6.38647452e-02],\n",
       "       [8.93760383e-01, 1.06239557e-01],\n",
       "       [9.50318933e-01, 4.96809930e-02],\n",
       "       [6.23643160e-01, 3.76356840e-01],\n",
       "       [9.80733275e-01, 1.92667414e-02],\n",
       "       [1.23901851e-03, 9.98760939e-01],\n",
       "       [8.93760383e-01, 1.06239557e-01],\n",
       "       [6.66213571e-04, 9.99333799e-01],\n",
       "       [4.33706552e-01, 5.66293478e-01],\n",
       "       [8.93760502e-01, 1.06239527e-01],\n",
       "       [9.94718909e-01, 5.28108096e-03],\n",
       "       [9.72098351e-01, 2.79016346e-02],\n",
       "       [8.93760383e-01, 1.06239557e-01],\n",
       "       [2.48677544e-02, 9.75132227e-01],\n",
       "       [8.93760383e-01, 1.06239557e-01],\n",
       "       [9.86391187e-01, 1.36088552e-02],\n",
       "       [9.59883809e-01, 4.01162356e-02],\n",
       "       [5.23874164e-01, 4.76125807e-01],\n",
       "       [4.56914783e-01, 5.43085217e-01],\n",
       "       [4.56914783e-01, 5.43085217e-01],\n",
       "       [7.45327353e-01, 2.54672647e-01],\n",
       "       [9.72098351e-01, 2.79016346e-02],\n",
       "       [1.49752893e-07, 9.99999881e-01],\n",
       "       [2.11154781e-02, 9.78884578e-01],\n",
       "       [1.23998038e-02, 9.87600207e-01],\n",
       "       [8.93760383e-01, 1.06239557e-01],\n",
       "       [9.11593497e-01, 8.84065256e-02],\n",
       "       [1.03141624e-03, 9.98968601e-01],\n",
       "       [8.93760383e-01, 1.06239557e-01],\n",
       "       [9.36135292e-01, 6.38647452e-02],\n",
       "       [6.34963973e-04, 9.99365032e-01],\n",
       "       [2.13639438e-01, 7.86360562e-01],\n",
       "       [3.96221220e-01, 6.03778780e-01],\n",
       "       [8.93760383e-01, 1.06239557e-01],\n",
       "       [8.93760383e-01, 1.06239557e-01],\n",
       "       [4.27676558e-01, 5.72323442e-01],\n",
       "       [8.93760383e-01, 1.06239557e-01],\n",
       "       [9.09779191e-01, 9.02208015e-02],\n",
       "       [7.50013232e-01, 2.49986738e-01],\n",
       "       [9.15392041e-01, 8.46079662e-02],\n",
       "       [9.91626143e-01, 8.37385468e-03],\n",
       "       [4.27676737e-01, 5.72323263e-01],\n",
       "       [3.96221161e-01, 6.03778899e-01],\n",
       "       [9.59883690e-01, 4.01162468e-02],\n",
       "       [9.99338806e-01, 6.61133265e-04],\n",
       "       [9.90895808e-01, 9.10417270e-03],\n",
       "       [8.93760502e-01, 1.06239527e-01],\n",
       "       [9.64884818e-01, 3.51152569e-02],\n",
       "       [9.61763620e-01, 3.82363982e-02],\n",
       "       [7.76925802e-01, 2.23074138e-01],\n",
       "       [8.96682858e-01, 1.03317171e-01],\n",
       "       [9.51882780e-01, 4.81172428e-02],\n",
       "       [4.56914723e-01, 5.43085277e-01],\n",
       "       [7.63226032e-01, 2.36773938e-01]], dtype=float32)"
      ]
     },
     "execution_count": 26,
     "metadata": {},
     "output_type": "execute_result"
    }
   ],
   "source": [
    "# 'Predict' on test data\n",
    "\n",
    "# output layer의 출력\n",
    "model.predict(test_data) \n",
    "# class 0일 확률값과 1일 확률값 (따라서 한 행을 합쳤을 때 그 값이 1이 됨)"
   ]
  },
  {
   "cell_type": "code",
   "execution_count": 42,
   "metadata": {},
   "outputs": [
    {
     "data": {
      "text/plain": [
       "array([0, 0, 0, 1, 1, 0, 1, 1, 0, 1, 0, 1, 0, 1, 1, 1, 0, 0, 0, 1, 0, 1,\n",
       "       0, 0, 1, 1, 0, 1, 1, 0, 0, 1, 0, 0, 0, 0, 0, 0, 0, 0, 0, 0, 0, 0,\n",
       "       1, 0, 0, 1, 0, 0, 0, 0, 1, 0, 0, 0, 0, 0, 0, 0, 0, 0, 1, 1, 1, 0,\n",
       "       1, 0, 1, 1, 1, 0, 0, 0, 0, 1, 0, 0, 0, 0, 0, 1, 1, 0, 0, 1, 1, 0,\n",
       "       1, 0, 0, 0, 1, 1, 0, 0, 1, 0, 0, 0, 0, 0, 0, 0, 1, 0, 1, 0, 0, 1,\n",
       "       0, 1, 0, 1, 0, 1, 1, 1, 0, 1, 0, 0, 0, 0, 0, 0, 0, 0, 0, 0, 1, 0,\n",
       "       0, 0, 0, 0, 0, 1, 0, 0, 0, 1, 0, 1, 1, 1, 0, 1, 1, 0, 0, 1, 0, 0,\n",
       "       1, 0, 1, 0, 1, 1, 0, 0, 1, 0, 0, 0, 0, 0, 0, 0, 0, 1, 0, 0, 1, 0,\n",
       "       1, 0, 0, 1, 0, 0, 0, 0, 0, 0, 1, 0, 0, 1, 0, 0, 1, 1, 0, 0, 0, 1,\n",
       "       0, 0, 0, 1, 0, 1, 0, 0, 1, 0, 1, 0, 0, 1, 0, 1, 0, 0, 0, 1, 0, 1,\n",
       "       0, 1, 1, 0, 0, 0, 0, 1, 0, 0, 0, 1, 1, 1, 0, 0, 1, 1, 1, 0, 0, 1,\n",
       "       0, 0, 1, 1, 1, 0, 0, 1, 0, 0, 0, 0, 0, 1, 1, 0, 0, 0, 0, 0, 0, 0,\n",
       "       0, 0, 1, 0], dtype=int64)"
      ]
     },
     "execution_count": 42,
     "metadata": {},
     "output_type": "execute_result"
    }
   ],
   "source": [
    "# 예측이 끝난 행에서 큰 값에 해당하는 인덱스 값 출력 (class 0 OR 1인지 명확하게 판단 가능)\n",
    "np.argmax(model.predict(test_data), axis=1)  # axis=1 -> 행 방향 "
   ]
  },
  {
   "cell_type": "code",
   "execution_count": 27,
   "metadata": {},
   "outputs": [],
   "source": [
    "sample_data = np.array([[3, 0, 0.0, 0.0, 1, 1, 2.0, 0]])"
   ]
  },
  {
   "cell_type": "code",
   "execution_count": 28,
   "metadata": {},
   "outputs": [
    {
     "data": {
      "text/plain": [
       "array([[0.98670584, 0.01329415]], dtype=float32)"
      ]
     },
     "execution_count": 28,
     "metadata": {},
     "output_type": "execute_result"
    }
   ],
   "source": [
    "model.predict(sample_data)"
   ]
  },
  {
   "cell_type": "code",
   "execution_count": 29,
   "metadata": {},
   "outputs": [
    {
     "data": {
      "text/plain": [
       "array([0], dtype=int64)"
      ]
     },
     "execution_count": 29,
     "metadata": {},
     "output_type": "execute_result"
    }
   ],
   "source": [
    "np.argmax(model.predict(sample_data), axis=1)"
   ]
  },
  {
   "cell_type": "code",
   "execution_count": null,
   "metadata": {},
   "outputs": [],
   "source": [
    "end of file"
   ]
  }
 ],
 "metadata": {
  "kernel_info": {
   "name": "python3"
  },
  "kernelspec": {
   "display_name": "Python 3 (ipykernel)",
   "language": "python",
   "name": "python3"
  },
  "language_info": {
   "codemirror_mode": {
    "name": "ipython",
    "version": 3
   },
   "file_extension": ".py",
   "mimetype": "text/x-python",
   "name": "python",
   "nbconvert_exporter": "python",
   "pygments_lexer": "ipython3",
   "version": "3.9.13"
  },
  "nteract": {
   "version": "0.15.0"
  }
 },
 "nbformat": 4,
 "nbformat_minor": 2
}
