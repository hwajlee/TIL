{
 "cells": [
  {
   "cell_type": "code",
<<<<<<< HEAD
   "execution_count": 2,
   "id": "34ade7ad",
   "metadata": {},
   "outputs": [],
   "source": [
    "# 필수 라이브러리 호출 \n",
    "import pandas as pd\n",
    "import numpy as np\n",
    "\n",
    "from sklearn.model_selection import train_test_split\n",
    "from sklearn.tree import DecisionTreeClassifier \n",
=======
   "execution_count": 71,
   "id": "0910caff",
   "metadata": {},
   "outputs": [],
   "source": [
    "import pandas as pd\n",
    "import numpy as np \n",
    "\n",
    "from sklearn.tree import DecisionTreeClassifier\n",
>>>>>>> 32d65391cd94495e47faec26a1e8b4c254b6542f
    "\n",
    "from sklearn.metrics import accuracy_score as acc_sc"
   ]
  },
  {
   "cell_type": "code",
<<<<<<< HEAD
   "execution_count": 5,
   "id": "715f827a",
   "metadata": {},
   "outputs": [],
   "source": [
    "st_default_org = pd.read_csv('./st_default.csv')"
   ]
  },
  {
   "cell_type": "code",
   "execution_count": 10,
   "id": "4b46c892",
   "metadata": {},
   "outputs": [],
   "source": [
    "st_default_df = st_default_org.iloc[:,1:]"
   ]
  },
  {
   "cell_type": "code",
   "execution_count": 11,
   "id": "962399c1",
   "metadata": {},
   "outputs": [],
   "source": [
    "# 전체 데이터\n",
    "st_default_df \n",
    "\n",
    "# X_data와 y_target을 정의한다. \n",
    "X_data =st_default_df.drop('default', axis=1) # st_defafult_df.iloc[:,1:]\n",
    "y_target = st_default_df.default"
   ]
  },
  {
   "cell_type": "code",
   "execution_count": 12,
   "id": "bc2f4608",
   "metadata": {},
   "outputs": [
    {
     "name": "stdout",
     "output_type": "stream",
     "text": [
      "<class 'pandas.core.frame.DataFrame'>\n",
      "RangeIndex: 10000 entries, 0 to 9999\n",
      "Data columns (total 3 columns):\n",
      " #   Column   Non-Null Count  Dtype  \n",
      "---  ------   --------------  -----  \n",
      " 0   student  10000 non-null  object \n",
      " 1   balance  10000 non-null  float64\n",
      " 2   income   10000 non-null  float64\n",
      "dtypes: float64(2), object(1)\n",
      "memory usage: 234.5+ KB\n"
     ]
    }
   ],
   "source": [
    "# EDA를 통한 데이터 확이 \n",
    "X_data.info()"
   ]
  },
  {
   "cell_type": "code",
   "execution_count": 15,
   "id": "1c26b6b4",
=======
   "execution_count": 4,
   "id": "236707b3",
   "metadata": {},
   "outputs": [],
   "source": [
    "st_df = pd.read_csv('C:/TIL/1)crawling/st_default.csv')"
   ]
  },
  {
   "cell_type": "code",
   "execution_count": 5,
   "id": "47a2a1ac",
>>>>>>> 32d65391cd94495e47faec26a1e8b4c254b6542f
   "metadata": {},
   "outputs": [
    {
     "data": {
      "text/html": [
       "<div>\n",
       "<style scoped>\n",
       "    .dataframe tbody tr th:only-of-type {\n",
       "        vertical-align: middle;\n",
       "    }\n",
       "\n",
       "    .dataframe tbody tr th {\n",
       "        vertical-align: top;\n",
       "    }\n",
       "\n",
       "    .dataframe thead th {\n",
       "        text-align: right;\n",
       "    }\n",
       "</style>\n",
       "<table border=\"1\" class=\"dataframe\">\n",
       "  <thead>\n",
       "    <tr style=\"text-align: right;\">\n",
       "      <th></th>\n",
<<<<<<< HEAD
=======
       "      <th>Unnamed: 0</th>\n",
       "      <th>default</th>\n",
       "      <th>student</th>\n",
>>>>>>> 32d65391cd94495e47faec26a1e8b4c254b6542f
       "      <th>balance</th>\n",
       "      <th>income</th>\n",
       "    </tr>\n",
       "  </thead>\n",
       "  <tbody>\n",
       "    <tr>\n",
<<<<<<< HEAD
       "      <th>count</th>\n",
       "      <td>10000.000000</td>\n",
       "      <td>10000.000000</td>\n",
       "    </tr>\n",
       "    <tr>\n",
       "      <th>mean</th>\n",
       "      <td>835.374886</td>\n",
       "      <td>33516.981876</td>\n",
       "    </tr>\n",
       "    <tr>\n",
       "      <th>std</th>\n",
       "      <td>483.714985</td>\n",
       "      <td>13336.639563</td>\n",
       "    </tr>\n",
       "    <tr>\n",
       "      <th>min</th>\n",
       "      <td>0.000000</td>\n",
       "      <td>771.967729</td>\n",
       "    </tr>\n",
       "    <tr>\n",
       "      <th>25%</th>\n",
       "      <td>481.731105</td>\n",
       "      <td>21340.462905</td>\n",
       "    </tr>\n",
       "    <tr>\n",
       "      <th>50%</th>\n",
       "      <td>823.636973</td>\n",
       "      <td>34552.644800</td>\n",
       "    </tr>\n",
       "    <tr>\n",
       "      <th>75%</th>\n",
       "      <td>1166.308387</td>\n",
       "      <td>43807.729275</td>\n",
       "    </tr>\n",
       "    <tr>\n",
       "      <th>max</th>\n",
       "      <td>2654.322576</td>\n",
       "      <td>73554.233500</td>\n",
=======
       "      <th>0</th>\n",
       "      <td>1</td>\n",
       "      <td>No</td>\n",
       "      <td>No</td>\n",
       "      <td>729.526495</td>\n",
       "      <td>44361.62507</td>\n",
       "    </tr>\n",
       "    <tr>\n",
       "      <th>1</th>\n",
       "      <td>2</td>\n",
       "      <td>No</td>\n",
       "      <td>Yes</td>\n",
       "      <td>817.180407</td>\n",
       "      <td>12106.13470</td>\n",
       "    </tr>\n",
       "    <tr>\n",
       "      <th>2</th>\n",
       "      <td>3</td>\n",
       "      <td>No</td>\n",
       "      <td>No</td>\n",
       "      <td>1073.549164</td>\n",
       "      <td>31767.13895</td>\n",
       "    </tr>\n",
       "    <tr>\n",
       "      <th>3</th>\n",
       "      <td>4</td>\n",
       "      <td>No</td>\n",
       "      <td>No</td>\n",
       "      <td>529.250605</td>\n",
       "      <td>35704.49394</td>\n",
       "    </tr>\n",
       "    <tr>\n",
       "      <th>4</th>\n",
       "      <td>5</td>\n",
       "      <td>No</td>\n",
       "      <td>No</td>\n",
       "      <td>785.655883</td>\n",
       "      <td>38463.49588</td>\n",
>>>>>>> 32d65391cd94495e47faec26a1e8b4c254b6542f
       "    </tr>\n",
       "  </tbody>\n",
       "</table>\n",
       "</div>"
      ],
      "text/plain": [
<<<<<<< HEAD
       "            balance        income\n",
       "count  10000.000000  10000.000000\n",
       "mean     835.374886  33516.981876\n",
       "std      483.714985  13336.639563\n",
       "min        0.000000    771.967729\n",
       "25%      481.731105  21340.462905\n",
       "50%      823.636973  34552.644800\n",
       "75%     1166.308387  43807.729275\n",
       "max     2654.322576  73554.233500"
      ]
     },
     "execution_count": 15,
=======
       "   Unnamed: 0 default student      balance       income\n",
       "0           1      No      No   729.526495  44361.62507\n",
       "1           2      No     Yes   817.180407  12106.13470\n",
       "2           3      No      No  1073.549164  31767.13895\n",
       "3           4      No      No   529.250605  35704.49394\n",
       "4           5      No      No   785.655883  38463.49588"
      ]
     },
     "execution_count": 5,
>>>>>>> 32d65391cd94495e47faec26a1e8b4c254b6542f
     "metadata": {},
     "output_type": "execute_result"
    }
   ],
   "source": [
<<<<<<< HEAD
    "X_data.describe()"
=======
    "st_df.head()"
>>>>>>> 32d65391cd94495e47faec26a1e8b4c254b6542f
   ]
  },
  {
   "cell_type": "code",
<<<<<<< HEAD
   "execution_count": 17,
   "id": "6028d531",
=======
   "execution_count": 34,
   "id": "748ddd52",
   "metadata": {},
   "outputs": [
    {
     "name": "stdout",
     "output_type": "stream",
     "text": [
      "<class 'pandas.core.frame.DataFrame'>\n",
      "RangeIndex: 10000 entries, 0 to 9999\n",
      "Data columns (total 5 columns):\n",
      " #   Column      Non-Null Count  Dtype  \n",
      "---  ------      --------------  -----  \n",
      " 0   Unnamed: 0  10000 non-null  int64  \n",
      " 1   default     10000 non-null  int64  \n",
      " 2   student     10000 non-null  int64  \n",
      " 3   balance     10000 non-null  float64\n",
      " 4   income      10000 non-null  float64\n",
      "dtypes: float64(2), int64(3)\n",
      "memory usage: 390.8 KB\n"
     ]
    }
   ],
   "source": [
    "st_df.info()"
   ]
  },
  {
   "cell_type": "code",
   "execution_count": 59,
   "id": "b8b6ef18",
   "metadata": {},
   "outputs": [],
   "source": [
    "st_df = st_df.astype({'balance':'int'})\n",
    "st_df = st_df.astype({'income':'int'})"
   ]
  },
  {
   "cell_type": "code",
   "execution_count": 60,
   "id": "f93e4f30",
   "metadata": {},
   "outputs": [
    {
     "name": "stdout",
     "output_type": "stream",
     "text": [
      "<class 'pandas.core.frame.DataFrame'>\n",
      "RangeIndex: 10000 entries, 0 to 9999\n",
      "Data columns (total 5 columns):\n",
      " #   Column      Non-Null Count  Dtype\n",
      "---  ------      --------------  -----\n",
      " 0   Unnamed: 0  10000 non-null  int64\n",
      " 1   default     10000 non-null  int64\n",
      " 2   student     10000 non-null  int64\n",
      " 3   balance     10000 non-null  int32\n",
      " 4   income      10000 non-null  int32\n",
      "dtypes: int32(2), int64(3)\n",
      "memory usage: 312.6 KB\n"
     ]
    }
   ],
   "source": [
    "st_df.info()"
   ]
  },
  {
   "cell_type": "code",
   "execution_count": 56,
   "id": "9511daa2",
   "metadata": {},
   "outputs": [],
   "source": [
    "# 데이터 전처리 \n",
    "\n",
    "# label Encoder \n",
    "from sklearn.preprocessing import LabelEncoder \n",
    "\n",
    "encoder = LabelEncoder()\n",
    "encoder.fit(st_df['default'])\n",
    "encoder.fit(st_df['student'])\n",
    "st_df['default'] = encoder.transform(st_df['default'])\n",
    "st_df['student'] = encoder.transform(st_df['student'])\n"
   ]
  },
  {
   "cell_type": "code",
   "execution_count": 22,
   "id": "1f7e95fb",
   "metadata": {},
   "outputs": [
    {
     "name": "stdout",
     "output_type": "stream",
     "text": [
      "0    9667\n",
      "1     333\n",
      "Name: default, dtype: int64\n",
      "0    7056\n",
      "1    2944\n",
      "Name: student, dtype: int64\n"
     ]
    }
   ],
   "source": [
    "print(st_df['default'].value_counts())\n",
    "print(st_df['student'].value_counts())"
   ]
  },
  {
   "cell_type": "code",
   "execution_count": 24,
   "id": "134f430d",
   "metadata": {},
   "outputs": [
    {
     "data": {
      "text/html": [
       "<div>\n",
       "<style scoped>\n",
       "    .dataframe tbody tr th:only-of-type {\n",
       "        vertical-align: middle;\n",
       "    }\n",
       "\n",
       "    .dataframe tbody tr th {\n",
       "        vertical-align: top;\n",
       "    }\n",
       "\n",
       "    .dataframe thead th {\n",
       "        text-align: right;\n",
       "    }\n",
       "</style>\n",
       "<table border=\"1\" class=\"dataframe\">\n",
       "  <thead>\n",
       "    <tr style=\"text-align: right;\">\n",
       "      <th></th>\n",
       "      <th>default</th>\n",
       "      <th>student</th>\n",
       "    </tr>\n",
       "  </thead>\n",
       "  <tbody>\n",
       "    <tr>\n",
       "      <th>0</th>\n",
       "      <td>0</td>\n",
       "      <td>0</td>\n",
       "    </tr>\n",
       "    <tr>\n",
       "      <th>1</th>\n",
       "      <td>0</td>\n",
       "      <td>1</td>\n",
       "    </tr>\n",
       "    <tr>\n",
       "      <th>2</th>\n",
       "      <td>0</td>\n",
       "      <td>0</td>\n",
       "    </tr>\n",
       "    <tr>\n",
       "      <th>3</th>\n",
       "      <td>0</td>\n",
       "      <td>0</td>\n",
       "    </tr>\n",
       "    <tr>\n",
       "      <th>4</th>\n",
       "      <td>0</td>\n",
       "      <td>0</td>\n",
       "    </tr>\n",
       "    <tr>\n",
       "      <th>...</th>\n",
       "      <td>...</td>\n",
       "      <td>...</td>\n",
       "    </tr>\n",
       "    <tr>\n",
       "      <th>9995</th>\n",
       "      <td>0</td>\n",
       "      <td>0</td>\n",
       "    </tr>\n",
       "    <tr>\n",
       "      <th>9996</th>\n",
       "      <td>0</td>\n",
       "      <td>0</td>\n",
       "    </tr>\n",
       "    <tr>\n",
       "      <th>9997</th>\n",
       "      <td>0</td>\n",
       "      <td>0</td>\n",
       "    </tr>\n",
       "    <tr>\n",
       "      <th>9998</th>\n",
       "      <td>0</td>\n",
       "      <td>0</td>\n",
       "    </tr>\n",
       "    <tr>\n",
       "      <th>9999</th>\n",
       "      <td>0</td>\n",
       "      <td>1</td>\n",
       "    </tr>\n",
       "  </tbody>\n",
       "</table>\n",
       "<p>10000 rows × 2 columns</p>\n",
       "</div>"
      ],
      "text/plain": [
       "      default  student\n",
       "0           0        0\n",
       "1           0        1\n",
       "2           0        0\n",
       "3           0        0\n",
       "4           0        0\n",
       "...       ...      ...\n",
       "9995        0        0\n",
       "9996        0        0\n",
       "9997        0        0\n",
       "9998        0        0\n",
       "9999        0        1\n",
       "\n",
       "[10000 rows x 2 columns]"
      ]
     },
     "execution_count": 24,
     "metadata": {},
     "output_type": "execute_result"
    }
   ],
   "source": [
    "st_df[['default', 'student']]"
   ]
  },
  {
   "cell_type": "code",
   "execution_count": 61,
   "id": "00384bed",
   "metadata": {},
   "outputs": [],
   "source": [
    "X_data = st_df[['default', 'student', 'balance']]\n",
    "y_target = st_df['income']\n",
    "\n",
    "dt_clf = DecisionTreeClassifier()"
   ]
  },
  {
   "cell_type": "code",
   "execution_count": 62,
   "id": "59b49a00",
   "metadata": {},
   "outputs": [
    {
     "data": {
      "text/plain": [
       "DecisionTreeClassifier()"
      ]
     },
     "execution_count": 62,
     "metadata": {},
     "output_type": "execute_result"
    }
   ],
   "source": [
    "X_train = X_data.copy()\n",
    "y_train = y_target.copy()\n",
    "\n",
    "dt_clf.fit(X_train, y_train)"
   ]
  },
  {
   "cell_type": "code",
   "execution_count": 33,
   "id": "88464a26",
   "metadata": {},
   "outputs": [
    {
     "name": "stdout",
     "output_type": "stream",
     "text": [
      "<class 'pandas.core.frame.DataFrame'>\n",
      "RangeIndex: 10000 entries, 0 to 9999\n",
      "Data columns (total 5 columns):\n",
      " #   Column      Non-Null Count  Dtype  \n",
      "---  ------      --------------  -----  \n",
      " 0   Unnamed: 0  10000 non-null  int64  \n",
      " 1   default     10000 non-null  int64  \n",
      " 2   student     10000 non-null  int64  \n",
      " 3   balance     10000 non-null  float64\n",
      " 4   income      10000 non-null  float64\n",
      "dtypes: float64(2), int64(3)\n",
      "memory usage: 390.8 KB\n"
     ]
    }
   ],
   "source": [
    "st_df.info()"
   ]
  },
  {
   "cell_type": "code",
   "execution_count": 63,
   "id": "345c9901",
   "metadata": {},
   "outputs": [],
   "source": [
    "# 예측을 수행 \n",
    "y_pred = dt_clf.predict(X_train)"
   ]
  },
  {
   "cell_type": "code",
   "execution_count": 64,
   "id": "eb6c8f8c",
   "metadata": {},
   "outputs": [
    {
     "data": {
      "text/plain": [
       "0.3329"
      ]
     },
     "execution_count": 64,
     "metadata": {},
     "output_type": "execute_result"
    }
   ],
   "source": [
    "# 평가지표로 평가 \n",
    "acc_sc(y_train, y_pred)"
   ]
  },
  {
   "cell_type": "code",
   "execution_count": 67,
   "id": "f4c6d789",
   "metadata": {},
   "outputs": [],
   "source": [
    "# x와 y를 분할 \n",
    "\n",
    "from sklearn.model_selection import train_test_split\n",
    "\n",
    "X_train, X_test, y_train, y_test = train_test_split(X_data, y_target, test_size=0.2, random_state=123)"
   ]
  },
  {
   "cell_type": "code",
   "execution_count": 68,
   "id": "48b8ed5a",
   "metadata": {},
   "outputs": [
    {
     "data": {
      "text/plain": [
       "DecisionTreeClassifier()"
      ]
     },
     "execution_count": 68,
     "metadata": {},
     "output_type": "execute_result"
    }
   ],
   "source": [
    "# 재학습 \n",
    "dt_clf.fit(X_train, y_train)"
   ]
  },
  {
   "cell_type": "code",
   "execution_count": 69,
   "id": "92fc2d79",
   "metadata": {},
   "outputs": [],
   "source": [
    "# 예측수행 \n",
    "y_pred = dt_clf.predict(X_test)"
   ]
  },
  {
   "cell_type": "code",
   "execution_count": 72,
   "id": "02b0564d",
   "metadata": {},
   "outputs": [
    {
     "name": "stdout",
     "output_type": "stream",
     "text": [
      "예측정확도f: 0.0\n",
      "예측정확도: 0.000\n"
     ]
    }
   ],
   "source": [
    "## 평가지표\n",
    "\n",
    "print(f'예측정확도f: {np.round(acc_sc(y_test, y_pred),3)}')\n",
    "print('예측정확도: {0:.3f}'.format(acc_sc(y_test,y_pred)))"
   ]
  },
  {
   "cell_type": "code",
   "execution_count": null,
   "id": "422ad2d8",
   "metadata": {},
   "outputs": [],
   "source": []
  },
  {
   "cell_type": "code",
   "execution_count": 109,
   "id": "6d3ca11c",
   "metadata": {},
   "outputs": [],
   "source": [
    "# 필수 라이브러리 \n",
    "\n",
    "# 판다스 & 넘파이\n",
    "import pandas as pd\n",
    "import numpy as np\n",
    "\n",
    "# train, test set 분리 + 교차검증 \n",
    "from sklearn.model_selection import train_test_split\n",
    "from sklearn.model_selection import cross_val_score\n",
    "\n",
    "# 알고리즘 - 의사결정나무\n",
    "from sklearn.tree import DecisionTreeClassifier\n",
    "\n",
    "# 평가지표 \n",
    "from sklearn.metrics import accuracy_score"
   ]
  },
  {
   "cell_type": "code",
   "execution_count": 110,
   "id": "9ee3bc88",
   "metadata": {},
   "outputs": [
    {
     "data": {
      "text/html": [
       "<div>\n",
       "<style scoped>\n",
       "    .dataframe tbody tr th:only-of-type {\n",
       "        vertical-align: middle;\n",
       "    }\n",
       "\n",
       "    .dataframe tbody tr th {\n",
       "        vertical-align: top;\n",
       "    }\n",
       "\n",
       "    .dataframe thead th {\n",
       "        text-align: right;\n",
       "    }\n",
       "</style>\n",
       "<table border=\"1\" class=\"dataframe\">\n",
       "  <thead>\n",
       "    <tr style=\"text-align: right;\">\n",
       "      <th></th>\n",
       "      <th>Unnamed: 0</th>\n",
       "      <th>default</th>\n",
       "      <th>student</th>\n",
       "      <th>balance</th>\n",
       "      <th>income</th>\n",
       "    </tr>\n",
       "  </thead>\n",
       "  <tbody>\n",
       "    <tr>\n",
       "      <th>0</th>\n",
       "      <td>1</td>\n",
       "      <td>No</td>\n",
       "      <td>No</td>\n",
       "      <td>729.526495</td>\n",
       "      <td>44361.62507</td>\n",
       "    </tr>\n",
       "    <tr>\n",
       "      <th>1</th>\n",
       "      <td>2</td>\n",
       "      <td>No</td>\n",
       "      <td>Yes</td>\n",
       "      <td>817.180407</td>\n",
       "      <td>12106.13470</td>\n",
       "    </tr>\n",
       "    <tr>\n",
       "      <th>2</th>\n",
       "      <td>3</td>\n",
       "      <td>No</td>\n",
       "      <td>No</td>\n",
       "      <td>1073.549164</td>\n",
       "      <td>31767.13895</td>\n",
       "    </tr>\n",
       "  </tbody>\n",
       "</table>\n",
       "</div>"
      ],
      "text/plain": [
       "   Unnamed: 0 default student      balance       income\n",
       "0           1      No      No   729.526495  44361.62507\n",
       "1           2      No     Yes   817.180407  12106.13470\n",
       "2           3      No      No  1073.549164  31767.13895"
      ]
     },
     "execution_count": 110,
     "metadata": {},
     "output_type": "execute_result"
    }
   ],
   "source": [
    "# 데이터 정의 \n",
    "st_default_df = pd.read_csv('C:/TIL/1)crawling/st_default.csv')\n",
    "st_default_df.head(3)"
   ]
  },
  {
   "cell_type": "code",
   "execution_count": 111,
   "id": "fa87813d",
   "metadata": {},
   "outputs": [],
   "source": [
    "# 인덱스 열 제거(Unnamed)\n",
    "st_default_df1 = st_default_df.iloc[:,1:]"
   ]
  },
  {
   "cell_type": "code",
   "execution_count": 86,
   "id": "c2115a7a",
   "metadata": {},
   "outputs": [
    {
     "name": "stdout",
     "output_type": "stream",
     "text": [
      "<class 'pandas.core.frame.DataFrame'>\n",
      "RangeIndex: 10000 entries, 0 to 9999\n",
      "Data columns (total 4 columns):\n",
      " #   Column   Non-Null Count  Dtype  \n",
      "---  ------   --------------  -----  \n",
      " 0   default  10000 non-null  object \n",
      " 1   student  10000 non-null  object \n",
      " 2   balance  10000 non-null  float64\n",
      " 3   income   10000 non-null  float64\n",
      "dtypes: float64(2), object(2)\n",
      "memory usage: 312.6+ KB\n"
     ]
    }
   ],
   "source": [
    "st_default_df1.info()"
   ]
  },
  {
   "cell_type": "code",
   "execution_count": 112,
   "id": "eeea7613",
   "metadata": {},
   "outputs": [],
   "source": [
    "# test data, train data 분리하기 전에 문자열 데이터 인코딩 - 1) label vs 2) one-hot \n",
    "# y_label의 경우 default를 예측하는 값이므로 이 값은 label\n",
    "# 나머지 student는 get_dummies()\n",
    "\n",
    "X_data = st_default_df1.drop('default', axis=1) # 독립변수 default 제외한 나머지 변수 \n",
    "y_target = st_default_df1['default'] # 종속변수 default "
   ]
  },
  {
   "cell_type": "code",
   "execution_count": 113,
   "id": "64c50619",
>>>>>>> 32d65391cd94495e47faec26a1e8b4c254b6542f
   "metadata": {},
   "outputs": [
    {
     "name": "stdout",
     "output_type": "stream",
     "text": [
      "X_data의 크기: 10000\n",
<<<<<<< HEAD
      "X_data의 타입: <class 'pandas.core.frame.DataFrame'>\n",
      "y_target의 크기: 10000\n",
      "y_target의 타입: <class 'pandas.core.series.Series'>\n"
=======
      "y_target의 크기: 10000\n"
>>>>>>> 32d65391cd94495e47faec26a1e8b4c254b6542f
     ]
    }
   ],
   "source": [
<<<<<<< HEAD
    "# 크기 확인\n",
    "print('X_data의 크기:', X_data.shape[0])\n",
    "print('X_data의 타입:', type(X_data)) # 2차원\n",
    "\n",
    "print('y_target의 크기:', y_target.shape[0])\n",
    "print('y_target의 타입:', type(y_target)) # 1차원"
=======
    "# 크기 확인 (행 갯수)\n",
    "print('X_data의 크기:', X_data.shape[0])\n",
    "print('y_target의 크기:', y_target.shape[0])"
>>>>>>> 32d65391cd94495e47faec26a1e8b4c254b6542f
   ]
  },
  {
   "cell_type": "code",
<<<<<<< HEAD
   "execution_count": 20,
   "id": "c2689879",
   "metadata": {},
   "outputs": [],
   "source": [
    "# 지도학습 :: 분류 - 종속: 범주 -> label encoding vs label encoding\n",
    "#            회귀 - 종속: 연속 \n",
    "\n",
    "# 문자들을 숫자로 변환한다. \n",
    "## 1) 그냥 문자(학생) 컬럼을 없애면? \n",
    "## 2) 문자 -> one-hot // Label encoding\n",
    "\n",
    "X_data_df = pd.get_dummies(X_data) # one-hot :: ndarray의 경우엔 문자 -> 레이블 -> 원핫 "
=======
   "execution_count": 114,
   "id": "c20eb8a2",
   "metadata": {},
   "outputs": [],
   "source": [
    "# 독립변수 study 인코딩 (one-hot)\n",
    "X_data_df = pd.get_dummies(X_data)"
>>>>>>> 32d65391cd94495e47faec26a1e8b4c254b6542f
   ]
  },
  {
   "cell_type": "code",
<<<<<<< HEAD
   "execution_count": 21,
   "id": "321fd447",
   "metadata": {},
   "outputs": [
    {
     "data": {
      "text/plain": [
       "0    No\n",
       "1    No\n",
       "2    No\n",
       "3    No\n",
       "4    No\n",
       "Name: default, dtype: object"
      ]
     },
     "execution_count": 21,
     "metadata": {},
     "output_type": "execute_result"
    }
   ],
   "source": [
    "y_target[:5] # series"
   ]
  },
  {
   "cell_type": "code",
   "execution_count": 25,
   "id": "d5b8f72e",
=======
   "execution_count": 120,
   "id": "5797c4b8",
>>>>>>> 32d65391cd94495e47faec26a1e8b4c254b6542f
   "metadata": {},
   "outputs": [
    {
     "data": {
      "text/plain": [
       "0    9667\n",
       "1     333\n",
       "dtype: int64"
      ]
     },
<<<<<<< HEAD
     "execution_count": 25,
=======
     "execution_count": 120,
>>>>>>> 32d65391cd94495e47faec26a1e8b4c254b6542f
     "metadata": {},
     "output_type": "execute_result"
    }
   ],
   "source": [
<<<<<<< HEAD
    "# y 값에는 Label encoding(레이블 인코딩)\n",
=======
    "# 종속변수 default 인코딩 (label)\n",
    "\n",
>>>>>>> 32d65391cd94495e47faec26a1e8b4c254b6542f
    "from sklearn.preprocessing import LabelEncoder\n",
    "\n",
    "le_encode = LabelEncoder()\n",
    "y_target_scaled = le_encode.fit_transform(y_target)\n",
    "\n",
<<<<<<< HEAD
    "# y_target값을 확인 - imbalanced data(쏠림 데이터)\n",
=======
    "# imbalanced data\n",
>>>>>>> 32d65391cd94495e47faec26a1e8b4c254b6542f
    "pd.Series(y_target_scaled).value_counts()"
   ]
  },
  {
   "cell_type": "code",
<<<<<<< HEAD
   "execution_count": 28,
   "id": "310f6927",
   "metadata": {},
   "outputs": [],
   "source": [
    "# 데이터 분할 \n",
=======
   "execution_count": 121,
   "id": "03a46271",
   "metadata": {},
   "outputs": [],
   "source": [
    "# 데이터 분할 - train_test_split\n",
>>>>>>> 32d65391cd94495e47faec26a1e8b4c254b6542f
    "X_train, X_test, y_train, y_test = train_test_split(X_data_df, y_target_scaled, stratify=y_target_scaled)"
   ]
  },
  {
   "cell_type": "code",
<<<<<<< HEAD
   "execution_count": 34,
   "id": "4a52cd94",
=======
   "execution_count": 122,
   "id": "f521b23b",
>>>>>>> 32d65391cd94495e47faec26a1e8b4c254b6542f
   "metadata": {},
   "outputs": [],
   "source": [
    "# 의사결정 나무 적용 \n",
<<<<<<< HEAD
    "dt_clf = DecisionTreeClassifier()\n",
    "dt_clf.fit(X_train, y_train) # 학습을 수행 \n",
    "\n",
    "# 예측\n",
=======
    "\n",
    "dt_clf = DecisionTreeClassifier()\n",
    "dt_clf.fit(X_train,y_train)\n",
    "\n",
>>>>>>> 32d65391cd94495e47faec26a1e8b4c254b6542f
    "y_pred = dt_clf.predict(X_test)"
   ]
  },
  {
   "cell_type": "code",
<<<<<<< HEAD
   "execution_count": 36,
   "id": "236c7911",
=======
   "execution_count": 124,
   "id": "90b99145",
>>>>>>> 32d65391cd94495e47faec26a1e8b4c254b6542f
   "metadata": {},
   "outputs": [
    {
     "name": "stdout",
     "output_type": "stream",
     "text": [
<<<<<<< HEAD
      "정확도는:0.9568\n"
=======
      "정확도는 :0.9592\n"
>>>>>>> 32d65391cd94495e47faec26a1e8b4c254b6542f
     ]
    }
   ],
   "source": [
<<<<<<< HEAD
    "# 평가지표 \n",
    "print(f'정확도는:{acc_sc(y_pred, y_test)}')"
   ]
  },
  {
   "cell_type": "code",
   "execution_count": 39,
   "id": "921fbac8",
   "metadata": {},
   "outputs": [
    {
     "name": "stdout",
     "output_type": "stream",
     "text": [
      "교차 검증별 정확도:[0.9507 0.9507 0.9573 0.9507 0.9547 0.9413 0.9453 0.9627 0.9627 0.9547]\n",
      "평균 검증별 정확도:0.9531\n"
     ]
    }
   ],
   "source": [
    "# CV - 교차검증을 수행 :: cross_val_score\n",
    "from sklearn.model_selection import cross_val_score\n",
    "\n",
    "# 전체 데이터 얼마나 CV의 정확도?\n",
    "scores = cross_val_score(dt_clf, X_train, y_train, scoring='accuracy', cv=10)\n",
    "print(f'교차 검증별 정확도:{np.round(scores, 4)}')\n",
    "print(f'평균 검증별 정확도:{np.round(np.mean(scores), 4)}')"
   ]
  },
  {
   "cell_type": "code",
   "execution_count": 40,
   "id": "bbd939f6",
   "metadata": {},
   "outputs": [
    {
     "data": {
      "text/plain": [
       "No     9667\n",
       "Yes     333\n",
       "Name: default, dtype: int64"
      ]
     },
     "execution_count": 40,
     "metadata": {},
     "output_type": "execute_result"
    }
   ],
   "source": [
    "y_target.value_counts()"
=======
    "# 평가지표\n",
    "\n",
    "print(f'정확도는 :{accuracy_score(y_pred,y_test)}') "
>>>>>>> 32d65391cd94495e47faec26a1e8b4c254b6542f
   ]
  },
  {
   "cell_type": "code",
   "execution_count": null,
<<<<<<< HEAD
   "id": "7d024c10",
   "metadata": {},
   "outputs": [],
   "source": [
    "# 1. 왜 정확도의 값이 높게 나왔을까?\n",
    "# 2. 데이터는 어떠한 특징을 지니고 있을까?\n",
    "# 3. 데이터에는 어떤 문제점이 있나?\n",
    "# 4. 그렇다면 이러한 문제점을 해결하기 위한 방안은 무엇?\n",
    "\n",
    "# [1] oversampling vs undersampling\n",
    "# [2] Data augumentation - 이미지 분석에서 많이 쓰임\n",
    "# [3] get more data\n",
    "# [4] change our metrics (평가지료를 다른 것으로 사용 ex. precision, recall, f1-score, roc_auc )"
   ]
=======
   "id": "e593c4b8",
   "metadata": {},
   "outputs": [],
   "source": []
>>>>>>> 32d65391cd94495e47faec26a1e8b4c254b6542f
  }
 ],
 "metadata": {
  "kernelspec": {
   "display_name": "Python 3 (ipykernel)",
   "language": "python",
   "name": "python3"
  },
  "language_info": {
   "codemirror_mode": {
    "name": "ipython",
    "version": 3
   },
   "file_extension": ".py",
   "mimetype": "text/x-python",
   "name": "python",
   "nbconvert_exporter": "python",
   "pygments_lexer": "ipython3",
   "version": "3.9.13"
  }
 },
 "nbformat": 4,
 "nbformat_minor": 5
}
