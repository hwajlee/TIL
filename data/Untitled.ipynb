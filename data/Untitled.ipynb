{
 "cells": [
  {
   "cell_type": "code",
   "execution_count": 2,
   "id": "34ade7ad",
   "metadata": {},
   "outputs": [],
   "source": [
    "# 필수 라이브러리 호출 \n",
    "import pandas as pd\n",
    "import numpy as np\n",
    "\n",
    "from sklearn.model_selection import train_test_split\n",
    "from sklearn.tree import DecisionTreeClassifier \n",
    "\n",
    "from sklearn.metrics import accuracy_score as acc_sc"
   ]
  },
  {
   "cell_type": "code",
   "execution_count": 5,
   "id": "715f827a",
   "metadata": {},
   "outputs": [],
   "source": [
    "st_default_org = pd.read_csv('./st_default.csv')"
   ]
  },
  {
   "cell_type": "code",
   "execution_count": 10,
   "id": "4b46c892",
   "metadata": {},
   "outputs": [],
   "source": [
    "st_default_df = st_default_org.iloc[:,1:]"
   ]
  },
  {
   "cell_type": "code",
   "execution_count": 11,
   "id": "962399c1",
   "metadata": {},
   "outputs": [],
   "source": [
    "# 전체 데이터\n",
    "st_default_df \n",
    "\n",
    "# X_data와 y_target을 정의한다. \n",
    "X_data =st_default_df.drop('default', axis=1) # st_defafult_df.iloc[:,1:]\n",
    "y_target = st_default_df.default"
   ]
  },
  {
   "cell_type": "code",
   "execution_count": 12,
   "id": "bc2f4608",
   "metadata": {},
   "outputs": [
    {
     "name": "stdout",
     "output_type": "stream",
     "text": [
      "<class 'pandas.core.frame.DataFrame'>\n",
      "RangeIndex: 10000 entries, 0 to 9999\n",
      "Data columns (total 3 columns):\n",
      " #   Column   Non-Null Count  Dtype  \n",
      "---  ------   --------------  -----  \n",
      " 0   student  10000 non-null  object \n",
      " 1   balance  10000 non-null  float64\n",
      " 2   income   10000 non-null  float64\n",
      "dtypes: float64(2), object(1)\n",
      "memory usage: 234.5+ KB\n"
     ]
    }
   ],
   "source": [
    "# EDA를 통한 데이터 확이 \n",
    "X_data.info()"
   ]
  },
  {
   "cell_type": "code",
   "execution_count": 15,
   "id": "1c26b6b4",
   "metadata": {},
   "outputs": [
    {
     "data": {
      "text/html": [
       "<div>\n",
       "<style scoped>\n",
       "    .dataframe tbody tr th:only-of-type {\n",
       "        vertical-align: middle;\n",
       "    }\n",
       "\n",
       "    .dataframe tbody tr th {\n",
       "        vertical-align: top;\n",
       "    }\n",
       "\n",
       "    .dataframe thead th {\n",
       "        text-align: right;\n",
       "    }\n",
       "</style>\n",
       "<table border=\"1\" class=\"dataframe\">\n",
       "  <thead>\n",
       "    <tr style=\"text-align: right;\">\n",
       "      <th></th>\n",
       "      <th>balance</th>\n",
       "      <th>income</th>\n",
       "    </tr>\n",
       "  </thead>\n",
       "  <tbody>\n",
       "    <tr>\n",
       "      <th>count</th>\n",
       "      <td>10000.000000</td>\n",
       "      <td>10000.000000</td>\n",
       "    </tr>\n",
       "    <tr>\n",
       "      <th>mean</th>\n",
       "      <td>835.374886</td>\n",
       "      <td>33516.981876</td>\n",
       "    </tr>\n",
       "    <tr>\n",
       "      <th>std</th>\n",
       "      <td>483.714985</td>\n",
       "      <td>13336.639563</td>\n",
       "    </tr>\n",
       "    <tr>\n",
       "      <th>min</th>\n",
       "      <td>0.000000</td>\n",
       "      <td>771.967729</td>\n",
       "    </tr>\n",
       "    <tr>\n",
       "      <th>25%</th>\n",
       "      <td>481.731105</td>\n",
       "      <td>21340.462905</td>\n",
       "    </tr>\n",
       "    <tr>\n",
       "      <th>50%</th>\n",
       "      <td>823.636973</td>\n",
       "      <td>34552.644800</td>\n",
       "    </tr>\n",
       "    <tr>\n",
       "      <th>75%</th>\n",
       "      <td>1166.308387</td>\n",
       "      <td>43807.729275</td>\n",
       "    </tr>\n",
       "    <tr>\n",
       "      <th>max</th>\n",
       "      <td>2654.322576</td>\n",
       "      <td>73554.233500</td>\n",
       "    </tr>\n",
       "  </tbody>\n",
       "</table>\n",
       "</div>"
      ],
      "text/plain": [
       "            balance        income\n",
       "count  10000.000000  10000.000000\n",
       "mean     835.374886  33516.981876\n",
       "std      483.714985  13336.639563\n",
       "min        0.000000    771.967729\n",
       "25%      481.731105  21340.462905\n",
       "50%      823.636973  34552.644800\n",
       "75%     1166.308387  43807.729275\n",
       "max     2654.322576  73554.233500"
      ]
     },
     "execution_count": 15,
     "metadata": {},
     "output_type": "execute_result"
    }
   ],
   "source": [
    "X_data.describe()"
   ]
  },
  {
   "cell_type": "code",
   "execution_count": 17,
   "id": "6028d531",
   "metadata": {},
   "outputs": [
    {
     "name": "stdout",
     "output_type": "stream",
     "text": [
      "X_data의 크기: 10000\n",
      "X_data의 타입: <class 'pandas.core.frame.DataFrame'>\n",
      "y_target의 크기: 10000\n",
      "y_target의 타입: <class 'pandas.core.series.Series'>\n"
     ]
    }
   ],
   "source": [
    "# 크기 확인\n",
    "print('X_data의 크기:', X_data.shape[0])\n",
    "print('X_data의 타입:', type(X_data)) # 2차원\n",
    "\n",
    "print('y_target의 크기:', y_target.shape[0])\n",
    "print('y_target의 타입:', type(y_target)) # 1차원"
   ]
  },
  {
   "cell_type": "code",
   "execution_count": 20,
   "id": "c2689879",
   "metadata": {},
   "outputs": [],
   "source": [
    "# 지도학습 :: 분류 - 종속: 범주 -> label encoding vs label encoding\n",
    "#            회귀 - 종속: 연속 \n",
    "\n",
    "# 문자들을 숫자로 변환한다. \n",
    "## 1) 그냥 문자(학생) 컬럼을 없애면? \n",
    "## 2) 문자 -> one-hot // Label encoding\n",
    "\n",
    "X_data_df = pd.get_dummies(X_data) # one-hot :: ndarray의 경우엔 문자 -> 레이블 -> 원핫 "
   ]
  },
  {
   "cell_type": "code",
   "execution_count": 21,
   "id": "321fd447",
   "metadata": {},
   "outputs": [
    {
     "data": {
      "text/plain": [
       "0    No\n",
       "1    No\n",
       "2    No\n",
       "3    No\n",
       "4    No\n",
       "Name: default, dtype: object"
      ]
     },
     "execution_count": 21,
     "metadata": {},
     "output_type": "execute_result"
    }
   ],
   "source": [
    "y_target[:5] # series"
   ]
  },
  {
   "cell_type": "code",
   "execution_count": 25,
   "id": "d5b8f72e",
   "metadata": {},
   "outputs": [
    {
     "data": {
      "text/plain": [
       "0    9667\n",
       "1     333\n",
       "dtype: int64"
      ]
     },
     "execution_count": 25,
     "metadata": {},
     "output_type": "execute_result"
    }
   ],
   "source": [
    "# y 값에는 Label encoding(레이블 인코딩)\n",
    "from sklearn.preprocessing import LabelEncoder\n",
    "\n",
    "le_encode = LabelEncoder()\n",
    "y_target_scaled = le_encode.fit_transform(y_target)\n",
    "\n",
    "# y_target값을 확인 - imbalanced data(쏠림 데이터)\n",
    "pd.Series(y_target_scaled).value_counts()"
   ]
  },
  {
   "cell_type": "code",
   "execution_count": 28,
   "id": "310f6927",
   "metadata": {},
   "outputs": [],
   "source": [
    "# 데이터 분할 \n",
    "X_train, X_test, y_train, y_test = train_test_split(X_data_df, y_target_scaled, stratify=y_target_scaled)"
   ]
  },
  {
   "cell_type": "code",
   "execution_count": 34,
   "id": "4a52cd94",
   "metadata": {},
   "outputs": [],
   "source": [
    "# 의사결정 나무 적용 \n",
    "dt_clf = DecisionTreeClassifier()\n",
    "dt_clf.fit(X_train, y_train) # 학습을 수행 \n",
    "\n",
    "# 예측\n",
    "y_pred = dt_clf.predict(X_test)"
   ]
  },
  {
   "cell_type": "code",
   "execution_count": 36,
   "id": "236c7911",
   "metadata": {},
   "outputs": [
    {
     "name": "stdout",
     "output_type": "stream",
     "text": [
      "정확도는:0.9568\n"
     ]
    }
   ],
   "source": [
    "# 평가지표 \n",
    "print(f'정확도는:{acc_sc(y_pred, y_test)}')"
   ]
  },
  {
   "cell_type": "code",
   "execution_count": 39,
   "id": "921fbac8",
   "metadata": {},
   "outputs": [
    {
     "name": "stdout",
     "output_type": "stream",
     "text": [
      "교차 검증별 정확도:[0.9507 0.9507 0.9573 0.9507 0.9547 0.9413 0.9453 0.9627 0.9627 0.9547]\n",
      "평균 검증별 정확도:0.9531\n"
     ]
    }
   ],
   "source": [
    "# CV - 교차검증을 수행 :: cross_val_score\n",
    "from sklearn.model_selection import cross_val_score\n",
    "\n",
    "# 전체 데이터 얼마나 CV의 정확도?\n",
    "scores = cross_val_score(dt_clf, X_train, y_train, scoring='accuracy', cv=10)\n",
    "print(f'교차 검증별 정확도:{np.round(scores, 4)}')\n",
    "print(f'평균 검증별 정확도:{np.round(np.mean(scores), 4)}')"
   ]
  },
  {
   "cell_type": "code",
   "execution_count": 40,
   "id": "bbd939f6",
   "metadata": {},
   "outputs": [
    {
     "data": {
      "text/plain": [
       "No     9667\n",
       "Yes     333\n",
       "Name: default, dtype: int64"
      ]
     },
     "execution_count": 40,
     "metadata": {},
     "output_type": "execute_result"
    }
   ],
   "source": [
    "y_target.value_counts()"
   ]
  },
  {
   "cell_type": "code",
   "execution_count": null,
   "id": "7d024c10",
   "metadata": {},
   "outputs": [],
   "source": [
    "# 1. 왜 정확도의 값이 높게 나왔을까?\n",
    "# 2. 데이터는 어떠한 특징을 지니고 있을까?\n",
    "# 3. 데이터에는 어떤 문제점이 있나?\n",
    "# 4. 그렇다면 이러한 문제점을 해결하기 위한 방안은 무엇?\n",
    "\n",
    "# [1] oversampling vs undersampling\n",
    "# [2] Data augumentation - 이미지 분석에서 많이 쓰임\n",
    "# [3] get more data\n",
    "# [4] change our metrics (평가지료를 다른 것으로 사용 ex. precision, recall, f1-score, roc_auc )"
   ]
  }
 ],
 "metadata": {
  "kernelspec": {
   "display_name": "Python 3 (ipykernel)",
   "language": "python",
   "name": "python3"
  },
  "language_info": {
   "codemirror_mode": {
    "name": "ipython",
    "version": 3
   },
   "file_extension": ".py",
   "mimetype": "text/x-python",
   "name": "python",
   "nbconvert_exporter": "python",
   "pygments_lexer": "ipython3",
   "version": "3.9.13"
  }
 },
 "nbformat": 4,
 "nbformat_minor": 5
}
