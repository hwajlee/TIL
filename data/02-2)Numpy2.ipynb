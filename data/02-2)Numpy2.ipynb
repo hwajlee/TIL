{
 "cells": [
  {
   "cell_type": "markdown",
   "id": "c73be1db",
   "metadata": {},
   "source": [
    "## 넘파이:ML 주요 알고리즘 -선형대수와 통계에 기반\n",
    "* Numpy는  Numerical Python을 의미하며 파이썬에서 선형대수 기반의 프로그램을 쉽게 만들 수 있도록 지원하는 대표 패키지\n",
    "* 루프를 사용치 않고 대량 데이터의 배열 연산이 가능\n",
    "* C/C++과 같은 저수준 언어 기반의 호환 API제공\n",
    "\n",
    "cf) 단축키\n",
    "- ESC + m: markdown\n",
    "- ESC + y: code"
   ]
  },
  {
   "cell_type": "markdown",
   "id": "a81223af",
   "metadata": {},
   "source": []
  },
  {
   "cell_type": "code",
   "execution_count": 2,
   "id": "b61d259e",
   "metadata": {},
   "outputs": [],
   "source": [
    "# 라이브러리 호출\n",
    "\n",
    "import numpy as np"
   ]
  },
  {
   "cell_type": "code",
   "execution_count": 4,
   "id": "13d8906f",
   "metadata": {},
   "outputs": [
    {
     "name": "stdout",
     "output_type": "stream",
     "text": [
      "array_l1 type: <class 'numpy.ndarray'>\n",
      "array_l1 shape: (3,)\n"
     ]
    }
   ],
   "source": [
    "l1 = [1,2,3]\n",
    "\n",
    "# array 생성\n",
    "array_l1 = np.array(l1)\n",
    "\n",
    "# type과 shape을 확인한다. \n",
    "print('array_l1 type:', type(array_l1))\n",
    "print('array_l1 shape:', array_l1.shape) # property - shape, ndim "
   ]
  },
  {
   "cell_type": "code",
   "execution_count": 7,
   "id": "d8a4063a",
   "metadata": {},
   "outputs": [
    {
     "name": "stdout",
     "output_type": "stream",
     "text": [
      "array_l2 type: <class 'numpy.ndarray'>\n",
      "array_l2 shape: (2, 3)\n"
     ]
    }
   ],
   "source": [
    "# 차원 복습 - 2차원 생성 \n",
    "l2 = [[11,22,33],\n",
    "     [44,55,66]] # 할당(Assignment), 선언(Declare)\n",
    "\n",
    "array_l2 = np.array(l2)\n",
    "\n",
    "# type과 shape을 확인한다. \n",
    "print('array_l2 type:', type(array_l2))\n",
    "print('array_l2 shape:', array_l2.shape) # property - shape, ndim "
   ]
  },
  {
   "cell_type": "code",
   "execution_count": 11,
   "id": "c9e9a66c",
   "metadata": {},
   "outputs": [
    {
     "name": "stdout",
     "output_type": "stream",
     "text": [
      "array_l3 type: <class 'numpy.ndarray'>\n",
      "array_l3 shape: (1, 1, 3)\n"
     ]
    }
   ],
   "source": [
    "# 차원 복습 - 3차원 생성 \n",
    "l3 = [[[11,22,33]]]\n",
    "\n",
    "array_l3 = np.array(l3)\n",
    "\n",
    "# type과 shape을 확인한다. \n",
    "print('array_l3 type:', type(array_l3))\n",
    "print('array_l3 shape:', array_l3.shape) # property - shape, ndim "
   ]
  },
  {
   "cell_type": "code",
   "execution_count": 14,
   "id": "e767ff7f",
   "metadata": {},
   "outputs": [
    {
     "name": "stdout",
     "output_type": "stream",
     "text": [
      "array_l3 type: <class 'numpy.ndarray'>\n",
      "array_l3 shape: (1, 2, 3)\n"
     ]
    }
   ],
   "source": [
    "# 차원 복습 - 3차원 생성 \n",
    "l3 = [\n",
    "    [[11,22,33],\n",
    "      [44,55,66]]\n",
    "    ]\n",
    "\n",
    "array_l3 = np.array(l3)\n",
    "\n",
    "# type과 shape을 확인한다. \n",
    "print('array_l3 type:', type(array_l3))\n",
    "print('array_l3 shape:', array_l3.shape) # property - shape, ndim "
   ]
  },
  {
   "cell_type": "markdown",
   "id": "fc959d11",
   "metadata": {},
   "source": [
    "## ndarray를 편리하게 생성"
   ]
  },
  {
   "cell_type": "markdown",
   "id": "f969beb0",
   "metadata": {},
   "source": [
    "##### arrange 활용"
   ]
  },
  {
   "cell_type": "code",
   "execution_count": 20,
   "id": "c4fab9cc",
   "metadata": {},
   "outputs": [
    {
     "data": {
      "text/plain": [
       "array([3, 4, 5, 6, 7, 8, 9])"
      ]
     },
     "execution_count": 20,
     "metadata": {},
     "output_type": "execute_result"
    }
   ],
   "source": [
    "# 기본설정(default)대로 활용\n",
    "sq_array = np.arange(10) # n-1까지 들어가니까 총 9개가 생성됨\n",
    "sq_array\n",
    "\n",
    "# start 파라미터. stop 파라미터를 활용 \n",
    "sq_array2 = np.arange(3, 10)\n",
    "sq_array2"
   ]
  },
  {
   "cell_type": "code",
   "execution_count": 24,
   "id": "de611bee",
   "metadata": {},
   "outputs": [
    {
     "name": "stdout",
     "output_type": "stream",
     "text": [
      "int32 (10,)\n"
     ]
    },
    {
     "data": {
      "text/plain": [
       "array([0, 1, 2, 3, 4, 5, 6, 7, 8, 9])"
      ]
     },
     "execution_count": 24,
     "metadata": {},
     "output_type": "execute_result"
    }
   ],
   "source": [
    "print(sq_array.dtype, sq_array.shape)\n",
    "sq_array"
   ]
  },
  {
   "cell_type": "markdown",
   "id": "862189e9",
   "metadata": {},
   "source": [
    "##### zeros 활용"
   ]
  },
  {
   "cell_type": "code",
   "execution_count": 25,
   "id": "38df92e9",
   "metadata": {},
   "outputs": [
    {
     "name": "stdout",
     "output_type": "stream",
     "text": [
      "int32 (3, 2)\n"
     ]
    },
    {
     "data": {
      "text/plain": [
       "array([[0, 0],\n",
       "       [0, 0],\n",
       "       [0, 0]])"
      ]
     },
     "execution_count": 25,
     "metadata": {},
     "output_type": "execute_result"
    }
   ],
   "source": [
    "zere_array = np.zeros((3,2), dtype='int32')\n",
    "\n",
    "print(zere_array.dtype, zere_array.shape)\n",
    "zere_array"
   ]
  },
  {
   "cell_type": "markdown",
   "id": "5da36f8d",
   "metadata": {},
   "source": [
    "##### ones 활용"
   ]
  },
  {
   "cell_type": "code",
   "execution_count": 26,
   "id": "7fc51fbf",
   "metadata": {},
   "outputs": [
    {
     "name": "stdout",
     "output_type": "stream",
     "text": [
      "int32 (3, 2)\n"
     ]
    },
    {
     "data": {
      "text/plain": [
       "array([[1, 1],\n",
       "       [1, 1],\n",
       "       [1, 1]])"
      ]
     },
     "execution_count": 26,
     "metadata": {},
     "output_type": "execute_result"
    }
   ],
   "source": [
    "one_array = np.ones((3,2), dtype='int32')\n",
    "\n",
    "print(one_array.dtype, one_array.shape)\n",
    "one_array"
   ]
  },
  {
   "cell_type": "markdown",
   "id": "675ee32b",
   "metadata": {},
   "source": [
    "## reshape을 활용한 차원호환"
   ]
  },
  {
   "cell_type": "code",
   "execution_count": 35,
   "id": "b45b97b4",
   "metadata": {},
   "outputs": [
    {
     "data": {
      "text/plain": [
       "array([ 1,  2,  3,  4,  5,  6,  7,  8,  9, 10])"
      ]
     },
     "execution_count": 35,
     "metadata": {},
     "output_type": "execute_result"
    }
   ],
   "source": [
    "# 1차원\n",
    "sqr_array = np.arange(1, 11)\n",
    "sqr_array"
   ]
  },
  {
   "cell_type": "code",
   "execution_count": 34,
   "id": "79f5e738",
   "metadata": {},
   "outputs": [
    {
     "data": {
      "text/plain": [
       "array([[ 1,  2],\n",
       "       [ 3,  4],\n",
       "       [ 5,  6],\n",
       "       [ 7,  8],\n",
       "       [ 9, 10]])"
      ]
     },
     "execution_count": 34,
     "metadata": {},
     "output_type": "execute_result"
    }
   ],
   "source": [
    "# 2차원\n",
    "sqr_array2d = sqr_array.reshape(2, 5)\n",
    "sqr_array2d.reshape(5, -1) # 구간 범위 준 뒤에 -1 주면, 알아서 행렬에 맞게 넣어줌"
   ]
  },
  {
   "cell_type": "code",
   "execution_count": 39,
   "id": "85a9e226",
   "metadata": {
    "scrolled": true
   },
   "outputs": [
    {
     "data": {
      "text/plain": [
       "array([[[1, 2],\n",
       "        [3, 4]],\n",
       "\n",
       "       [[5, 6],\n",
       "        [7, 8]]])"
      ]
     },
     "execution_count": 39,
     "metadata": {},
     "output_type": "execute_result"
    }
   ],
   "source": [
    "# 3차원\n",
    "sqr_array3d = np.arange(1, 9)\n",
    "sqr_array3d.reshape(2,2,2)"
   ]
  },
  {
   "cell_type": "code",
   "execution_count": 40,
   "id": "f2dc5796",
   "metadata": {},
   "outputs": [
    {
     "data": {
      "text/plain": [
       "array([[1, 2, 3, 4],\n",
       "       [5, 6, 7, 8]])"
      ]
     },
     "execution_count": 40,
     "metadata": {},
     "output_type": "execute_result"
    }
   ],
   "source": [
    "# sqr_array3d -> sqr_array2d\n",
    "sqr_array2d = sqr_array3d.reshape(2, -1)\n",
    "sqr_ld= sqr_array2d\n",
    "sqr_ld"
   ]
  },
  {
   "cell_type": "code",
   "execution_count": null,
   "id": "9a3765c5",
   "metadata": {},
   "outputs": [],
   "source": []
  }
 ],
 "metadata": {
  "kernelspec": {
   "display_name": "Python 3 (ipykernel)",
   "language": "python",
   "name": "python3"
  },
  "language_info": {
   "codemirror_mode": {
    "name": "ipython",
    "version": 3
   },
   "file_extension": ".py",
   "mimetype": "text/x-python",
   "name": "python",
   "nbconvert_exporter": "python",
   "pygments_lexer": "ipython3",
   "version": "3.9.13"
  }
 },
 "nbformat": 4,
 "nbformat_minor": 5
}
