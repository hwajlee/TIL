{
 "cells": [
  {
   "cell_type": "markdown",
   "metadata": {},
   "source": [
    "#### 참고 : tensorflow.keras 공식 문서 (Official API Docs) @ https://www.tensorflow.org/api_docs/python/tf/keras"
   ]
  },
  {
   "cell_type": "code",
   "execution_count": 1,
   "metadata": {},
   "outputs": [],
   "source": [
    "import tensorflow as tf\n",
    "from tensorflow.keras import datasets, utils\n",
    "from tensorflow.keras import models, layers, activations, initializers, losses, optimizers, metrics\n",
    "\n",
    "import os\n",
    "os.environ['TF_CPP_MIN_LOG_LEVEL'] = '2' # https://stackoverflow.com/questions/35911252/disable-tensorflow-debugging-information"
   ]
  },
  {
   "cell_type": "markdown",
   "metadata": {},
   "source": [
    "<br> \n",
    "\n",
    "#### 1. Prepare train & test data (MNIST)"
   ]
  },
  {
   "cell_type": "markdown",
   "metadata": {},
   "source": [
    "#### Train & Test split"
   ]
  },
  {
   "cell_type": "code",
   "execution_count": 2,
   "metadata": {},
   "outputs": [],
   "source": [
    "(train_data, train_label), (test_data, test_label) = datasets.mnist.load_data()"
   ]
  },
  {
   "cell_type": "markdown",
   "metadata": {},
   "source": [
    "#### Normalization"
   ]
  },
  {
   "cell_type": "code",
   "execution_count": 3,
   "metadata": {},
   "outputs": [],
   "source": [
    "train_data = train_data.reshape(60000, 784) / 255.0\n",
    "test_data = test_data.reshape(10000, 784) / 255.0"
   ]
  },
  {
   "cell_type": "markdown",
   "metadata": {},
   "source": [
    "#### One-hot encoding"
   ]
  },
  {
   "cell_type": "code",
   "execution_count": 4,
   "metadata": {},
   "outputs": [],
   "source": [
    "train_label = utils.to_categorical(train_label) # 0~9 -> one-hot vector\n",
    "test_label = utils.to_categorical(test_label) # 0~9 -> one-hot vector"
   ]
  },
  {
   "cell_type": "markdown",
   "metadata": {},
   "source": [
    "<br> \n",
    "\n",
    "#### 2. Build the model & Set the criterion"
   ]
  },
  {
   "cell_type": "code",
   "execution_count": 6,
   "metadata": {},
   "outputs": [],
   "source": [
    "model = models.Sequential() \n",
    "\n",
    "model.add(layers.Dense(input_dim=28*28, units=256, activation=None, kernel_initializer=initializers.he_uniform())) \n",
    "model.add(layers.BatchNormalization())\n",
    "\n",
    "model.add(layers.Activation('relu')) # layers.ELU or layers.LeakyReLU\n",
    "\n",
    "model.add(layers.Dropout(rate=0.2))\n",
    "\n",
    "model.add(layers.Dense(units=256, activation=None, kernel_initializer=initializers.he_uniform())) \n",
    "model.add(layers.BatchNormalization())\n",
    "model.add(layers.Activation('relu')) # layers.ELU or layers.LeakyReLU\n",
    "model.add(layers.Dropout(rate=0.2))\n",
    "\n",
    "model.add(layers.Dense(units=10, activation='softmax')) # 0~9 \n",
    "# units = y data 열의 수 \n",
    "# units = 1 -> activation = 'sigmoid' "
   ]
  },
  {
   "cell_type": "code",
   "execution_count": 7,
   "metadata": {},
   "outputs": [],
   "source": [
    "model.compile(optimizer=optimizers.Adam(), \n",
    "              loss=losses.categorical_crossentropy, \n",
    "              metrics=[metrics.categorical_accuracy]) # Precision / Recall / F1-Score 적용하기 @ https://j.mp/3cf3lbi\n",
    "\n",
    "# model.compile(optimizer='adam', \n",
    "#               loss=losses.categorical_crossentropy, \n",
    "#               metrics=['accuracy'])"
   ]
  },
  {
   "cell_type": "markdown",
   "metadata": {},
   "source": [
    "<br> \n",
    "\n",
    "#### 3. Train the model"
   ]
  },
  {
   "cell_type": "code",
   "execution_count": 8,
   "metadata": {},
   "outputs": [
    {
     "name": "stdout",
     "output_type": "stream",
     "text": [
      "Epoch 1/15\n",
      "480/480 [==============================] - 2s 3ms/step - loss: 0.3067 - categorical_accuracy: 0.9086 - val_loss: 0.1269 - val_categorical_accuracy: 0.9620\n",
      "Epoch 2/15\n",
      "480/480 [==============================] - 1s 3ms/step - loss: 0.1405 - categorical_accuracy: 0.9575 - val_loss: 0.0932 - val_categorical_accuracy: 0.9720\n",
      "Epoch 3/15\n",
      "480/480 [==============================] - 1s 3ms/step - loss: 0.1026 - categorical_accuracy: 0.9686 - val_loss: 0.0907 - val_categorical_accuracy: 0.9740\n",
      "Epoch 4/15\n",
      "480/480 [==============================] - 1s 3ms/step - loss: 0.0840 - categorical_accuracy: 0.9732 - val_loss: 0.0794 - val_categorical_accuracy: 0.9760\n",
      "Epoch 5/15\n",
      "480/480 [==============================] - 1s 3ms/step - loss: 0.0709 - categorical_accuracy: 0.9773 - val_loss: 0.0745 - val_categorical_accuracy: 0.9785\n",
      "Epoch 6/15\n",
      "480/480 [==============================] - 1s 3ms/step - loss: 0.0606 - categorical_accuracy: 0.9806 - val_loss: 0.0734 - val_categorical_accuracy: 0.9790\n",
      "Epoch 7/15\n",
      "480/480 [==============================] - 1s 3ms/step - loss: 0.0566 - categorical_accuracy: 0.9816 - val_loss: 0.0771 - val_categorical_accuracy: 0.9779\n",
      "Epoch 8/15\n",
      "480/480 [==============================] - 1s 3ms/step - loss: 0.0482 - categorical_accuracy: 0.9840 - val_loss: 0.0737 - val_categorical_accuracy: 0.9794\n",
      "Epoch 9/15\n",
      "480/480 [==============================] - 1s 3ms/step - loss: 0.0443 - categorical_accuracy: 0.9852 - val_loss: 0.0678 - val_categorical_accuracy: 0.9802\n",
      "Epoch 10/15\n",
      "480/480 [==============================] - 1s 3ms/step - loss: 0.0409 - categorical_accuracy: 0.9857 - val_loss: 0.0752 - val_categorical_accuracy: 0.9800\n",
      "Epoch 11/15\n",
      "480/480 [==============================] - 1s 3ms/step - loss: 0.0349 - categorical_accuracy: 0.9882 - val_loss: 0.0726 - val_categorical_accuracy: 0.9804\n",
      "Epoch 12/15\n",
      "480/480 [==============================] - 1s 3ms/step - loss: 0.0347 - categorical_accuracy: 0.9881 - val_loss: 0.0803 - val_categorical_accuracy: 0.9783\n",
      "Epoch 13/15\n",
      "480/480 [==============================] - 1s 3ms/step - loss: 0.0315 - categorical_accuracy: 0.9892 - val_loss: 0.0781 - val_categorical_accuracy: 0.9806\n",
      "Epoch 14/15\n",
      "480/480 [==============================] - 1s 3ms/step - loss: 0.0284 - categorical_accuracy: 0.9900 - val_loss: 0.0794 - val_categorical_accuracy: 0.9786\n",
      "Epoch 15/15\n",
      "480/480 [==============================] - 1s 3ms/step - loss: 0.0273 - categorical_accuracy: 0.9906 - val_loss: 0.0781 - val_categorical_accuracy: 0.9811\n"
     ]
    }
   ],
   "source": [
    "# Training 과정에서 epoch마다 활용할 validation set을 나눠줄 수 있습니다.\n",
    "\n",
    "history = model.fit(train_data, train_label, batch_size=100, epochs=15, validation_split=0.2) "
   ]
  },
  {
   "cell_type": "markdown",
   "metadata": {},
   "source": [
    "<br> \n",
    "\n",
    "#### 4. Test the model"
   ]
  },
  {
   "cell_type": "code",
   "execution_count": 9,
   "metadata": {
    "scrolled": true
   },
   "outputs": [
    {
     "name": "stdout",
     "output_type": "stream",
     "text": [
      "100/100 [==============================] - 0s 1ms/step - loss: 0.0621 - categorical_accuracy: 0.9828\n",
      "loss (cross-entropy) : 0.06212685629725456\n",
      "test accuracy : 0.9828000068664551\n"
     ]
    }
   ],
   "source": [
    "result = model.evaluate(test_data, test_label, batch_size=100)\n",
    "\n",
    "print('loss (cross-entropy) :', result[0])\n",
    "print('test accuracy :', result[1])"
   ]
  },
  {
   "cell_type": "markdown",
   "metadata": {},
   "source": [
    "<br> \n",
    "\n",
    "#### 5. Visualize the result"
   ]
  },
  {
   "cell_type": "code",
   "execution_count": 10,
   "metadata": {},
   "outputs": [
    {
     "data": {
      "text/plain": [
       "dict_keys(['loss', 'categorical_accuracy', 'val_loss', 'val_categorical_accuracy'])"
      ]
     },
     "execution_count": 10,
     "metadata": {},
     "output_type": "execute_result"
    }
   ],
   "source": [
    "history.history.keys()"
   ]
  },
  {
   "cell_type": "code",
   "execution_count": 12,
   "metadata": {},
   "outputs": [
    {
     "data": {
      "text/plain": [
       "[0.3067246973514557,\n",
       " 0.1405273675918579,\n",
       " 0.10263852775096893,\n",
       " 0.08404440432786942,\n",
       " 0.0708848163485527,\n",
       " 0.06063856929540634,\n",
       " 0.05656725913286209,\n",
       " 0.04815400764346123,\n",
       " 0.044326141476631165,\n",
       " 0.04085083678364754,\n",
       " 0.03489918261766434,\n",
       " 0.034662697464227676,\n",
       " 0.03148651123046875,\n",
       " 0.028395330533385277,\n",
       " 0.027332868427038193]"
      ]
     },
     "execution_count": 12,
     "metadata": {},
     "output_type": "execute_result"
    }
   ],
   "source": [
    "history.history['loss']"
   ]
  },
  {
   "cell_type": "code",
   "execution_count": 11,
   "metadata": {},
   "outputs": [
    {
     "data": {
      "image/png": "[encoded data removed]",
      "text/plain": [
       "<Figure size 640x480 with 1 Axes>"
      ]
     },
     "metadata": {},
     "output_type": "display_data"
    }
   ],
   "source": [
    "val_acc = history.history['val_categorical_accuracy']\n",
    "acc = history.history['categorical_accuracy']\n",
    "\n",
    "import numpy as np\n",
    "import matplotlib.pyplot as plt\n",
    "\n",
    "x_len = np.arange(len(acc))\n",
    "plt.plot(x_len, acc, marker='.', c='blue', label=\"Train-set Acc.\")\n",
    "plt.plot(x_len, val_acc, marker='.', c='red', label=\"Validation-set Acc.\")\n",
    "\n",
    "plt.legend(loc='upper right')\n",
    "plt.grid()\n",
    "plt.xlabel('epoch')\n",
    "plt.ylabel('Accuracy')\n",
    "plt.show()"
   ]
  },
  {
   "cell_type": "code",
   "execution_count": null,
   "metadata": {},
   "outputs": [],
   "source": []
  }
 ],
 "metadata": {
  "kernel_info": {
   "name": "python3"
  },
  "kernelspec": {
   "display_name": "Python 3 (ipykernel)",
   "language": "python",
   "name": "python3"
  },
  "language_info": {
   "codemirror_mode": {
    "name": "ipython",
    "version": 3
   },
   "file_extension": ".py",
   "mimetype": "text/x-python",
   "name": "python",
   "nbconvert_exporter": "python",
   "pygments_lexer": "ipython3",
   "version": "3.9.13"
  },
  "nteract": {
   "version": "0.15.0"
  }
 },
 "nbformat": 4,
 "nbformat_minor": 2
}
