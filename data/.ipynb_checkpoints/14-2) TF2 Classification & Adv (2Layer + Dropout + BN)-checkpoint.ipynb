{
 "cells": [
  {
   "cell_type": "markdown",
   "metadata": {},
   "source": [
    "#### 참고 : tensorflow.keras 공식 문서 (Official API Docs) @ https://www.tensorflow.org/api_docs/python/tf/keras"
   ]
  },
  {
   "cell_type": "code",
   "execution_count": 2,
   "metadata": {},
   "outputs": [],
   "source": [
    "import tensorflow as tf\n",
    "from tensorflow.keras import datasets, utils\n",
    "from tensorflow.keras import models, layers, activations, initializers, losses, optimizers, metrics\n",
    "\n",
    "import os\n",
    "os.environ['TF_CPP_MIN_LOG_LEVEL'] = '2' # https://stackoverflow.com/questions/35911252/disable-tensorflow-debugging-information"
   ]
  },
  {
   "cell_type": "markdown",
   "metadata": {},
   "source": [
    "<br> \n",
    "\n",
    "#### 1. Prepare train & test data (MNIST)"
   ]
  },
  {
   "cell_type": "markdown",
   "metadata": {},
   "source": [
    "#### Train & Test split"
   ]
  },
  {
   "cell_type": "code",
   "execution_count": 3,
   "metadata": {},
   "outputs": [],
   "source": [
    "(train_data, train_label), (test_data, test_label) = datasets.mnist.load_data()"
   ]
  },
  {
   "cell_type": "markdown",
   "metadata": {},
   "source": [
    "#### Normalization"
   ]
  },
  {
   "cell_type": "code",
   "execution_count": 4,
   "metadata": {},
   "outputs": [],
   "source": [
    "train_data = train_data.reshape(60000, 784) / 255.0\n",
    "test_data = test_data.reshape(10000, 784) / 255.0\n",
    "# flatten 쓴다면 reshape 빠져도 됨 + input_dim 안 써도 됨 \n",
    "# 모델 도화지 만든 후 \n",
    "# model.add(layers.Flatten())"
   ]
  },
  {
   "cell_type": "markdown",
   "metadata": {},
   "source": [
    "#### One-hot encoding"
   ]
  },
  {
   "cell_type": "code",
   "execution_count": 5,
   "metadata": {},
   "outputs": [],
   "source": [
    "train_label = utils.to_categorical(train_label) # 0~9 -> one-hot vector\n",
    "test_label = utils.to_categorical(test_label) # 0~9 -> one-hot vector\n",
    "# y 데이터 원핫 인코딩 적용 "
   ]
  },
  {
   "cell_type": "markdown",
   "metadata": {},
   "source": [
    "<br> \n",
    "\n",
    "#### 2. Build the model & Set the criterion"
   ]
  },
  {
   "cell_type": "code",
   "execution_count": 7,
   "metadata": {},
   "outputs": [],
   "source": [
    "# 도화지 열기 \n",
    "model = models.Sequential() \n",
    "\n",
    "# 레이어 쌓기 \n",
    "# 첫 번째 hidden layer \n",
    "model.add(layers.Dense(input_dim=28*28, units=256, activation=None, kernel_initializer=initializers.he_uniform())) \n",
    "# Batch Normalization 쓸 때 선형결합 후 Batch Normalization 적용 후 activation 씌웠으므로 위 단계에선 \n",
    "# activation = None \n",
    "# 해 초기화는 쓰든 안 쓰든 무방 \n",
    "model.add(layers.BatchNormalization())\n",
    "model.add(layers.Activation('relu')) # layers.ELU or layers.LeakyReLU (그 외에 tanh, sigmoid도 있음)\n",
    "model.add(layers.Dropout(rate=0.2))\n",
    "# 256개의 퍼셉트론 중 20%가 학습단계에서 랜덤하게 꺼지는 것 \n",
    "\n",
    "# 두 번째 hidden layer\n",
    "model.add(layers.Dense(units=256, activation=None, kernel_initializer=initializers.he_uniform())) \n",
    "model.add(layers.BatchNormalization())\n",
    "model.add(layers.Activation('relu')) # layers.ELU or layers.LeakyReLU\n",
    "model.add(layers.Dropout(rate=0.2))\n",
    "\n",
    "# BatchNormalization은 모든 레이어에서 써야함 \n",
    "# 하지만 drop out의 경우는 레이어가 여러개이면, 마지막 한 두개의 히든 레이어에서만 써주는 편 \n",
    "\n",
    "# 마지막 output layer \n",
    "model.add(layers.Dense(units=10, activation='softmax')) # 0~9 \n",
    "# units = y data 열의 수 \n",
    "# -> 회귀분석일 때는 1, multi-class 분류일 때는 class 개수 만큼의 수, \n",
    "# 이진 분류일 때는 2로 받아내고 함수 softmax 적용 OR 1로 받아내고 함수 sigmoid 적용 \n",
    "# But 2로 받아내고 함수 softmax 썼다면 손실함수 categorical_crossentropy 써야하지만 \n",
    "# 1로 받아내고 함수 sigmoid 적용했다면 손실함수 binary_crossentropy 사용 \n",
    "# units = 1 -> activation = 'sigmoid' "
   ]
  },
  {
   "cell_type": "code",
   "execution_count": 9,
   "metadata": {},
   "outputs": [],
   "source": [
    "model.compile(optimizer=optimizers.Adam(), # optimizer='Adam'이라 썼으나 optimizers.Adam()와 같이 class로 불러와서 쓸 수 있음 \n",
    "             # Adam(0.01) -> 괄호 안에 learning rate 설정 가능 \n",
    "             # Adam, AdagradAdam, RMSprop까지 써보고 제일 좋은 성능 보이는 것으로 택하는 것이 좋음 (SGD는 거의 안씀)\n",
    "              loss=losses.categorical_crossentropy, \n",
    "              # 만약 sparse_ 가 붙어있으면 정답 데이터에 원핫 인코딩 안 했으므로 정수로 된 정답데이터구나 생각하면 됨 \n",
    "              metrics=[metrics.categorical_accuracy]) # Precision / Recall / F1-Score 적용하기 @ https://j.mp/3cf3lbi\n",
    "                        # metrics -> tf.keras.metrics \n",
    "                        # 이진 분류할 때는 metrics.binary_accuracy\n",
    "# 참고) top_k_categorical_accuracy는 예측한 클래스 별 확률 중에서 제일 높은 확률에 해당 하는 클래스 중 상위 k개 중 정답이 있다면 okay해주는 것\n",
    "   \n",
    "# model.compile(optimizer='adam', \n",
    "#               loss=losses.categorical_crossentropy, \n",
    "#               metrics=['accuracy']) # metrics그룹에서 꺼내와서 위와 같이 활용 가능"
   ]
  },
  {
   "cell_type": "markdown",
   "metadata": {},
   "source": [
    "<br> \n",
    "\n",
    "#### 3. Train the model"
   ]
  },
  {
   "cell_type": "code",
   "execution_count": 10,
   "metadata": {},
   "outputs": [
    {
     "name": "stdout",
     "output_type": "stream",
     "text": [
      "Epoch 1/15\n",
      "480/480 [==============================] - 2s 3ms/step - loss: 0.3085 - categorical_accuracy: 0.9062 - val_loss: 0.1290 - val_categorical_accuracy: 0.9610\n",
      "Epoch 2/15\n",
      "480/480 [==============================] - 1s 3ms/step - loss: 0.1425 - categorical_accuracy: 0.9566 - val_loss: 0.1072 - val_categorical_accuracy: 0.9677\n",
      "Epoch 3/15\n",
      "480/480 [==============================] - 1s 3ms/step - loss: 0.1009 - categorical_accuracy: 0.9682 - val_loss: 0.0843 - val_categorical_accuracy: 0.9741\n",
      "Epoch 4/15\n",
      "480/480 [==============================] - 1s 3ms/step - loss: 0.0817 - categorical_accuracy: 0.9747 - val_loss: 0.0800 - val_categorical_accuracy: 0.9752\n",
      "Epoch 5/15\n",
      "480/480 [==============================] - 1s 3ms/step - loss: 0.0695 - categorical_accuracy: 0.9777 - val_loss: 0.0818 - val_categorical_accuracy: 0.9751\n",
      "Epoch 6/15\n",
      "480/480 [==============================] - 1s 3ms/step - loss: 0.0612 - categorical_accuracy: 0.9798 - val_loss: 0.0762 - val_categorical_accuracy: 0.9778\n",
      "Epoch 7/15\n",
      "480/480 [==============================] - 1s 3ms/step - loss: 0.0536 - categorical_accuracy: 0.9825 - val_loss: 0.0772 - val_categorical_accuracy: 0.9787\n",
      "Epoch 8/15\n",
      "480/480 [==============================] - 1s 2ms/step - loss: 0.0482 - categorical_accuracy: 0.9838 - val_loss: 0.0772 - val_categorical_accuracy: 0.9766\n",
      "Epoch 9/15\n",
      "480/480 [==============================] - 1s 3ms/step - loss: 0.0405 - categorical_accuracy: 0.9860 - val_loss: 0.0709 - val_categorical_accuracy: 0.9792\n",
      "Epoch 10/15\n",
      "480/480 [==============================] - 1s 2ms/step - loss: 0.0389 - categorical_accuracy: 0.9874 - val_loss: 0.0841 - val_categorical_accuracy: 0.9776\n",
      "Epoch 11/15\n",
      "480/480 [==============================] - 1s 2ms/step - loss: 0.0366 - categorical_accuracy: 0.9874 - val_loss: 0.0810 - val_categorical_accuracy: 0.9789\n",
      "Epoch 12/15\n",
      "480/480 [==============================] - 1s 3ms/step - loss: 0.0327 - categorical_accuracy: 0.9890 - val_loss: 0.0750 - val_categorical_accuracy: 0.9795\n",
      "Epoch 13/15\n",
      "480/480 [==============================] - 1s 2ms/step - loss: 0.0323 - categorical_accuracy: 0.9892 - val_loss: 0.0724 - val_categorical_accuracy: 0.9811\n",
      "Epoch 14/15\n",
      "480/480 [==============================] - 1s 2ms/step - loss: 0.0294 - categorical_accuracy: 0.9896 - val_loss: 0.0705 - val_categorical_accuracy: 0.9808\n",
      "Epoch 15/15\n",
      "480/480 [==============================] - 1s 2ms/step - loss: 0.0275 - categorical_accuracy: 0.9909 - val_loss: 0.0751 - val_categorical_accuracy: 0.9798\n"
     ]
    }
   ],
   "source": [
    "# Training 과정에서 epoch마다 활용할 validation set을 나눠줄 수 있습니다.\n",
    "\n",
    "# model.fit(train_data, train_label, batch_size=100, epochs=15)\n",
    "\n",
    "history = model.fit(train_data, train_label, batch_size=100, epochs=15, validation_split=0.2)\n",
    "# model.flt이 return 하는 값을 history변수에 담음 \n",
    "# 480은 batch의 개수 \n",
    "# train_data ==  60000행 \n",
    "# train      == 0.8 == 48000행 / 100행 == 480 batches \n",
    "# validation == 0.2 == 12000행 "
   ]
  },
  {
   "cell_type": "markdown",
   "metadata": {},
   "source": [
    "- 480/480 [==============================] - 2s 3ms/step - loss: 0.3067 - categorical_accuracy: 0.9086 - val_loss: 0.1269 - val_categorical_accuracy: 0.9620 \n",
    "\n",
    "#### =>  해당 결과에서 loss 및 categorical_accuracy은 train data를 대상으로 학습한 결과이며 val_loss 및 val_categorical_accuracy는 epoch가 끝났을 때 validation data를 대상으로 채점한 결과 \n",
    "\n",
    "#### => 따라서 epoch를 반복했을 때 validation 기준 error값이 낮아지고 accuracy가 높아짐\n",
    "\n",
    "#### => 이때 val_loss가 갑자기 낮아지면 overfiting 되기 시작하는 것 \n",
    "\n",
    "#### => 현재 categorical_accuracy가 계속 높아지는 반면 val_categorical_accuracy는 올라가다가 어느시점 살짝 내려가기도 하며 왔다 갔다하는 것을 보아 overfiting이 발생하고 있음을 알 수 있음"
   ]
  },
  {
   "cell_type": "markdown",
   "metadata": {},
   "source": [
    "<br> \n",
    "\n",
    "#### 4. Test the model"
   ]
  },
  {
   "cell_type": "code",
   "execution_count": 11,
   "metadata": {
    "scrolled": true
   },
   "outputs": [
    {
     "name": "stdout",
     "output_type": "stream",
     "text": [
      "100/100 [==============================] - 0s 1ms/step - loss: 0.0618 - categorical_accuracy: 0.9825\n",
      "loss (cross-entropy) : 0.061818696558475494\n",
      "test accuracy : 0.9825000166893005\n"
     ]
    }
   ],
   "source": [
    "result = model.evaluate(test_data, test_label, batch_size=100)\n",
    "\n",
    "print('loss (cross-entropy) :', result[0])\n",
    "print('test accuracy :', result[1])\n",
    "# test data 기준 정확도"
   ]
  },
  {
   "cell_type": "markdown",
   "metadata": {},
   "source": [
    "<br> \n",
    "\n",
    "#### 5. Visualize the result"
   ]
  },
  {
   "cell_type": "code",
   "execution_count": 13,
   "metadata": {},
   "outputs": [
    {
     "data": {
      "text/plain": [
       "<tensorflow.python.keras.callbacks.History at 0x28de5ae1910>"
      ]
     },
     "execution_count": 13,
     "metadata": {},
     "output_type": "execute_result"
    }
   ],
   "source": [
    "history"
   ]
  },
  {
   "cell_type": "code",
   "execution_count": 12,
   "metadata": {},
   "outputs": [
    {
     "data": {
      "text/plain": [
       "{'loss': [0.3084757626056671,\n",
       "  0.14246340095996857,\n",
       "  0.10092585533857346,\n",
       "  0.08169114589691162,\n",
       "  0.06952749937772751,\n",
       "  0.061220433562994,\n",
       "  0.05361059680581093,\n",
       "  0.048196397721767426,\n",
       "  0.04052213206887245,\n",
       "  0.03887453302741051,\n",
       "  0.03656349331140518,\n",
       "  0.032697416841983795,\n",
       "  0.03225698694586754,\n",
       "  0.02938091568648815,\n",
       "  0.02747538313269615],\n",
       " 'categorical_accuracy': [0.9061874747276306,\n",
       "  0.9566041827201843,\n",
       "  0.9682083129882812,\n",
       "  0.9747083187103271,\n",
       "  0.9777083396911621,\n",
       "  0.979812502861023,\n",
       "  0.9825416803359985,\n",
       "  0.9837708473205566,\n",
       "  0.9859791398048401,\n",
       "  0.987416684627533,\n",
       "  0.9873958230018616,\n",
       "  0.9890416860580444,\n",
       "  0.989187479019165,\n",
       "  0.9896458387374878,\n",
       "  0.9908958077430725],\n",
       " 'val_loss': [0.1289549171924591,\n",
       "  0.10718020796775818,\n",
       "  0.08425266295671463,\n",
       "  0.08000461012125015,\n",
       "  0.08176223188638687,\n",
       "  0.07618468999862671,\n",
       "  0.07721645385026932,\n",
       "  0.07718116790056229,\n",
       "  0.07091888040304184,\n",
       "  0.08411430567502975,\n",
       "  0.0810273289680481,\n",
       "  0.07496891915798187,\n",
       "  0.07238303869962692,\n",
       "  0.07049375772476196,\n",
       "  0.07510507106781006],\n",
       " 'val_categorical_accuracy': [0.9610000252723694,\n",
       "  0.9676666855812073,\n",
       "  0.9740833044052124,\n",
       "  0.9751666784286499,\n",
       "  0.9750833511352539,\n",
       "  0.9777500033378601,\n",
       "  0.9786666631698608,\n",
       "  0.9765833616256714,\n",
       "  0.9791666865348816,\n",
       "  0.9775833487510681,\n",
       "  0.9789166450500488,\n",
       "  0.9794999957084656,\n",
       "  0.981083333492279,\n",
       "  0.9807500243186951,\n",
       "  0.9798333048820496]}"
      ]
     },
     "execution_count": 12,
     "metadata": {},
     "output_type": "execute_result"
    }
   ],
   "source": [
    "history.history \n",
    "# model.fit가 넘겨준 return 값이 저장된 history라는 변수에 아래와 같은 값들이 저장되어 있음을 확인 가능 "
   ]
  },
  {
   "cell_type": "code",
   "execution_count": 14,
   "metadata": {},
   "outputs": [
    {
     "data": {
      "text/plain": [
       "dict_keys(['loss', 'categorical_accuracy', 'val_loss', 'val_categorical_accuracy'])"
      ]
     },
     "execution_count": 14,
     "metadata": {},
     "output_type": "execute_result"
    }
   ],
   "source": [
    "history.history.keys()"
   ]
  },
  {
   "cell_type": "code",
   "execution_count": 12,
   "metadata": {},
   "outputs": [
    {
     "data": {
      "text/plain": [
       "[0.3067246973514557,\n",
       " 0.1405273675918579,\n",
       " 0.10263852775096893,\n",
       " 0.08404440432786942,\n",
       " 0.0708848163485527,\n",
       " 0.06063856929540634,\n",
       " 0.05656725913286209,\n",
       " 0.04815400764346123,\n",
       " 0.044326141476631165,\n",
       " 0.04085083678364754,\n",
       " 0.03489918261766434,\n",
       " 0.034662697464227676,\n",
       " 0.03148651123046875,\n",
       " 0.028395330533385277,\n",
       " 0.027332868427038193]"
      ]
     },
     "execution_count": 12,
     "metadata": {},
     "output_type": "execute_result"
    }
   ],
   "source": [
    "history.history['loss']\n",
    "# epoch마다 training data 기준 cost값을 모아둔 것 \n",
    "# complie할 때 지정해뒀던 손실함수 방법에 의해 계산됨\n",
    "# 따라서 여기선 categorical_crossentropy"
   ]
  },
  {
   "cell_type": "code",
   "execution_count": 16,
   "metadata": {},
   "outputs": [
    {
     "data": {
      "text/plain": [
       "[0.9061874747276306,\n",
       " 0.9566041827201843,\n",
       " 0.9682083129882812,\n",
       " 0.9747083187103271,\n",
       " 0.9777083396911621,\n",
       " 0.979812502861023,\n",
       " 0.9825416803359985,\n",
       " 0.9837708473205566,\n",
       " 0.9859791398048401,\n",
       " 0.987416684627533,\n",
       " 0.9873958230018616,\n",
       " 0.9890416860580444,\n",
       " 0.989187479019165,\n",
       " 0.9896458387374878,\n",
       " 0.9908958077430725]"
      ]
     },
     "execution_count": 16,
     "metadata": {},
     "output_type": "execute_result"
    }
   ],
   "source": [
    "history.history['categorical_accuracy'] \n",
    "# training data기준 accuracy \n",
    "# 이를 y좌표로 주고 시각화하면 cost당 accuracy 변화 시각화 가능 "
   ]
  },
  {
   "cell_type": "code",
   "execution_count": 20,
   "metadata": {},
   "outputs": [
    {
     "data": {
      "text/plain": [
       "array([ 0,  1,  2,  3,  4,  5,  6,  7,  8,  9, 10, 11, 12, 13, 14])"
      ]
     },
     "execution_count": 20,
     "metadata": {},
     "output_type": "execute_result"
    }
   ],
   "source": [
    "import numpy as np\n",
    "\n",
    "val_acc = history.history['val_categorical_accuracy']\n",
    "acc = history.history['categorical_accuracy']\n",
    "\n",
    "np.arange(len(acc))"
   ]
  },
  {
   "cell_type": "code",
   "execution_count": 21,
   "metadata": {},
   "outputs": [
    {
     "data": {
      "image/png": "[encoded data removed]",
      "text/plain": [
       "<Figure size 640x480 with 1 Axes>"
      ]
     },
     "metadata": {},
     "output_type": "display_data"
    }
   ],
   "source": [
    "val_acc = history.history['val_categorical_accuracy']\n",
    "acc = history.history['categorical_accuracy']\n",
    "\n",
    "import numpy as np\n",
    "import matplotlib.pyplot as plt\n",
    "\n",
    "# X 좌표 \n",
    "x_len = np.arange(len(acc)) # X좌표 0~14까지 형성\n",
    "\n",
    "# y좌표 training data accuracy와 validation data accuracy \n",
    "plt.plot(x_len, acc, marker='.', c='blue', label=\"Train-set Acc.\") \n",
    "plt.plot(x_len, val_acc, marker='.', c='red', label=\"Validation-set Acc.\")\n",
    "\n",
    "plt.legend(loc='lower right') # 범례 위로 올리고 싶으면 upper right\n",
    "plt.grid()\n",
    "plt.xlabel('epoch')\n",
    "plt.ylabel('Accuracy')\n",
    "plt.show()"
   ]
  },
  {
   "cell_type": "code",
   "execution_count": null,
   "metadata": {},
   "outputs": [],
   "source": [
    "# end of file"
   ]
  }
 ],
 "metadata": {
  "kernel_info": {
   "name": "python3"
  },
  "kernelspec": {
   "display_name": "Python 3 (ipykernel)",
   "language": "python",
   "name": "python3"
  },
  "language_info": {
   "codemirror_mode": {
    "name": "ipython",
    "version": 3
   },
   "file_extension": ".py",
   "mimetype": "text/x-python",
   "name": "python",
   "nbconvert_exporter": "python",
   "pygments_lexer": "ipython3",
   "version": "3.9.13"
  },
  "nteract": {
   "version": "0.15.0"
  }
 },
 "nbformat": 4,
 "nbformat_minor": 2
}
