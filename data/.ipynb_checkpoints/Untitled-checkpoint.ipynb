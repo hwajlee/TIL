{
 "cells": [
  {
   "cell_type": "code",
   "execution_count": 2,
   "id": "30a322a3",
   "metadata": {},
   "outputs": [],
   "source": [
    "# 필수 라이브러리 호출 \n",
    "import pandas as pd\n",
    "import numpy as np\n",
    "\n",
    "from sklearn.model_selection import train_test_split\n",
    "from sklearn.tree import DecisionTreeClassifier \n",
    "\n",
    "from sklearn.metrics import accuracy_score as acc_sc"
   ]
  },
  {
   "cell_type": "code",
   "execution_count": 5,
   "id": "75714f51",
   "metadata": {},
   "outputs": [],
   "source": [
    "st_default_org = pd.read_csv('./st_default.csv')"
   ]
  },
  {
   "cell_type": "code",
   "execution_count": null,
   "id": "d49de49f",
   "metadata": {},
   "outputs": [],
   "source": [
    "\n"
   ]
  }
 ],
 "metadata": {
  "kernelspec": {
   "display_name": "Python 3 (ipykernel)",
   "language": "python",
   "name": "python3"
  },
  "language_info": {
   "codemirror_mode": {
    "name": "ipython",
    "version": 3
   },
   "file_extension": ".py",
   "mimetype": "text/x-python",
   "name": "python",
   "nbconvert_exporter": "python",
   "pygments_lexer": "ipython3",
   "version": "3.9.13"
  }
 },
 "nbformat": 4,
 "nbformat_minor": 5
}
