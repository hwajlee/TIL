{
 "cells": [
  {
   "cell_type": "code",
   "execution_count": null,
   "id": "62c87434",
   "metadata": {},
   "outputs": [],
   "source": [
    "import numpy as np # alias 축약어"
   ]
  },
  {
   "cell_type": "code",
   "execution_count": null,
   "id": "8809067a",
   "metadata": {},
   "outputs": [],
   "source": [
    "a = [1,2,3]\n",
    "b = np.arry(a)"
   ]
  },
  {
   "cell_type": "code",
   "execution_count": null,
   "id": "9383e1be",
   "metadata": {},
   "outputs": [],
   "source": [
    "# a는 일반 list이다\n",
    "# b는 ndarray이다 \n",
    "\n",
    "print(type(a))\n",
    "print(type(b))"
   ]
  }
 ],
 "metadata": {},
 "nbformat": 4,
 "nbformat_minor": 5
}
