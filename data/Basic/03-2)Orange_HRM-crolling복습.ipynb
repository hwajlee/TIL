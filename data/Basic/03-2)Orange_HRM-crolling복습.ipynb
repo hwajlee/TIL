{
 "cells": [
  {
   "cell_type": "markdown",
   "id": "3983246f",
   "metadata": {},
   "source": [
    "### Selenium(셀레늄) WebDriver"
   ]
  },
  {
   "cell_type": "markdown",
   "id": "c7eda50c",
   "metadata": {},
   "source": [
    "웹 드라이버란? \n",
    "* 웹 드라이버는 셀레늄의 한  구성 요소 \n",
    "\n",
    "* 웹 드라이버는 모듈 \n",
    "\n",
    "* 브라우저 엔진의 한 종류 \n",
    "\n",
    "> Firefox browser -> Firefox()\n",
    "> Chrome browser -> Chrome()\n",
    "> Edge -> Edge()"
   ]
  },
  {
   "cell_type": "markdown",
   "id": "8e4c6486",
   "metadata": {},
   "source": [
    "### Test Case\n",
    "1) Open Web Browser(Chrome/FF/Edge)\n",
    "\n",
    "2) Open URL https://admin-demo.nopcommerce.com/login\n",
    "\n",
    "3) Provide Email (admin@yourstore.com).\n",
    "\n",
    "4) Provide password (admin).\n",
    "\n",
    "5) Click on Login.\n",
    "\n",
    "6) Capture title of the dashboard page. (Actual title)\n",
    "\n",
    "7) Verify title of the page: \"Dashboard /  nopCommerce administration\" (Expected)\n",
    "\n",
    ":선글라스: close browser"
   ]
  },
  {
   "cell_type": "code",
   "execution_count": 2,
   "id": "5b94de76",
   "metadata": {},
   "outputs": [
    {
     "name": "stdout",
     "output_type": "stream",
     "text": [
      "Collecting webdriver_managerNote: you may need to restart the kernel to use updated packages.\n",
      "\n",
      "  Using cached webdriver_manager-3.8.5-py2.py3-none-any.whl (27 kB)\n",
      "Requirement already satisfied: tqdm in c:\\programdata\\anaconda3\\lib\\site-packages (from webdriver_manager) (4.64.1)\n",
      "Requirement already satisfied: packaging in c:\\programdata\\anaconda3\\lib\\site-packages (from webdriver_manager) (21.3)\n",
      "Collecting python-dotenv\n",
      "  Using cached python_dotenv-0.21.1-py3-none-any.whl (19 kB)\n",
      "Requirement already satisfied: requests in c:\\programdata\\anaconda3\\lib\\site-packages (from webdriver_manager) (2.28.1)\n",
      "Requirement already satisfied: pyparsing!=3.0.5,>=2.0.2 in c:\\programdata\\anaconda3\\lib\\site-packages (from packaging->webdriver_manager) (3.0.9)\n",
      "Requirement already satisfied: certifi>=2017.4.17 in c:\\programdata\\anaconda3\\lib\\site-packages (from requests->webdriver_manager) (2022.9.14)\n",
      "Requirement already satisfied: charset-normalizer<3,>=2 in c:\\programdata\\anaconda3\\lib\\site-packages (from requests->webdriver_manager) (2.0.4)\n",
      "Requirement already satisfied: urllib3<1.27,>=1.21.1 in c:\\programdata\\anaconda3\\lib\\site-packages (from requests->webdriver_manager) (1.26.11)\n",
      "Requirement already satisfied: idna<4,>=2.5 in c:\\programdata\\anaconda3\\lib\\site-packages (from requests->webdriver_manager) (3.3)\n",
      "Requirement already satisfied: colorama in c:\\programdata\\anaconda3\\lib\\site-packages (from tqdm->webdriver_manager) (0.4.5)\n",
      "Installing collected packages: python-dotenv, webdriver_manager\n",
      "Successfully installed python-dotenv-0.21.1 webdriver_manager-3.8.5\n"
     ]
    }
   ],
   "source": [
    "pip install webdriver_manager"
   ]
  },
  {
   "cell_type": "code",
   "execution_count": 4,
   "id": "76a1a392",
   "metadata": {},
   "outputs": [],
   "source": [
    "from selenium.webdriver.chrome.service import Service\n",
    "from selenium import webdriver\n",
    "from selenium.webdriver.common.by import By\n",
    "\n",
    "import time "
   ]
  },
  {
   "cell_type": "code",
   "execution_count": 10,
   "id": "40e739c7",
   "metadata": {},
   "outputs": [
    {
     "name": "stdout",
     "output_type": "stream",
     "text": [
      "Login Test is okay\n"
     ]
    }
   ],
   "source": [
    "driver = webdriver.Chrome()\n",
    "driver.get('https://opensource-demo.orangehrmlive.com/')\n",
    "\n",
    "# 너무 빨리 결과를 요청했기 때문에\n",
    "# 홈페이지가 뜨지도 않았음... \n",
    "# solution -> time sleep을 줘보자...\n",
    "\n",
    "time.sleep(2.0)\n",
    "driver.find_element(By.NAME, 'username').send_keys('Admin') # 셀레늄 4버전의 문법 \n",
    "time.sleep(2.0)\n",
    "driver.find_element(By.NAME, 'password').send_keys('admin123')\n",
    "time.sleep(1.43)\n",
    "driver.find_element(By.XPATH, '//*[@id=\"app\"]/div[1]/div/div[1]/div/div[2]/div[2]/form/div[3]/button')\n",
    "\n",
    "# check the title \n",
    "act_title = driver.title\n",
    "exp_title = 'OrangeHRM'\n",
    "\n",
    "if act_title == exp_title:\n",
    "    print('Login Test is okay')\n",
    "    \n",
    "else:\n",
    "    print('Nokay')\n",
    "    \n",
    "driver.close()"
   ]
  },
  {
   "cell_type": "code",
   "execution_count": null,
   "id": "067b8a75",
   "metadata": {},
   "outputs": [],
   "source": [
    "driver = webdriver.Chrome()\n",
    "driver.get('https://opensource-demo.orangehrmlive.com/')\n",
    "\n",
    "elem = driver.find_element_by_name()"
   ]
  }
 ],
 "metadata": {
  "kernelspec": {
   "display_name": "Python 3 (ipykernel)",
   "language": "python",
   "name": "python3"
  },
  "language_info": {
   "codemirror_mode": {
    "name": "ipython",
    "version": 3
   },
   "file_extension": ".py",
   "mimetype": "text/x-python",
   "name": "python",
   "nbconvert_exporter": "python",
   "pygments_lexer": "ipython3",
   "version": "3.9.13"
  }
 },
 "nbformat": 4,
 "nbformat_minor": 5
}
