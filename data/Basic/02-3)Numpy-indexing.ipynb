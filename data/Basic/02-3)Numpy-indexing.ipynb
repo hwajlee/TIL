{
 "cells": [
  {
   "cell_type": "markdown",
   "id": "6c848bf5",
   "metadata": {},
   "source": [
    "### 넘파이의 ndarray의 데이터 세트 선택하기 - 인덱싱(Indexing)\n",
    "*넘파이에서 ndarray내의 일부 데이터 셋이나 특정 데이터만을 선택 할 수 있도록 하는 인덱싱에 대한 알아보자\n",
    "#### 1.특정한 데이터만 추출\n",
    "#### 2.슬라이싱(Slicing)\n",
    "#### 3.팬시 인덱싱(Fancy Indexing)\n",
    "#### 4.불린 인덱싱(Boolean Indexing)"
   ]
  },
  {
   "cell_type": "code",
   "execution_count": 2,
   "id": "4bcb86bf",
   "metadata": {},
   "outputs": [],
   "source": [
    "import numpy as np"
   ]
  },
  {
   "cell_type": "code",
   "execution_count": 8,
   "id": "5fc3280c",
   "metadata": {},
   "outputs": [
    {
     "name": "stdout",
     "output_type": "stream",
     "text": [
      "[1 2 3 4 5 6 7 8 9]\n",
      "value: 9\n",
      "<class 'numpy.int32'>\n"
     ]
    }
   ],
   "source": [
    "# 1~9까지 ndarray셍상 - np.array\n",
    "array1 = np.arange(1, 10)\n",
    "print(array1)\n",
    "value = array1[-1]\n",
    "\n",
    "print('value:', value)\n",
    "print(type(value))"
   ]
  },
  {
   "cell_type": "code",
   "execution_count": 11,
   "id": "74583a03",
   "metadata": {},
   "outputs": [
    {
     "name": "stdout",
     "output_type": "stream",
     "text": [
      "[[1 2 3]\n",
      " [4 5 6]\n",
      " [7 8 9]]\n"
     ]
    }
   ],
   "source": [
    "# array1을 2차원으로 변형 \n",
    "array1d = array1.copy()\n",
    "array2d = array1d.reshape(3,3)\n",
    "print(array2d)"
   ]
  },
  {
   "cell_type": "code",
   "execution_count": 14,
   "id": "5b471b6e",
   "metadata": {},
   "outputs": [
    {
     "name": "stdout",
     "output_type": "stream",
     "text": [
      "(row=0, col=0) index 가리키는 값: 1\n",
      "(row=0, col=1) index 가리키는 값: 2\n",
      "(row=1, col=0) index 가리키는 값: 4\n",
      "(row=2, col=2) index 가리키는 값: 9\n"
     ]
    }
   ],
   "source": [
    "print('(row=0, col=0) index 가리키는 값:', array2d[0][0])\n",
    "print('(row=0, col=1) index 가리키는 값:', array2d[0][1])\n",
    "print('(row=1, col=0) index 가리키는 값:', array2d[1][0])\n",
    "print('(row=2, col=2) index 가리키는 값:', array2d[2][2])"
   ]
  },
  {
   "cell_type": "markdown",
   "id": "4fb333ea",
   "metadata": {},
   "source": [
    "### 2. 슬라이싱(Slicing) - 2차원"
   ]
  },
  {
   "cell_type": "code",
   "execution_count": 21,
   "id": "22ccea47",
   "metadata": {},
   "outputs": [
    {
     "name": "stdout",
     "output_type": "stream",
     "text": [
      "[[1 2 3]\n",
      " [4 5 6]\n",
      " [7 8 9]]\n",
      "array2d(0:3, 0:2):\n",
      " [[1 2]\n",
      " [4 5]\n",
      " [7 8]]\n",
      "array2d(1:3, 0:3):\n",
      " [[4 5 6]\n",
      " [7 8 9]]\n",
      "array2d(:2, 0):\n",
      " [1 4]\n",
      "array2d(:2, 0:1):\n",
      " [[1]\n",
      " [4]]\n"
     ]
    }
   ],
   "source": [
    "print(array2d)\n",
    "\n",
    "print('array2d(0:3, 0:2):\\n', array2d[0:3, 0:2])\n",
    "print('array2d(1:3, 0:3):\\n', array2d[1:3, 0:3])\n",
    "\n",
    "# question1\n",
    "print('array2d(:2, 0):\\n', array2d[:2, 0])\n",
    "print('array2d(:2, 0:1):\\n', array2d[:2, 0:1])"
   ]
  },
  {
   "cell_type": "markdown",
   "id": "614742df",
   "metadata": {},
   "source": [
    "### 팬시 인덱싱(Fancy Indexing)"
   ]
  },
  {
   "cell_type": "code",
   "execution_count": 23,
   "id": "08a9fe51",
   "metadata": {},
   "outputs": [
    {
     "name": "stdout",
     "output_type": "stream",
     "text": [
      "[[1 2 3]\n",
      " [4 5 6]\n",
      " [7 8 9]]\n"
     ]
    }
   ],
   "source": [
    "print(array2d)"
   ]
  },
  {
   "cell_type": "code",
   "execution_count": 25,
   "id": "5d028345",
   "metadata": {},
   "outputs": [
    {
     "data": {
      "text/plain": [
       "array([[3],\n",
       "       [6]])"
      ]
     },
     "execution_count": 25,
     "metadata": {},
     "output_type": "execute_result"
    }
   ],
   "source": [
    "array2d[[0,1], 2:]"
   ]
  },
  {
   "cell_type": "code",
   "execution_count": null,
   "id": "374f1d47",
   "metadata": {},
   "outputs": [],
   "source": []
  }
 ],
 "metadata": {
  "kernelspec": {
   "display_name": "Python 3 (ipykernel)",
   "language": "python",
   "name": "python3"
  },
  "language_info": {
   "codemirror_mode": {
    "name": "ipython",
    "version": 3
   },
   "file_extension": ".py",
   "mimetype": "text/x-python",
   "name": "python",
   "nbconvert_exporter": "python",
   "pygments_lexer": "ipython3",
   "version": "3.9.13"
  }
 },
 "nbformat": 4,
 "nbformat_minor": 5
}
