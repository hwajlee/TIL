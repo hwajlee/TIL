{
 "cells": [
  {
   "cell_type": "markdown",
   "id": "1c1db677",
   "metadata": {},
   "source": [
    "### 행렬의 정렬 - sort()와 argsort() "
   ]
  },
  {
   "cell_type": "code",
   "execution_count": 2,
   "id": "a20ec5cd",
   "metadata": {},
   "outputs": [
    {
     "name": "stdout",
     "output_type": "stream",
     "text": [
      "원본 행렬: [3 1 9 5]\n",
      "np.sort()호출 후 반환된 정렬행렬: [1 3 5 9]\n",
      "np.sort()호출 후 반환된 원본행렬: [3 1 9 5]\n",
      "sort()만 적용 후 반환된 정렬행렬: None\n",
      "sort()만 적용 후 반환된 원본행렬: [1 3 5 9]\n"
     ]
    }
   ],
   "source": [
    "import numpy as np\n",
    "\n",
    "org_array = np.array([3,1,9,5])\n",
    "print('원본 행렬:', org_array)\n",
    "\n",
    "# np.sort()로 정렬\n",
    "sort_array1 = np.sort(org_array)\n",
    "print('np.sort()호출 후 반환된 정렬행렬:', sort_array1)\n",
    "print('np.sort()호출 후 반환된 원본행렬:', org_array)\n",
    "\n",
    "# ndarray.sort()로 정렬 - 원본 변함 \n",
    "sort_array2 = org_array.sort()\n",
    "print('sort()만 적용 후 반환된 정렬행렬:', sort_array2)\n",
    "print('sort()만 적용 후 반환된 원본행렬:', org_array)"
   ]
  },
  {
   "cell_type": "code",
   "execution_count": 8,
   "id": "d44a27fb",
   "metadata": {},
   "outputs": [
    {
     "name": "stdout",
     "output_type": "stream",
     "text": [
      "내림차순 정렬 [9 5 3 1]\n"
     ]
    }
   ],
   "source": [
    "# 내림차순으로 정렬 \n",
    "desc_array1 = np.sort(org_array)[::-1]\n",
    "print('내림차순 정렬', desc_array1)"
   ]
  },
  {
   "cell_type": "code",
   "execution_count": 16,
   "id": "441219b7",
   "metadata": {},
   "outputs": [
    {
     "name": "stdout",
     "output_type": "stream",
     "text": [
      "로우 방향으로 정렬:\n",
      " [[ 7  1]\n",
      " [ 8 12]]\n",
      " 컬럼 방향으로 정렬:\n",
      " [[ 8 12]\n",
      " [ 1  7]]\n"
     ]
    }
   ],
   "source": [
    "# axis에 따른 정렬 - 2차원\n",
    "array2d = np.array([[8, 12],\n",
    "                  [7, 1]])\n",
    "\n",
    "sort_array2d_ax0 = np.sort(array2d, axis=0)\n",
    "print('로우 방향으로 정렬:\\n', sort_array2d_ax0)\n",
    "\n",
    "sort_array2d_ax1 = np.sort(array2d, axis=1)\n",
    "print(' 컬럼 방향으로 정렬:\\n', sort_array2d_ax1)"
   ]
  },
  {
   "cell_type": "markdown",
   "id": "3e417c4a",
   "metadata": {},
   "source": [
    "- argsort()함수: 정렬된 행렬의 인덱스 변환"
   ]
  },
  {
   "cell_type": "code",
   "execution_count": 17,
   "id": "9f4fa251",
   "metadata": {},
   "outputs": [
    {
     "name": "stdout",
     "output_type": "stream",
     "text": [
      "<class 'numpy.ndarray'>\n",
      "행렬 정렬 후 원본행렬의 인덱스: [1 0 3 2]\n"
     ]
    }
   ],
   "source": [
    "org_array = np.array([3,1,9,5]) # --> 1 3 5 9\n",
    "                    # 0 1 2 3   #     1 0 3 2 \n",
    "sort_indices = np.argsort(org_array)\n",
    "print(type(sort_indices))\n",
    "print('행렬 정렬 후 원본행렬의 인덱스:', sort_indices)"
   ]
  },
  {
   "cell_type": "markdown",
   "id": "0251a573",
   "metadata": {},
   "source": [
    "### * 행렬의 내적(::행렬곱)"
   ]
  },
  {
   "cell_type": "code",
   "execution_count": 18,
   "id": "e2e50fa3",
   "metadata": {},
   "outputs": [
    {
     "data": {
      "text/plain": [
       "array([[ 58,  64],\n",
       "       [139, 154]])"
      ]
     },
     "execution_count": 18,
     "metadata": {},
     "output_type": "execute_result"
    }
   ],
   "source": [
    "    # 2, 3\n",
    "A = np.array([[1,2,3],\n",
    "            [4,5,6]])\n",
    "\n",
    "    # 3, 2\n",
    "B = np.array([[7,8],\n",
    "             [9,10],\n",
    "             [11,12]])\n",
    "\n",
    "np.dot(A,B)"
   ]
  },
  {
   "cell_type": "markdown",
   "id": "8d5c9212",
   "metadata": {},
   "source": [
    "### * 전치행렬(Transpose)"
   ]
  },
  {
   "cell_type": "code",
   "execution_count": 21,
   "id": "79045e9f",
   "metadata": {},
   "outputs": [
    {
     "data": {
      "text/plain": [
       "array([[1, 3, 5],\n",
       "       [2, 4, 6]])"
      ]
     },
     "execution_count": 21,
     "metadata": {},
     "output_type": "execute_result"
    }
   ],
   "source": [
    "A = np.array([[1,2],\n",
    "             [3,4]])\n",
    "\n",
    "transpose_A = np.transpose(A)\n",
    "transpose_A\n",
    "\n",
    "B = np.array([[1,2],\n",
    "             [3,4],\n",
    "             [5,6]])\n",
    "\n",
    "transpose_B = np.transpose(B)\n",
    "transpose_B"
   ]
  },
  {
   "cell_type": "markdown",
   "id": "5fb1bf92",
   "metadata": {},
   "source": [
    "# Pandas - index"
   ]
  },
  {
   "cell_type": "code",
   "execution_count": 22,
   "id": "a6a588d0",
   "metadata": {},
   "outputs": [],
   "source": [
    "# Name, Year, Gender\n",
    "\n",
    "data = {'Name':['Chulmin','Eunkyoung','Jiwoong','Soobeom'],\n",
    "        'Year':[2011,2016,2015,2015],\n",
    "        'Gender':['Male','Female','Male','Male'],\n",
    "        }"
   ]
  },
  {
   "cell_type": "code",
   "execution_count": 25,
   "id": "3be0690f",
   "metadata": {},
   "outputs": [
    {
     "data": {
      "text/html": [
       "<div>\n",
       "<style scoped>\n",
       "    .dataframe tbody tr th:only-of-type {\n",
       "        vertical-align: middle;\n",
       "    }\n",
       "\n",
       "    .dataframe tbody tr th {\n",
       "        vertical-align: top;\n",
       "    }\n",
       "\n",
       "    .dataframe thead th {\n",
       "        text-align: right;\n",
       "    }\n",
       "</style>\n",
       "<table border=\"1\" class=\"dataframe\">\n",
       "  <thead>\n",
       "    <tr style=\"text-align: right;\">\n",
       "      <th></th>\n",
       "      <th>Name</th>\n",
       "      <th>Year</th>\n",
       "      <th>Gender</th>\n",
       "    </tr>\n",
       "  </thead>\n",
       "  <tbody>\n",
       "    <tr>\n",
       "      <th>one</th>\n",
       "      <td>Chulmin</td>\n",
       "      <td>2011</td>\n",
       "      <td>Male</td>\n",
       "    </tr>\n",
       "    <tr>\n",
       "      <th>two</th>\n",
       "      <td>Eunkyoung</td>\n",
       "      <td>2016</td>\n",
       "      <td>Female</td>\n",
       "    </tr>\n",
       "    <tr>\n",
       "      <th>three</th>\n",
       "      <td>Jiwoong</td>\n",
       "      <td>2015</td>\n",
       "      <td>Male</td>\n",
       "    </tr>\n",
       "    <tr>\n",
       "      <th>four</th>\n",
       "      <td>Soobeom</td>\n",
       "      <td>2015</td>\n",
       "      <td>Male</td>\n",
       "    </tr>\n",
       "  </tbody>\n",
       "</table>\n",
       "</div>"
      ],
      "text/plain": [
       "            Name  Year  Gender\n",
       "one      Chulmin  2011    Male\n",
       "two    Eunkyoung  2016  Female\n",
       "three    Jiwoong  2015    Male\n",
       "four     Soobeom  2015    Male"
      ]
     },
     "execution_count": 25,
     "metadata": {},
     "output_type": "execute_result"
    }
   ],
   "source": [
    "import pandas as pd\n",
    "\n",
    "data_df = pd.DataFrame(data, index=['one', 'two', 'three', 'four'])\n",
    "data_df"
   ]
  },
  {
   "cell_type": "code",
   "execution_count": 27,
   "id": "7bbf14ba",
   "metadata": {},
   "outputs": [
    {
     "data": {
      "text/plain": [
       "one        Chulmin\n",
       "two      Eunkyoung\n",
       "three      Jiwoong\n",
       "four       Soobeom\n",
       "Name: Name, dtype: object"
      ]
     },
     "execution_count": 27,
     "metadata": {},
     "output_type": "execute_result"
    }
   ],
   "source": [
    "# 인덱싱 시작\n",
    "data_df['Name']"
   ]
  },
  {
   "cell_type": "code",
   "execution_count": 28,
   "id": "e1a7ea20",
   "metadata": {},
   "outputs": [
    {
     "data": {
      "text/plain": [
       "'Jiwoong'"
      ]
     },
     "execution_count": 28,
     "metadata": {},
     "output_type": "execute_result"
    }
   ],
   "source": [
    "# 단일값을 불러오기 - loc(Label::명칭) \n",
    "data_df.loc['three', 'Name']"
   ]
  },
  {
   "cell_type": "code",
   "execution_count": 29,
   "id": "61d118dc",
   "metadata": {},
   "outputs": [
    {
     "data": {
      "text/plain": [
       "'Jiwoong'"
      ]
     },
     "execution_count": 29,
     "metadata": {},
     "output_type": "execute_result"
    }
   ],
   "source": [
    "# 단일값을 불러오기 - iloc(Positional - 위치기반 인덱싱)\n",
    "data_df.iloc[2, 0]"
   ]
  },
  {
   "cell_type": "code",
   "execution_count": 31,
   "id": "dd29a05f",
   "metadata": {},
   "outputs": [
    {
     "data": {
      "text/html": [
       "<div>\n",
       "<style scoped>\n",
       "    .dataframe tbody tr th:only-of-type {\n",
       "        vertical-align: middle;\n",
       "    }\n",
       "\n",
       "    .dataframe tbody tr th {\n",
       "        vertical-align: top;\n",
       "    }\n",
       "\n",
       "    .dataframe thead th {\n",
       "        text-align: right;\n",
       "    }\n",
       "</style>\n",
       "<table border=\"1\" class=\"dataframe\">\n",
       "  <thead>\n",
       "    <tr style=\"text-align: right;\">\n",
       "      <th></th>\n",
       "      <th>Name</th>\n",
       "      <th>Year</th>\n",
       "      <th>Gender</th>\n",
       "    </tr>\n",
       "  </thead>\n",
       "  <tbody>\n",
       "    <tr>\n",
       "      <th>one</th>\n",
       "      <td>Chulmin</td>\n",
       "      <td>2011</td>\n",
       "      <td>Male</td>\n",
       "    </tr>\n",
       "    <tr>\n",
       "      <th>two</th>\n",
       "      <td>Eunkyoung</td>\n",
       "      <td>2016</td>\n",
       "      <td>Female</td>\n",
       "    </tr>\n",
       "    <tr>\n",
       "      <th>three</th>\n",
       "      <td>Jiwoong</td>\n",
       "      <td>2015</td>\n",
       "      <td>Male</td>\n",
       "    </tr>\n",
       "    <tr>\n",
       "      <th>four</th>\n",
       "      <td>Soobeom</td>\n",
       "      <td>2015</td>\n",
       "      <td>Male</td>\n",
       "    </tr>\n",
       "  </tbody>\n",
       "</table>\n",
       "</div>"
      ],
      "text/plain": [
       "            Name  Year  Gender\n",
       "one      Chulmin  2011    Male\n",
       "two    Eunkyoung  2016  Female\n",
       "three    Jiwoong  2015    Male\n",
       "four     Soobeom  2015    Male"
      ]
     },
     "execution_count": 31,
     "metadata": {},
     "output_type": "execute_result"
    }
   ],
   "source": [
    "data_df "
   ]
  },
  {
   "cell_type": "code",
   "execution_count": 35,
   "id": "d3fdfe3c",
   "metadata": {},
   "outputs": [
    {
     "name": "stdout",
     "output_type": "stream",
     "text": [
      "          Name  Year\n",
      "one    Chulmin  2011\n",
      "two  Eunkyoung  2016\n",
      "          Name  Year\n",
      "one    Chulmin  2011\n",
      "two  Eunkyoung  2016\n",
      "          Name  Year\n",
      "one    Chulmin  2011\n",
      "two  Eunkyoung  2016\n"
     ]
    }
   ],
   "source": [
    "# 연습\n",
    "print(data_df.iloc[0:2, 0:2])\n",
    "print(data_df.iloc[0:2, [0,1]])\n",
    "print(data_df.loc['one':'two', 'Name':'Year'])"
   ]
  },
  {
   "cell_type": "code",
   "execution_count": 37,
   "id": "33b76dcf",
   "metadata": {},
   "outputs": [
    {
     "data": {
      "text/plain": [
       "one      False\n",
       "two       True\n",
       "three     True\n",
       "four      True\n",
       "Name: Year, dtype: bool"
      ]
     },
     "execution_count": 37,
     "metadata": {},
     "output_type": "execute_result"
    }
   ],
   "source": [
    "data_df.Year>2014"
   ]
  },
  {
   "cell_type": "code",
   "execution_count": 38,
   "id": "d55c9744",
   "metadata": {},
   "outputs": [
    {
     "data": {
      "text/html": [
       "<div>\n",
       "<style scoped>\n",
       "    .dataframe tbody tr th:only-of-type {\n",
       "        vertical-align: middle;\n",
       "    }\n",
       "\n",
       "    .dataframe tbody tr th {\n",
       "        vertical-align: top;\n",
       "    }\n",
       "\n",
       "    .dataframe thead th {\n",
       "        text-align: right;\n",
       "    }\n",
       "</style>\n",
       "<table border=\"1\" class=\"dataframe\">\n",
       "  <thead>\n",
       "    <tr style=\"text-align: right;\">\n",
       "      <th></th>\n",
       "      <th>Name</th>\n",
       "      <th>Year</th>\n",
       "      <th>Gender</th>\n",
       "    </tr>\n",
       "  </thead>\n",
       "  <tbody>\n",
       "    <tr>\n",
       "      <th>two</th>\n",
       "      <td>Eunkyoung</td>\n",
       "      <td>2016</td>\n",
       "      <td>Female</td>\n",
       "    </tr>\n",
       "    <tr>\n",
       "      <th>three</th>\n",
       "      <td>Jiwoong</td>\n",
       "      <td>2015</td>\n",
       "      <td>Male</td>\n",
       "    </tr>\n",
       "    <tr>\n",
       "      <th>four</th>\n",
       "      <td>Soobeom</td>\n",
       "      <td>2015</td>\n",
       "      <td>Male</td>\n",
       "    </tr>\n",
       "  </tbody>\n",
       "</table>\n",
       "</div>"
      ],
      "text/plain": [
       "            Name  Year  Gender\n",
       "two    Eunkyoung  2016  Female\n",
       "three    Jiwoong  2015    Male\n",
       "four     Soobeom  2015    Male"
      ]
     },
     "execution_count": 38,
     "metadata": {},
     "output_type": "execute_result"
    }
   ],
   "source": [
    "data_df[data_df.Year>2014]"
   ]
  },
  {
   "cell_type": "code",
   "execution_count": 40,
   "id": "0a33e0e4",
   "metadata": {},
   "outputs": [
    {
     "data": {
      "text/html": [
       "<div>\n",
       "<style scoped>\n",
       "    .dataframe tbody tr th:only-of-type {\n",
       "        vertical-align: middle;\n",
       "    }\n",
       "\n",
       "    .dataframe tbody tr th {\n",
       "        vertical-align: top;\n",
       "    }\n",
       "\n",
       "    .dataframe thead th {\n",
       "        text-align: right;\n",
       "    }\n",
       "</style>\n",
       "<table border=\"1\" class=\"dataframe\">\n",
       "  <thead>\n",
       "    <tr style=\"text-align: right;\">\n",
       "      <th></th>\n",
       "      <th>Name</th>\n",
       "      <th>Year</th>\n",
       "      <th>Gender</th>\n",
       "    </tr>\n",
       "  </thead>\n",
       "  <tbody>\n",
       "    <tr>\n",
       "      <th>two</th>\n",
       "      <td>Eunkyoung</td>\n",
       "      <td>2016</td>\n",
       "      <td>Female</td>\n",
       "    </tr>\n",
       "    <tr>\n",
       "      <th>three</th>\n",
       "      <td>Jiwoong</td>\n",
       "      <td>2015</td>\n",
       "      <td>Male</td>\n",
       "    </tr>\n",
       "    <tr>\n",
       "      <th>four</th>\n",
       "      <td>Soobeom</td>\n",
       "      <td>2015</td>\n",
       "      <td>Male</td>\n",
       "    </tr>\n",
       "  </tbody>\n",
       "</table>\n",
       "</div>"
      ],
      "text/plain": [
       "            Name  Year  Gender\n",
       "two    Eunkyoung  2016  Female\n",
       "three    Jiwoong  2015    Male\n",
       "four     Soobeom  2015    Male"
      ]
     },
     "execution_count": 40,
     "metadata": {},
     "output_type": "execute_result"
    }
   ],
   "source": [
    "data_df.loc[data_df['Year']>2014]"
   ]
  },
  {
   "cell_type": "code",
   "execution_count": 41,
   "id": "be62e807",
   "metadata": {},
   "outputs": [
    {
     "data": {
      "text/html": [
       "<div>\n",
       "<style scoped>\n",
       "    .dataframe tbody tr th:only-of-type {\n",
       "        vertical-align: middle;\n",
       "    }\n",
       "\n",
       "    .dataframe tbody tr th {\n",
       "        vertical-align: top;\n",
       "    }\n",
       "\n",
       "    .dataframe thead th {\n",
       "        text-align: right;\n",
       "    }\n",
       "</style>\n",
       "<table border=\"1\" class=\"dataframe\">\n",
       "  <thead>\n",
       "    <tr style=\"text-align: right;\">\n",
       "      <th></th>\n",
       "      <th>Name</th>\n",
       "      <th>Year</th>\n",
       "      <th>Gender</th>\n",
       "    </tr>\n",
       "  </thead>\n",
       "  <tbody>\n",
       "    <tr>\n",
       "      <th>two</th>\n",
       "      <td>Eunkyoung</td>\n",
       "      <td>2016</td>\n",
       "      <td>Female</td>\n",
       "    </tr>\n",
       "    <tr>\n",
       "      <th>three</th>\n",
       "      <td>Jiwoong</td>\n",
       "      <td>2015</td>\n",
       "      <td>Male</td>\n",
       "    </tr>\n",
       "  </tbody>\n",
       "</table>\n",
       "</div>"
      ],
      "text/plain": [
       "            Name  Year  Gender\n",
       "two    Eunkyoung  2016  Female\n",
       "three    Jiwoong  2015    Male"
      ]
     },
     "execution_count": 41,
     "metadata": {},
     "output_type": "execute_result"
    }
   ],
   "source": [
    "data_df.loc[data_df['Year']>2014][0:2]"
   ]
  },
  {
   "cell_type": "code",
   "execution_count": 42,
   "id": "c32fa4ce",
   "metadata": {},
   "outputs": [],
   "source": [
    "### 타이타닉 데이터의 index의 특징 \n",
    "titan_df = pd.read_csv('C:/TIL/1)crawling/titanic/train.csv')"
   ]
  },
  {
   "cell_type": "code",
   "execution_count": 47,
   "id": "0c2a0d42",
   "metadata": {},
   "outputs": [
    {
     "name": "stdout",
     "output_type": "stream",
     "text": [
      "RangeIndex(start=0, stop=891, step=1)\n",
      "Index 객체 array값:\n",
      " [0 1 2 3 4]\n"
     ]
    }
   ],
   "source": [
    "### Index 객체 호출\n",
    "Indexes = titan_df.index\n",
    "print(Indexes)\n",
    "\n",
    "### Index 객체를 실제 값 array로 변환 \n",
    "print('Index 객체 array값:\\n', Indexes.values[:5])"
   ]
  },
  {
   "cell_type": "code",
   "execution_count": 49,
   "id": "2ffcc27f",
   "metadata": {},
   "outputs": [
    {
     "name": "stdout",
     "output_type": "stream",
     "text": [
      "<class 'numpy.ndarray'>\n",
      "(891,)\n"
     ]
    }
   ],
   "source": [
    "print(type(Indexes.values))\n",
    "print(Indexes.values.shape)"
   ]
  },
  {
   "cell_type": "code",
   "execution_count": 50,
   "id": "188fd842",
   "metadata": {},
   "outputs": [],
   "source": [
    "# 단번에 인덱스 값을 바꿀 수 x \n",
    "Indexes[0]=1000\n",
    "\n",
    "# 인덱스 값을 바꾸고 싶으면, Index.values를 하고 \n",
    "# 변화한 값을 다시금 pd.DataFrame(index=Index.values) 이렇게 바꿔줘야 함"
   ]
  }
 ],
 "metadata": {
  "kernelspec": {
   "display_name": "Python 3 (ipykernel)",
   "language": "python",
   "name": "python3"
  },
  "language_info": {
   "codemirror_mode": {
    "name": "ipython",
    "version": 3
   },
   "file_extension": ".py",
   "mimetype": "text/x-python",
   "name": "python",
   "nbconvert_exporter": "python",
   "pygments_lexer": "ipython3",
   "version": "3.9.13"
  }
 },
 "nbformat": 4,
 "nbformat_minor": 5
}
