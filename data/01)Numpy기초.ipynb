{
 "cells": [
  {
   "cell_type": "markdown",
   "id": "86f6dc0b",
   "metadata": {},
   "source": [
    "** 패키지 설치 방법\n",
    "- Jupyter notebook 파일: !pip install 패키지명 \n",
    "- Anaconda Prompt 창: conda install 패키지명 "
   ]
  },
  {
   "cell_type": "code",
   "execution_count": 1,
   "id": "b265942c",
   "metadata": {},
   "outputs": [],
   "source": [
    "import numpy as np # alias 축약어"
   ]
  },
  {
   "cell_type": "markdown",
   "id": "1b0a7520",
   "metadata": {},
   "source": [
    "### 차원의 사례"
   ]
  },
  {
   "cell_type": "code",
   "execution_count": 3,
   "id": "a6e1261c",
   "metadata": {},
   "outputs": [],
   "source": [
    "a = [1,2,3] \n",
    "b = np.array(a)"
   ]
  },
  {
   "cell_type": "code",
   "execution_count": 4,
   "id": "2a535a24",
   "metadata": {},
   "outputs": [
    {
     "name": "stdout",
     "output_type": "stream",
     "text": [
      "<class 'list'>\n",
      "<class 'numpy.ndarray'>\n"
     ]
    }
   ],
   "source": [
    "# a는 일반 list이다\n",
    "# b는 ndarray이다 \n",
    "\n",
    "print(type(a))\n",
    "print(type(b))"
   ]
  },
  {
   "cell_type": "code",
   "execution_count": 6,
   "id": "b4e8f2a6",
   "metadata": {},
   "outputs": [
    {
     "name": "stdout",
     "output_type": "stream",
     "text": [
      "array 1 type <class 'numpy.ndarray'>\n",
      "[1 2 3]\n",
      "[4 5 6]\n"
     ]
    }
   ],
   "source": [
    "array1 = b.copy()\n",
    "array2 = np.array([4,5,6])\n",
    "print('array 1 type', type(array1))\n",
    "print(array1)\n",
    "print(array2)"
   ]
  },
  {
   "cell_type": "code",
   "execution_count": 7,
   "id": "986bd78e",
   "metadata": {},
   "outputs": [
    {
     "data": {
      "text/plain": [
       "[1, 2, 3, 4, 5, 6]"
      ]
     },
     "execution_count": 7,
     "metadata": {},
     "output_type": "execute_result"
    }
   ],
   "source": [
    "x = [1,2,3]\n",
    "y = [4,5,6]\n",
    "x+y"
   ]
  },
  {
   "cell_type": "code",
   "execution_count": 9,
   "id": "f44c969a",
   "metadata": {},
   "outputs": [
    {
     "data": {
      "text/plain": [
       "[5, 7, 9]"
      ]
     },
     "execution_count": 9,
     "metadata": {},
     "output_type": "execute_result"
    }
   ],
   "source": [
    "# [5,7,9]를 결과로 내고 싶다.\n",
    "import numpy as np\n",
    "array_x = np.array(x)\n",
    "array_y = np.array(y)\n",
    "\n",
    "list(array_x+array_y)"
   ]
  },
  {
   "cell_type": "code",
   "execution_count": 23,
   "id": "db401f62",
   "metadata": {},
   "outputs": [
    {
     "name": "stdout",
     "output_type": "stream",
     "text": [
      "array1 type: <class 'numpy.ndarray'>\n",
      "[1 2 3]\n",
      "array1의 형태: (3,)\n",
      "array1은 1차원 입니다.\n"
     ]
    }
   ],
   "source": [
    "array1 = b.copy()\n",
    "print('array1 type:', type(array1))\n",
    "print(array1) # (, 3) 한 요소를 추출하는 데 필요한 최소 첨자수가 한 개이므로 1차원 \n",
    "dim1 = array1.ndim\n",
    "print('array1의 형태:', array1.shape)\n",
    "print(f'array1은 {dim1}차원 입니다.')"
   ]
  },
  {
   "cell_type": "code",
   "execution_count": 24,
   "id": "6d793272",
   "metadata": {},
   "outputs": [
    {
     "name": "stdout",
     "output_type": "stream",
     "text": [
      "array2d type: <class 'numpy.ndarray'>\n",
      "[[ 1  2  3]\n",
      " [11 22 33]]\n",
      "array2d의 형태: (2, 3)\n",
      "array2d는 2차원 입니다.\n"
     ]
    }
   ],
   "source": [
    "# 2차원의 자료 생성해보기\n",
    "array2d = np.array([[1,2,3], \n",
    "                  [11,22,33]]) # (2, 3)\n",
    "\n",
    "print('array2d type:', type(array2d))\n",
    "print(array2d)\n",
    "dim2 = array2d.ndim\n",
    "print('array2d의 형태:', array2d.shape)\n",
    "print(f'array2d는 {dim2}차원 입니다.')"
   ]
  },
  {
   "cell_type": "code",
   "execution_count": 25,
   "id": "a39d7024",
   "metadata": {
    "scrolled": true
   },
   "outputs": [
    {
     "name": "stdout",
     "output_type": "stream",
     "text": [
      "array3d type: <class 'numpy.ndarray'>\n",
      "[[[ 1  2  3]\n",
      "  [11 22 33]]]\n",
      "array3d의 형태: (1, 2, 3)\n",
      "array3d는 3차원 입니다.\n"
     ]
    }
   ],
   "source": [
    "# 3차원의 자료 생성해보기\n",
    "array3d = np.array([[[1,2,3],[11,22,33]]]) # (1, 2, 3)\n",
    "\n",
    "print('array3d type:', type(array3d))\n",
    "print(array3d)\n",
    "dim3 = array3d.ndim\n",
    "print('array3d의 형태:', array3d.shape)\n",
    "print(f'array3d는 {dim3}차원 입니다.')"
   ]
  },
  {
   "cell_type": "code",
   "execution_count": 26,
   "id": "04189150",
   "metadata": {},
   "outputs": [
    {
     "name": "stderr",
     "output_type": "stream",
     "text": [
      "C:\\Users\\이화정\\AppData\\Local\\Temp\\ipykernel_22160\\93480660.py:2: VisibleDeprecationWarning: Creating an ndarray from ragged nested sequences (which is a list-or-tuple of lists-or-tuples-or ndarrays with different lengths or shapes) is deprecated. If you meant to do this, you must specify 'dtype=object' when creating the ndarray.\n",
      "  array_test = np.array([[1,2,3],\n"
     ]
    }
   ],
   "source": [
    "# 또 다른 용례\n",
    "array_test = np.array([[1,2,3],\n",
    "                      [11,22,33,44]])\n"
   ]
  },
  {
   "cell_type": "code",
   "execution_count": 27,
   "id": "e0dacdfd",
   "metadata": {},
   "outputs": [
    {
     "name": "stdout",
     "output_type": "stream",
     "text": [
      "array_test type: <class 'numpy.ndarray'>\n",
      "[list([1, 2, 3]) list([11, 22, 33, 44])]\n",
      "array_test의 형태: (2,)\n",
      "array_test는 1차원 입니다.\n"
     ]
    }
   ],
   "source": [
    "print('array_test type:', type(array_test))\n",
    "print(array_test)\n",
    "dim4 = array_test.ndim\n",
    "print('array_test의 형태:', array_test.shape)\n",
    "print(f'array_test는 {dim4}차원 입니다.')"
   ]
  },
  {
   "cell_type": "markdown",
   "id": "714693b4",
   "metadata": {},
   "source": [
    "### ndarry 편리하게 생성 - arange, zeros, ones"
   ]
  },
  {
   "cell_type": "code",
   "execution_count": 32,
   "id": "e3a02359",
   "metadata": {},
   "outputs": [
    {
     "name": "stdout",
     "output_type": "stream",
     "text": [
      "[ 1  2  3  4  5  6  7  8  9 10]\n",
      "int32 (10,)\n"
     ]
    }
   ],
   "source": [
    "# arrange\n",
    "# seq_array = np.arange(start = 1, stop = 11)\n",
    "seq_array = np.arange(1, 11)\n",
    "print(seq_array)\n",
    "print(seq_array.dtype, seq_array.shape)"
   ]
  },
  {
   "cell_type": "code",
   "execution_count": 37,
   "id": "ba64d284",
   "metadata": {},
   "outputs": [
    {
     "name": "stdout",
     "output_type": "stream",
     "text": [
      "[[0 0 0 0]\n",
      " [0 0 0 0]]\n",
      "int32 (2, 4)\n"
     ]
    }
   ],
   "source": [
    "# zeros로 0으로 된 행렬을 생성 \n",
    "zero_array = np.zeros((2,4), dtype='int32')\n",
    "print(zero_array)\n",
    "print(zero_array.dtype, zero_array.shape)"
   ]
  },
  {
   "cell_type": "code",
   "execution_count": 38,
   "id": "53f0f84d",
   "metadata": {},
   "outputs": [
    {
     "name": "stdout",
     "output_type": "stream",
     "text": [
      "[[1. 1.]\n",
      " [1. 1.]\n",
      " [1. 1.]]\n",
      "float64 (3, 2)\n"
     ]
    }
   ],
   "source": [
    "# ones로 1로 된 행렬을 생성 \n",
    "one_array = np.ones((3,2), dtype='float64')\n",
    "print(one_array)\n",
    "print(one_array.dtype, one_array.shape)"
   ]
  },
  {
   "cell_type": "markdown",
   "id": "f8154027",
   "metadata": {},
   "source": [
    "### reshape의 용례"
   ]
  },
  {
   "cell_type": "code",
   "execution_count": 40,
   "id": "c10599fc",
   "metadata": {},
   "outputs": [
    {
     "data": {
      "text/plain": [
       "array([ 1,  2,  3,  4,  5,  6,  7,  8,  9, 10])"
      ]
     },
     "execution_count": 40,
     "metadata": {},
     "output_type": "execute_result"
    }
   ],
   "source": [
    "seq_array"
   ]
  },
  {
   "cell_type": "code",
   "execution_count": 41,
   "id": "158ef4e0",
   "metadata": {},
   "outputs": [
    {
     "data": {
      "text/plain": [
       "array([[ 1,  2,  3,  4,  5],\n",
       "       [ 6,  7,  8,  9, 10]])"
      ]
     },
     "execution_count": 41,
     "metadata": {},
     "output_type": "execute_result"
    }
   ],
   "source": [
    "seq_array.reshape(2,5)"
   ]
  },
  {
   "cell_type": "markdown",
   "id": "d781c845",
   "metadata": {},
   "source": [
    "### numpy의 자료 살펴보기"
   ]
  },
  {
   "cell_type": "code",
   "execution_count": 46,
   "id": "b6373756",
   "metadata": {},
   "outputs": [
    {
     "name": "stdout",
     "output_type": "stream",
     "text": [
      "[1.  2.  5.5] float64\n"
     ]
    }
   ],
   "source": [
    "l2 = [1,2,'test']\n",
    "\n",
    "# np.array를 활용하여 ndarray로 변환 \n",
    "array_l2 = np.array(l2)\n",
    "\n",
    "l3 = [1 ,2, 5.5]\n",
    "array_l3 = np.array(l3)\n",
    "print(array_l3, array_l3.dtype)"
   ]
  },
  {
   "cell_type": "code",
   "execution_count": 52,
   "id": "995dd55c",
   "metadata": {},
   "outputs": [
    {
     "name": "stdout",
     "output_type": "stream",
     "text": [
      "[1. 3. 5.] float64\n",
      "[1 2 2 3] int32\n"
     ]
    }
   ],
   "source": [
    "# dtype의 상호변환 \n",
    "array_int = np.array([1,3,5])\n",
    "array_float = array_int.astype('float64')\n",
    "print(array_float, array_float.dtype)\n",
    "\n",
    "# array_float -> array_int2\n",
    "array_float.astype('int32')\n",
    "\n",
    "# 자료에 따른 버림현상\n",
    "array_float2 = np.array([1.1, 2,2, 3.3])\n",
    "array_int3 = array_float2.astype('int32')\n",
    "print(array_int3, array_int3.dtype)"
   ]
  },
  {
   "cell_type": "code",
   "execution_count": null,
   "id": "49cd78b8",
   "metadata": {},
   "outputs": [],
   "source": []
  }
 ],
 "metadata": {
  "kernelspec": {
   "display_name": "Python 3 (ipykernel)",
   "language": "python",
   "name": "python3"
  },
  "language_info": {
   "codemirror_mode": {
    "name": "ipython",
    "version": 3
   },
   "file_extension": ".py",
   "mimetype": "text/x-python",
   "name": "python",
   "nbconvert_exporter": "python",
   "pygments_lexer": "ipython3",
   "version": "3.9.13"
  }
 },
 "nbformat": 4,
 "nbformat_minor": 5
}
